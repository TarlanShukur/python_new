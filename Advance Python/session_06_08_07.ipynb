{
 "cells": [
  {
   "cell_type": "markdown",
   "id": "ebbd0e99",
   "metadata": {},
   "source": [
    "# Positional and Keyword Arguments"
   ]
  },
  {
   "cell_type": "code",
   "execution_count": 4,
   "id": "52bf02f0",
   "metadata": {},
   "outputs": [],
   "source": [
    "def say_my_name(first_name,last_name):\n",
    "\n",
    "    print(f\"My name is {first_name} {last_name}\")"
   ]
  },
  {
   "cell_type": "code",
   "execution_count": 5,
   "id": "e66597c6",
   "metadata": {},
   "outputs": [
    {
     "name": "stdout",
     "output_type": "stream",
     "text": [
      "My name is sedat Aslan\n"
     ]
    }
   ],
   "source": [
    "say_my_name(\"sedat\",\"Aslan\")"
   ]
  },
  {
   "cell_type": "code",
   "execution_count": 6,
   "id": "4e42eceb",
   "metadata": {},
   "outputs": [
    {
     "name": "stdout",
     "output_type": "stream",
     "text": [
      "My name is Aslan Sedat\n"
     ]
    }
   ],
   "source": [
    "say_my_name(\"Aslan\",\"Sedat\")"
   ]
  },
  {
   "cell_type": "code",
   "execution_count": 7,
   "id": "93fb10b2",
   "metadata": {},
   "outputs": [
    {
     "name": "stdout",
     "output_type": "stream",
     "text": [
      "My name is Sedat Aslan\n"
     ]
    }
   ],
   "source": [
    "say_my_name(last_name=\"Aslan\",first_name=\"Sedat\")"
   ]
  },
  {
   "cell_type": "code",
   "execution_count": 8,
   "id": "43110cf8",
   "metadata": {},
   "outputs": [
    {
     "ename": "TypeError",
     "evalue": "say_my_name() missing 1 required positional argument: 'last_name'",
     "output_type": "error",
     "traceback": [
      "\u001b[1;31m---------------------------------------------------------------------------\u001b[0m",
      "\u001b[1;31mTypeError\u001b[0m                                 Traceback (most recent call last)",
      "Cell \u001b[1;32mIn[8], line 1\u001b[0m\n\u001b[1;32m----> 1\u001b[0m \u001b[43msay_my_name\u001b[49m\u001b[43m(\u001b[49m\u001b[38;5;124;43m\"\u001b[39;49m\u001b[38;5;124;43mSedat\u001b[39;49m\u001b[38;5;124;43m\"\u001b[39;49m\u001b[43m)\u001b[49m\n",
      "\u001b[1;31mTypeError\u001b[0m: say_my_name() missing 1 required positional argument: 'last_name'"
     ]
    }
   ],
   "source": [
    "say_my_name(\"Sedat\")"
   ]
  },
  {
   "cell_type": "code",
   "execution_count": 10,
   "id": "71eafc66",
   "metadata": {},
   "outputs": [],
   "source": [
    "def your_name(first_name, last_name = \"Yavuz\"):\n",
    "\n",
    "    print(f\"Yor name is {first_name} {last_name}\")"
   ]
  },
  {
   "cell_type": "code",
   "execution_count": 11,
   "id": "cdb1e3ed",
   "metadata": {},
   "outputs": [
    {
     "name": "stdout",
     "output_type": "stream",
     "text": [
      "Yor name is sedat Aslan\n"
     ]
    }
   ],
   "source": [
    "your_name(\"sedat\",\"Aslan\")"
   ]
  },
  {
   "cell_type": "code",
   "execution_count": 12,
   "id": "59b7e2e9",
   "metadata": {},
   "outputs": [
    {
     "name": "stdout",
     "output_type": "stream",
     "text": [
      "Yor name is sedat Yavuz\n"
     ]
    }
   ],
   "source": [
    "your_name(\"sedat\")"
   ]
  },
  {
   "cell_type": "code",
   "execution_count": 13,
   "id": "3b88b278",
   "metadata": {},
   "outputs": [
    {
     "ename": "SyntaxError",
     "evalue": "positional argument follows keyword argument (1879815083.py, line 1)",
     "output_type": "error",
     "traceback": [
      "\u001b[1;36m  Cell \u001b[1;32mIn[13], line 1\u001b[1;36m\u001b[0m\n\u001b[1;33m    your_name(last_name=\"aslan\",sedat)\u001b[0m\n\u001b[1;37m                                     ^\u001b[0m\n\u001b[1;31mSyntaxError\u001b[0m\u001b[1;31m:\u001b[0m positional argument follows keyword argument\n"
     ]
    }
   ],
   "source": [
    "your_name(last_name=\"aslan\",sedat)"
   ]
  },
  {
   "cell_type": "code",
   "execution_count": 17,
   "id": "d1656953",
   "metadata": {},
   "outputs": [
    {
     "ename": "SyntaxError",
     "evalue": "parameter without a default follows parameter with a default (4241085419.py, line 1)",
     "output_type": "error",
     "traceback": [
      "\u001b[1;36m  Cell \u001b[1;32mIn[17], line 1\u001b[1;36m\u001b[0m\n\u001b[1;33m    def your_name_2(first_name, second_name =\"Ali\",last_name):\u001b[0m\n\u001b[1;37m                                                   ^\u001b[0m\n\u001b[1;31mSyntaxError\u001b[0m\u001b[1;31m:\u001b[0m parameter without a default follows parameter with a default\n"
     ]
    }
   ],
   "source": [
    "def your_name_2(first_name, second_name =\"Ali\",last_name):\n",
    "    print(f\"Your name is {first_name} {second_name} {last_name}\")"
   ]
  },
  {
   "cell_type": "code",
   "execution_count": 18,
   "id": "ec3d903d",
   "metadata": {},
   "outputs": [],
   "source": [
    "def your_name_2(first_name, last_name,second_name =\"Ali\"):\n",
    "    print(f\"Your name is {first_name} {second_name} {last_name}\")"
   ]
  },
  {
   "cell_type": "code",
   "execution_count": 19,
   "id": "734f0f2d",
   "metadata": {},
   "outputs": [
    {
     "name": "stdout",
     "output_type": "stream",
     "text": [
      "Your name is Hamdi Ferdi Cakici\n"
     ]
    }
   ],
   "source": [
    "your_name_2(\"Hamdi\",\"Cakici\", \"Ferdi\")"
   ]
  },
  {
   "cell_type": "code",
   "execution_count": 20,
   "id": "3a1436e9",
   "metadata": {},
   "outputs": [
    {
     "name": "stdout",
     "output_type": "stream",
     "text": [
      "Your name is Hamdi Ali Cakici\n"
     ]
    }
   ],
   "source": [
    "your_name_2(\"Hamdi\",\"Cakici\")"
   ]
  },
  {
   "cell_type": "code",
   "execution_count": 21,
   "id": "138d66e2",
   "metadata": {},
   "outputs": [
    {
     "name": "stdout",
     "output_type": "stream",
     "text": [
      "Your name is Hamdi 2 Cakici\n"
     ]
    }
   ],
   "source": [
    "your_name_2(\"Hamdi\",\"Cakici\", 2 )"
   ]
  },
  {
   "cell_type": "code",
   "execution_count": 22,
   "id": "c9d50f78",
   "metadata": {},
   "outputs": [],
   "source": [
    "def tek_sayilar(a,b,c,d,e):\n",
    "\n",
    "    tek_sayilar = []\n",
    "\n",
    "    for i in a,b,c,d,e:\n",
    "\n",
    "        if i % 2 == 1:\n",
    "            tek_sayilar.append(i)\n",
    "\n",
    "    return tek_sayilar        "
   ]
  },
  {
   "cell_type": "code",
   "execution_count": 24,
   "id": "e6981333",
   "metadata": {},
   "outputs": [
    {
     "data": {
      "text/plain": [
       "[5, 15, 29]"
      ]
     },
     "execution_count": 24,
     "metadata": {},
     "output_type": "execute_result"
    }
   ],
   "source": [
    "tek_sayilar(4,5,15,26,29)"
   ]
  },
  {
   "cell_type": "code",
   "execution_count": 25,
   "id": "6e1a5a5a",
   "metadata": {},
   "outputs": [
    {
     "ename": "TypeError",
     "evalue": "tek_sayilar() missing 1 required positional argument: 'e'",
     "output_type": "error",
     "traceback": [
      "\u001b[1;31m---------------------------------------------------------------------------\u001b[0m",
      "\u001b[1;31mTypeError\u001b[0m                                 Traceback (most recent call last)",
      "Cell \u001b[1;32mIn[25], line 1\u001b[0m\n\u001b[1;32m----> 1\u001b[0m \u001b[43mtek_sayilar\u001b[49m\u001b[43m(\u001b[49m\u001b[38;5;241;43m4\u001b[39;49m\u001b[43m,\u001b[49m\u001b[38;5;241;43m5\u001b[39;49m\u001b[43m,\u001b[49m\u001b[38;5;241;43m15\u001b[39;49m\u001b[43m,\u001b[49m\u001b[38;5;241;43m26\u001b[39;49m\u001b[43m,\u001b[49m\u001b[43m)\u001b[49m\n",
      "\u001b[1;31mTypeError\u001b[0m: tek_sayilar() missing 1 required positional argument: 'e'"
     ]
    }
   ],
   "source": [
    "tek_sayilar(4,5,15,26,)"
   ]
  },
  {
   "cell_type": "code",
   "execution_count": 26,
   "id": "a5e870e2",
   "metadata": {},
   "outputs": [
    {
     "ename": "TypeError",
     "evalue": "tek_sayilar() takes 5 positional arguments but 6 were given",
     "output_type": "error",
     "traceback": [
      "\u001b[1;31m---------------------------------------------------------------------------\u001b[0m",
      "\u001b[1;31mTypeError\u001b[0m                                 Traceback (most recent call last)",
      "Cell \u001b[1;32mIn[26], line 1\u001b[0m\n\u001b[1;32m----> 1\u001b[0m \u001b[43mtek_sayilar\u001b[49m\u001b[43m(\u001b[49m\u001b[38;5;241;43m4\u001b[39;49m\u001b[43m,\u001b[49m\u001b[38;5;241;43m5\u001b[39;49m\u001b[43m,\u001b[49m\u001b[38;5;241;43m15\u001b[39;49m\u001b[43m,\u001b[49m\u001b[38;5;241;43m26\u001b[39;49m\u001b[43m,\u001b[49m\u001b[38;5;241;43m29\u001b[39;49m\u001b[43m,\u001b[49m\u001b[38;5;241;43m58\u001b[39;49m\u001b[43m)\u001b[49m\n",
      "\u001b[1;31mTypeError\u001b[0m: tek_sayilar() takes 5 positional arguments but 6 were given"
     ]
    }
   ],
   "source": [
    "tek_sayilar(4,5,15,26,29,58)"
   ]
  },
  {
   "cell_type": "code",
   "execution_count": 27,
   "id": "653fe851",
   "metadata": {},
   "outputs": [
    {
     "ename": "TypeError",
     "evalue": "tek_sayilar() missing 2 required positional arguments: 'd' and 'e'",
     "output_type": "error",
     "traceback": [
      "\u001b[1;31m---------------------------------------------------------------------------\u001b[0m",
      "\u001b[1;31mTypeError\u001b[0m                                 Traceback (most recent call last)",
      "Cell \u001b[1;32mIn[27], line 1\u001b[0m\n\u001b[1;32m----> 1\u001b[0m \u001b[43mtek_sayilar\u001b[49m\u001b[43m(\u001b[49m\u001b[38;5;241;43m4\u001b[39;49m\u001b[43m,\u001b[49m\u001b[38;5;241;43m5\u001b[39;49m\u001b[43m,\u001b[49m\u001b[38;5;241;43m15\u001b[39;49m\u001b[43m)\u001b[49m\n",
      "\u001b[1;31mTypeError\u001b[0m: tek_sayilar() missing 2 required positional arguments: 'd' and 'e'"
     ]
    }
   ],
   "source": [
    "tek_sayilar(4,5,15)"
   ]
  },
  {
   "cell_type": "code",
   "execution_count": 28,
   "id": "f01b1c83",
   "metadata": {},
   "outputs": [],
   "source": [
    "def tek_sayilar_2(a,b,c,d=15,e=18):\n",
    "\n",
    "    tek_sayilar = []\n",
    "\n",
    "    for i in a,b,c,d,e:\n",
    "\n",
    "        if i % 2 == 1:\n",
    "            tek_sayilar.append(i)\n",
    "\n",
    "    return tek_sayilar        "
   ]
  },
  {
   "cell_type": "code",
   "execution_count": 29,
   "id": "df0b1358",
   "metadata": {},
   "outputs": [
    {
     "data": {
      "text/plain": [
       "[17, 25, 15]"
      ]
     },
     "execution_count": 29,
     "metadata": {},
     "output_type": "execute_result"
    }
   ],
   "source": [
    "tek_sayilar_2(10,17,25)"
   ]
  },
  {
   "cell_type": "code",
   "execution_count": 31,
   "id": "e0067bbd",
   "metadata": {},
   "outputs": [],
   "source": [
    "def tek_sayilar_3(a:int,b:int,c:int,d=15,e=18.0):\n",
    "\n",
    "    tek_sayilar = []\n",
    "\n",
    "    for i in a,b,c,d,e:\n",
    "\n",
    "        if i % 2 == 1:\n",
    "            tek_sayilar.append(i)\n",
    "\n",
    "    return tek_sayilar   "
   ]
  },
  {
   "cell_type": "code",
   "execution_count": 33,
   "id": "156a6f35",
   "metadata": {},
   "outputs": [
    {
     "data": {
      "text/plain": [
       "[5.0, 7, 15]"
      ]
     },
     "execution_count": 33,
     "metadata": {},
     "output_type": "execute_result"
    }
   ],
   "source": [
    "tek_sayilar_3(5.0, 7, 8)"
   ]
  },
  {
   "cell_type": "code",
   "execution_count": 34,
   "id": "0f12b9e0",
   "metadata": {},
   "outputs": [
    {
     "ename": "TypeError",
     "evalue": "not all arguments converted during string formatting",
     "output_type": "error",
     "traceback": [
      "\u001b[1;31m---------------------------------------------------------------------------\u001b[0m",
      "\u001b[1;31mTypeError\u001b[0m                                 Traceback (most recent call last)",
      "Cell \u001b[1;32mIn[34], line 1\u001b[0m\n\u001b[1;32m----> 1\u001b[0m \u001b[43mtek_sayilar_3\u001b[49m\u001b[43m(\u001b[49m\u001b[38;5;124;43m\"\u001b[39;49m\u001b[38;5;124;43m5.0\u001b[39;49m\u001b[38;5;124;43m\"\u001b[39;49m\u001b[43m,\u001b[49m\u001b[43m \u001b[49m\u001b[38;5;241;43m7\u001b[39;49m\u001b[43m,\u001b[49m\u001b[43m \u001b[49m\u001b[38;5;241;43m8\u001b[39;49m\u001b[43m)\u001b[49m\n",
      "Cell \u001b[1;32mIn[31], line 7\u001b[0m, in \u001b[0;36mtek_sayilar_3\u001b[1;34m(a, b, c, d, e)\u001b[0m\n\u001b[0;32m      3\u001b[0m tek_sayilar \u001b[38;5;241m=\u001b[39m []\n\u001b[0;32m      5\u001b[0m \u001b[38;5;28;01mfor\u001b[39;00m i \u001b[38;5;129;01min\u001b[39;00m a,b,c,d,e:\n\u001b[1;32m----> 7\u001b[0m     \u001b[38;5;28;01mif\u001b[39;00m \u001b[43mi\u001b[49m\u001b[43m \u001b[49m\u001b[38;5;241;43m%\u001b[39;49m\u001b[43m \u001b[49m\u001b[38;5;241;43m2\u001b[39;49m \u001b[38;5;241m==\u001b[39m \u001b[38;5;241m1\u001b[39m:\n\u001b[0;32m      8\u001b[0m         tek_sayilar\u001b[38;5;241m.\u001b[39mappend(i)\n\u001b[0;32m     10\u001b[0m \u001b[38;5;28;01mreturn\u001b[39;00m tek_sayilar\n",
      "\u001b[1;31mTypeError\u001b[0m: not all arguments converted during string formatting"
     ]
    }
   ],
   "source": [
    "tek_sayilar_3(\"5.0\", 7, 8)"
   ]
  },
  {
   "cell_type": "code",
   "execution_count": 35,
   "id": "eb02881b",
   "metadata": {},
   "outputs": [],
   "source": [
    "def tek_sayilar_4(a:int,b:str,c:int,d=15,e=18.0):\n",
    "\n",
    "    tek_sayilar = []\n",
    "\n",
    "    for i in a,b,c,d,e:\n",
    "\n",
    "        if i % 2 == 1:\n",
    "            tek_sayilar.append(i)\n",
    "\n",
    "    return tek_sayilar   "
   ]
  },
  {
   "cell_type": "code",
   "execution_count": 36,
   "id": "f826f64e",
   "metadata": {},
   "outputs": [
    {
     "data": {
      "text/plain": [
       "[1, 3, 5]"
      ]
     },
     "execution_count": 36,
     "metadata": {},
     "output_type": "execute_result"
    }
   ],
   "source": [
    "tek_sayilar_4(1,2,3,4,5)"
   ]
  },
  {
   "cell_type": "markdown",
   "id": "d56c8633",
   "metadata": {},
   "source": [
    "# Arbitary Number of Arguments(* args, ** kwargs)"
   ]
  },
  {
   "cell_type": "code",
   "execution_count": 39,
   "id": "c9441497",
   "metadata": {},
   "outputs": [],
   "source": [
    "def cift_sayilar(* sayilar):\n",
    "\n",
    "    evens= []\n",
    "\n",
    "    for i in sayilar:\n",
    "\n",
    "        if i % 2 == 0:\n",
    "            evens.append(i)\n",
    "\n",
    "    return evens    "
   ]
  },
  {
   "cell_type": "code",
   "execution_count": 40,
   "id": "4f9485db",
   "metadata": {},
   "outputs": [
    {
     "data": {
      "text/plain": [
       "[]"
      ]
     },
     "execution_count": 40,
     "metadata": {},
     "output_type": "execute_result"
    }
   ],
   "source": [
    "cift_sayilar()"
   ]
  },
  {
   "cell_type": "code",
   "execution_count": 41,
   "id": "0378897f",
   "metadata": {},
   "outputs": [
    {
     "data": {
      "text/plain": [
       "[20, 30]"
      ]
     },
     "execution_count": 41,
     "metadata": {},
     "output_type": "execute_result"
    }
   ],
   "source": [
    "cift_sayilar(15,20,25,30)"
   ]
  },
  {
   "cell_type": "code",
   "execution_count": 42,
   "id": "c91abfa4",
   "metadata": {},
   "outputs": [
    {
     "data": {
      "text/plain": [
       "[2, 4, 6, 8]"
      ]
     },
     "execution_count": 42,
     "metadata": {},
     "output_type": "execute_result"
    }
   ],
   "source": [
    "cift_sayilar(1,2,3,4,5,6,7,8,9)"
   ]
  },
  {
   "cell_type": "code",
   "execution_count": 43,
   "id": "3d73f5b5",
   "metadata": {},
   "outputs": [
    {
     "ename": "NameError",
     "evalue": "name 'sayilar' is not defined",
     "output_type": "error",
     "traceback": [
      "\u001b[1;31m---------------------------------------------------------------------------\u001b[0m",
      "\u001b[1;31mNameError\u001b[0m                                 Traceback (most recent call last)",
      "Cell \u001b[1;32mIn[43], line 1\u001b[0m\n\u001b[1;32m----> 1\u001b[0m \u001b[43msayilar\u001b[49m\n",
      "\u001b[1;31mNameError\u001b[0m: name 'sayilar' is not defined"
     ]
    }
   ],
   "source": [
    "sayilar"
   ]
  },
  {
   "cell_type": "code",
   "execution_count": 45,
   "id": "dab8deda",
   "metadata": {},
   "outputs": [
    {
     "ename": "NameError",
     "evalue": "name 'evens' is not defined",
     "output_type": "error",
     "traceback": [
      "\u001b[1;31m---------------------------------------------------------------------------\u001b[0m",
      "\u001b[1;31mNameError\u001b[0m                                 Traceback (most recent call last)",
      "Cell \u001b[1;32mIn[45], line 1\u001b[0m\n\u001b[1;32m----> 1\u001b[0m \u001b[43mevens\u001b[49m\n",
      "\u001b[1;31mNameError\u001b[0m: name 'evens' is not defined"
     ]
    }
   ],
   "source": [
    "evens"
   ]
  },
  {
   "cell_type": "code",
   "execution_count": 53,
   "id": "3ecc0efc",
   "metadata": {},
   "outputs": [],
   "source": [
    "def a_ile_baslayanlar(* isimler):\n",
    "\n",
    "    a_names = []\n",
    "\n",
    "    for i in isimler:\n",
    "\n",
    "        if i.startswith(\"a\"):\n",
    "\n",
    "            a_names.append(i)\n",
    "\n",
    "    return a_names        \n",
    "    "
   ]
  },
  {
   "cell_type": "code",
   "execution_count": 56,
   "id": "763283d1",
   "metadata": {},
   "outputs": [
    {
     "data": {
      "text/plain": [
       "['aslan', 'ahmet', 'arda']"
      ]
     },
     "execution_count": 56,
     "metadata": {},
     "output_type": "execute_result"
    }
   ],
   "source": [
    "a_ile_baslayanlar(\"ferdi\",\"aslan\",\"bahar\",\"ahmet\",\"arda\",\"dilay\")"
   ]
  },
  {
   "cell_type": "code",
   "execution_count": 57,
   "id": "4cf09932",
   "metadata": {},
   "outputs": [
    {
     "ename": "AttributeError",
     "evalue": "'int' object has no attribute 'startswith'",
     "output_type": "error",
     "traceback": [
      "\u001b[1;31m---------------------------------------------------------------------------\u001b[0m",
      "\u001b[1;31mAttributeError\u001b[0m                            Traceback (most recent call last)",
      "Cell \u001b[1;32mIn[57], line 1\u001b[0m\n\u001b[1;32m----> 1\u001b[0m \u001b[43ma_ile_baslayanlar\u001b[49m\u001b[43m(\u001b[49m\u001b[38;5;124;43m\"\u001b[39;49m\u001b[38;5;124;43mferdi\u001b[39;49m\u001b[38;5;124;43m\"\u001b[39;49m\u001b[43m,\u001b[49m\u001b[38;5;124;43m\"\u001b[39;49m\u001b[38;5;124;43maslan\u001b[39;49m\u001b[38;5;124;43m\"\u001b[39;49m\u001b[43m,\u001b[49m\u001b[38;5;124;43m\"\u001b[39;49m\u001b[38;5;124;43mbahar\u001b[39;49m\u001b[38;5;124;43m\"\u001b[39;49m\u001b[43m,\u001b[49m\u001b[38;5;124;43m\"\u001b[39;49m\u001b[38;5;124;43mahmet\u001b[39;49m\u001b[38;5;124;43m\"\u001b[39;49m\u001b[43m,\u001b[49m\u001b[38;5;124;43m\"\u001b[39;49m\u001b[38;5;124;43marda\u001b[39;49m\u001b[38;5;124;43m\"\u001b[39;49m\u001b[43m,\u001b[49m\u001b[38;5;124;43m\"\u001b[39;49m\u001b[38;5;124;43mdilay\u001b[39;49m\u001b[38;5;124;43m\"\u001b[39;49m\u001b[43m,\u001b[49m\u001b[38;5;241;43m15\u001b[39;49m\u001b[43m)\u001b[49m\n",
      "Cell \u001b[1;32mIn[53], line 7\u001b[0m, in \u001b[0;36ma_ile_baslayanlar\u001b[1;34m(*isimler)\u001b[0m\n\u001b[0;32m      3\u001b[0m a_names \u001b[38;5;241m=\u001b[39m []\n\u001b[0;32m      5\u001b[0m \u001b[38;5;28;01mfor\u001b[39;00m i \u001b[38;5;129;01min\u001b[39;00m isimler:\n\u001b[1;32m----> 7\u001b[0m     \u001b[38;5;28;01mif\u001b[39;00m \u001b[43mi\u001b[49m\u001b[38;5;241;43m.\u001b[39;49m\u001b[43mstartswith\u001b[49m(\u001b[38;5;124m\"\u001b[39m\u001b[38;5;124ma\u001b[39m\u001b[38;5;124m\"\u001b[39m):\n\u001b[0;32m      9\u001b[0m         a_names\u001b[38;5;241m.\u001b[39mappend(i)\n\u001b[0;32m     11\u001b[0m \u001b[38;5;28;01mreturn\u001b[39;00m a_names\n",
      "\u001b[1;31mAttributeError\u001b[0m: 'int' object has no attribute 'startswith'"
     ]
    }
   ],
   "source": [
    "a_ile_baslayanlar(\"ferdi\",\"aslan\",\"bahar\",\"ahmet\",\"arda\",\"dilay\",15)"
   ]
  },
  {
   "cell_type": "code",
   "execution_count": 80,
   "id": "c8e154f1",
   "metadata": {},
   "outputs": [],
   "source": [
    "def tek_cift(* sayilar):\n",
    "\n",
    "    odds_evens= []\n",
    "\n",
    "    for i in sayilar:\n",
    "\n",
    "        if i % 2 == 0:\n",
    "            odds_evens.append(i * 2)\n",
    "\n",
    "        else:\n",
    "            odds_evens.append(i** 2)\n",
    "\n",
    "    return odds_evens \n",
    "\n",
    "        \n",
    "    \n",
    "\n"
   ]
  },
  {
   "cell_type": "code",
   "execution_count": 82,
   "id": "7e293868",
   "metadata": {},
   "outputs": [
    {
     "data": {
      "text/plain": [
       "[25, 12, 49, 16, 81, 20, 24, 28, 225]"
      ]
     },
     "execution_count": 82,
     "metadata": {},
     "output_type": "execute_result"
    }
   ],
   "source": [
    "tek_cift(5,6,7,8,9,10,12,14,15)"
   ]
  },
  {
   "cell_type": "code",
   "execution_count": 83,
   "id": "ed6bea9c",
   "metadata": {},
   "outputs": [
    {
     "data": {
      "text/plain": [
       "[4, 16, 4, 49]"
      ]
     },
     "execution_count": 83,
     "metadata": {},
     "output_type": "execute_result"
    }
   ],
   "source": [
    "tek_cift(2,8,2,7)"
   ]
  },
  {
   "cell_type": "code",
   "execution_count": 85,
   "id": "a1bb539a",
   "metadata": {},
   "outputs": [
    {
     "ename": "TypeError",
     "evalue": "unsupported operand type(s) for %: 'range' and 'int'",
     "output_type": "error",
     "traceback": [
      "\u001b[1;31m---------------------------------------------------------------------------\u001b[0m",
      "\u001b[1;31mTypeError\u001b[0m                                 Traceback (most recent call last)",
      "Cell \u001b[1;32mIn[85], line 1\u001b[0m\n\u001b[1;32m----> 1\u001b[0m \u001b[43mtek_cift\u001b[49m\u001b[43m(\u001b[49m\u001b[38;5;28;43mrange\u001b[39;49m\u001b[43m(\u001b[49m\u001b[38;5;241;43m5\u001b[39;49m\u001b[43m,\u001b[49m\u001b[38;5;241;43m15\u001b[39;49m\u001b[43m)\u001b[49m\u001b[43m)\u001b[49m\n",
      "Cell \u001b[1;32mIn[80], line 7\u001b[0m, in \u001b[0;36mtek_cift\u001b[1;34m(*sayilar)\u001b[0m\n\u001b[0;32m      3\u001b[0m odds_evens\u001b[38;5;241m=\u001b[39m []\n\u001b[0;32m      5\u001b[0m \u001b[38;5;28;01mfor\u001b[39;00m i \u001b[38;5;129;01min\u001b[39;00m sayilar:\n\u001b[1;32m----> 7\u001b[0m     \u001b[38;5;28;01mif\u001b[39;00m \u001b[43mi\u001b[49m\u001b[43m \u001b[49m\u001b[38;5;241;43m%\u001b[39;49m\u001b[43m \u001b[49m\u001b[38;5;241;43m2\u001b[39;49m \u001b[38;5;241m==\u001b[39m \u001b[38;5;241m0\u001b[39m:\n\u001b[0;32m      8\u001b[0m         odds_evens\u001b[38;5;241m.\u001b[39mappend(i \u001b[38;5;241m*\u001b[39m \u001b[38;5;241m2\u001b[39m)\n\u001b[0;32m     10\u001b[0m     \u001b[38;5;28;01melse\u001b[39;00m:\n",
      "\u001b[1;31mTypeError\u001b[0m: unsupported operand type(s) for %: 'range' and 'int'"
     ]
    }
   ],
   "source": [
    "tek_cift(range(5,15))"
   ]
  },
  {
   "cell_type": "code",
   "execution_count": 86,
   "id": "f50e6c0c",
   "metadata": {},
   "outputs": [
    {
     "data": {
      "text/plain": [
       "[1, 4, 9, 8, 25, 12, 49, 16, 81, 20, 121, 24, 169, 28]"
      ]
     },
     "execution_count": 86,
     "metadata": {},
     "output_type": "execute_result"
    }
   ],
   "source": [
    "tek_cift(*range(1,15))"
   ]
  },
  {
   "cell_type": "code",
   "execution_count": 87,
   "id": "2adfdc46",
   "metadata": {},
   "outputs": [
    {
     "ename": "SyntaxError",
     "evalue": "incomplete input (3241149885.py, line 1)",
     "output_type": "error",
     "traceback": [
      "\u001b[1;36m  Cell \u001b[1;32mIn[87], line 1\u001b[1;36m\u001b[0m\n\u001b[1;33m    (*list(range(5,15))\u001b[0m\n\u001b[1;37m                       ^\u001b[0m\n\u001b[1;31mSyntaxError\u001b[0m\u001b[1;31m:\u001b[0m incomplete input\n"
     ]
    }
   ],
   "source": [
    "(*list(range(5,15))"
   ]
  },
  {
   "cell_type": "code",
   "execution_count": 89,
   "id": "3bba7731",
   "metadata": {},
   "outputs": [
    {
     "name": "stdout",
     "output_type": "stream",
     "text": [
      "5 6 7 8 9 10 11 12 13 14\n"
     ]
    }
   ],
   "source": [
    "print(*list(range(5,15)))"
   ]
  },
  {
   "cell_type": "code",
   "execution_count": 91,
   "id": "e2be7019",
   "metadata": {},
   "outputs": [
    {
     "name": "stdout",
     "output_type": "stream",
     "text": [
      "s e d a t\n"
     ]
    }
   ],
   "source": [
    "print(* \"sedat\")"
   ]
  },
  {
   "cell_type": "code",
   "execution_count": 92,
   "id": "62a710e0",
   "metadata": {},
   "outputs": [],
   "source": [
    "liste = [1,2,3,4,5]"
   ]
  },
  {
   "cell_type": "code",
   "execution_count": 93,
   "id": "0246a4dc",
   "metadata": {},
   "outputs": [
    {
     "data": {
      "text/plain": [
       "[1, 4, 9, 8, 25]"
      ]
     },
     "execution_count": 93,
     "metadata": {},
     "output_type": "execute_result"
    }
   ],
   "source": [
    "tek_cift(* liste)"
   ]
  },
  {
   "cell_type": "code",
   "execution_count": 102,
   "id": "742c2f40",
   "metadata": {},
   "outputs": [],
   "source": [
    "def isSuperFamily(anne, baba, cocuk):\n",
    "\n",
    "    anne = anne.lower()\n",
    "    baba = baba.lower()\n",
    "    cocuk = cocuk.lower()\n",
    "\n",
    "    cocuk_sessiz_harfler = \"\"\n",
    "\n",
    "    for i in cocuk:\n",
    "        if i not in \"aioue\":\n",
    "            cocuk_sessiz_harfler += i\n",
    "\n",
    "    if len(set(anne) & set(cocuk_sessiz_harfler)) > 0 and len(set(baba) & set(cocuk_sessiz_harfler)) > 0 and set(cocuk_sessiz_harfler).issubset(set(anne) | set(baba)):\n",
    "        print(\"Bu aile super ailedir\")\n",
    "    else:\n",
    "        print(\"NU aile super aile degildir.\")\n",
    "    \n",
    "\n",
    "\n"
   ]
  },
  {
   "cell_type": "code",
   "execution_count": 103,
   "id": "1092eec3",
   "metadata": {},
   "outputs": [
    {
     "name": "stdout",
     "output_type": "stream",
     "text": [
      "Bu aile super ailedir\n"
     ]
    }
   ],
   "source": [
    "isSuperFamily(\"halil\",\"merve\",\"veli\")"
   ]
  },
  {
   "cell_type": "code",
   "execution_count": 1,
   "id": "21bfc06a",
   "metadata": {},
   "outputs": [
    {
     "ename": "NameError",
     "evalue": "name 'isSuperFamily' is not defined",
     "output_type": "error",
     "traceback": [
      "\u001b[1;31m---------------------------------------------------------------------------\u001b[0m",
      "\u001b[1;31mNameError\u001b[0m                                 Traceback (most recent call last)",
      "Cell \u001b[1;32mIn[1], line 1\u001b[0m\n\u001b[1;32m----> 1\u001b[0m \u001b[43misSuperFamily\u001b[49m(\u001b[38;5;124m\"\u001b[39m\u001b[38;5;124mmurat\u001b[39m\u001b[38;5;124m\"\u001b[39m,\u001b[38;5;124m\"\u001b[39m\u001b[38;5;124mSongul\u001b[39m\u001b[38;5;124m\"\u001b[39m,\u001b[38;5;124m\"\u001b[39m\u001b[38;5;124mmert\u001b[39m\u001b[38;5;124m\"\u001b[39m)\n",
      "\u001b[1;31mNameError\u001b[0m: name 'isSuperFamily' is not defined"
     ]
    }
   ],
   "source": [
    "isSuperFamily(\"murat\",\"Songul\",\"mert\")"
   ]
  },
  {
   "cell_type": "code",
   "execution_count": null,
   "id": "6f8b95b1",
   "metadata": {},
   "outputs": [],
   "source": []
  }
 ],
 "metadata": {
  "kernelspec": {
   "display_name": "Python 3",
   "language": "python",
   "name": "python3"
  },
  "language_info": {
   "codemirror_mode": {
    "name": "ipython",
    "version": 3
   },
   "file_extension": ".py",
   "mimetype": "text/x-python",
   "name": "python",
   "nbconvert_exporter": "python",
   "pygments_lexer": "ipython3",
   "version": "3.12.4"
  }
 },
 "nbformat": 4,
 "nbformat_minor": 5
}
