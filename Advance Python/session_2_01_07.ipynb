{
 "cells": [
  {
   "cell_type": "markdown",
   "id": "fae4a7c3",
   "metadata": {},
   "source": [
    "## random mudulu"
   ]
  },
  {
   "cell_type": "code",
   "execution_count": 1,
   "id": "78d40ead",
   "metadata": {},
   "outputs": [],
   "source": [
    "import random"
   ]
  },
  {
   "cell_type": "code",
   "execution_count": 4,
   "id": "be3f61bf",
   "metadata": {},
   "outputs": [
    {
     "data": {
      "text/plain": [
       "0.8001892198985313"
      ]
     },
     "execution_count": 4,
     "metadata": {},
     "output_type": "execute_result"
    }
   ],
   "source": [
    "random.random()"
   ]
  },
  {
   "cell_type": "code",
   "execution_count": 6,
   "id": "1874ffab",
   "metadata": {},
   "outputs": [
    {
     "data": {
      "text/plain": [
       "0.6394267984578837"
      ]
     },
     "execution_count": 6,
     "metadata": {},
     "output_type": "execute_result"
    }
   ],
   "source": [
    "random.seed(42)\n",
    "random.random()"
   ]
  },
  {
   "cell_type": "code",
   "execution_count": 7,
   "id": "afdb0c46",
   "metadata": {},
   "outputs": [
    {
     "data": {
      "text/plain": [
       "0.025010755222666936"
      ]
     },
     "execution_count": 7,
     "metadata": {},
     "output_type": "execute_result"
    }
   ],
   "source": [
    "random.random()"
   ]
  },
  {
   "cell_type": "code",
   "execution_count": 9,
   "id": "cb5728dc",
   "metadata": {},
   "outputs": [
    {
     "data": {
      "text/plain": [
       "4"
      ]
     },
     "execution_count": 9,
     "metadata": {},
     "output_type": "execute_result"
    }
   ],
   "source": [
    "random.randint(2,5)"
   ]
  },
  {
   "cell_type": "code",
   "execution_count": 15,
   "id": "ec1dce4a",
   "metadata": {},
   "outputs": [
    {
     "data": {
      "text/plain": [
       "[5, 37, 27, 2, 1, 48]"
      ]
     },
     "execution_count": 15,
     "metadata": {},
     "output_type": "execute_result"
    }
   ],
   "source": [
    "random.sample(range(49),6)"
   ]
  },
  {
   "cell_type": "code",
   "execution_count": 16,
   "id": "0731a577",
   "metadata": {},
   "outputs": [],
   "source": [
    "liste = [\"murat\",15,3.14,\"cenk\",False]"
   ]
  },
  {
   "cell_type": "code",
   "execution_count": 18,
   "id": "d4811734",
   "metadata": {},
   "outputs": [
    {
     "data": {
      "text/plain": [
       "[15, False]"
      ]
     },
     "execution_count": 18,
     "metadata": {},
     "output_type": "execute_result"
    }
   ],
   "source": [
    "random.sample(liste,2)"
   ]
  },
  {
   "cell_type": "code",
   "execution_count": 21,
   "id": "7cef7731",
   "metadata": {},
   "outputs": [],
   "source": [
    "dict = {\"a\":1,\"b\":2,\"c\":3}"
   ]
  },
  {
   "cell_type": "code",
   "execution_count": 23,
   "id": "fa75f452",
   "metadata": {},
   "outputs": [
    {
     "ename": "TypeError",
     "evalue": "Population must be a sequence.  For dicts or sets, use sorted(d).",
     "output_type": "error",
     "traceback": [
      "\u001b[1;31m---------------------------------------------------------------------------\u001b[0m",
      "\u001b[1;31mTypeError\u001b[0m                                 Traceback (most recent call last)",
      "Cell \u001b[1;32mIn[23], line 1\u001b[0m\n\u001b[1;32m----> 1\u001b[0m \u001b[43mrandom\u001b[49m\u001b[38;5;241;43m.\u001b[39;49m\u001b[43msample\u001b[49m\u001b[43m(\u001b[49m\u001b[38;5;28;43mdict\u001b[39;49m\u001b[43m,\u001b[49m\u001b[38;5;241;43m2\u001b[39;49m\u001b[43m)\u001b[49m\n",
      "File \u001b[1;32mc:\\Users\\user\\AppData\\Local\\Programs\\Python\\Python312\\Lib\\random.py:413\u001b[0m, in \u001b[0;36mRandom.sample\u001b[1;34m(self, population, k, counts)\u001b[0m\n\u001b[0;32m    389\u001b[0m \u001b[38;5;66;03m# Sampling without replacement entails tracking either potential\u001b[39;00m\n\u001b[0;32m    390\u001b[0m \u001b[38;5;66;03m# selections (the pool) in a list or previous selections in a set.\u001b[39;00m\n\u001b[0;32m    391\u001b[0m \n\u001b[1;32m   (...)\u001b[0m\n\u001b[0;32m    409\u001b[0m \u001b[38;5;66;03m# too many calls to _randbelow(), making them slower and\u001b[39;00m\n\u001b[0;32m    410\u001b[0m \u001b[38;5;66;03m# causing them to eat more entropy than necessary.\u001b[39;00m\n\u001b[0;32m    412\u001b[0m \u001b[38;5;28;01mif\u001b[39;00m \u001b[38;5;129;01mnot\u001b[39;00m \u001b[38;5;28misinstance\u001b[39m(population, _Sequence):\n\u001b[1;32m--> 413\u001b[0m     \u001b[38;5;28;01mraise\u001b[39;00m \u001b[38;5;167;01mTypeError\u001b[39;00m(\u001b[38;5;124m\"\u001b[39m\u001b[38;5;124mPopulation must be a sequence.  \u001b[39m\u001b[38;5;124m\"\u001b[39m\n\u001b[0;32m    414\u001b[0m                     \u001b[38;5;124m\"\u001b[39m\u001b[38;5;124mFor dicts or sets, use sorted(d).\u001b[39m\u001b[38;5;124m\"\u001b[39m)\n\u001b[0;32m    415\u001b[0m n \u001b[38;5;241m=\u001b[39m \u001b[38;5;28mlen\u001b[39m(population)\n\u001b[0;32m    416\u001b[0m \u001b[38;5;28;01mif\u001b[39;00m counts \u001b[38;5;129;01mis\u001b[39;00m \u001b[38;5;129;01mnot\u001b[39;00m \u001b[38;5;28;01mNone\u001b[39;00m:\n",
      "\u001b[1;31mTypeError\u001b[0m: Population must be a sequence.  For dicts or sets, use sorted(d)."
     ]
    }
   ],
   "source": [
    "random.sample(dict,2)"
   ]
  },
  {
   "cell_type": "code",
   "execution_count": null,
   "id": "fc3c86a2",
   "metadata": {},
   "outputs": [],
   "source": [
    "tahmin = int(input(\"1 ile 100 arasinda bir sayi tuttum tahmin et.\"))\n",
    "    sayac += 1\n",
    "\n",
    "    if aklimdaki_sayi < tahmin:\n",
    "        print(f\"Girdiginiz sayi {tahmin}.Tahmini azalt. Kalan hakkiniz {5 - sayac}\")\n",
    "\n",
    "    elif aklimdaki_sayi > tahmin:\n",
    "        print(f\"Girdiginiz sayi {tahmin}.Tahmini cogalt. Kalan hakkiniz {5 - sayac}\")\n",
    "\n",
    "    else:\n",
    "        print(f\"Girdiginiz sayi {tahmin}. {sayac} kerede bildiniz. Tebrikler\")\n",
    "        y =False\n",
    "\n",
    "    if sayac == 5:\n",
    "        y = False  "
   ]
  },
  {
   "cell_type": "code",
   "execution_count": 25,
   "id": "1d8f74ed",
   "metadata": {},
   "outputs": [
    {
     "name": "stdout",
     "output_type": "stream",
     "text": [
      "Girdiginiz sayi 65.Tahmini cogalt. Kalan hakkiniz 4\n",
      "Girdiginiz sayi 80.Tahmini azalt. Kalan hakkiniz 3\n",
      "Girdiginiz sayi 70.Tahmini cogalt. Kalan hakkiniz 2\n",
      "Girdiginiz sayi 75.Tahmini cogalt. Kalan hakkiniz 1\n",
      "Girdiginiz sayi 78. 5 kerede bildiniz. Tebrikler\n"
     ]
    }
   ],
   "source": [
    "\n",
    "y = True\n",
    "\n",
    "import random\n",
    "\n",
    "aklimdaki_sayi = random.randint(1,100)\n",
    "\n",
    "sayac = 0\n",
    "\n",
    "while y:\n",
    "\n",
    "    tahmin = int(input(\"1 ile 100 arasinda bir sayi tuttum tahmin et.\"))\n",
    "    sayac += 1\n",
    "\n",
    "    if aklimdaki_sayi < tahmin:\n",
    "        print(f\"Girdiginiz sayi {tahmin}.Tahmini azalt. Kalan hakkiniz {5 - sayac}\")\n",
    "\n",
    "    elif aklimdaki_sayi > tahmin:\n",
    "        print(f\"Girdiginiz sayi {tahmin}.Tahmini cogalt. Kalan hakkiniz {5 - sayac}\")\n",
    "\n",
    "    else:\n",
    "        print(f\"Girdiginiz sayi {tahmin}. {sayac} kerede bildiniz. Tebrikler\")\n",
    "        y =False\n",
    "\n",
    "    if sayac == 5:\n",
    "        y = False    "
   ]
  },
  {
   "cell_type": "markdown",
   "id": "05ebf4cd",
   "metadata": {},
   "source": [
    "break ,continue"
   ]
  },
  {
   "cell_type": "code",
   "execution_count": null,
   "id": "16305fa2",
   "metadata": {},
   "outputs": [],
   "source": [
    "y = True\n",
    "\n",
    "import random\n",
    "\n",
    "aklimdaki_sayi = random.randint(1,100)\n",
    "\n",
    "sayac = 0\n",
    "\n",
    "while y:\n",
    "\n",
    "    tahmin = int(input(\"1 ile 100 arasinda bir sayi tuttum tahmin et.\"))\n",
    "    sayac += 1\n",
    "\n",
    "    if aklimdaki_sayi < tahmin:\n",
    "        print(f\"Girdiginiz sayi {tahmin}.Tahmini azalt. Kalan hakkiniz {5 - sayac}\")\n",
    "\n",
    "    elif aklimdaki_sayi > tahmin:\n",
    "        print(f\"Girdiginiz sayi {tahmin}.Tahmini cogalt. Kalan hakkiniz {5 - sayac}\")\n",
    "\n",
    "    else:\n",
    "        print(f\"Girdiginiz sayi {tahmin}. {sayac} kerede bildiniz. Tebrikler\")\n",
    "        break   "
   ]
  },
  {
   "cell_type": "code",
   "execution_count": null,
   "id": "f4929b13",
   "metadata": {},
   "outputs": [],
   "source": [
    "y = True\n",
    "\n",
    "import random\n",
    "\n",
    "aklimdaki_sayi = random.randint(1,100)\n",
    "\n",
    "sayac = 0\n",
    "\n",
    "while True:\n",
    "\n",
    "    tahmin = int(input(\"1 ile 100 arasinda bir sayi tuttum tahmin et.\"))\n",
    "    sayac += 1\n",
    "\n",
    "    if aklimdaki_sayi < tahmin:\n",
    "        print(f\"Girdiginiz sayi {tahmin}.Tahmini azalt. Kalan hakkiniz {5 - sayac}\")\n",
    "\n",
    "    elif aklimdaki_sayi > tahmin:\n",
    "        print(f\"Girdiginiz sayi {tahmin}.Tahmini cogalt. Kalan hakkiniz {5 - sayac}\")\n",
    "\n",
    "    else:\n",
    "        print(f\"Girdiginiz sayi {tahmin}. {sayac} kerede bildiniz. Tebrikler\")\n",
    "        break  \n",
    "\n",
    "    if sayac == 5:\n",
    "        break "
   ]
  },
  {
   "cell_type": "code",
   "execution_count": 26,
   "id": "93882d7f",
   "metadata": {},
   "outputs": [
    {
     "name": "stdout",
     "output_type": "stream",
     "text": [
      "Girdiginiz sayi 65.Tahmini azalt. \n",
      "Girdiginiz sayi 68.Tahmini azalt. \n",
      "Girdiginiz sayi 95.Tahmini azalt. \n",
      "Girdiginiz sayi 65.Tahmini azalt. \n",
      "Girdiginiz sayi 25.Tahmini azalt. \n"
     ]
    }
   ],
   "source": [
    "\n",
    "aklimdaki_sayi = random.randint(1,100)\n",
    "\n",
    "x = 1\n",
    "\n",
    "while x <=5 :\n",
    "\n",
    "    tahmin = int(input(\"1 ile 100 arasinda bir sayi tuttum tahmin et.\"))\n",
    "    sayac += 1\n",
    "\n",
    "    if aklimdaki_sayi < tahmin:\n",
    "        print(f\"Girdiginiz sayi {tahmin}.Tahmini azalt. \")\n",
    "\n",
    "    elif aklimdaki_sayi > tahmin:\n",
    "        print(f\"Girdiginiz sayi {tahmin}.Tahmini cogalt. \")\n",
    "\n",
    "    else:\n",
    "        print(f\"Girdiginiz sayi {tahmin}\")\n",
    "        break \n",
    "\n",
    "    x += 1  "
   ]
  },
  {
   "cell_type": "code",
   "execution_count": 27,
   "id": "e7b8cdb6",
   "metadata": {},
   "outputs": [
    {
     "name": "stdout",
     "output_type": "stream",
     "text": [
      "10\n"
     ]
    }
   ],
   "source": [
    "liste_1 = [1,2,3,4,\"Techpro\",5,6,7]\n",
    "\n",
    "x = 0\n",
    "\n",
    "toplam = 0\n",
    "\n",
    "while x < len(liste_1):\n",
    "\n",
    "    if type(liste_1[x])== int:\n",
    "        toplam += liste_1[x]\n",
    "\n",
    "    elif type(liste_1[x]) == str:\n",
    "        break\n",
    "\n",
    "    x +=1\n",
    "\n",
    "print(toplam)        \n",
    "        "
   ]
  },
  {
   "cell_type": "code",
   "execution_count": 30,
   "id": "558c9862",
   "metadata": {},
   "outputs": [
    {
     "name": "stdout",
     "output_type": "stream",
     "text": [
      "28\n"
     ]
    }
   ],
   "source": [
    "liste_1 = [1,2,3,4,\"Techpro\",5,6,7]\n",
    "\n",
    "x = 0\n",
    "\n",
    "toplam = 0\n",
    "\n",
    "while x < len(liste_1):\n",
    "\n",
    "    if type(liste_1[x])== int:\n",
    "        toplam += liste_1[x]\n",
    "\n",
    "    elif type(liste_1[x]) == str:\n",
    "        x +=1\n",
    "        continue\n",
    "\n",
    "    x +=1\n",
    "\n",
    "    \n",
    "\n",
    "print(toplam) "
   ]
  },
  {
   "cell_type": "markdown",
   "id": "9d000fdb",
   "metadata": {},
   "source": [
    "## for"
   ]
  },
  {
   "cell_type": "code",
   "execution_count": 32,
   "id": "6836b6ae",
   "metadata": {},
   "outputs": [
    {
     "data": {
      "text/plain": [
       "False"
      ]
     },
     "execution_count": 32,
     "metadata": {},
     "output_type": "execute_result"
    }
   ],
   "source": [
    "\"a\" in \"Techpro\""
   ]
  },
  {
   "cell_type": "code",
   "execution_count": 33,
   "id": "d212fa8a",
   "metadata": {},
   "outputs": [
    {
     "data": {
      "text/plain": [
       "True"
      ]
     },
     "execution_count": 33,
     "metadata": {},
     "output_type": "execute_result"
    }
   ],
   "source": [
    "\"e\" in \"Techpro\""
   ]
  },
  {
   "cell_type": "code",
   "execution_count": 31,
   "id": "a1829419",
   "metadata": {},
   "outputs": [
    {
     "name": "stdout",
     "output_type": "stream",
     "text": [
      "t\n",
      "e\n",
      "c\n",
      "h\n",
      "p\n",
      "r\n",
      "o\n"
     ]
    }
   ],
   "source": [
    "for i in \"techpro\":\n",
    "    print(i)"
   ]
  },
  {
   "cell_type": "code",
   "execution_count": 34,
   "id": "c7f6efaa",
   "metadata": {},
   "outputs": [
    {
     "name": "stdout",
     "output_type": "stream",
     "text": [
      "o\n"
     ]
    }
   ],
   "source": [
    "print(i)"
   ]
  },
  {
   "cell_type": "code",
   "execution_count": 35,
   "id": "0733804a",
   "metadata": {},
   "outputs": [
    {
     "name": "stdout",
     "output_type": "stream",
     "text": [
      "tt\n",
      "ee\n",
      "cc\n",
      "hh\n",
      "pp\n",
      "rr\n",
      "oo\n"
     ]
    }
   ],
   "source": [
    "for i in \"techpro\":\n",
    "    print(i * 2)"
   ]
  },
  {
   "cell_type": "code",
   "execution_count": 36,
   "id": "eeaeea31",
   "metadata": {},
   "outputs": [
    {
     "name": "stdout",
     "output_type": "stream",
     "text": [
      "tt\n",
      "ee\n",
      "cc\n",
      "hh\n",
      "pp\n",
      "rr\n",
      "oo\n"
     ]
    }
   ],
   "source": [
    "for k in \"techpro\":\n",
    "    print(k * 2)"
   ]
  },
  {
   "cell_type": "code",
   "execution_count": 38,
   "id": "eb31c7f8",
   "metadata": {},
   "outputs": [
    {
     "name": "stdout",
     "output_type": "stream",
     "text": [
      "1\n",
      "4\n",
      "9\n",
      "16\n",
      "25\n"
     ]
    }
   ],
   "source": [
    "liste_2 = [1,2,3,4,5]\n",
    "\n",
    "for i in liste_2:\n",
    "    print(i ** 2)"
   ]
  },
  {
   "cell_type": "code",
   "execution_count": 39,
   "id": "994ae244",
   "metadata": {},
   "outputs": [
    {
     "name": "stdout",
     "output_type": "stream",
     "text": [
      "1\n",
      "4\n",
      "9\n",
      "16\n",
      "25\n"
     ]
    }
   ],
   "source": [
    "x = 0\n",
    "\n",
    "while x <len(liste_2):\n",
    "    print(liste_2[x] ** 2)\n",
    "\n",
    "    x += 1"
   ]
  },
  {
   "cell_type": "code",
   "execution_count": 41,
   "id": "3164b1b5",
   "metadata": {},
   "outputs": [
    {
     "name": "stdout",
     "output_type": "stream",
     "text": [
      "1 Sayisinin karesi 1\n",
      "2 Sayisinin karesi 4\n",
      "3 Sayisinin karesi 9\n",
      "4 Sayisinin karesi 16\n",
      "5 Sayisinin karesi 25\n"
     ]
    }
   ],
   "source": [
    "tuple_1=(1,2,3,4,5)\n",
    "\n",
    "for i in tuple_1:\n",
    "    print(f\"{i} Sayisinin karesi {i ** 2}\")"
   ]
  },
  {
   "cell_type": "code",
   "execution_count": 43,
   "id": "b78aa8ab",
   "metadata": {},
   "outputs": [
    {
     "name": "stdout",
     "output_type": "stream",
     "text": [
      "Ahmet\n",
      "Bahar\n",
      "Hakan\n",
      "Hamdi\n"
     ]
    }
   ],
   "source": [
    "isimler_listesi=[\"ahmet\",\"bahar\",\"hakan\",\"hamdi\"]\n",
    "\n",
    "for i in isimler_listesi:\n",
    "    print(i.capitalize())"
   ]
  },
  {
   "cell_type": "code",
   "execution_count": 48,
   "id": "404212c2",
   "metadata": {},
   "outputs": [
    {
     "name": "stdout",
     "output_type": "stream",
     "text": [
      "['Ahmet', 'Bahar', 'Hakan', 'Hamdi']\n"
     ]
    }
   ],
   "source": [
    "isimler_listesi=[\"ahmet\",\"bahar\",\"hakan\",\"hamdi\"]\n",
    "\n",
    "duzeltilmis = []\n",
    "\n",
    "for i in isimler_listesi:\n",
    "    duzeltilmis.append(i.capitalize())\n",
    "    \n",
    "print(duzeltilmis)"
   ]
  },
  {
   "cell_type": "code",
   "execution_count": 53,
   "id": "d67b2b04",
   "metadata": {},
   "outputs": [
    {
     "name": "stdout",
     "output_type": "stream",
     "text": [
      "T-e-c-h-p-r-o-"
     ]
    }
   ],
   "source": [
    "\n",
    "for i in \"Techpro\":\n",
    "    print(i, end=\"-\")"
   ]
  },
  {
   "cell_type": "code",
   "execution_count": 58,
   "id": "b3cb2970",
   "metadata": {},
   "outputs": [
    {
     "name": "stdout",
     "output_type": "stream",
     "text": [
      "T-e-c-h-p-r-o\n"
     ]
    }
   ],
   "source": [
    "new_str = \"\"\n",
    "\n",
    "for i in \"Techpro\":\n",
    "    new_str += i + \"-\"\n",
    "\n",
    "print(new_str.rstrip(\"-\"))     "
   ]
  },
  {
   "cell_type": "markdown",
   "id": "872b0bf6",
   "metadata": {},
   "source": [
    "## min(), max()"
   ]
  },
  {
   "cell_type": "code",
   "execution_count": 59,
   "id": "f13c826b",
   "metadata": {},
   "outputs": [],
   "source": [
    "liste_3 = [2,5,1,3,9,4,6,8,15,48,256]"
   ]
  },
  {
   "cell_type": "code",
   "execution_count": 60,
   "id": "3748858b",
   "metadata": {},
   "outputs": [
    {
     "data": {
      "text/plain": [
       "1"
      ]
     },
     "execution_count": 60,
     "metadata": {},
     "output_type": "execute_result"
    }
   ],
   "source": [
    "min(liste_3)"
   ]
  },
  {
   "cell_type": "code",
   "execution_count": 61,
   "id": "efe3461e",
   "metadata": {},
   "outputs": [
    {
     "data": {
      "text/plain": [
       "256"
      ]
     },
     "execution_count": 61,
     "metadata": {},
     "output_type": "execute_result"
    }
   ],
   "source": [
    "max(liste_3)"
   ]
  },
  {
   "cell_type": "code",
   "execution_count": 62,
   "id": "647b3af1",
   "metadata": {},
   "outputs": [
    {
     "data": {
      "text/plain": [
       "'cenk'"
      ]
     },
     "execution_count": 62,
     "metadata": {},
     "output_type": "execute_result"
    }
   ],
   "source": [
    "min([\"hakan\",\"cenk\",\"yasin\"])"
   ]
  },
  {
   "cell_type": "code",
   "execution_count": 63,
   "id": "ec4cae43",
   "metadata": {},
   "outputs": [
    {
     "ename": "TypeError",
     "evalue": "'<' not supported between instances of 'int' and 'str'",
     "output_type": "error",
     "traceback": [
      "\u001b[1;31m---------------------------------------------------------------------------\u001b[0m",
      "\u001b[1;31mTypeError\u001b[0m                                 Traceback (most recent call last)",
      "Cell \u001b[1;32mIn[63], line 1\u001b[0m\n\u001b[1;32m----> 1\u001b[0m \u001b[38;5;28;43mmin\u001b[39;49m\u001b[43m(\u001b[49m\u001b[43m[\u001b[49m\u001b[38;5;124;43m\"\u001b[39;49m\u001b[38;5;124;43mhakan\u001b[39;49m\u001b[38;5;124;43m\"\u001b[39;49m\u001b[43m,\u001b[49m\u001b[38;5;124;43m\"\u001b[39;49m\u001b[38;5;124;43mcenk\u001b[39;49m\u001b[38;5;124;43m\"\u001b[39;49m\u001b[43m,\u001b[49m\u001b[38;5;124;43m\"\u001b[39;49m\u001b[38;5;124;43myasin\u001b[39;49m\u001b[38;5;124;43m\"\u001b[39;49m\u001b[43m,\u001b[49m\u001b[38;5;241;43m15\u001b[39;49m\u001b[43m]\u001b[49m\u001b[43m)\u001b[49m\n",
      "\u001b[1;31mTypeError\u001b[0m: '<' not supported between instances of 'int' and 'str'"
     ]
    }
   ],
   "source": [
    "min([\"hakan\",\"cenk\",\"yasin\",15])"
   ]
  },
  {
   "cell_type": "code",
   "execution_count": 78,
   "id": "9658e78a",
   "metadata": {},
   "outputs": [
    {
     "name": "stdout",
     "output_type": "stream",
     "text": [
      "-15\n"
     ]
    }
   ],
   "source": [
    "liste_4 = [4,5,6,9,85,23,65,2,47,32,-15,91] \n",
    "\n",
    "min_sayi = liste_4[5]\n",
    "\n",
    "x = 0\n",
    "\n",
    "while x < len(liste_4):\n",
    "    if min_sayi > liste_4[x]:\n",
    "        min_sayi =  liste_4[x]\n",
    "\n",
    "\n",
    "    x+=1\n",
    "\n",
    "print(min_sayi) \n"
   ]
  },
  {
   "cell_type": "code",
   "execution_count": 84,
   "id": "6e06a331",
   "metadata": {},
   "outputs": [
    {
     "name": "stdout",
     "output_type": "stream",
     "text": [
      "91\n"
     ]
    }
   ],
   "source": [
    "liste_4 = [4,5,6,9,85,23,65,2,47,32,-15,91] \n",
    "\n",
    "max_sayi = liste_4[3]\n",
    "\n",
    "for i in liste_4:\n",
    "\n",
    "    if max_sayi < i:\n",
    "        max_sayi = i\n",
    "\n",
    "print(max_sayi)        \n",
    "        \n"
   ]
  },
  {
   "cell_type": "code",
   "execution_count": null,
   "id": "97f81aa0",
   "metadata": {},
   "outputs": [],
   "source": []
  }
 ],
 "metadata": {
  "kernelspec": {
   "display_name": "Python 3",
   "language": "python",
   "name": "python3"
  },
  "language_info": {
   "codemirror_mode": {
    "name": "ipython",
    "version": 3
   },
   "file_extension": ".py",
   "mimetype": "text/x-python",
   "name": "python",
   "nbconvert_exporter": "python",
   "pygments_lexer": "ipython3",
   "version": "3.12.4"
  }
 },
 "nbformat": 4,
 "nbformat_minor": 5
}
