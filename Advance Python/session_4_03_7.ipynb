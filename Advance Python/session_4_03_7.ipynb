{
 "cells": [
  {
   "cell_type": "code",
   "execution_count": 11,
   "id": "4f5e7cf0",
   "metadata": {},
   "outputs": [
    {
     "name": "stdout",
     "output_type": "stream",
     "text": [
      "[]\n",
      "[0, 1, 2, 3, 4, 5, 6, 7, 8, 9, 10]\n",
      "[0, 1, 2, 3, 4, 5, 6, 7, 8, 9, 10, 0, 1, 2, 3, 4, 5, 6, 7, 8, 9, 10]\n",
      "[0, 1, 2, 3, 4, 5, 6, 7, 8, 9, 10, 0, 1, 2, 3, 4, 5, 6, 7, 8, 9, 10, 0, 1, 2, 3, 4, 5, 6, 7, 8, 9, 10]\n",
      "[0, 1, 2, 3, 4, 5, 6, 7, 8, 9, 10, 0, 1, 2, 3, 4, 5, 6, 7, 8, 9, 10, 0, 1, 2, 3, 4, 5, 6, 7, 8, 9, 10, 0, 1, 2, 3, 4, 5, 6, 7, 8, 9, 10]\n",
      "[0, 1, 2, 3, 4, 5, 6, 7, 8, 9, 10, 0, 1, 2, 3, 4, 5, 6, 7, 8, 9, 10, 0, 1, 2, 3, 4, 5, 6, 7, 8, 9, 10, 0, 1, 2, 3, 4, 5, 6, 7, 8, 9, 10, 0, 1, 2, 3, 4, 5, 6, 7, 8, 9, 10]\n",
      "[0, 1, 2, 3, 4, 5, 6, 7, 8, 9, 10, 0, 1, 2, 3, 4, 5, 6, 7, 8, 9, 10, 0, 1, 2, 3, 4, 5, 6, 7, 8, 9, 10, 0, 1, 2, 3, 4, 5, 6, 7, 8, 9, 10, 0, 1, 2, 3, 4, 5, 6, 7, 8, 9, 10, 0, 1, 2, 3, 4, 5, 6, 7, 8, 9, 10]\n",
      "[0, 1, 2, 3, 4, 5, 6, 7, 8, 9, 10, 0, 1, 2, 3, 4, 5, 6, 7, 8, 9, 10, 0, 1, 2, 3, 4, 5, 6, 7, 8, 9, 10, 0, 1, 2, 3, 4, 5, 6, 7, 8, 9, 10, 0, 1, 2, 3, 4, 5, 6, 7, 8, 9, 10, 0, 1, 2, 3, 4, 5, 6, 7, 8, 9, 10, 0, 1, 2, 3, 4, 5, 6, 7, 8, 9, 10]\n",
      "[0, 1, 2, 3, 4, 5, 6, 7, 8, 9, 10, 0, 1, 2, 3, 4, 5, 6, 7, 8, 9, 10, 0, 1, 2, 3, 4, 5, 6, 7, 8, 9, 10, 0, 1, 2, 3, 4, 5, 6, 7, 8, 9, 10, 0, 1, 2, 3, 4, 5, 6, 7, 8, 9, 10, 0, 1, 2, 3, 4, 5, 6, 7, 8, 9, 10, 0, 1, 2, 3, 4, 5, 6, 7, 8, 9, 10, 0, 1, 2, 3, 4, 5, 6, 7, 8, 9, 10]\n",
      "[0, 1, 2, 3, 4, 5, 6, 7, 8, 9, 10, 0, 1, 2, 3, 4, 5, 6, 7, 8, 9, 10, 0, 1, 2, 3, 4, 5, 6, 7, 8, 9, 10, 0, 1, 2, 3, 4, 5, 6, 7, 8, 9, 10, 0, 1, 2, 3, 4, 5, 6, 7, 8, 9, 10, 0, 1, 2, 3, 4, 5, 6, 7, 8, 9, 10, 0, 1, 2, 3, 4, 5, 6, 7, 8, 9, 10, 0, 1, 2, 3, 4, 5, 6, 7, 8, 9, 10, 0, 1, 2, 3, 4, 5, 6, 7, 8, 9, 10]\n",
      "[0, 1, 2, 3, 4, 5, 6, 7, 8, 9, 10, 0, 1, 2, 3, 4, 5, 6, 7, 8, 9, 10, 0, 1, 2, 3, 4, 5, 6, 7, 8, 9, 10, 0, 1, 2, 3, 4, 5, 6, 7, 8, 9, 10, 0, 1, 2, 3, 4, 5, 6, 7, 8, 9, 10, 0, 1, 2, 3, 4, 5, 6, 7, 8, 9, 10, 0, 1, 2, 3, 4, 5, 6, 7, 8, 9, 10, 0, 1, 2, 3, 4, 5, 6, 7, 8, 9, 10, 0, 1, 2, 3, 4, 5, 6, 7, 8, 9, 10, 0, 1, 2, 3, 4, 5, 6, 7, 8, 9, 10]\n"
     ]
    }
   ],
   "source": [
    "sayi = input(\"sayi girin:\")\n",
    "\n",
    "\n",
    "for sayi in range(0,11):\n",
    "    toplam=sayi * list(range(0,11))\n",
    "    print(toplam)"
   ]
  },
  {
   "cell_type": "code",
   "execution_count": 15,
   "id": "8e5f06cc",
   "metadata": {},
   "outputs": [
    {
     "name": "stdout",
     "output_type": "stream",
     "text": [
      "4 x 0 = 0\n",
      "4 x 1 = 4\n",
      "4 x 2 = 8\n",
      "4 x 3 = 12\n",
      "4 x 4 = 16\n",
      "4 x 5 = 20\n",
      "4 x 6 = 24\n",
      "4 x 7 = 28\n",
      "4 x 8 = 32\n",
      "4 x 9 = 36\n",
      "4 x 10 = 40\n"
     ]
    }
   ],
   "source": [
    "sayi = int(input(\"sayi girin. 1-10 arasi \"))\n",
    "\n",
    "for i in range(0,11):\n",
    "\n",
    "    print(f\"{sayi} x {i} = {sayi * i}\")"
   ]
  },
  {
   "cell_type": "code",
   "execution_count": 21,
   "id": "5147d6b1",
   "metadata": {},
   "outputs": [
    {
     "name": "stdout",
     "output_type": "stream",
     "text": [
      "Girdiginiz deger numerik degil.\n"
     ]
    }
   ],
   "source": [
    "sayi = input(\"sayi girin. 1-10 arasi \")\n",
    "\n",
    "if sayi.isnumeric():\n",
    "\n",
    "    for i in range(0,11):\n",
    "\n",
    "        print(f\"{sayi} x {i} = {int(sayi) * i}\")\n",
    "\n",
    "else:\n",
    "    print(\"Girdiginiz deger numerik degil.\")        \n",
    "\n",
    "\n",
    "\n"
   ]
  },
  {
   "cell_type": "code",
   "execution_count": 28,
   "id": "2c589951",
   "metadata": {},
   "outputs": [
    {
     "name": "stdout",
     "output_type": "stream",
     "text": [
      "Girdiginiz deger numerik degil.\n"
     ]
    }
   ],
   "source": [
    "sayi = input(\"sayi girin. 1-10 arasi \")\n",
    "\n",
    "if sayi.isnumeric():\n",
    "\n",
    "    if int(sayi) > 0 and int(sayi) <= 10:\n",
    "        for i in range(0,11):\n",
    "            print(f\"{sayi} x {i} = {int(sayi) * i}\")\n",
    "    else:\n",
    "        print(\"Lutfen 1-10 arasi rakam giriniz\")\n",
    "else:\n",
    "    print(\"Girdiginiz deger numerik degil.\")                 \n"
   ]
  },
  {
   "cell_type": "code",
   "execution_count": 2,
   "id": "e0ace254",
   "metadata": {},
   "outputs": [
    {
     "ename": "IndentationError",
     "evalue": "unexpected indent (2513135997.py, line 3)",
     "output_type": "error",
     "traceback": [
      "\u001b[1;36m  Cell \u001b[1;32mIn[2], line 3\u001b[1;36m\u001b[0m\n\u001b[1;33m    sayi = input(\"sayi girin. 1-10 arasi \")\u001b[0m\n\u001b[1;37m    ^\u001b[0m\n\u001b[1;31mIndentationError\u001b[0m\u001b[1;31m:\u001b[0m unexpected indent\n"
     ]
    }
   ],
   "source": [
    "\n",
    "\n",
    "    sayi = input(\"sayi girin. 1-10 arasi \")\n",
    "    if sayi.lstrip(\"-\").isnumeric():\n",
    "\n",
    "        if int(sayi) > 0 and int(sayi) <= 10:\n",
    "            for i in range(0,11):\n",
    "                print(f\"{sayi} x {i} = {int(sayi) * i}\")\n",
    "\n",
    "            break\n",
    "\n",
    "        else:\n",
    "            print(\"Lutfen 1-10 arasi rakam giriniz\")\n",
    "    else:\n",
    "        print(\"Girdiginiz deger numerik degil.\")   "
   ]
  },
  {
   "cell_type": "code",
   "execution_count": 3,
   "id": "72ffb7ab",
   "metadata": {},
   "outputs": [
    {
     "name": "stdout",
     "output_type": "stream",
     "text": [
      "Lutfen 1-10 arasi rakam giriniz\n"
     ]
    }
   ],
   "source": [
    "sayi = input(\"sayi girin. 1-10 arasi \")\n",
    "\n",
    "if sayi.lstrip(\"-\").isnumeric():\n",
    "\n",
    "    if int(sayi) > 0 and int(sayi) <= 10:\n",
    "        for i in range(0,11):\n",
    "            print(f\"{sayi} x {i} = {int(sayi) * i}\")\n",
    "    else:\n",
    "        print(\"Lutfen 1-10 arasi rakam giriniz\")\n",
    "else:\n",
    "    print(\"Girdiginiz deger numerik degil.\")    "
   ]
  },
  {
   "cell_type": "code",
   "execution_count": 5,
   "id": "7265805e",
   "metadata": {},
   "outputs": [
    {
     "name": "stdout",
     "output_type": "stream",
     "text": [
      "Lutfen 1-10 arasi rakam giriniz\n",
      "Lutfen 1-10 arasi rakam giriniz\n",
      "5 x 0 = 0\n",
      "5 x 1 = 5\n",
      "5 x 2 = 10\n",
      "5 x 3 = 15\n",
      "5 x 4 = 20\n",
      "5 x 5 = 25\n",
      "5 x 6 = 30\n",
      "5 x 7 = 35\n",
      "5 x 8 = 40\n",
      "5 x 9 = 45\n",
      "5 x 10 = 50\n"
     ]
    }
   ],
   "source": [
    "while True:\n",
    "    sayi = input(\"sayi girin. 1-10 arasi \")\n",
    "    if sayi.lstrip(\"-\").isnumeric():\n",
    "\n",
    "        if int(sayi) > 0 and int(sayi) <= 10:\n",
    "            for i in range(0,11):\n",
    "                print(f\"{sayi} x {i} = {int(sayi) * i}\")\n",
    "\n",
    "            break\n",
    "\n",
    "        else:\n",
    "            print(\"Lutfen 1-10 arasi rakam giriniz\")\n",
    "    else:\n",
    "        print(\"Girdiginiz deger numerik degil.\") "
   ]
  },
  {
   "cell_type": "markdown",
   "id": "a8f49a0a",
   "metadata": {},
   "source": [
    "## enumerate()"
   ]
  },
  {
   "cell_type": "code",
   "execution_count": 6,
   "id": "34e4f345",
   "metadata": {},
   "outputs": [],
   "source": [
    "name = [\"Hamdi\",\"Hakan\",\"Fatih\"]"
   ]
  },
  {
   "cell_type": "code",
   "execution_count": 7,
   "id": "8f4c74de",
   "metadata": {},
   "outputs": [
    {
     "data": {
      "text/plain": [
       "<enumerate at 0x1cf88589620>"
      ]
     },
     "execution_count": 7,
     "metadata": {},
     "output_type": "execute_result"
    }
   ],
   "source": [
    "enumerate(name)"
   ]
  },
  {
   "cell_type": "code",
   "execution_count": 8,
   "id": "4e0d3c9c",
   "metadata": {},
   "outputs": [
    {
     "data": {
      "text/plain": [
       "[(0, 'Hamdi'), (1, 'Hakan'), (2, 'Fatih')]"
      ]
     },
     "execution_count": 8,
     "metadata": {},
     "output_type": "execute_result"
    }
   ],
   "source": [
    "list(enumerate(name))"
   ]
  },
  {
   "cell_type": "code",
   "execution_count": 9,
   "id": "d64e6014",
   "metadata": {},
   "outputs": [
    {
     "data": {
      "text/plain": [
       "{0: 'Hamdi', 1: 'Hakan', 2: 'Fatih'}"
      ]
     },
     "execution_count": 9,
     "metadata": {},
     "output_type": "execute_result"
    }
   ],
   "source": [
    "dict(enumerate(name))"
   ]
  },
  {
   "cell_type": "code",
   "execution_count": 11,
   "id": "8f0e39d8",
   "metadata": {},
   "outputs": [
    {
     "data": {
      "text/plain": [
       "{100: 'Hamdi', 101: 'Hakan', 102: 'Fatih'}"
      ]
     },
     "execution_count": 11,
     "metadata": {},
     "output_type": "execute_result"
    }
   ],
   "source": [
    "dict(enumerate(name,100))"
   ]
  },
  {
   "cell_type": "code",
   "execution_count": 25,
   "id": "558b7396",
   "metadata": {},
   "outputs": [
    {
     "name": "stdout",
     "output_type": "stream",
     "text": [
      "[8, 12, 14, 23, 25, 31, 32, 38, 40, 43, 49]\n"
     ]
    }
   ],
   "source": [
    "number_list = [48,10,11,21,36,5,6,52,28,29,\n",
    "               53,54,45,19,20,47,55,39,41,7,\n",
    "               9,17,26,27,42,22,37,51,46,18,\n",
    "               44,30,34,13,15,35,33,16,50,24]\n",
    "\n",
    "max_deger = max(number_list)\n",
    "min_deger = min(number_list)\n",
    "\n",
    "tam_liste = list(range(min_deger,max_deger +1))\n",
    "\n",
    "kayip_sayilar = []\n",
    "\n",
    "for i in tam_liste:\n",
    "\n",
    "    if i not in number_list:\n",
    "        kayip_sayilar.append(i)\n",
    "\n",
    "print(kayip_sayilar)        \n",
    "\n",
    "\n",
    "\n"
   ]
  },
  {
   "cell_type": "code",
   "execution_count": null,
   "id": "8104c3c0",
   "metadata": {},
   "outputs": [],
   "source": [
    "number_list = [48,10,11,21,36,5,6,52,28,29,\n",
    "               53,54,45,19,20,47,55,39,41,7,\n",
    "               9,17,26,27,42,22,37,51,46,18,\n",
    "               44,30,34,13,15,35,33,16,50,24]\n",
    "\n",
    "\n",
    "kayip_sayilar = []\n",
    "\n",
    "for i in tam_liste = list(range(min(number_list),max(number_list) +1)):\n",
    "\n",
    "    if i not in number_list:\n",
    "        kayip_sayilar.append(i)\n",
    "\n",
    "print(kayip_sayilar)   \n",
    "\n"
   ]
  },
  {
   "cell_type": "code",
   "execution_count": 27,
   "id": "361b8ba2",
   "metadata": {},
   "outputs": [
    {
     "data": {
      "text/plain": [
       "{8, 12, 14, 23, 25, 31, 32, 38, 40, 43, 49}"
      ]
     },
     "execution_count": 27,
     "metadata": {},
     "output_type": "execute_result"
    }
   ],
   "source": [
    "set(range(min(number_list),max(number_list) +1)) - set(number_list)"
   ]
  },
  {
   "cell_type": "code",
   "execution_count": null,
   "id": "3195bcfa",
   "metadata": {},
   "outputs": [
    {
     "data": {
      "text/plain": [
       "[1, 4, 9, 16, 25]"
      ]
     },
     "execution_count": 28,
     "metadata": {},
     "output_type": "execute_result"
    }
   ],
   "source": [
    "   "
   ]
  },
  {
   "cell_type": "markdown",
   "id": "382a061f",
   "metadata": {},
   "source": [
    "# List Comprehension"
   ]
  },
  {
   "cell_type": "code",
   "execution_count": 29,
   "id": "27134269",
   "metadata": {},
   "outputs": [
    {
     "data": {
      "text/plain": [
       "[1, 4, 9, 16, 25]"
      ]
     },
     "execution_count": 29,
     "metadata": {},
     "output_type": "execute_result"
    }
   ],
   "source": [
    "liste_1 = [1,2,3,4,5]\n",
    "\n",
    "sonuc_listesi = []\n",
    "\n",
    "for i in liste_1:\n",
    "    sonuc_listesi.append(i ** 2)\n",
    "\n",
    "sonuc_listesi "
   ]
  },
  {
   "cell_type": "code",
   "execution_count": null,
   "id": "2e6abbca",
   "metadata": {},
   "outputs": [
    {
     "data": {
      "text/plain": [
       "[1, 4, 9, 16, 25]"
      ]
     },
     "execution_count": 30,
     "metadata": {},
     "output_type": "execute_result"
    }
   ],
   "source": [
    "[ i ** 2  for i in liste_1 ]"
   ]
  },
  {
   "cell_type": "code",
   "execution_count": 31,
   "id": "0600997c",
   "metadata": {},
   "outputs": [
    {
     "data": {
      "text/plain": [
       "[1, 2, 3, 4, 5]"
      ]
     },
     "execution_count": 31,
     "metadata": {},
     "output_type": "execute_result"
    }
   ],
   "source": [
    "liste_1"
   ]
  },
  {
   "cell_type": "code",
   "execution_count": 39,
   "id": "398d7a3f",
   "metadata": {},
   "outputs": [
    {
     "data": {
      "text/plain": [
       "[1, 15, 5, 89, 45, 71, 45, 95, 61]"
      ]
     },
     "execution_count": 39,
     "metadata": {},
     "output_type": "execute_result"
    }
   ],
   "source": [
    "sayilar_listesi = [1,15,2,36,5,89,45,62,52,71,30,56,45,95,61,48]\n",
    "tek_sayilar = []\n",
    "for i in sayilar_listesi:\n",
    "    if i % 2 == 1:\n",
    "        tek_sayilar.append(i)\n",
    "\n",
    "tek_sayilar            \n"
   ]
  },
  {
   "cell_type": "markdown",
   "id": "13bb7e6a",
   "metadata": {},
   "source": [
    "## for + if"
   ]
  },
  {
   "cell_type": "code",
   "execution_count": 42,
   "id": "1981687f",
   "metadata": {},
   "outputs": [
    {
     "data": {
      "text/plain": [
       "[1, 15, 5, 89, 45, 71, 45, 95, 61]"
      ]
     },
     "execution_count": 42,
     "metadata": {},
     "output_type": "execute_result"
    }
   ],
   "source": [
    "[ i   for i in sayilar_listesi if i % 2]"
   ]
  },
  {
   "cell_type": "code",
   "execution_count": 43,
   "id": "ebac49d7",
   "metadata": {},
   "outputs": [
    {
     "data": {
      "text/plain": [
       "[2, 36, 62, 52, 30, 56, 48]"
      ]
     },
     "execution_count": 43,
     "metadata": {},
     "output_type": "execute_result"
    }
   ],
   "source": [
    "[ i   for i in sayilar_listesi if i % 2==0]"
   ]
  },
  {
   "cell_type": "code",
   "execution_count": 44,
   "id": "c584751b",
   "metadata": {},
   "outputs": [],
   "source": [
    "liste_2 = [\"renault\",\"fiat\",\"ford\"]"
   ]
  },
  {
   "cell_type": "code",
   "execution_count": 45,
   "id": "beb81530",
   "metadata": {},
   "outputs": [
    {
     "data": {
      "text/plain": [
       "['fiat', 'ford']"
      ]
     },
     "execution_count": 45,
     "metadata": {},
     "output_type": "execute_result"
    }
   ],
   "source": [
    "sonuc= []\n",
    "\n",
    "for i in liste_2:\n",
    "    if i[0] == \"f\":\n",
    "        sonuc.append(i)\n",
    "sonuc"
   ]
  },
  {
   "cell_type": "code",
   "execution_count": 47,
   "id": "5c22fd36",
   "metadata": {},
   "outputs": [
    {
     "data": {
      "text/plain": [
       "['fiat', 'ford']"
      ]
     },
     "execution_count": 47,
     "metadata": {},
     "output_type": "execute_result"
    }
   ],
   "source": [
    "[ i for i in liste_2  if i[0]== \"f\"]"
   ]
  },
  {
   "cell_type": "code",
   "execution_count": 48,
   "id": "643d504f",
   "metadata": {},
   "outputs": [
    {
     "data": {
      "text/plain": [
       "['fiat', 'ford']"
      ]
     },
     "execution_count": 48,
     "metadata": {},
     "output_type": "execute_result"
    }
   ],
   "source": [
    "[ i for i in liste_2  if i.startswith(\"f\")]"
   ]
  },
  {
   "cell_type": "code",
   "execution_count": 49,
   "id": "5218b6ad",
   "metadata": {},
   "outputs": [
    {
     "data": {
      "text/plain": [
       "[1, 5]"
      ]
     },
     "execution_count": 49,
     "metadata": {},
     "output_type": "execute_result"
    }
   ],
   "source": [
    "[ i   for i in sayilar_listesi if i % 2 if i < 10]"
   ]
  },
  {
   "cell_type": "markdown",
   "id": "015ca782",
   "metadata": {},
   "source": [
    "## for + if + else"
   ]
  },
  {
   "cell_type": "code",
   "execution_count": 51,
   "id": "c93381b8",
   "metadata": {},
   "outputs": [
    {
     "data": {
      "text/plain": [
       "[1, 225, 2, 36, 25, 7921, 2025, 62, 52, 5041, 30, 56, 2025, 9025, 3721, 48]"
      ]
     },
     "execution_count": 51,
     "metadata": {},
     "output_type": "execute_result"
    }
   ],
   "source": [
    "sayilar_listesi = [1,15,2,36,5,89,45,62,52,71,30,56,45,95,61,48]\n",
    "\n",
    "result = []\n",
    "\n",
    "for i in sayilar_listesi:\n",
    "    if i % 2 == 0:\n",
    "        result.append(i)\n",
    "    else:\n",
    "        result.append(i **2)\n",
    "\n",
    "result            \n",
    "\n",
    "\n"
   ]
  },
  {
   "cell_type": "code",
   "execution_count": 52,
   "id": "3b864e1e",
   "metadata": {},
   "outputs": [
    {
     "data": {
      "text/plain": [
       "[1, 225, 2, 36, 25, 7921, 2025, 62, 52, 5041, 30, 56, 2025, 9025, 3721, 48]"
      ]
     },
     "execution_count": 52,
     "metadata": {},
     "output_type": "execute_result"
    }
   ],
   "source": [
    "[   i  if i % 2 == 0  else i ** 2     for i in sayilar_listesi    ]"
   ]
  },
  {
   "cell_type": "code",
   "execution_count": 53,
   "id": "5c0d385f",
   "metadata": {},
   "outputs": [
    {
     "name": "stdout",
     "output_type": "stream",
     "text": [
      "a\n",
      "b\n",
      "c\n",
      "d\n",
      "aa\n",
      "bb\n",
      "cc\n",
      "dd\n",
      "aaa\n",
      "bbb\n",
      "ccc\n",
      "ddd\n"
     ]
    }
   ],
   "source": [
    "for i in (1,2,3):\n",
    "    for j in (\"a\",\"b\",\"c\",\"d\"):\n",
    "        print(i * j)"
   ]
  },
  {
   "cell_type": "code",
   "execution_count": 54,
   "id": "26335607",
   "metadata": {},
   "outputs": [
    {
     "data": {
      "text/plain": [
       "['a', 'b', 'c', 'd', 'aa', 'bb', 'cc', 'dd', 'aaa', 'bbb', 'ccc', 'ddd']"
      ]
     },
     "execution_count": 54,
     "metadata": {},
     "output_type": "execute_result"
    }
   ],
   "source": [
    "[  i*j   for i in (1,2,3)   for j in [\"a\",\"b\",\"c\",\"d\"]   ]"
   ]
  },
  {
   "cell_type": "code",
   "execution_count": 56,
   "id": "4013f097",
   "metadata": {},
   "outputs": [
    {
     "data": {
      "text/plain": [
       "[8, 12, 14, 23, 25, 31, 32, 38, 40, 43, 49]"
      ]
     },
     "execution_count": 56,
     "metadata": {},
     "output_type": "execute_result"
    }
   ],
   "source": [
    "number_list = [48,10,11,21,36,5,6,52,28,29,\n",
    "               53,54,45,19,20,47,55,39,41,7,\n",
    "               9,17,26,27,42,22,37,51,46,18,\n",
    "               44,30,34,13,15,35,33,16,50,24]\n",
    "\n",
    "\n",
    "\n",
    "\n",
    "[ i  for i in range(min(number_list),max(number_list) +1)  if i not in number_list  ]\n"
   ]
  },
  {
   "cell_type": "code",
   "execution_count": 60,
   "id": "06b10baa",
   "metadata": {},
   "outputs": [
    {
     "name": "stdout",
     "output_type": "stream",
     "text": [
      "girilensayi: 155 armstrong degildir\n"
     ]
    }
   ],
   "source": [
    "sayi = input(\"sayi girin\")\n",
    "\n",
    "uzunluk = len(sayi)\n",
    "\n",
    "toplam = 0\n",
    "\n",
    "for i in sayi:\n",
    "    toplam += int(i) ** uzunluk\n",
    "\n",
    "if int(sayi) == toplam:\n",
    "    print(f\"girilensayi: {sayi} armstrong sayidir\")\n",
    "else:\n",
    "    print(f\"girilensayi: {sayi} armstrong degildir\")         \n",
    "\n",
    "\n",
    "\n"
   ]
  },
  {
   "cell_type": "code",
   "execution_count": 74,
   "id": "f4a623db",
   "metadata": {},
   "outputs": [
    {
     "name": "stdout",
     "output_type": "stream",
     "text": [
      "Marketimize hos geldiniz\n",
      "Urunlerimiz\n",
      "1 : \"Elma\",\n",
      "2 : \"Portakal\",\n",
      "3 : \"Cilek\",\n",
      "4: \"Yumurta\",\n",
      "5: \"Havuc\",\n",
      "6: \"Armut\"\n",
      "\n"
     ]
    },
    {
     "ename": "NameError",
     "evalue": "name 'urunlerint' is not defined",
     "output_type": "error",
     "traceback": [
      "\u001b[1;31m---------------------------------------------------------------------------\u001b[0m",
      "\u001b[1;31mNameError\u001b[0m                                 Traceback (most recent call last)",
      "Cell \u001b[1;32mIn[74], line 26\u001b[0m\n\u001b[0;32m     23\u001b[0m x \u001b[38;5;241m=\u001b[39m \u001b[38;5;28minput\u001b[39m(\u001b[38;5;124m\"\u001b[39m\u001b[38;5;124mAlmak istediginiz urunun kod numarasini yazin. Urun eklemeyi bitirdiginizde q tusuna basiniz\u001b[39m\u001b[38;5;124m\"\u001b[39m)\u001b[38;5;241m.\u001b[39mlower\n\u001b[0;32m     25\u001b[0m \u001b[38;5;28;01mif\u001b[39;00m x \u001b[38;5;241m!=\u001b[39m \u001b[38;5;124m\"\u001b[39m\u001b[38;5;124mq\u001b[39m\u001b[38;5;124m\"\u001b[39m:\n\u001b[1;32m---> 26\u001b[0m     sepet\u001b[38;5;241m.\u001b[39mappend(\u001b[43murunlerint\u001b[49m[(x)])\n\u001b[0;32m     27\u001b[0m     \u001b[38;5;28mprint\u001b[39m(\u001b[38;5;124mf\u001b[39m\u001b[38;5;124m\"\u001b[39m\u001b[38;5;124mSepete \u001b[39m\u001b[38;5;132;01m{\u001b[39;00murunler[\u001b[38;5;28mint\u001b[39m(x)]\u001b[38;5;132;01m}\u001b[39;00m\u001b[38;5;124m eklendi\u001b[39m\u001b[38;5;124m\"\u001b[39m)\n\u001b[0;32m     29\u001b[0m \u001b[38;5;28;01melif\u001b[39;00m x\u001b[38;5;241m==\u001b[39m\u001b[38;5;124m\"\u001b[39m\u001b[38;5;124mq\u001b[39m\u001b[38;5;124m\"\u001b[39m:\n",
      "\u001b[1;31mNameError\u001b[0m: name 'urunlerint' is not defined"
     ]
    }
   ],
   "source": [
    "urunler = {1 : \"Elma\",\n",
    "2 : \"Portakal\",\n",
    "3 : \"Cilek\",\n",
    "4: \"Yumurta\",\n",
    "5: \"Havuc\",\n",
    "6: \"Armut\"}\n",
    "\n",
    "print(\"Marketimize hos geldiniz\")\n",
    "\n",
    "print(\"\"\"Urunlerimiz\n",
    "1 : \"Elma\",\n",
    "2 : \"Portakal\",\n",
    "3 : \"Cilek\",\n",
    "4: \"Yumurta\",\n",
    "5: \"Havuc\",\n",
    "6: \"Armut\"\n",
    "\"\"\")\n",
    "\n",
    "sepet = []\n",
    "\n",
    "while True:\n",
    "\n",
    "    x = input(\"Almak istediginiz urunun kod numarasini yazin. Urun eklemeyi bitirdiginizde q tusuna basiniz\").lower\n",
    "\n",
    "    if x != \"q\":\n",
    "        sepet.append(urunlerint[(x)])\n",
    "        print(f\"Sepete {urunler[int(x)]} eklendi\")\n",
    "\n",
    "    elif x==\"q\":\n",
    "        print(\"Bizi tercih ettiginiz icin tesekkur ederiz\")\n",
    "        print(f\"Almis oldugunuz urunler{sepet}\")\n",
    "        break    \n",
    "\n",
    "\n",
    "\n",
    "\n",
    "\n",
    "\n",
    "\n"
   ]
  },
  {
   "cell_type": "code",
   "execution_count": null,
   "id": "0bb3e477",
   "metadata": {},
   "outputs": [],
   "source": []
  },
  {
   "cell_type": "code",
   "execution_count": null,
   "id": "a81b7067",
   "metadata": {},
   "outputs": [],
   "source": []
  }
 ],
 "metadata": {
  "kernelspec": {
   "display_name": "Python 3",
   "language": "python",
   "name": "python3"
  },
  "language_info": {
   "codemirror_mode": {
    "name": "ipython",
    "version": 3
   },
   "file_extension": ".py",
   "mimetype": "text/x-python",
   "name": "python",
   "nbconvert_exporter": "python",
   "pygments_lexer": "ipython3",
   "version": "3.12.4"
  }
 },
 "nbformat": 4,
 "nbformat_minor": 5
}
