{
 "cells": [
  {
   "cell_type": "code",
   "execution_count": 1,
   "id": "53ce4631",
   "metadata": {},
   "outputs": [
    {
     "data": {
      "text/plain": [
       "{'name': 'Hakan', 'age': 32, 'job': 'datascientist'}"
      ]
     },
     "execution_count": 1,
     "metadata": {},
     "output_type": "execute_result"
    }
   ],
   "source": [
    "dict_1 = {\"name\":\"Hakan\",\"age\":32,\"job\":\"datascientist\"}\n",
    "dict_1"
   ]
  },
  {
   "cell_type": "code",
   "execution_count": 2,
   "id": "d8836a06",
   "metadata": {},
   "outputs": [
    {
     "name": "stdout",
     "output_type": "stream",
     "text": [
      "name\n",
      "age\n",
      "job\n"
     ]
    }
   ],
   "source": [
    "for i in dict_1:\n",
    "    print(i)"
   ]
  },
  {
   "cell_type": "code",
   "execution_count": 3,
   "id": "7b26518c",
   "metadata": {},
   "outputs": [
    {
     "data": {
      "text/plain": [
       "dict_items([('name', 'Hakan'), ('age', 32), ('job', 'datascientist')])"
      ]
     },
     "execution_count": 3,
     "metadata": {},
     "output_type": "execute_result"
    }
   ],
   "source": [
    "dict_1.items()"
   ]
  },
  {
   "cell_type": "code",
   "execution_count": 4,
   "id": "bdaa171c",
   "metadata": {},
   "outputs": [
    {
     "name": "stdout",
     "output_type": "stream",
     "text": [
      "('name', 'Hakan')\n",
      "('age', 32)\n",
      "('job', 'datascientist')\n"
     ]
    }
   ],
   "source": [
    "for i in dict_1.items():\n",
    "    print(i)"
   ]
  },
  {
   "cell_type": "code",
   "execution_count": 5,
   "id": "e9d21edd",
   "metadata": {},
   "outputs": [
    {
     "name": "stdout",
     "output_type": "stream",
     "text": [
      "Hakan\n",
      "32\n",
      "datascientist\n"
     ]
    }
   ],
   "source": [
    "for i in dict_1.values():\n",
    "    print(i)"
   ]
  },
  {
   "cell_type": "code",
   "execution_count": 11,
   "id": "fbed8682",
   "metadata": {},
   "outputs": [
    {
     "name": "stdout",
     "output_type": "stream",
     "text": [
      "keys: name,values: Hakan\n",
      "keys: age,values: 32\n",
      "keys: job,values: datascientist\n"
     ]
    }
   ],
   "source": [
    "for i, j in dict_1.items():\n",
    "    print(f\"keys: {i},values: {j}\")"
   ]
  },
  {
   "cell_type": "code",
   "execution_count": 15,
   "id": "e9ea92d2",
   "metadata": {},
   "outputs": [
    {
     "name": "stdout",
     "output_type": "stream",
     "text": [
      "keys: name,values: Hakan\n",
      "keys: age ,values: 32\n",
      "keys: job ,values: datascientist\n"
     ]
    }
   ],
   "source": [
    "for i, j in dict_1.items():\n",
    "    print(f\"keys: {i:<4},values: {j}\")"
   ]
  },
  {
   "cell_type": "code",
   "execution_count": 16,
   "id": "93362a53",
   "metadata": {},
   "outputs": [
    {
     "name": "stdout",
     "output_type": "stream",
     "text": [
      "keys:     name,values: Hakan\n",
      "keys:      age,values: 32\n",
      "keys:      job,values: datascientist\n"
     ]
    }
   ],
   "source": [
    "for i, j in dict_1.items():\n",
    "    print(f\"keys: {i:>8},values: {j}\")"
   ]
  },
  {
   "cell_type": "code",
   "execution_count": 17,
   "id": "e042c825",
   "metadata": {},
   "outputs": [
    {
     "name": "stdout",
     "output_type": "stream",
     "text": [
      "keys:     name,values: Hakan\n",
      "keys:      age,values: 32\n",
      "keys:      job,values: datascientist\n"
     ]
    }
   ],
   "source": [
    "for i, j in dict_1.items():\n",
    "    print(f\"keys: {i:>8},values: {j:}\")"
   ]
  },
  {
   "cell_type": "code",
   "execution_count": 18,
   "id": "12fbd284",
   "metadata": {},
   "outputs": [
    {
     "data": {
      "text/plain": [
       "'      techpro       '"
      ]
     },
     "execution_count": 18,
     "metadata": {},
     "output_type": "execute_result"
    }
   ],
   "source": [
    "\"techpro\".center(20)"
   ]
  },
  {
   "cell_type": "code",
   "execution_count": 19,
   "id": "18646fb9",
   "metadata": {},
   "outputs": [
    {
     "data": {
      "text/plain": [
       "'techpro             '"
      ]
     },
     "execution_count": 19,
     "metadata": {},
     "output_type": "execute_result"
    }
   ],
   "source": [
    "\"techpro\".ljust(20)"
   ]
  },
  {
   "cell_type": "code",
   "execution_count": 20,
   "id": "5da759b2",
   "metadata": {},
   "outputs": [
    {
     "data": {
      "text/plain": [
       "'             techpro'"
      ]
     },
     "execution_count": 20,
     "metadata": {},
     "output_type": "execute_result"
    }
   ],
   "source": [
    "\"techpro\".rjust(20)"
   ]
  },
  {
   "cell_type": "code",
   "execution_count": null,
   "id": "51b955d5",
   "metadata": {},
   "outputs": [],
   "source": []
  },
  {
   "cell_type": "code",
   "execution_count": null,
   "id": "bff33caf",
   "metadata": {},
   "outputs": [
    {
     "name": "stdout",
     "output_type": "stream",
     "text": [
      "sonsua gidermi deneyelim\n"
     ]
    }
   ],
   "source": [
    "liste_2 = [\"sonsua gidermi deneyelim\"]\n",
    "for i in liste_2:\n",
    "    print(i)\n",
    "    liste_2.append(\"sonsua gidermi deneyelim\")\n"
   ]
  },
  {
   "cell_type": "code",
   "execution_count": 44,
   "id": "edfc888f",
   "metadata": {},
   "outputs": [
    {
     "name": "stdout",
     "output_type": "stream",
     "text": [
      "[1, 2, 3, 4, 5, 6, 7, 8, 9, 10, 11, 12, 13, 14, 15, 16, 17, 18, 19, 20, 21, 22, 23, 24, 25, 26, 27, 28, 29, 30, 31, 32, 33, 34, 35, 36, 37, 38, 39, 40, 41, 42, 43, 44, 45, 46, 47, 48, 49, 50]\n"
     ]
    }
   ],
   "source": [
    "print(list(range(1,51)))"
   ]
  },
  {
   "cell_type": "code",
   "execution_count": 26,
   "id": "2bdd59e7",
   "metadata": {},
   "outputs": [
    {
     "name": "stdout",
     "output_type": "stream",
     "text": [
      "Help on class range in module builtins:\n",
      "\n",
      "class range(object)\n",
      " |  range(stop) -> range object\n",
      " |  range(start, stop[, step]) -> range object\n",
      " |\n",
      " |  Return an object that produces a sequence of integers from start (inclusive)\n",
      " |  to stop (exclusive) by step.  range(i, j) produces i, i+1, i+2, ..., j-1.\n",
      " |  start defaults to 0, and stop is omitted!  range(4) produces 0, 1, 2, 3.\n",
      " |  These are exactly the valid indices for a list of 4 elements.\n",
      " |  When step is given, it specifies the increment (or decrement).\n",
      " |\n",
      " |  Methods defined here:\n",
      " |\n",
      " |  __bool__(self, /)\n",
      " |      True if self else False\n",
      " |\n",
      " |  __contains__(self, key, /)\n",
      " |      Return bool(key in self).\n",
      " |\n",
      " |  __eq__(self, value, /)\n",
      " |      Return self==value.\n",
      " |\n",
      " |  __ge__(self, value, /)\n",
      " |      Return self>=value.\n",
      " |\n",
      " |  __getattribute__(self, name, /)\n",
      " |      Return getattr(self, name).\n",
      " |\n",
      " |  __getitem__(self, key, /)\n",
      " |      Return self[key].\n",
      " |\n",
      " |  __gt__(self, value, /)\n",
      " |      Return self>value.\n",
      " |\n",
      " |  __hash__(self, /)\n",
      " |      Return hash(self).\n",
      " |\n",
      " |  __iter__(self, /)\n",
      " |      Implement iter(self).\n",
      " |\n",
      " |  __le__(self, value, /)\n",
      " |      Return self<=value.\n",
      " |\n",
      " |  __len__(self, /)\n",
      " |      Return len(self).\n",
      " |\n",
      " |  __lt__(self, value, /)\n",
      " |      Return self<value.\n",
      " |\n",
      " |  __ne__(self, value, /)\n",
      " |      Return self!=value.\n",
      " |\n",
      " |  __reduce__(...)\n",
      " |      Helper for pickle.\n",
      " |\n",
      " |  __repr__(self, /)\n",
      " |      Return repr(self).\n",
      " |\n",
      " |  __reversed__(...)\n",
      " |      Return a reverse iterator.\n",
      " |\n",
      " |  count(...)\n",
      " |      rangeobject.count(value) -> integer -- return number of occurrences of value\n",
      " |\n",
      " |  index(...)\n",
      " |      rangeobject.index(value) -> integer -- return index of value.\n",
      " |      Raise ValueError if the value is not present.\n",
      " |\n",
      " |  ----------------------------------------------------------------------\n",
      " |  Static methods defined here:\n",
      " |\n",
      " |  __new__(*args, **kwargs)\n",
      " |      Create and return a new object.  See help(type) for accurate signature.\n",
      " |\n",
      " |  ----------------------------------------------------------------------\n",
      " |  Data descriptors defined here:\n",
      " |\n",
      " |  start\n",
      " |\n",
      " |  step\n",
      " |\n",
      " |  stop\n",
      "\n"
     ]
    }
   ],
   "source": [
    "help(range)"
   ]
  },
  {
   "cell_type": "code",
   "execution_count": 42,
   "id": "c686ac16",
   "metadata": {},
   "outputs": [
    {
     "name": "stdout",
     "output_type": "stream",
     "text": [
      "1275\n"
     ]
    }
   ],
   "source": [
    "toplam = 0\n",
    "\n",
    "x = 1\n",
    "\n",
    "while x <= 50:\n",
    "\n",
    "    toplam += x\n",
    "    x += 1\n",
    "\n",
    "print(toplam)    \n",
    "\n"
   ]
  },
  {
   "cell_type": "code",
   "execution_count": 45,
   "id": "5e811559",
   "metadata": {},
   "outputs": [
    {
     "name": "stdout",
     "output_type": "stream",
     "text": [
      "1275\n"
     ]
    }
   ],
   "source": [
    "toplam = 0\n",
    "\n",
    "for i in range(1,51):\n",
    "    toplam += i\n",
    "\n",
    "print(toplam)    \n",
    "\n"
   ]
  },
  {
   "cell_type": "code",
   "execution_count": 46,
   "id": "fce6a1e4",
   "metadata": {},
   "outputs": [
    {
     "data": {
      "text/plain": [
       "15"
      ]
     },
     "execution_count": 46,
     "metadata": {},
     "output_type": "execute_result"
    }
   ],
   "source": [
    "sum([1,2,3,4,5])"
   ]
  },
  {
   "cell_type": "code",
   "execution_count": 47,
   "id": "17be6077",
   "metadata": {},
   "outputs": [
    {
     "data": {
      "text/plain": [
       "1275"
      ]
     },
     "execution_count": 47,
     "metadata": {},
     "output_type": "execute_result"
    }
   ],
   "source": [
    "sum(range(1,51))"
   ]
  },
  {
   "cell_type": "code",
   "execution_count": 48,
   "id": "733d3a96",
   "metadata": {},
   "outputs": [
    {
     "ename": "TypeError",
     "evalue": "sum() can't sum strings [use ''.join(seq) instead]",
     "output_type": "error",
     "traceback": [
      "\u001b[1;31m---------------------------------------------------------------------------\u001b[0m",
      "\u001b[1;31mTypeError\u001b[0m                                 Traceback (most recent call last)",
      "Cell \u001b[1;32mIn[48], line 1\u001b[0m\n\u001b[1;32m----> 1\u001b[0m \u001b[38;5;28;43msum\u001b[39;49m\u001b[43m(\u001b[49m\u001b[38;5;124;43m\"\u001b[39;49m\u001b[38;5;124;43ms\u001b[39;49m\u001b[38;5;124;43m\"\u001b[39;49m\u001b[43m,\u001b[49m\u001b[38;5;124;43m\"\u001b[39;49m\u001b[38;5;124;43mb\u001b[39;49m\u001b[38;5;124;43m\"\u001b[39;49m\u001b[43m)\u001b[49m\n",
      "\u001b[1;31mTypeError\u001b[0m: sum() can't sum strings [use ''.join(seq) instead]"
     ]
    }
   ],
   "source": [
    "sum(\"s\",\"b\")"
   ]
  },
  {
   "cell_type": "code",
   "execution_count": 49,
   "id": "af3c4c4c",
   "metadata": {},
   "outputs": [
    {
     "name": "stdout",
     "output_type": "stream",
     "text": [
      "Help on built-in function sum in module builtins:\n",
      "\n",
      "sum(iterable, /, start=0)\n",
      "    Return the sum of a 'start' value (default: 0) plus an iterable of numbers\n",
      "\n",
      "    When the iterable is empty, return the start value.\n",
      "    This function is intended specifically for use with numeric values and may\n",
      "    reject non-numeric types.\n",
      "\n"
     ]
    }
   ],
   "source": [
    "help(sum)"
   ]
  },
  {
   "cell_type": "code",
   "execution_count": 50,
   "id": "3c239ec1",
   "metadata": {},
   "outputs": [
    {
     "data": {
      "text/plain": [
       "1"
      ]
     },
     "execution_count": 50,
     "metadata": {},
     "output_type": "execute_result"
    }
   ],
   "source": [
    "sum([True,False])"
   ]
  },
  {
   "cell_type": "code",
   "execution_count": 51,
   "id": "80830b7d",
   "metadata": {},
   "outputs": [
    {
     "data": {
      "text/plain": [
       "115"
      ]
     },
     "execution_count": 51,
     "metadata": {},
     "output_type": "execute_result"
    }
   ],
   "source": [
    "sum([1,2,3,4,5],100)"
   ]
  },
  {
   "cell_type": "code",
   "execution_count": 52,
   "id": "8c719c64",
   "metadata": {},
   "outputs": [
    {
     "name": "stdout",
     "output_type": "stream",
     "text": [
      "650\n"
     ]
    }
   ],
   "source": [
    "cift_sayilar = 0\n",
    "\n",
    "for i in range(1,51):\n",
    "    if i % 2 == 0:\n",
    "        cift_sayilar +=i\n",
    "print(cift_sayilar)        \n"
   ]
  },
  {
   "cell_type": "code",
   "execution_count": 53,
   "id": "4b504359",
   "metadata": {},
   "outputs": [
    {
     "data": {
      "text/plain": [
       "650"
      ]
     },
     "execution_count": 53,
     "metadata": {},
     "output_type": "execute_result"
    }
   ],
   "source": [
    "sum(range(0,51,2))"
   ]
  },
  {
   "cell_type": "markdown",
   "id": "d8d32fc6",
   "metadata": {},
   "source": [
    "## break, continue"
   ]
  },
  {
   "cell_type": "code",
   "execution_count": 54,
   "id": "185cbd55",
   "metadata": {},
   "outputs": [
    {
     "data": {
      "text/plain": [
       "[1, 2, 3, 4, 5]"
      ]
     },
     "execution_count": 54,
     "metadata": {},
     "output_type": "execute_result"
    }
   ],
   "source": [
    "liste_3 = [1,2,3,4,5]\n",
    "liste_3"
   ]
  },
  {
   "cell_type": "code",
   "execution_count": null,
   "id": "8371b5d3",
   "metadata": {},
   "outputs": [
    {
     "name": "stdout",
     "output_type": "stream",
     "text": [
      "1\n",
      "4\n"
     ]
    }
   ],
   "source": [
    "for i in liste_3:\n",
    "\n",
    "    if i % 3 == 0:\n",
    "        break\n",
    "\n",
    "    print(i ** 2)"
   ]
  },
  {
   "cell_type": "code",
   "execution_count": 59,
   "id": "961dcfa0",
   "metadata": {},
   "outputs": [
    {
     "name": "stdout",
     "output_type": "stream",
     "text": [
      "1\n",
      "4\n",
      "16\n",
      "25\n"
     ]
    }
   ],
   "source": [
    "for i in liste_3:\n",
    "\n",
    "    if i % 3 == 0:\n",
    "        continue\n",
    "\n",
    "    print(i ** 2)"
   ]
  },
  {
   "cell_type": "code",
   "execution_count": 61,
   "id": "e0c2b5fc",
   "metadata": {},
   "outputs": [
    {
     "name": "stdout",
     "output_type": "stream",
     "text": [
      "650\n"
     ]
    }
   ],
   "source": [
    "toplam = 0\n",
    "\n",
    "for i in range(1,51):\n",
    "    if i % 2 == 1:\n",
    "        continue\n",
    "        \n",
    "    toplam += i\n",
    "\n",
    "print(toplam)  "
   ]
  },
  {
   "cell_type": "markdown",
   "id": "68f90f85",
   "metadata": {},
   "source": [
    "## zip()"
   ]
  },
  {
   "cell_type": "code",
   "execution_count": 62,
   "id": "abeaca21",
   "metadata": {},
   "outputs": [],
   "source": [
    "a = [\"apple\",\"orange\",\"lemon\"]\n",
    "b = [1,2,3]"
   ]
  },
  {
   "cell_type": "code",
   "execution_count": 63,
   "id": "02e14f08",
   "metadata": {},
   "outputs": [
    {
     "data": {
      "text/plain": [
       "<zip at 0x2207ba99bc0>"
      ]
     },
     "execution_count": 63,
     "metadata": {},
     "output_type": "execute_result"
    }
   ],
   "source": [
    "zip(a,b)"
   ]
  },
  {
   "cell_type": "code",
   "execution_count": 64,
   "id": "f3fd6a52",
   "metadata": {},
   "outputs": [
    {
     "data": {
      "text/plain": [
       "[('apple', 1), ('orange', 2), ('lemon', 3)]"
      ]
     },
     "execution_count": 64,
     "metadata": {},
     "output_type": "execute_result"
    }
   ],
   "source": [
    "list(zip(a,b))"
   ]
  },
  {
   "cell_type": "code",
   "execution_count": 65,
   "id": "cc308a0c",
   "metadata": {},
   "outputs": [
    {
     "data": {
      "text/plain": [
       "(('apple', 1), ('orange', 2), ('lemon', 3))"
      ]
     },
     "execution_count": 65,
     "metadata": {},
     "output_type": "execute_result"
    }
   ],
   "source": [
    "tuple(zip(a,b))"
   ]
  },
  {
   "cell_type": "code",
   "execution_count": 66,
   "id": "cf05b51f",
   "metadata": {},
   "outputs": [
    {
     "data": {
      "text/plain": [
       "((1, 'apple'), (2, 'orange'), (3, 'lemon'))"
      ]
     },
     "execution_count": 66,
     "metadata": {},
     "output_type": "execute_result"
    }
   ],
   "source": [
    "tuple(zip(b,a))"
   ]
  },
  {
   "cell_type": "code",
   "execution_count": 68,
   "id": "6d21385c",
   "metadata": {},
   "outputs": [
    {
     "data": {
      "text/plain": [
       "{'apple': 1, 'orange': 2, 'lemon': 3}"
      ]
     },
     "execution_count": 68,
     "metadata": {},
     "output_type": "execute_result"
    }
   ],
   "source": [
    "dict(zip(a,b))"
   ]
  },
  {
   "cell_type": "code",
   "execution_count": 69,
   "id": "ccc50b4b",
   "metadata": {},
   "outputs": [
    {
     "data": {
      "text/plain": [
       "{('apple', 1), ('lemon', 3), ('orange', 2)}"
      ]
     },
     "execution_count": 69,
     "metadata": {},
     "output_type": "execute_result"
    }
   ],
   "source": [
    "set(zip(a,b))"
   ]
  },
  {
   "cell_type": "code",
   "execution_count": 73,
   "id": "99b9a316",
   "metadata": {},
   "outputs": [],
   "source": [
    "x = \"techpro\"\n",
    "y = \"Yasin\"\n",
    "z = \"Arzu\""
   ]
  },
  {
   "cell_type": "code",
   "execution_count": 74,
   "id": "9f76cc3d",
   "metadata": {},
   "outputs": [
    {
     "data": {
      "text/plain": [
       "[('t', 'Y', 'A'), ('e', 'a', 'r'), ('c', 's', 'z'), ('h', 'i', 'u')]"
      ]
     },
     "execution_count": 74,
     "metadata": {},
     "output_type": "execute_result"
    }
   ],
   "source": [
    "list(zip(x,y,z))"
   ]
  },
  {
   "cell_type": "code",
   "execution_count": 75,
   "id": "da217a62",
   "metadata": {},
   "outputs": [],
   "source": [
    "name = [\"Ferdi\",\"Ali\",\"Dilay\"]\n",
    "age = [35,25,26]\n",
    "job = (\"datascientist\",\"dataanalist\",\"pythondevelopment\")"
   ]
  },
  {
   "cell_type": "code",
   "execution_count": 76,
   "id": "c3e9ab3b",
   "metadata": {},
   "outputs": [
    {
     "data": {
      "text/plain": [
       "[('Ferdi', 35, 'datascientist'),\n",
       " ('Ali', 25, 'dataanalist'),\n",
       " ('Dilay', 26, 'pythondevelopment')]"
      ]
     },
     "execution_count": 76,
     "metadata": {},
     "output_type": "execute_result"
    }
   ],
   "source": [
    "list(zip(name,age,job))"
   ]
  },
  {
   "cell_type": "code",
   "execution_count": 77,
   "id": "918ca33d",
   "metadata": {},
   "outputs": [],
   "source": [
    "meyveler = [\"apple\",\"orange\",\"apple\"]\n",
    "adet = [1,2,3]"
   ]
  },
  {
   "cell_type": "code",
   "execution_count": 78,
   "id": "fbdc182e",
   "metadata": {},
   "outputs": [
    {
     "data": {
      "text/plain": [
       "{'apple': 3, 'orange': 2}"
      ]
     },
     "execution_count": 78,
     "metadata": {},
     "output_type": "execute_result"
    }
   ],
   "source": [
    "dict(zip(meyveler,adet))"
   ]
  },
  {
   "cell_type": "code",
   "execution_count": 79,
   "id": "1b5a57ef",
   "metadata": {},
   "outputs": [
    {
     "data": {
      "text/plain": [
       "[('apple', 1), ('orange', 2), ('apple', 3)]"
      ]
     },
     "execution_count": 79,
     "metadata": {},
     "output_type": "execute_result"
    }
   ],
   "source": [
    "list(zip(meyveler,adet))"
   ]
  },
  {
   "cell_type": "code",
   "execution_count": 82,
   "id": "643c52f1",
   "metadata": {},
   "outputs": [
    {
     "name": "stdout",
     "output_type": "stream",
     "text": [
      "name : Ferdi, age: 35, job: datascientist\n",
      "name : Ali, age: 25, job: dataanalist\n",
      "name : Dilay, age: 26, job: pythondevelopment\n"
     ]
    }
   ],
   "source": [
    "for i, j, k in zip(name,age,job):\n",
    "    print(f\"name : {i}, age: {j}, job: {k}\")"
   ]
  },
  {
   "cell_type": "code",
   "execution_count": null,
   "id": "4769f632",
   "metadata": {},
   "outputs": [],
   "source": []
  }
 ],
 "metadata": {
  "kernelspec": {
   "display_name": "Python 3",
   "language": "python",
   "name": "python3"
  },
  "language_info": {
   "codemirror_mode": {
    "name": "ipython",
    "version": 3
   },
   "file_extension": ".py",
   "mimetype": "text/x-python",
   "name": "python",
   "nbconvert_exporter": "python",
   "pygments_lexer": "ipython3",
   "version": "3.12.4"
  }
 },
 "nbformat": 4,
 "nbformat_minor": 5
}
