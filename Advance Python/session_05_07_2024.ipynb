{
 "cells": [
  {
   "cell_type": "markdown",
   "id": "9c9c67fd",
   "metadata": {},
   "source": [
    "# FUNCTIONS"
   ]
  },
  {
   "cell_type": "markdown",
   "id": "11aae908",
   "metadata": {},
   "source": []
  },
  {
   "cell_type": "code",
   "execution_count": null,
   "id": "1554325a",
   "metadata": {},
   "outputs": [],
   "source": [
    "def fonl_ismi(parametre/parametreler):\n",
    "    islem satiri"
   ]
  },
  {
   "cell_type": "code",
   "execution_count": 1,
   "id": "37ae6d7b",
   "metadata": {},
   "outputs": [],
   "source": [
    "def  kareler_toplami(x,y):\n",
    "    print(x ** 2 + y ** 2)"
   ]
  },
  {
   "cell_type": "code",
   "execution_count": 5,
   "id": "57a7c763",
   "metadata": {},
   "outputs": [
    {
     "ename": "TypeError",
     "evalue": "kareler_toplami() missing 2 required positional arguments: 'x' and 'y'",
     "output_type": "error",
     "traceback": [
      "\u001b[1;31m---------------------------------------------------------------------------\u001b[0m",
      "\u001b[1;31mTypeError\u001b[0m                                 Traceback (most recent call last)",
      "Cell \u001b[1;32mIn[5], line 1\u001b[0m\n\u001b[1;32m----> 1\u001b[0m \u001b[43mkareler_toplami\u001b[49m\u001b[43m(\u001b[49m\u001b[43m)\u001b[49m\n",
      "\u001b[1;31mTypeError\u001b[0m: kareler_toplami() missing 2 required positional arguments: 'x' and 'y'"
     ]
    }
   ],
   "source": [
    "kareler_toplami()"
   ]
  },
  {
   "cell_type": "code",
   "execution_count": 6,
   "id": "c2c087e1",
   "metadata": {},
   "outputs": [
    {
     "ename": "TypeError",
     "evalue": "len() takes exactly one argument (0 given)",
     "output_type": "error",
     "traceback": [
      "\u001b[1;31m---------------------------------------------------------------------------\u001b[0m",
      "\u001b[1;31mTypeError\u001b[0m                                 Traceback (most recent call last)",
      "Cell \u001b[1;32mIn[6], line 1\u001b[0m\n\u001b[1;32m----> 1\u001b[0m \u001b[38;5;28;43mlen\u001b[39;49m\u001b[43m(\u001b[49m\u001b[43m)\u001b[49m\n",
      "\u001b[1;31mTypeError\u001b[0m: len() takes exactly one argument (0 given)"
     ]
    }
   ],
   "source": [
    "len()"
   ]
  },
  {
   "cell_type": "code",
   "execution_count": 7,
   "id": "873cb198",
   "metadata": {},
   "outputs": [
    {
     "data": {
      "text/plain": [
       "<function __main__.kareler_toplami(x, y)>"
      ]
     },
     "execution_count": 7,
     "metadata": {},
     "output_type": "execute_result"
    }
   ],
   "source": [
    "kareler_toplami"
   ]
  },
  {
   "cell_type": "code",
   "execution_count": 8,
   "id": "910702bd",
   "metadata": {},
   "outputs": [
    {
     "name": "stdout",
     "output_type": "stream",
     "text": [
      "25\n"
     ]
    }
   ],
   "source": [
    "kareler_toplami(4,3)"
   ]
  },
  {
   "cell_type": "code",
   "execution_count": null,
   "id": "0667f894",
   "metadata": {},
   "outputs": [],
   "source": [
    "def kareler_toplami(x,y):\n",
    "\n",
    "    \"\"\" Bu fonksiyon iki tane tam sayinin karesinin toplamini verir.\"\"\"\n",
    "\n",
    "\n",
    "\n",
    "    print(x**2 + y ** 2)"
   ]
  },
  {
   "cell_type": "code",
   "execution_count": 16,
   "id": "782a0a8e",
   "metadata": {},
   "outputs": [
    {
     "ename": "TypeError",
     "evalue": "kareler_toplami2() missing 1 required positional argument: 'y'",
     "output_type": "error",
     "traceback": [
      "\u001b[1;31m---------------------------------------------------------------------------\u001b[0m",
      "\u001b[1;31mTypeError\u001b[0m                                 Traceback (most recent call last)",
      "Cell \u001b[1;32mIn[16], line 1\u001b[0m\n\u001b[1;32m----> 1\u001b[0m \u001b[43mkareler_toplami2\u001b[49m\u001b[43m(\u001b[49m\u001b[38;5;241;43m5\u001b[39;49m\u001b[43m)\u001b[49m\n",
      "\u001b[1;31mTypeError\u001b[0m: kareler_toplami2() missing 1 required positional argument: 'y'"
     ]
    }
   ],
   "source": [
    "kareler_toplami2(5)"
   ]
  },
  {
   "cell_type": "code",
   "execution_count": 17,
   "id": "9cae2914",
   "metadata": {},
   "outputs": [
    {
     "name": "stdout",
     "output_type": "stream",
     "text": [
      "13\n"
     ]
    }
   ],
   "source": [
    "kareler_toplami2(2,3)"
   ]
  },
  {
   "cell_type": "code",
   "execution_count": 18,
   "id": "05ce0d7f",
   "metadata": {},
   "outputs": [
    {
     "ename": "TypeError",
     "evalue": "unsupported operand type(s) for ** or pow(): 'str' and 'int'",
     "output_type": "error",
     "traceback": [
      "\u001b[1;31m---------------------------------------------------------------------------\u001b[0m",
      "\u001b[1;31mTypeError\u001b[0m                                 Traceback (most recent call last)",
      "Cell \u001b[1;32mIn[18], line 1\u001b[0m\n\u001b[1;32m----> 1\u001b[0m \u001b[43mkareler_toplami2\u001b[49m\u001b[43m(\u001b[49m\u001b[38;5;241;43m5\u001b[39;49m\u001b[43m,\u001b[49m\u001b[38;5;124;43m\"\u001b[39;49m\u001b[38;5;124;43ma\u001b[39;49m\u001b[38;5;124;43m\"\u001b[39;49m\u001b[43m)\u001b[49m\n",
      "Cell \u001b[1;32mIn[15], line 7\u001b[0m, in \u001b[0;36mkareler_toplami2\u001b[1;34m(x, y)\u001b[0m\n\u001b[0;32m      1\u001b[0m \u001b[38;5;28;01mdef\u001b[39;00m \u001b[38;5;21mkareler_toplami2\u001b[39m(x,y):\n\u001b[0;32m      3\u001b[0m \u001b[38;5;250m    \u001b[39m\u001b[38;5;124;03m\"\"\"Bu fonksiyon iki tane tam sayinin karesinin toplamini verir.\"\"\"\u001b[39;00m\n\u001b[1;32m----> 7\u001b[0m     \u001b[38;5;28mprint\u001b[39m(x\u001b[38;5;241m*\u001b[39m\u001b[38;5;241m*\u001b[39m\u001b[38;5;241m2\u001b[39m \u001b[38;5;241m+\u001b[39m \u001b[43my\u001b[49m\u001b[43m \u001b[49m\u001b[38;5;241;43m*\u001b[39;49m\u001b[38;5;241;43m*\u001b[39;49m\u001b[43m \u001b[49m\u001b[38;5;241;43m2\u001b[39;49m)\n",
      "\u001b[1;31mTypeError\u001b[0m: unsupported operand type(s) for ** or pow(): 'str' and 'int'"
     ]
    }
   ],
   "source": [
    "kareler_toplami2(5,\"a\")"
   ]
  },
  {
   "cell_type": "code",
   "execution_count": 11,
   "id": "f8df3ba3",
   "metadata": {},
   "outputs": [
    {
     "name": "stdout",
     "output_type": "stream",
     "text": [
      "10\n"
     ]
    },
    {
     "ename": "TypeError",
     "evalue": "unsupported operand type(s) for +: 'NoneType' and 'int'",
     "output_type": "error",
     "traceback": [
      "\u001b[1;31m---------------------------------------------------------------------------\u001b[0m",
      "\u001b[1;31mTypeError\u001b[0m                                 Traceback (most recent call last)",
      "Cell \u001b[1;32mIn[11], line 1\u001b[0m\n\u001b[1;32m----> 1\u001b[0m \u001b[38;5;28;43mprint\u001b[39;49m\u001b[43m(\u001b[49m\u001b[38;5;241;43m10\u001b[39;49m\u001b[43m)\u001b[49m\u001b[43m \u001b[49m\u001b[38;5;241;43m+\u001b[39;49m\u001b[38;5;241;43m10\u001b[39;49m\n",
      "\u001b[1;31mTypeError\u001b[0m: unsupported operand type(s) for +: 'NoneType' and 'int'"
     ]
    }
   ],
   "source": [
    "print(10) +10"
   ]
  },
  {
   "cell_type": "code",
   "execution_count": 12,
   "id": "5d1b68ce",
   "metadata": {},
   "outputs": [
    {
     "name": "stdout",
     "output_type": "stream",
     "text": [
      "10\n"
     ]
    }
   ],
   "source": [
    "print(10)"
   ]
  },
  {
   "cell_type": "code",
   "execution_count": 19,
   "id": "b117d557",
   "metadata": {},
   "outputs": [],
   "source": [
    "def kareler_toplami3(x,y):\n",
    "\n",
    "    \"\"\" Bu fonksiyon iki tane tam sayinin karesinin toplamini verir.\"\"\"\n",
    "\n",
    "\n",
    "\n",
    "    print(x**2 + y ** 2)"
   ]
  },
  {
   "cell_type": "code",
   "execution_count": 20,
   "id": "d61ede4e",
   "metadata": {},
   "outputs": [
    {
     "data": {
      "text/plain": [
       "'Bu fonksiyon iki tane tam sayinin karesinin toplamini verir.'"
      ]
     },
     "execution_count": 20,
     "metadata": {},
     "output_type": "execute_result"
    }
   ],
   "source": [
    "kareler_toplami2.__doc__"
   ]
  },
  {
   "cell_type": "code",
   "execution_count": 21,
   "id": "f785bd4d",
   "metadata": {},
   "outputs": [
    {
     "data": {
      "text/plain": [
       "'Return the number of items in a container.'"
      ]
     },
     "execution_count": 21,
     "metadata": {},
     "output_type": "execute_result"
    }
   ],
   "source": [
    "len.__doc__"
   ]
  },
  {
   "cell_type": "code",
   "execution_count": 22,
   "id": "59e32129",
   "metadata": {},
   "outputs": [],
   "source": [
    "def neset_baba():\n",
    "    print(\"Kadinlar insandir biz insanoglu\")"
   ]
  },
  {
   "cell_type": "code",
   "execution_count": 23,
   "id": "1247039c",
   "metadata": {},
   "outputs": [
    {
     "data": {
      "text/plain": [
       "<function __main__.neset_baba()>"
      ]
     },
     "execution_count": 23,
     "metadata": {},
     "output_type": "execute_result"
    }
   ],
   "source": [
    "neset_baba"
   ]
  },
  {
   "cell_type": "code",
   "execution_count": 24,
   "id": "d8b4eedc",
   "metadata": {},
   "outputs": [
    {
     "name": "stdout",
     "output_type": "stream",
     "text": [
      "Kadinlar insandir biz insanoglu\n"
     ]
    }
   ],
   "source": [
    "neset_baba()"
   ]
  },
  {
   "cell_type": "code",
   "execution_count": 25,
   "id": "6fc405af",
   "metadata": {},
   "outputs": [
    {
     "ename": "TypeError",
     "evalue": "neset_baba() takes 0 positional arguments but 1 was given",
     "output_type": "error",
     "traceback": [
      "\u001b[1;31m---------------------------------------------------------------------------\u001b[0m",
      "\u001b[1;31mTypeError\u001b[0m                                 Traceback (most recent call last)",
      "Cell \u001b[1;32mIn[25], line 1\u001b[0m\n\u001b[1;32m----> 1\u001b[0m \u001b[43mneset_baba\u001b[49m\u001b[43m(\u001b[49m\u001b[38;5;241;43m6\u001b[39;49m\u001b[43m)\u001b[49m\n",
      "\u001b[1;31mTypeError\u001b[0m: neset_baba() takes 0 positional arguments but 1 was given"
     ]
    }
   ],
   "source": [
    "neset_baba(6)"
   ]
  },
  {
   "cell_type": "code",
   "execution_count": 26,
   "id": "c1854313",
   "metadata": {},
   "outputs": [],
   "source": [
    "def mevlana():\n",
    "    print(\"Ne olursan ol, yine gel !\")"
   ]
  },
  {
   "cell_type": "code",
   "execution_count": 27,
   "id": "07c33b02",
   "metadata": {},
   "outputs": [
    {
     "name": "stdout",
     "output_type": "stream",
     "text": [
      "Ne olursan ol, yine gel !\n"
     ]
    }
   ],
   "source": [
    "mevlana()"
   ]
  },
  {
   "cell_type": "code",
   "execution_count": 28,
   "id": "3f8c74ac",
   "metadata": {},
   "outputs": [],
   "source": [
    "def calculator(num1, opr, num2):\n",
    "\n",
    "    if opr == \"+\":\n",
    "        print(num1 + num2)\n",
    "\n",
    "    elif opr == \"-\":\n",
    "        print(num1-num2)\n",
    "\n",
    "    elif opr   == \"/\":\n",
    "        print(num1 / num2)\n",
    "\n",
    "    elif opr == \"x\":\n",
    "        print(num1 * num2)\n",
    "\n",
    "    else:\n",
    "        print(\"opr hatali girildi\")              "
   ]
  },
  {
   "cell_type": "code",
   "execution_count": 29,
   "id": "61de56ca",
   "metadata": {},
   "outputs": [
    {
     "name": "stdout",
     "output_type": "stream",
     "text": [
      "20\n"
     ]
    }
   ],
   "source": [
    "calculator(5,  \"x\",  4)"
   ]
  },
  {
   "cell_type": "code",
   "execution_count": 30,
   "id": "f9c4ff15",
   "metadata": {},
   "outputs": [
    {
     "name": "stdout",
     "output_type": "stream",
     "text": [
      "opr hatali girildi\n"
     ]
    }
   ],
   "source": [
    "calculator(\"+\", 5, 8)"
   ]
  },
  {
   "cell_type": "code",
   "execution_count": 31,
   "id": "76abf17b",
   "metadata": {},
   "outputs": [
    {
     "name": "stdout",
     "output_type": "stream",
     "text": [
      "58\n"
     ]
    }
   ],
   "source": [
    "calculator(\"5\",\"+\",\"8\")"
   ]
  },
  {
   "cell_type": "code",
   "execution_count": 32,
   "id": "3e0439b9",
   "metadata": {},
   "outputs": [],
   "source": [
    "def my_len(x):\n",
    "    \"\"\"len fonksiyonunu begenmedim. Kendi fonksiyonumu yazicam.\"\"\"\n",
    "\n",
    "    count = 0 \n",
    "\n",
    "    for i in x:\n",
    "        count +=1\n",
    "\n",
    "    print(count)    "
   ]
  },
  {
   "cell_type": "code",
   "execution_count": 33,
   "id": "dfe4655c",
   "metadata": {},
   "outputs": [
    {
     "name": "stdout",
     "output_type": "stream",
     "text": [
      "7\n"
     ]
    }
   ],
   "source": [
    "my_len(\"Techpro\")"
   ]
  },
  {
   "cell_type": "code",
   "execution_count": 34,
   "id": "d57080ea",
   "metadata": {},
   "outputs": [
    {
     "name": "stdout",
     "output_type": "stream",
     "text": [
      "5\n"
     ]
    }
   ],
   "source": [
    "my_len(\"Bahar\")"
   ]
  },
  {
   "cell_type": "code",
   "execution_count": 36,
   "id": "2242829c",
   "metadata": {},
   "outputs": [
    {
     "name": "stdout",
     "output_type": "stream",
     "text": [
      "5\n"
     ]
    }
   ],
   "source": [
    "my_len([1,2,3,4,5])"
   ]
  },
  {
   "cell_type": "code",
   "execution_count": 38,
   "id": "c8ab6d4d",
   "metadata": {},
   "outputs": [],
   "source": [
    "def my_len2(x):\n",
    "    \"\"\"len fonksiyonunu begenmedim. Kendi fonksiyonumu yazicam.\"\"\"\n",
    "\n",
    "    print(sum([ 1 for i in x]))\n"
   ]
  },
  {
   "cell_type": "code",
   "execution_count": 39,
   "id": "53c6c581",
   "metadata": {},
   "outputs": [
    {
     "name": "stdout",
     "output_type": "stream",
     "text": [
      "5\n"
     ]
    }
   ],
   "source": [
    "my_len2(\"Ahmet\")"
   ]
  },
  {
   "cell_type": "code",
   "execution_count": 40,
   "id": "426577d6",
   "metadata": {},
   "outputs": [],
   "source": [
    "def my_len3(x):\n",
    "\n",
    "    count = 0\n",
    "\n",
    "    for i in str(x):\n",
    "        count +=1\n",
    "\n",
    "    print(count)    \n"
   ]
  },
  {
   "cell_type": "code",
   "execution_count": 41,
   "id": "5dd7e358",
   "metadata": {},
   "outputs": [
    {
     "name": "stdout",
     "output_type": "stream",
     "text": [
      "4\n"
     ]
    }
   ],
   "source": [
    "my_len3(1589)"
   ]
  },
  {
   "cell_type": "code",
   "execution_count": 42,
   "id": "5767c635",
   "metadata": {},
   "outputs": [
    {
     "ename": "TypeError",
     "evalue": "object of type 'int' has no len()",
     "output_type": "error",
     "traceback": [
      "\u001b[1;31m---------------------------------------------------------------------------\u001b[0m",
      "\u001b[1;31mTypeError\u001b[0m                                 Traceback (most recent call last)",
      "Cell \u001b[1;32mIn[42], line 1\u001b[0m\n\u001b[1;32m----> 1\u001b[0m \u001b[38;5;28;43mlen\u001b[39;49m\u001b[43m(\u001b[49m\u001b[38;5;241;43m1598\u001b[39;49m\u001b[43m)\u001b[49m\n",
      "\u001b[1;31mTypeError\u001b[0m: object of type 'int' has no len()"
     ]
    }
   ],
   "source": [
    "len(1598)"
   ]
  },
  {
   "cell_type": "code",
   "execution_count": null,
   "id": "3c13ebc2",
   "metadata": {},
   "outputs": [],
   "source": [
    "def hypo(x,y):\n",
    "    \n",
    "    print((x**2 + y **2) ** 0.5)"
   ]
  },
  {
   "cell_type": "code",
   "execution_count": 54,
   "id": "278ea008",
   "metadata": {},
   "outputs": [
    {
     "name": "stdout",
     "output_type": "stream",
     "text": [
      "5.0\n"
     ]
    }
   ],
   "source": [
    "hypo(3,4)"
   ]
  },
  {
   "cell_type": "code",
   "execution_count": 53,
   "id": "e3db5f4d",
   "metadata": {},
   "outputs": [
    {
     "name": "stdout",
     "output_type": "stream",
     "text": [
      "5.0\n"
     ]
    },
    {
     "ename": "TypeError",
     "evalue": "unsupported operand type(s) for +: 'int' and 'NoneType'",
     "output_type": "error",
     "traceback": [
      "\u001b[1;31m---------------------------------------------------------------------------\u001b[0m",
      "\u001b[1;31mTypeError\u001b[0m                                 Traceback (most recent call last)",
      "Cell \u001b[1;32mIn[53], line 1\u001b[0m\n\u001b[1;32m----> 1\u001b[0m cevre \u001b[38;5;241m=\u001b[39m \u001b[38;5;241;43m3\u001b[39;49m\u001b[43m \u001b[49m\u001b[38;5;241;43m+\u001b[39;49m\u001b[43m \u001b[49m\u001b[38;5;241;43m4\u001b[39;49m\u001b[43m \u001b[49m\u001b[38;5;241;43m+\u001b[39;49m\u001b[43m \u001b[49m\u001b[43mhypo\u001b[49m\u001b[43m(\u001b[49m\u001b[38;5;241;43m3\u001b[39;49m\u001b[43m,\u001b[49m\u001b[38;5;241;43m4\u001b[39;49m\u001b[43m)\u001b[49m\n",
      "\u001b[1;31mTypeError\u001b[0m: unsupported operand type(s) for +: 'int' and 'NoneType'"
     ]
    }
   ],
   "source": [
    "cevre = 3 + 4 + hypo(3,4)"
   ]
  },
  {
   "cell_type": "code",
   "execution_count": 57,
   "id": "7901735e",
   "metadata": {},
   "outputs": [],
   "source": [
    "def hypo2(x,y):\n",
    "    \n",
    "    return((x**2 + y **2) ** 0.5)"
   ]
  },
  {
   "cell_type": "code",
   "execution_count": 59,
   "id": "c5b5f993",
   "metadata": {},
   "outputs": [
    {
     "data": {
      "text/plain": [
       "12.0"
      ]
     },
     "execution_count": 59,
     "metadata": {},
     "output_type": "execute_result"
    }
   ],
   "source": [
    "cevre = 3 + 4 + hypo2(3,4)\n",
    "cevre"
   ]
  },
  {
   "cell_type": "code",
   "execution_count": 60,
   "id": "99b4cfb4",
   "metadata": {},
   "outputs": [
    {
     "data": {
      "text/plain": [
       "5.0"
      ]
     },
     "execution_count": 60,
     "metadata": {},
     "output_type": "execute_result"
    }
   ],
   "source": [
    "hypo2(3,4)"
   ]
  },
  {
   "cell_type": "code",
   "execution_count": 61,
   "id": "66d10c51",
   "metadata": {},
   "outputs": [
    {
     "data": {
      "text/plain": [
       "[0, 1, 2, 3, 4]"
      ]
     },
     "execution_count": 61,
     "metadata": {},
     "output_type": "execute_result"
    }
   ],
   "source": [
    "list(range(0,len(\"sedat\")))"
   ]
  },
  {
   "cell_type": "code",
   "execution_count": 62,
   "id": "bfe46411",
   "metadata": {},
   "outputs": [
    {
     "name": "stdout",
     "output_type": "stream",
     "text": [
      "5\n"
     ]
    },
    {
     "ename": "TypeError",
     "evalue": "'NoneType' object cannot be interpreted as an integer",
     "output_type": "error",
     "traceback": [
      "\u001b[1;31m---------------------------------------------------------------------------\u001b[0m",
      "\u001b[1;31mTypeError\u001b[0m                                 Traceback (most recent call last)",
      "Cell \u001b[1;32mIn[62], line 1\u001b[0m\n\u001b[1;32m----> 1\u001b[0m \u001b[38;5;28mlist\u001b[39m(\u001b[38;5;28;43mrange\u001b[39;49m\u001b[43m(\u001b[49m\u001b[38;5;241;43m0\u001b[39;49m\u001b[43m,\u001b[49m\u001b[43mmy_len\u001b[49m\u001b[43m(\u001b[49m\u001b[38;5;124;43m\"\u001b[39;49m\u001b[38;5;124;43msedat\u001b[39;49m\u001b[38;5;124;43m\"\u001b[39;49m\u001b[43m)\u001b[49m\u001b[43m)\u001b[49m)\n",
      "\u001b[1;31mTypeError\u001b[0m: 'NoneType' object cannot be interpreted as an integer"
     ]
    }
   ],
   "source": [
    "list(range(0,my_len(\"sedat\")))"
   ]
  },
  {
   "cell_type": "code",
   "execution_count": 63,
   "id": "414998ac",
   "metadata": {},
   "outputs": [],
   "source": [
    "def my_len4(x):\n",
    "    \"\"\"len fonksiyonunu begenmedim. Kendi fonksiyonumu yazicam.\"\"\"\n",
    "\n",
    "    count = 0 \n",
    "\n",
    "    for i in x:\n",
    "        count +=1\n",
    "\n",
    "    return count"
   ]
  },
  {
   "cell_type": "code",
   "execution_count": 64,
   "id": "d84e5a94",
   "metadata": {},
   "outputs": [
    {
     "data": {
      "text/plain": [
       "[0, 1, 2, 3, 4]"
      ]
     },
     "execution_count": 64,
     "metadata": {},
     "output_type": "execute_result"
    }
   ],
   "source": [
    "list(range(0,my_len4(\"sedat\")))"
   ]
  },
  {
   "cell_type": "code",
   "execution_count": 65,
   "id": "2d55932a",
   "metadata": {},
   "outputs": [],
   "source": [
    "def adin_kadar_kazan(name):\n",
    "\n",
    "    \"\"\"Bu fonksiyon ismin icerisinde gecen sesli harf sayisini bulur\"\"\"\n",
    "\n",
    "    counter = 0\n",
    "\n",
    "    for i in name.lower():\n",
    "\n",
    "        if i in \"aeiou\":\n",
    "            counter += 1\n",
    "\n",
    "    print(counter)        "
   ]
  },
  {
   "cell_type": "code",
   "execution_count": 67,
   "id": "ddfb1155",
   "metadata": {},
   "outputs": [
    {
     "name": "stdout",
     "output_type": "stream",
     "text": [
      "2\n"
     ]
    }
   ],
   "source": [
    "adin_kadar_kazan(\"hakan\")"
   ]
  },
  {
   "cell_type": "code",
   "execution_count": 68,
   "id": "08ff23db",
   "metadata": {},
   "outputs": [
    {
     "name": "stdout",
     "output_type": "stream",
     "text": [
      "2\n"
     ]
    },
    {
     "ename": "TypeError",
     "evalue": "unsupported operand type(s) for *: 'NoneType' and 'int'",
     "output_type": "error",
     "traceback": [
      "\u001b[1;31m---------------------------------------------------------------------------\u001b[0m",
      "\u001b[1;31mTypeError\u001b[0m                                 Traceback (most recent call last)",
      "Cell \u001b[1;32mIn[68], line 1\u001b[0m\n\u001b[1;32m----> 1\u001b[0m \u001b[43madin_kadar_kazan\u001b[49m\u001b[43m(\u001b[49m\u001b[38;5;124;43m\"\u001b[39;49m\u001b[38;5;124;43mhakan\u001b[39;49m\u001b[38;5;124;43m\"\u001b[39;49m\u001b[43m)\u001b[49m\u001b[43m \u001b[49m\u001b[38;5;241;43m*\u001b[39;49m\u001b[43m \u001b[49m\u001b[38;5;241;43m1000\u001b[39;49m\n",
      "\u001b[1;31mTypeError\u001b[0m: unsupported operand type(s) for *: 'NoneType' and 'int'"
     ]
    }
   ],
   "source": [
    "adin_kadar_kazan(\"hakan\") * 1000"
   ]
  },
  {
   "cell_type": "code",
   "execution_count": 70,
   "id": "359ee47f",
   "metadata": {},
   "outputs": [],
   "source": [
    "def adin_kadar_kazan2(name):\n",
    "\n",
    "    \"\"\"Bu fonksiyon ismin icerisinde gecen sesli harf sayisini bulur\"\"\"\n",
    "\n",
    "    counter = 0\n",
    "\n",
    "    for i in name.lower():\n",
    "\n",
    "        if i in \"aeiou\":\n",
    "            counter += 1\n",
    "\n",
    "    return counter  "
   ]
  },
  {
   "cell_type": "code",
   "execution_count": 71,
   "id": "64b2dc9d",
   "metadata": {},
   "outputs": [
    {
     "data": {
      "text/plain": [
       "2000"
      ]
     },
     "execution_count": 71,
     "metadata": {},
     "output_type": "execute_result"
    }
   ],
   "source": [
    "adin_kadar_kazan(\"hakan\") * 1000"
   ]
  },
  {
   "cell_type": "code",
   "execution_count": null,
   "id": "75a556d3",
   "metadata": {},
   "outputs": [],
   "source": [
    "sayi = input(\"sayi girin\")\n",
    "\n",
    "uzunluk = len(sayi)\n",
    "\n",
    "toplam = 0\n",
    "\n",
    "for i in sayi:\n",
    "    toplam += int(i) ** uzunluk\n",
    "\n",
    "if int(sayi) == toplam:\n",
    "    print(f\"girilensayi: {sayi} armstrong sayidir\")\n",
    "else:\n",
    "    print(f\"girilensayi: {sayi} armstrong degildir\")   \n",
    "\n",
    "\n",
    "\n",
    "    \n"
   ]
  },
  {
   "cell_type": "code",
   "execution_count": 75,
   "id": "3eb9ddc9",
   "metadata": {},
   "outputs": [],
   "source": [
    "def isArmstrong(sayi):\n",
    "    sayi = str(sayi)\n",
    "    uzunluk = len(sayi)\n",
    "\n",
    "    toplam = 0\n",
    "\n",
    "    for i in sayi:\n",
    "        toplam += int(i) ** uzunluk\n",
    "\n",
    "    if int(sayi) == toplam:\n",
    "        return f\"girilen sayi: {sayi} armstrong sayidir\"\n",
    "    else:\n",
    "        return f\"girilen sayi: {sayi} armstrong sayi degildir\"\n"
   ]
  },
  {
   "cell_type": "code",
   "execution_count": 77,
   "id": "459ef348",
   "metadata": {},
   "outputs": [
    {
     "data": {
      "text/plain": [
       "'girilen sayi: 408 armstrong sayi degildir'"
      ]
     },
     "execution_count": 77,
     "metadata": {},
     "output_type": "execute_result"
    }
   ],
   "source": [
    "isArmstrong(408)"
   ]
  },
  {
   "cell_type": "code",
   "execution_count": 86,
   "id": "4e4c44c8",
   "metadata": {},
   "outputs": [],
   "source": [
    "def isAsal(x):\n",
    "\n",
    "    if x < 2:\n",
    "        return False\n",
    "    \n",
    "    else:\n",
    "\n",
    "        for i in range(2, x):\n",
    "\n",
    "            if x % i == 0:\n",
    "                return False\n",
    "            \n",
    "    return True         \n",
    "        "
   ]
  },
  {
   "cell_type": "code",
   "execution_count": 79,
   "id": "e55ace4e",
   "metadata": {},
   "outputs": [
    {
     "data": {
      "text/plain": [
       "False"
      ]
     },
     "execution_count": 79,
     "metadata": {},
     "output_type": "execute_result"
    }
   ],
   "source": [
    "isAsal(10)"
   ]
  },
  {
   "cell_type": "code",
   "execution_count": 81,
   "id": "659a7789",
   "metadata": {},
   "outputs": [
    {
     "data": {
      "text/plain": [
       "True"
      ]
     },
     "execution_count": 81,
     "metadata": {},
     "output_type": "execute_result"
    }
   ],
   "source": [
    "isAsal(7)"
   ]
  },
  {
   "cell_type": "code",
   "execution_count": 87,
   "id": "490ddf4d",
   "metadata": {},
   "outputs": [],
   "source": [
    "def isLasa(x):\n",
    "\n",
    "    ters_sayi = int(str(x)[::-1])\n",
    "\n",
    "    if isAsal(x) and isAsal(ters_sayi):\n",
    "\n",
    "        return True\n",
    "    else:\n",
    "        return False"
   ]
  },
  {
   "cell_type": "code",
   "execution_count": 88,
   "id": "d3090e81",
   "metadata": {},
   "outputs": [
    {
     "data": {
      "text/plain": [
       "True"
      ]
     },
     "execution_count": 88,
     "metadata": {},
     "output_type": "execute_result"
    }
   ],
   "source": [
    "isLasa(17)"
   ]
  },
  {
   "cell_type": "code",
   "execution_count": 89,
   "id": "b2e85966",
   "metadata": {},
   "outputs": [
    {
     "data": {
      "text/plain": [
       "False"
      ]
     },
     "execution_count": 89,
     "metadata": {},
     "output_type": "execute_result"
    }
   ],
   "source": [
    "isLasa(19)"
   ]
  },
  {
   "cell_type": "code",
   "execution_count": null,
   "id": "286a1859",
   "metadata": {},
   "outputs": [],
   "source": []
  }
 ],
 "metadata": {
  "kernelspec": {
   "display_name": "Python 3",
   "language": "python",
   "name": "python3"
  },
  "language_info": {
   "codemirror_mode": {
    "name": "ipython",
    "version": 3
   },
   "file_extension": ".py",
   "mimetype": "text/x-python",
   "name": "python",
   "nbconvert_exporter": "python",
   "pygments_lexer": "ipython3",
   "version": "3.12.4"
  }
 },
 "nbformat": 4,
 "nbformat_minor": 5
}
