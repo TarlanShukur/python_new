{
 "cells": [
  {
   "cell_type": "code",
   "execution_count": null,
   "id": "46439789",
   "metadata": {},
   "outputs": [
    {
     "name": "stdout",
     "output_type": "stream",
     "text": [
      "Sifrelenmis metin: Gneyna\n"
     ]
    }
   ],
   "source": [
    "metin = input(\"sifrelemek istediginiz metni giriniz:\")\n",
    "anahtar = int(input(\"Sifreleme anahtarini giriniz (Bir tam sayi):\"))\n",
    "\n",
    "sifrelenmis_metin = \"\"\n",
    "\n",
    "for harf in metin:\n",
    "    if harf.isalpha():\n",
    "        if harf.isupper():\n",
    "            sifrelenmis_metin += chr((ord(harf) + anahtar - 65) % 26 + 65)  #basa dusmedim bu hisseni\n",
    "\n",
    "        else:\n",
    "            sifrelenmis_metin += chr((ord(harf) + anahtar - 97) % 26 + 97)  #basa dusmedim bu hisseni\n",
    "    else:\n",
    "        sifrelenmis_metin += harf\n",
    "\n",
    "print(\"Sifrelenmis metin:\",sifrelenmis_metin)                   "
   ]
  },
  {
   "cell_type": "code",
   "execution_count": 13,
   "id": "e9bc361a",
   "metadata": {},
   "outputs": [
    {
     "data": {
      "text/plain": [
       "97"
      ]
     },
     "execution_count": 13,
     "metadata": {},
     "output_type": "execute_result"
    }
   ],
   "source": [
    "ord(\"a\")"
   ]
  },
  {
   "cell_type": "code",
   "execution_count": 14,
   "id": "9e904f2f",
   "metadata": {},
   "outputs": [
    {
     "name": "stdout",
     "output_type": "stream",
     "text": [
      "Metinde yer alan benzersiz karakter sayisi:{'l', 'a', 's', 'm', 'n', 'r', 'i', 'e', 'g', 't'}, benzersiz karakterler sayisi 10\n"
     ]
    }
   ],
   "source": [
    "metin = input(\"Lutfen bir metin giriniz:\")\n",
    "\n",
    "benzersiz_karakterler = set()\n",
    "\n",
    "for karakter in metin:\n",
    "    if karakter != \" \":\n",
    "        benzersiz_karakterler.add(karakter)\n",
    "\n",
    "benzersiz_karakterler_sayisi = len(benzersiz_karakterler)\n",
    "\n",
    "print(f\"Metinde yer alan benzersiz karakter sayisi:{benzersiz_karakterler}, benzersiz karakterler sayisi {benzersiz_karakterler_sayisi}\")"
   ]
  },
  {
   "cell_type": "code",
   "execution_count": null,
   "id": "6fd7975e",
   "metadata": {},
   "outputs": [
    {
     "name": "stdout",
     "output_type": "stream",
     "text": [
      "\n",
      "      Ogrenci Ders Secim Sistemi\n",
      "      Ders Ekle\n",
      "      Ders Cikar\n",
      "      Ders Listesini Goruntule\n",
      "      Cikis  \n",
      "      \n",
      "Gecersiz bir secim yapptiniz, lutfen 1 - 4 arasinda bir sayi seciniz\n",
      "Gecersiz bir secim yapptiniz, lutfen 1 - 4 arasinda bir sayi seciniz\n",
      "Gecersiz bir secim yapptiniz, lutfen 1 - 4 arasinda bir sayi seciniz\n",
      "Gecersiz bir secim yapptiniz, lutfen 1 - 4 arasinda bir sayi seciniz\n",
      "Gecersiz bir secim yapptiniz, lutfen 1 - 4 arasinda bir sayi seciniz\n",
      "Gecersiz bir secim yapptiniz, lutfen 1 - 4 arasinda bir sayi seciniz\n",
      "Gecersiz bir secim yapptiniz, lutfen 1 - 4 arasinda bir sayi seciniz\n",
      " adli ogrencinin guncel ders listesi: {'1'}\n",
      "Gecersiz bir secim yapptiniz, lutfen 1 - 4 arasinda bir sayi seciniz\n"
     ]
    }
   ],
   "source": [
    "# basa dusmedim\n",
    "\n",
    "ogrenci_dersler = {\n",
    "    \"Ali\":{\"Matematik\",\"Fizik\"},\n",
    "    \"Ayse\":{\"Kimya\",\"Tarih\"},\n",
    "    \"Mehmet\":{\"Tarih\",\"Cografya\"}\n",
    "}\n",
    "\n",
    "print(\"\"\"\n",
    "      Ogrenci Ders Secim Sistemi\n",
    "      Ders Ekle\n",
    "      Ders Cikar\n",
    "      Ders Listesini Goruntule\n",
    "      Cikis  \n",
    "      \"\"\")\n",
    "\n",
    "while True:\n",
    "    secim = input(\"Bir islem secin(1-4):\" )\n",
    "\n",
    "    if secim == \"1\":\n",
    "        ogrenci_adi = input(\"Ogrencinin adi: \")\n",
    "        ders = input(\"Eklenecek Ders\")\n",
    "\n",
    "        if ogrenci_adi in ogrenci_dersler:\n",
    "            ogrenci_dersler[ogrenci_adi].add(ders)\n",
    "        else:\n",
    "            ogrenci_dersler[ogrenci_adi] = {ders}\n",
    "\n",
    "        print(f\"{ogrenci_adi} adli ogrencinin guncel ders listesi: {ogrenci_dersler[ogrenci_adi]}\")\n",
    "\n",
    "    elif secim == 2:\n",
    "        ogrenci_adi = input(\"Ogrencinin adi: \")\n",
    "        ders = input(\"Cikarilacak ders: \") \n",
    "\n",
    "        if ogrenci_adi in ogrenci_dersler and ders in ogrenci_dersler[ogrenci_adi]:\n",
    "            ogrenci_dersler[ogrenci_adi].discard(ders)   \n",
    "\n",
    "        print(f\"{ogrenci_adi} adli ogrencinin guncel ders listesi: {ogrenci_dersler[ogrenci_adi]}\")\n",
    "\n",
    "    else:\n",
    "        print(f\"{ogrenci_adi} adli ogrencinin ders listesinde {ders} dersi bulunamadi.\") \n",
    "        \n",
    "                \n",
    " \n",
    "\n",
    "    elif secim == 4:\n",
    "        print(\"Programdan cikiyor.\")\n",
    "        break\n",
    "\n",
    "    else:\n",
    "        print(\"Gecersiz bir secim yapptiniz, lutfen 1 - 4 arasinda bir sayi seciniz\")            \n"
   ]
  },
  {
   "cell_type": "code",
   "execution_count": 1,
   "id": "c613facb",
   "metadata": {},
   "outputs": [
    {
     "name": "stderr",
     "output_type": "stream",
     "text": [
      "<>:2: SyntaxWarning: 'tuple' object is not callable; perhaps you missed a comma?\n",
      "<>:2: SyntaxWarning: 'tuple' object is not callable; perhaps you missed a comma?\n",
      "C:\\Users\\user\\AppData\\Local\\Temp\\ipykernel_12932\\3046158576.py:2: SyntaxWarning: 'tuple' object is not callable; perhaps you missed a comma?\n",
      "  (\"1984\", \"George Orwell\", 1949)\n"
     ]
    },
    {
     "ename": "TypeError",
     "evalue": "'tuple' object is not callable",
     "output_type": "error",
     "traceback": [
      "\u001b[1;31m---------------------------------------------------------------------------\u001b[0m",
      "\u001b[1;31mTypeError\u001b[0m                                 Traceback (most recent call last)",
      "Cell \u001b[1;32mIn[1], line 2\u001b[0m\n\u001b[0;32m      1\u001b[0m kutuphane \u001b[38;5;241m=\u001b[39m {\n\u001b[1;32m----> 2\u001b[0m     \u001b[43m(\u001b[49m\u001b[38;5;124;43m\"\u001b[39;49m\u001b[38;5;124;43m1984\u001b[39;49m\u001b[38;5;124;43m\"\u001b[39;49m\u001b[43m,\u001b[49m\u001b[43m \u001b[49m\u001b[38;5;124;43m\"\u001b[39;49m\u001b[38;5;124;43mGeorge Orwell\u001b[39;49m\u001b[38;5;124;43m\"\u001b[39;49m\u001b[43m,\u001b[49m\u001b[43m \u001b[49m\u001b[38;5;241;43m1949\u001b[39;49m\u001b[43m)\u001b[49m\n\u001b[0;32m      3\u001b[0m \u001b[43m    \u001b[49m\u001b[43m(\u001b[49m\u001b[38;5;124;43m\"\u001b[39;49m\u001b[38;5;124;43mTo kill a mockingbird\u001b[39;49m\u001b[38;5;124;43m\"\u001b[39;49m\u001b[43m,\u001b[49m\u001b[38;5;124;43m\"\u001b[39;49m\u001b[38;5;124;43mHarper Lee\u001b[39;49m\u001b[38;5;124;43m\"\u001b[39;49m\u001b[43m,\u001b[49m\u001b[43m \u001b[49m\u001b[38;5;241;43m1960\u001b[39;49m\u001b[43m)\u001b[49m\n\u001b[0;32m      4\u001b[0m     (\u001b[38;5;124m\"\u001b[39m\u001b[38;5;124mInce Memed\u001b[39m\u001b[38;5;124m\"\u001b[39m,\u001b[38;5;124m\"\u001b[39m\u001b[38;5;124mYasar Kemal\u001b[39m\u001b[38;5;124m\"\u001b[39m, \u001b[38;5;241m1967\u001b[39m)\n\u001b[0;32m      5\u001b[0m }\n\u001b[0;32m      7\u001b[0m \u001b[38;5;28mprint\u001b[39m(\u001b[38;5;124m\"\"\"\u001b[39m\n\u001b[0;32m      8\u001b[0m \u001b[38;5;124m      Kutuphane Yonetim Sistemi\u001b[39m\n\u001b[0;32m      9\u001b[0m \u001b[38;5;124m      1.Yeni Kitap Ekle\u001b[39m\n\u001b[1;32m   (...)\u001b[0m\n\u001b[0;32m     13\u001b[0m \u001b[38;5;124m      \u001b[39m\u001b[38;5;124m\"\"\"\u001b[39m\n\u001b[0;32m     14\u001b[0m )\n\u001b[0;32m     16\u001b[0m \u001b[38;5;28;01mwhile\u001b[39;00m \u001b[38;5;28;01mTrue\u001b[39;00m:\n",
      "\u001b[1;31mTypeError\u001b[0m: 'tuple' object is not callable"
     ]
    }
   ],
   "source": [
    "kutuphane = {\n",
    "    (\"1984\", \"George Orwell\", 1949)\n",
    "    (\"To kill a mockingbird\",\"Harper Lee\", 1960)\n",
    "    (\"Ince Memed\",\"Yasar Kemal\", 1967)\n",
    "}\n",
    "\n",
    "print(\"\"\"\n",
    "      Kutuphane Yonetim Sistemi\n",
    "      1.Yeni Kitap Ekle\n",
    "      2.Mevcut Kitaplari Goruntule\n",
    "      3.Bir Kitapbin Varligini Kontrol Et\n",
    "      4.Cikis\n",
    "      \"\"\"\n",
    ")\n",
    "\n",
    "while True:\n",
    "    secim = input(\"Bir islem secin (1-4):\")\n",
    "\n",
    "    if secim == 1:\n",
    "        kitap_adi = input(\"KItabin adi:\")\n",
    "        yazar = input(\"Yazari\")\n",
    "        yayin_yili = int(input(\"Yayin yili\"))\n",
    "        yeni_kitap = (kitap_adi,yazar,yayin_yili)\n",
    "        kutuphane.add(yeni_kitap)\n",
    "        print(f\"Yeni kitap eklendi: {yeni_kitap}\")\n",
    "\n",
    "    elif secim == \"2\":\n",
    "        print(\"Mevcut kitaplar\")\n",
    "        for kitap in kutuphane:\n",
    "            print(kitap)\n",
    "\n",
    "    elif secim == \"3\":\n",
    "        kitap_adi = input(\"Kontrol edilecek kitabin adi: \")\n",
    "        kitap_adi = False\n",
    "\n",
    "        for kitap in kutuphane:\n",
    "            if kitap[0] == kitap_adi:\n",
    "                kitap_var = True\n",
    "                break\n",
    "\n",
    "        if kitap_var:\n",
    "            print(f\"{kitap_adi} kutuphanede mevcut. \")  \n",
    "        else:                  \n",
    "            print(f\"{kitap_adi} kutuphanede bulunamadi. \")\n",
    "\n",
    "    elif secim == 4:\n",
    "        print(\"Programdan cikiliyor.\")\n",
    "        break\n",
    "\n",
    "    else:\n",
    "        print(\"Gecersiz bir secim yaptiniz, lutfen 1-4 arasinda bir sayi giriniz.\")\n",
    "                            \n",
    "\n"
   ]
  },
  {
   "cell_type": "code",
   "execution_count": null,
   "id": "bec7d988",
   "metadata": {},
   "outputs": [],
   "source": []
  }
 ],
 "metadata": {
  "kernelspec": {
   "display_name": "Python 3",
   "language": "python",
   "name": "python3"
  },
  "language_info": {
   "codemirror_mode": {
    "name": "ipython",
    "version": 3
   },
   "file_extension": ".py",
   "mimetype": "text/x-python",
   "name": "python",
   "nbconvert_exporter": "python",
   "pygments_lexer": "ipython3",
   "version": "3.12.4"
  }
 },
 "nbformat": 4,
 "nbformat_minor": 5
}
