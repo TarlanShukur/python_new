{
 "cells": [
  {
   "cell_type": "markdown",
   "id": "2564733f",
   "metadata": {},
   "source": [
    "# TUPLES"
   ]
  },
  {
   "cell_type": "code",
   "execution_count": 1,
   "id": "f34aa867",
   "metadata": {},
   "outputs": [
    {
     "data": {
      "text/plain": [
       "8"
      ]
     },
     "execution_count": 1,
     "metadata": {},
     "output_type": "execute_result"
    }
   ],
   "source": [
    "3 + 5"
   ]
  },
  {
   "cell_type": "code",
   "execution_count": 2,
   "id": "63412295",
   "metadata": {},
   "outputs": [
    {
     "data": {
      "text/plain": [
       "()"
      ]
     },
     "execution_count": 2,
     "metadata": {},
     "output_type": "execute_result"
    }
   ],
   "source": [
    "tuple()\n",
    "()"
   ]
  },
  {
   "cell_type": "code",
   "execution_count": 3,
   "id": "2038aa6b",
   "metadata": {},
   "outputs": [
    {
     "data": {
      "text/plain": [
       "('H', 'a', 'k', 'a', 'n')"
      ]
     },
     "execution_count": 3,
     "metadata": {},
     "output_type": "execute_result"
    }
   ],
   "source": [
    "tuple(\"Hakan\")"
   ]
  },
  {
   "cell_type": "code",
   "execution_count": 4,
   "id": "9c93ab74",
   "metadata": {},
   "outputs": [
    {
     "data": {
      "text/plain": [
       "['H', 'a', 'k', 'a', 'n']"
      ]
     },
     "execution_count": 4,
     "metadata": {},
     "output_type": "execute_result"
    }
   ],
   "source": [
    "list(\"Hakan\")"
   ]
  },
  {
   "cell_type": "code",
   "execution_count": 6,
   "id": "2652bf2e",
   "metadata": {},
   "outputs": [
    {
     "data": {
      "text/plain": [
       "(1, 2, 3, 4, 5)"
      ]
     },
     "execution_count": 6,
     "metadata": {},
     "output_type": "execute_result"
    }
   ],
   "source": [
    "tuple([1,2,3,4,5])"
   ]
  },
  {
   "cell_type": "code",
   "execution_count": 7,
   "id": "76b203c8",
   "metadata": {},
   "outputs": [
    {
     "ename": "TypeError",
     "evalue": "'int' object is not iterable",
     "output_type": "error",
     "traceback": [
      "\u001b[1;31m---------------------------------------------------------------------------\u001b[0m",
      "\u001b[1;31mTypeError\u001b[0m                                 Traceback (most recent call last)",
      "Cell \u001b[1;32mIn[7], line 1\u001b[0m\n\u001b[1;32m----> 1\u001b[0m \u001b[38;5;28;43mtuple\u001b[39;49m\u001b[43m(\u001b[49m\u001b[38;5;241;43m1250\u001b[39;49m\u001b[43m)\u001b[49m\n",
      "\u001b[1;31mTypeError\u001b[0m: 'int' object is not iterable"
     ]
    }
   ],
   "source": [
    "tuple(1250)"
   ]
  },
  {
   "cell_type": "code",
   "execution_count": 9,
   "id": "00a8da64",
   "metadata": {},
   "outputs": [
    {
     "data": {
      "text/plain": [
       "('Techpro', 2, 3.14, False, [1, 2, 3], (4, 5, 6))"
      ]
     },
     "execution_count": 9,
     "metadata": {},
     "output_type": "execute_result"
    }
   ],
   "source": [
    "tuple_1 = (\"Techpro\",2,3.14,False,[1,2,3],(4,5,6))\n",
    "tuple_1"
   ]
  },
  {
   "cell_type": "code",
   "execution_count": 10,
   "id": "6f6c61ce",
   "metadata": {},
   "outputs": [
    {
     "data": {
      "text/plain": [
       "tuple"
      ]
     },
     "execution_count": 10,
     "metadata": {},
     "output_type": "execute_result"
    }
   ],
   "source": [
    "type(tuple_1)"
   ]
  },
  {
   "cell_type": "code",
   "execution_count": 11,
   "id": "20256d3d",
   "metadata": {},
   "outputs": [],
   "source": [
    "name = \"Munise\""
   ]
  },
  {
   "cell_type": "code",
   "execution_count": 12,
   "id": "ad290442",
   "metadata": {},
   "outputs": [
    {
     "data": {
      "text/plain": [
       "('M', 'u', 'n', 'i', 's', 'e')"
      ]
     },
     "execution_count": 12,
     "metadata": {},
     "output_type": "execute_result"
    }
   ],
   "source": [
    "tuple(name)"
   ]
  },
  {
   "cell_type": "code",
   "execution_count": 14,
   "id": "381f091c",
   "metadata": {},
   "outputs": [
    {
     "data": {
      "text/plain": [
       "float"
      ]
     },
     "execution_count": 14,
     "metadata": {},
     "output_type": "execute_result"
    }
   ],
   "source": [
    "pi_number = 3.14\n",
    "type(pi_number)"
   ]
  },
  {
   "cell_type": "code",
   "execution_count": 15,
   "id": "8645f8c7",
   "metadata": {},
   "outputs": [
    {
     "data": {
      "text/plain": [
       "tuple"
      ]
     },
     "execution_count": 15,
     "metadata": {},
     "output_type": "execute_result"
    }
   ],
   "source": [
    "pi_number_2 = 3,14\n",
    "type(pi_number_2)"
   ]
  },
  {
   "cell_type": "code",
   "execution_count": 16,
   "id": "b4a2acc7",
   "metadata": {},
   "outputs": [
    {
     "data": {
      "text/plain": [
       "(3, 5, 6)"
      ]
     },
     "execution_count": 16,
     "metadata": {},
     "output_type": "execute_result"
    }
   ],
   "source": [
    "3,5,6"
   ]
  },
  {
   "cell_type": "code",
   "execution_count": 17,
   "id": "5a956b05",
   "metadata": {},
   "outputs": [
    {
     "data": {
      "text/plain": [
       "['Techpro']"
      ]
     },
     "execution_count": 17,
     "metadata": {},
     "output_type": "execute_result"
    }
   ],
   "source": [
    "[\"Techpro\"]"
   ]
  },
  {
   "cell_type": "code",
   "execution_count": 18,
   "id": "522c207f",
   "metadata": {},
   "outputs": [
    {
     "data": {
      "text/plain": [
       "'Techpro'"
      ]
     },
     "execution_count": 18,
     "metadata": {},
     "output_type": "execute_result"
    }
   ],
   "source": [
    "(\"Techpro\")"
   ]
  },
  {
   "cell_type": "code",
   "execution_count": 19,
   "id": "718ffb38",
   "metadata": {},
   "outputs": [
    {
     "data": {
      "text/plain": [
       "str"
      ]
     },
     "execution_count": 19,
     "metadata": {},
     "output_type": "execute_result"
    }
   ],
   "source": [
    "type(\"Techpro\")"
   ]
  },
  {
   "cell_type": "code",
   "execution_count": 20,
   "id": "d4fbebb1",
   "metadata": {},
   "outputs": [
    {
     "data": {
      "text/plain": [
       "('hakki',)"
      ]
     },
     "execution_count": 20,
     "metadata": {},
     "output_type": "execute_result"
    }
   ],
   "source": [
    "(\"hakki\",)"
   ]
  },
  {
   "cell_type": "code",
   "execution_count": 22,
   "id": "27c9caec",
   "metadata": {},
   "outputs": [
    {
     "data": {
      "text/plain": [
       "(15,)"
      ]
     },
     "execution_count": 22,
     "metadata": {},
     "output_type": "execute_result"
    }
   ],
   "source": [
    "(15,)"
   ]
  },
  {
   "cell_type": "code",
   "execution_count": 23,
   "id": "c0200aab",
   "metadata": {},
   "outputs": [],
   "source": [
    "tuple_2 = 2,3,4"
   ]
  },
  {
   "cell_type": "code",
   "execution_count": 24,
   "id": "8151e95b",
   "metadata": {},
   "outputs": [
    {
     "data": {
      "text/plain": [
       "(2, 3, 4)"
      ]
     },
     "execution_count": 24,
     "metadata": {},
     "output_type": "execute_result"
    }
   ],
   "source": [
    "tuple_2"
   ]
  },
  {
   "cell_type": "code",
   "execution_count": 25,
   "id": "512b56a5",
   "metadata": {},
   "outputs": [
    {
     "data": {
      "text/plain": [
       "[1, 2, 3, 4, 5]"
      ]
     },
     "execution_count": 25,
     "metadata": {},
     "output_type": "execute_result"
    }
   ],
   "source": [
    "[1,2,3]+[4,5]"
   ]
  },
  {
   "cell_type": "code",
   "execution_count": 26,
   "id": "50f1cab9",
   "metadata": {},
   "outputs": [
    {
     "data": {
      "text/plain": [
       "[1, 2, 3, 1, 2, 3, 1, 2, 3]"
      ]
     },
     "execution_count": 26,
     "metadata": {},
     "output_type": "execute_result"
    }
   ],
   "source": [
    "[1,2,3] * 3"
   ]
  },
  {
   "cell_type": "code",
   "execution_count": 27,
   "id": "b6fe8312",
   "metadata": {},
   "outputs": [
    {
     "data": {
      "text/plain": [
       "(1, 2, 3, 4, 5)"
      ]
     },
     "execution_count": 27,
     "metadata": {},
     "output_type": "execute_result"
    }
   ],
   "source": [
    "(1,2,3) + (4,5)"
   ]
  },
  {
   "cell_type": "code",
   "execution_count": 28,
   "id": "e8d7add2",
   "metadata": {},
   "outputs": [
    {
     "data": {
      "text/plain": [
       "(1, 2, 3, 1, 2, 3, 1, 2, 3)"
      ]
     },
     "execution_count": 28,
     "metadata": {},
     "output_type": "execute_result"
    }
   ],
   "source": [
    "(1,2,3) * 3"
   ]
  },
  {
   "cell_type": "code",
   "execution_count": 29,
   "id": "324dbf12",
   "metadata": {},
   "outputs": [
    {
     "ename": "TypeError",
     "evalue": "can only concatenate tuple (not \"str\") to tuple",
     "output_type": "error",
     "traceback": [
      "\u001b[1;31m---------------------------------------------------------------------------\u001b[0m",
      "\u001b[1;31mTypeError\u001b[0m                                 Traceback (most recent call last)",
      "Cell \u001b[1;32mIn[29], line 1\u001b[0m\n\u001b[1;32m----> 1\u001b[0m \u001b[43m(\u001b[49m\u001b[38;5;124;43m\"\u001b[39;49m\u001b[38;5;124;43mTechpro\u001b[39;49m\u001b[38;5;124;43m\"\u001b[39;49m\u001b[43m,\u001b[49m\u001b[38;5;241;43m5\u001b[39;49m\u001b[43m,\u001b[49m\u001b[43m \u001b[49m\u001b[38;5;28;43;01mTrue\u001b[39;49;00m\u001b[43m)\u001b[49m\u001b[38;5;241;43m+\u001b[39;49m\u001b[43m(\u001b[49m\u001b[38;5;124;43m\"\u001b[39;49m\u001b[38;5;124;43mBilal\u001b[39;49m\u001b[38;5;124;43m\"\u001b[39;49m\u001b[43m)\u001b[49m\n",
      "\u001b[1;31mTypeError\u001b[0m: can only concatenate tuple (not \"str\") to tuple"
     ]
    }
   ],
   "source": [
    "(\"Techpro\",5, True)+(\"Bilal\")"
   ]
  },
  {
   "cell_type": "code",
   "execution_count": 30,
   "id": "73c53a33",
   "metadata": {},
   "outputs": [
    {
     "data": {
      "text/plain": [
       "('Techpro', 5, True, 'Bilal')"
      ]
     },
     "execution_count": 30,
     "metadata": {},
     "output_type": "execute_result"
    }
   ],
   "source": [
    "(\"Techpro\",5, True)+(\"Bilal\",)"
   ]
  },
  {
   "cell_type": "markdown",
   "id": "56df9546",
   "metadata": {},
   "source": [
    "## Indexing & Slicing"
   ]
  },
  {
   "cell_type": "code",
   "execution_count": 31,
   "id": "9cc80bbe",
   "metadata": {},
   "outputs": [
    {
     "data": {
      "text/plain": [
       "('Erdem', 28, True, ['Tulay', 27, True], ('Zeynep', 10, 'Murat', 7))"
      ]
     },
     "execution_count": 31,
     "metadata": {},
     "output_type": "execute_result"
    }
   ],
   "source": [
    "tuple_3 = (\"Erdem\",28,True,[\"Tulay\",27,True],(\"Zeynep\",10,\"Murat\",7))\n",
    "tuple_3"
   ]
  },
  {
   "cell_type": "code",
   "execution_count": 32,
   "id": "47a43acf",
   "metadata": {},
   "outputs": [
    {
     "data": {
      "text/plain": [
       "5"
      ]
     },
     "execution_count": 32,
     "metadata": {},
     "output_type": "execute_result"
    }
   ],
   "source": [
    "len(tuple_3)"
   ]
  },
  {
   "cell_type": "code",
   "execution_count": 33,
   "id": "67dbde0a",
   "metadata": {},
   "outputs": [
    {
     "data": {
      "text/plain": [
       "['Tulay', 27, True]"
      ]
     },
     "execution_count": 33,
     "metadata": {},
     "output_type": "execute_result"
    }
   ],
   "source": [
    "tuple_3[3]"
   ]
  },
  {
   "cell_type": "code",
   "execution_count": 34,
   "id": "e5fd6a0d",
   "metadata": {},
   "outputs": [
    {
     "data": {
      "text/plain": [
       "10"
      ]
     },
     "execution_count": 34,
     "metadata": {},
     "output_type": "execute_result"
    }
   ],
   "source": [
    "tuple_3[4][1]"
   ]
  },
  {
   "cell_type": "code",
   "execution_count": 36,
   "id": "dde60b1c",
   "metadata": {},
   "outputs": [
    {
     "data": {
      "text/plain": [
       "('Zeynep', 10, 'Murat', 7)"
      ]
     },
     "execution_count": 36,
     "metadata": {},
     "output_type": "execute_result"
    }
   ],
   "source": [
    "tuple_3[-1]"
   ]
  },
  {
   "cell_type": "code",
   "execution_count": 37,
   "id": "3e3d1313",
   "metadata": {},
   "outputs": [
    {
     "data": {
      "text/plain": [
       "(2, 3.14, 'True', False, ('Murat', 25), ['Sedat', 32])"
      ]
     },
     "execution_count": 37,
     "metadata": {},
     "output_type": "execute_result"
    }
   ],
   "source": [
    "karisik_tuple = (2,3.14,\"True\",False,(\"Murat\",25),[\"Sedat\",32])\n",
    "karisik_tuple"
   ]
  },
  {
   "cell_type": "code",
   "execution_count": 38,
   "id": "60808097",
   "metadata": {},
   "outputs": [
    {
     "data": {
      "text/plain": [
       "'True'"
      ]
     },
     "execution_count": 38,
     "metadata": {},
     "output_type": "execute_result"
    }
   ],
   "source": [
    "karisik_tuple[2]"
   ]
  },
  {
   "cell_type": "code",
   "execution_count": 40,
   "id": "0fc5d903",
   "metadata": {},
   "outputs": [
    {
     "data": {
      "text/plain": [
       "True"
      ]
     },
     "execution_count": 40,
     "metadata": {},
     "output_type": "execute_result"
    }
   ],
   "source": [
    "bool(karisik_tuple[2])"
   ]
  },
  {
   "cell_type": "code",
   "execution_count": 41,
   "id": "d2e667e4",
   "metadata": {},
   "outputs": [
    {
     "data": {
      "text/plain": [
       "1"
      ]
     },
     "execution_count": 41,
     "metadata": {},
     "output_type": "execute_result"
    }
   ],
   "source": [
    "int(bool(karisik_tuple[2]))"
   ]
  },
  {
   "cell_type": "code",
   "execution_count": 42,
   "id": "ed2886ae",
   "metadata": {},
   "outputs": [
    {
     "data": {
      "text/plain": [
       "'Murat'"
      ]
     },
     "execution_count": 42,
     "metadata": {},
     "output_type": "execute_result"
    }
   ],
   "source": [
    "karisik_tuple[4][0]"
   ]
  },
  {
   "cell_type": "code",
   "execution_count": 44,
   "id": "a7291602",
   "metadata": {},
   "outputs": [
    {
     "data": {
      "text/plain": [
       "'Murat'"
      ]
     },
     "execution_count": 44,
     "metadata": {},
     "output_type": "execute_result"
    }
   ],
   "source": [
    "name_1 = karisik_tuple[4][0]\n",
    "name_1"
   ]
  },
  {
   "cell_type": "code",
   "execution_count": 46,
   "id": "31fe1dab",
   "metadata": {},
   "outputs": [
    {
     "data": {
      "text/plain": [
       "'Sedat'"
      ]
     },
     "execution_count": 46,
     "metadata": {},
     "output_type": "execute_result"
    }
   ],
   "source": [
    "name_2 = karisik_tuple[5][0]\n",
    "name_2"
   ]
  },
  {
   "cell_type": "code",
   "execution_count": 47,
   "id": "152c0fe2",
   "metadata": {},
   "outputs": [
    {
     "name": "stdout",
     "output_type": "stream",
     "text": [
      "Murat\n",
      "Sedat\n"
     ]
    }
   ],
   "source": [
    "print(name_1)\n",
    "print(name_2)"
   ]
  },
  {
   "cell_type": "code",
   "execution_count": 48,
   "id": "6ce14500",
   "metadata": {},
   "outputs": [
    {
     "data": {
      "text/plain": [
       "str"
      ]
     },
     "execution_count": 48,
     "metadata": {},
     "output_type": "execute_result"
    }
   ],
   "source": [
    "type(name_1)"
   ]
  },
  {
   "cell_type": "code",
   "execution_count": 49,
   "id": "d8804454",
   "metadata": {},
   "outputs": [
    {
     "data": {
      "text/plain": [
       "(3.14, 'True')"
      ]
     },
     "execution_count": 49,
     "metadata": {},
     "output_type": "execute_result"
    }
   ],
   "source": [
    "karisik_tuple[1:3]"
   ]
  },
  {
   "cell_type": "code",
   "execution_count": null,
   "id": "580e77e8",
   "metadata": {},
   "outputs": [],
   "source": []
  },
  {
   "cell_type": "code",
   "execution_count": 51,
   "id": "54a072aa",
   "metadata": {},
   "outputs": [
    {
     "data": {
      "text/plain": [
       "(3.14,)"
      ]
     },
     "execution_count": 51,
     "metadata": {},
     "output_type": "execute_result"
    }
   ],
   "source": [
    "karisik_tuple[1:2]"
   ]
  },
  {
   "cell_type": "code",
   "execution_count": 52,
   "id": "db5f4499",
   "metadata": {},
   "outputs": [
    {
     "data": {
      "text/plain": [
       "()"
      ]
     },
     "execution_count": 52,
     "metadata": {},
     "output_type": "execute_result"
    }
   ],
   "source": [
    "karisik_tuple[10:15]"
   ]
  },
  {
   "cell_type": "code",
   "execution_count": 60,
   "id": "3329234d",
   "metadata": {},
   "outputs": [
    {
     "data": {
      "text/plain": [
       "['Cenk', 25, 'Data Scientist']"
      ]
     },
     "execution_count": 60,
     "metadata": {},
     "output_type": "execute_result"
    }
   ],
   "source": [
    "liste_1 = [\"Cenk\",25, \"Data Scientist\"]\n",
    "liste_1"
   ]
  },
  {
   "cell_type": "code",
   "execution_count": 61,
   "id": "71b7b9e2",
   "metadata": {},
   "outputs": [],
   "source": [
    "liste_1[1] = 23"
   ]
  },
  {
   "cell_type": "code",
   "execution_count": 57,
   "id": "eec376f6",
   "metadata": {},
   "outputs": [
    {
     "data": {
      "text/plain": [
       "['Cenk', 23, 'Data Scientist']"
      ]
     },
     "execution_count": 57,
     "metadata": {},
     "output_type": "execute_result"
    }
   ],
   "source": [
    "liste_1"
   ]
  },
  {
   "cell_type": "code",
   "execution_count": 72,
   "id": "9e2b13dd",
   "metadata": {},
   "outputs": [
    {
     "data": {
      "text/plain": [
       "('Cenk', 25, 'Data Scientist')"
      ]
     },
     "execution_count": 72,
     "metadata": {},
     "output_type": "execute_result"
    }
   ],
   "source": [
    "tuple_4 = (\"Cenk\",25, \"Data Scientist\")\n",
    "tuple_4"
   ]
  },
  {
   "cell_type": "code",
   "execution_count": 73,
   "id": "081416d1",
   "metadata": {},
   "outputs": [
    {
     "ename": "TypeError",
     "evalue": "'tuple' object does not support item assignment",
     "output_type": "error",
     "traceback": [
      "\u001b[1;31m---------------------------------------------------------------------------\u001b[0m",
      "\u001b[1;31mTypeError\u001b[0m                                 Traceback (most recent call last)",
      "Cell \u001b[1;32mIn[73], line 1\u001b[0m\n\u001b[1;32m----> 1\u001b[0m \u001b[43mtuple_4\u001b[49m\u001b[43m[\u001b[49m\u001b[38;5;241;43m1\u001b[39;49m\u001b[43m]\u001b[49m \u001b[38;5;241m=\u001b[39m \u001b[38;5;241m23\u001b[39m\n",
      "\u001b[1;31mTypeError\u001b[0m: 'tuple' object does not support item assignment"
     ]
    }
   ],
   "source": [
    "tuple_4[1] = 23"
   ]
  },
  {
   "cell_type": "code",
   "execution_count": 74,
   "id": "e495a4ba",
   "metadata": {},
   "outputs": [
    {
     "data": {
      "text/plain": [
       "['Cenk', 25, 'Data Scientist']"
      ]
     },
     "execution_count": 74,
     "metadata": {},
     "output_type": "execute_result"
    }
   ],
   "source": [
    "converted_tuple = list(tuple_4)\n",
    "converted_tuple"
   ]
  },
  {
   "cell_type": "code",
   "execution_count": 70,
   "id": "53ae8cd6",
   "metadata": {},
   "outputs": [],
   "source": [
    "converted_tuple[1]=23"
   ]
  },
  {
   "cell_type": "code",
   "execution_count": 77,
   "id": "d5fadeae",
   "metadata": {},
   "outputs": [
    {
     "data": {
      "text/plain": [
       "('Cenk', 25, 'Data Scientist')"
      ]
     },
     "execution_count": 77,
     "metadata": {},
     "output_type": "execute_result"
    }
   ],
   "source": [
    "tuple_4_son = tuple(converted_tuple)\n",
    "tuple_4_son"
   ]
  },
  {
   "cell_type": "code",
   "execution_count": 78,
   "id": "3521eae2",
   "metadata": {},
   "outputs": [
    {
     "data": {
      "text/plain": [
       "(2, 3.14, 'True', False, ('Murat', 25), ['Sedat', 32])"
      ]
     },
     "execution_count": 78,
     "metadata": {},
     "output_type": "execute_result"
    }
   ],
   "source": [
    "karisik_tuple"
   ]
  },
  {
   "cell_type": "code",
   "execution_count": 80,
   "id": "7feed050",
   "metadata": {},
   "outputs": [
    {
     "data": {
      "text/plain": [
       "['Sedat', 32]"
      ]
     },
     "execution_count": 80,
     "metadata": {},
     "output_type": "execute_result"
    }
   ],
   "source": [
    "karisik_tuple[5]"
   ]
  },
  {
   "cell_type": "code",
   "execution_count": 81,
   "id": "29b9fc31",
   "metadata": {},
   "outputs": [],
   "source": [
    "karisik_tuple[5][1] = 33"
   ]
  },
  {
   "cell_type": "code",
   "execution_count": 82,
   "id": "06aa5e35",
   "metadata": {},
   "outputs": [
    {
     "data": {
      "text/plain": [
       "(2, 3.14, 'True', False, ('Murat', 25), ['Sedat', 33])"
      ]
     },
     "execution_count": 82,
     "metadata": {},
     "output_type": "execute_result"
    }
   ],
   "source": [
    "karisik_tuple"
   ]
  },
  {
   "cell_type": "code",
   "execution_count": null,
   "id": "0d5248ce",
   "metadata": {},
   "outputs": [],
   "source": []
  },
  {
   "cell_type": "code",
   "execution_count": 84,
   "id": "770ab7ba",
   "metadata": {},
   "outputs": [],
   "source": [
    "karisik_tuple[5].append(\"data analyst\")"
   ]
  },
  {
   "cell_type": "code",
   "execution_count": 85,
   "id": "66c55d18",
   "metadata": {},
   "outputs": [
    {
     "data": {
      "text/plain": [
       "(2, 3.14, 'True', False, ('Murat', 25), ['Sedat', 33, 'data analyst'])"
      ]
     },
     "execution_count": 85,
     "metadata": {},
     "output_type": "execute_result"
    }
   ],
   "source": [
    "karisik_tuple"
   ]
  },
  {
   "cell_type": "markdown",
   "id": "eb9a2cae",
   "metadata": {},
   "source": [
    "## Tuple Methods"
   ]
  },
  {
   "cell_type": "code",
   "execution_count": 86,
   "id": "168723b8",
   "metadata": {},
   "outputs": [
    {
     "data": {
      "text/plain": [
       "(1, 2, 3, 4, 5, 6, 1, 3, 4, 2)"
      ]
     },
     "execution_count": 86,
     "metadata": {},
     "output_type": "execute_result"
    }
   ],
   "source": [
    "sayilar_1 = (1,2,3,4,5,6,1,3,4,2)\n",
    "sayilar_1"
   ]
  },
  {
   "cell_type": "code",
   "execution_count": 89,
   "id": "cc724f14",
   "metadata": {},
   "outputs": [
    {
     "data": {
      "text/plain": [
       "1"
      ]
     },
     "execution_count": 89,
     "metadata": {},
     "output_type": "execute_result"
    }
   ],
   "source": [
    "sayilar_1.count(5)"
   ]
  },
  {
   "cell_type": "code",
   "execution_count": 90,
   "id": "285a8a9f",
   "metadata": {},
   "outputs": [
    {
     "data": {
      "text/plain": [
       "2"
      ]
     },
     "execution_count": 90,
     "metadata": {},
     "output_type": "execute_result"
    }
   ],
   "source": [
    "sayilar_1.count(2)"
   ]
  },
  {
   "cell_type": "code",
   "execution_count": 91,
   "id": "945bfc60",
   "metadata": {},
   "outputs": [
    {
     "data": {
      "text/plain": [
       "(1, 2, 3, (3, 4, 5), 5, 6, 7)"
      ]
     },
     "execution_count": 91,
     "metadata": {},
     "output_type": "execute_result"
    }
   ],
   "source": [
    "sayilar_2 = (1,2,3,(3,4,5),5,6,7)\n",
    "sayilar_2"
   ]
  },
  {
   "cell_type": "code",
   "execution_count": 93,
   "id": "b626e1ba",
   "metadata": {},
   "outputs": [
    {
     "data": {
      "text/plain": [
       "1"
      ]
     },
     "execution_count": 93,
     "metadata": {},
     "output_type": "execute_result"
    }
   ],
   "source": [
    "sayilar_2.count(3)"
   ]
  },
  {
   "cell_type": "code",
   "execution_count": 95,
   "id": "2e714189",
   "metadata": {},
   "outputs": [
    {
     "data": {
      "text/plain": [
       "(3, 4, 5)"
      ]
     },
     "execution_count": 95,
     "metadata": {},
     "output_type": "execute_result"
    }
   ],
   "source": [
    "sayilar_2[3]"
   ]
  },
  {
   "cell_type": "code",
   "execution_count": 96,
   "id": "d8ee34eb",
   "metadata": {},
   "outputs": [
    {
     "data": {
      "text/plain": [
       "1"
      ]
     },
     "execution_count": 96,
     "metadata": {},
     "output_type": "execute_result"
    }
   ],
   "source": [
    "sayilar_2[3].count(4)"
   ]
  },
  {
   "cell_type": "code",
   "execution_count": 98,
   "id": "353a9b36",
   "metadata": {},
   "outputs": [
    {
     "data": {
      "text/plain": [
       "1"
      ]
     },
     "execution_count": 98,
     "metadata": {},
     "output_type": "execute_result"
    }
   ],
   "source": [
    "sayilar_2.count((3,4,5))"
   ]
  },
  {
   "cell_type": "code",
   "execution_count": 99,
   "id": "a5d46f57",
   "metadata": {},
   "outputs": [
    {
     "data": {
      "text/plain": [
       "(1, 2, 3, (3, 4, 5), 5, 6, 7)"
      ]
     },
     "execution_count": 99,
     "metadata": {},
     "output_type": "execute_result"
    }
   ],
   "source": [
    "sayilar_2"
   ]
  },
  {
   "cell_type": "code",
   "execution_count": 100,
   "id": "d67c8464",
   "metadata": {},
   "outputs": [
    {
     "data": {
      "text/plain": [
       "1"
      ]
     },
     "execution_count": 100,
     "metadata": {},
     "output_type": "execute_result"
    }
   ],
   "source": [
    "sayilar_2.index(2)"
   ]
  },
  {
   "cell_type": "code",
   "execution_count": 102,
   "id": "5e1dc192",
   "metadata": {},
   "outputs": [
    {
     "data": {
      "text/plain": [
       "(1, 2, 3, 2, 1, 3, 4)"
      ]
     },
     "execution_count": 102,
     "metadata": {},
     "output_type": "execute_result"
    }
   ],
   "source": [
    "sayilar_3 = (1,2,3,2,1,3,4)\n",
    "sayilar_3"
   ]
  },
  {
   "cell_type": "code",
   "execution_count": 103,
   "id": "643f1091",
   "metadata": {},
   "outputs": [
    {
     "data": {
      "text/plain": [
       "2"
      ]
     },
     "execution_count": 103,
     "metadata": {},
     "output_type": "execute_result"
    }
   ],
   "source": [
    "sayilar_3.index(3)"
   ]
  },
  {
   "cell_type": "code",
   "execution_count": 104,
   "id": "e4060a9c",
   "metadata": {},
   "outputs": [
    {
     "data": {
      "text/plain": [
       "[1, 2, 3, 2, 1, 3, 4]"
      ]
     },
     "execution_count": 104,
     "metadata": {},
     "output_type": "execute_result"
    }
   ],
   "source": [
    "liste_2 = [1,2,3,2,1,3,4]\n",
    "liste_2"
   ]
  },
  {
   "cell_type": "code",
   "execution_count": 106,
   "id": "fb898e72",
   "metadata": {},
   "outputs": [
    {
     "data": {
      "text/plain": [
       "1"
      ]
     },
     "execution_count": 106,
     "metadata": {},
     "output_type": "execute_result"
    }
   ],
   "source": [
    "liste_2.index(2)"
   ]
  },
  {
   "cell_type": "markdown",
   "id": "db15e973",
   "metadata": {},
   "source": [
    "## range()"
   ]
  },
  {
   "cell_type": "code",
   "execution_count": 107,
   "id": "55b0a724",
   "metadata": {},
   "outputs": [
    {
     "name": "stdout",
     "output_type": "stream",
     "text": [
      "Help on class range in module builtins:\n",
      "\n",
      "class range(object)\n",
      " |  range(stop) -> range object\n",
      " |  range(start, stop[, step]) -> range object\n",
      " |\n",
      " |  Return an object that produces a sequence of integers from start (inclusive)\n",
      " |  to stop (exclusive) by step.  range(i, j) produces i, i+1, i+2, ..., j-1.\n",
      " |  start defaults to 0, and stop is omitted!  range(4) produces 0, 1, 2, 3.\n",
      " |  These are exactly the valid indices for a list of 4 elements.\n",
      " |  When step is given, it specifies the increment (or decrement).\n",
      " |\n",
      " |  Methods defined here:\n",
      " |\n",
      " |  __bool__(self, /)\n",
      " |      True if self else False\n",
      " |\n",
      " |  __contains__(self, key, /)\n",
      " |      Return bool(key in self).\n",
      " |\n",
      " |  __eq__(self, value, /)\n",
      " |      Return self==value.\n",
      " |\n",
      " |  __ge__(self, value, /)\n",
      " |      Return self>=value.\n",
      " |\n",
      " |  __getattribute__(self, name, /)\n",
      " |      Return getattr(self, name).\n",
      " |\n",
      " |  __getitem__(self, key, /)\n",
      " |      Return self[key].\n",
      " |\n",
      " |  __gt__(self, value, /)\n",
      " |      Return self>value.\n",
      " |\n",
      " |  __hash__(self, /)\n",
      " |      Return hash(self).\n",
      " |\n",
      " |  __iter__(self, /)\n",
      " |      Implement iter(self).\n",
      " |\n",
      " |  __le__(self, value, /)\n",
      " |      Return self<=value.\n",
      " |\n",
      " |  __len__(self, /)\n",
      " |      Return len(self).\n",
      " |\n",
      " |  __lt__(self, value, /)\n",
      " |      Return self<value.\n",
      " |\n",
      " |  __ne__(self, value, /)\n",
      " |      Return self!=value.\n",
      " |\n",
      " |  __reduce__(...)\n",
      " |      Helper for pickle.\n",
      " |\n",
      " |  __repr__(self, /)\n",
      " |      Return repr(self).\n",
      " |\n",
      " |  __reversed__(...)\n",
      " |      Return a reverse iterator.\n",
      " |\n",
      " |  count(...)\n",
      " |      rangeobject.count(value) -> integer -- return number of occurrences of value\n",
      " |\n",
      " |  index(...)\n",
      " |      rangeobject.index(value) -> integer -- return index of value.\n",
      " |      Raise ValueError if the value is not present.\n",
      " |\n",
      " |  ----------------------------------------------------------------------\n",
      " |  Static methods defined here:\n",
      " |\n",
      " |  __new__(*args, **kwargs)\n",
      " |      Create and return a new object.  See help(type) for accurate signature.\n",
      " |\n",
      " |  ----------------------------------------------------------------------\n",
      " |  Data descriptors defined here:\n",
      " |\n",
      " |  start\n",
      " |\n",
      " |  step\n",
      " |\n",
      " |  stop\n",
      "\n"
     ]
    }
   ],
   "source": [
    "help(range)"
   ]
  },
  {
   "cell_type": "code",
   "execution_count": 108,
   "id": "b0eb3ff8",
   "metadata": {},
   "outputs": [
    {
     "data": {
      "text/plain": [
       "range(4, 10)"
      ]
     },
     "execution_count": 108,
     "metadata": {},
     "output_type": "execute_result"
    }
   ],
   "source": [
    "range(4,10)"
   ]
  },
  {
   "cell_type": "code",
   "execution_count": 109,
   "id": "a83d40b6",
   "metadata": {},
   "outputs": [
    {
     "data": {
      "text/plain": [
       "[4, 5, 6, 7, 8, 9]"
      ]
     },
     "execution_count": 109,
     "metadata": {},
     "output_type": "execute_result"
    }
   ],
   "source": [
    "list(range(4,10))"
   ]
  },
  {
   "cell_type": "code",
   "execution_count": 110,
   "id": "2d9f9ffc",
   "metadata": {},
   "outputs": [
    {
     "name": "stdout",
     "output_type": "stream",
     "text": [
      "range(4, 10)\n"
     ]
    }
   ],
   "source": [
    "print(range(4,10))"
   ]
  },
  {
   "cell_type": "code",
   "execution_count": 111,
   "id": "4409766a",
   "metadata": {},
   "outputs": [
    {
     "data": {
      "text/plain": [
       "range"
      ]
     },
     "execution_count": 111,
     "metadata": {},
     "output_type": "execute_result"
    }
   ],
   "source": [
    "type(range(4,10))"
   ]
  },
  {
   "cell_type": "code",
   "execution_count": 112,
   "id": "e2ce065f",
   "metadata": {},
   "outputs": [
    {
     "data": {
      "text/plain": [
       "(4, 5, 6, 7, 8, 9)"
      ]
     },
     "execution_count": 112,
     "metadata": {},
     "output_type": "execute_result"
    }
   ],
   "source": [
    "tuple(range(4,10))"
   ]
  },
  {
   "cell_type": "code",
   "execution_count": 113,
   "id": "c51b4802",
   "metadata": {},
   "outputs": [
    {
     "data": {
      "text/plain": [
       "(0, 1, 2, 3, 4, 5, 6, 7, 8, 9)"
      ]
     },
     "execution_count": 113,
     "metadata": {},
     "output_type": "execute_result"
    }
   ],
   "source": [
    "tuple(range(10))"
   ]
  },
  {
   "cell_type": "code",
   "execution_count": 114,
   "id": "c8471bec",
   "metadata": {},
   "outputs": [
    {
     "data": {
      "text/plain": [
       "(0, 1, 2, 3)"
      ]
     },
     "execution_count": 114,
     "metadata": {},
     "output_type": "execute_result"
    }
   ],
   "source": [
    "tuple(range(4))"
   ]
  },
  {
   "cell_type": "code",
   "execution_count": 115,
   "id": "1a5603ce",
   "metadata": {},
   "outputs": [
    {
     "data": {
      "text/plain": [
       "(2, 4, 6, 8, 10, 12)"
      ]
     },
     "execution_count": 115,
     "metadata": {},
     "output_type": "execute_result"
    }
   ],
   "source": [
    "tuple(range(2,14,2))"
   ]
  },
  {
   "cell_type": "code",
   "execution_count": 116,
   "id": "d8391f1a",
   "metadata": {},
   "outputs": [
    {
     "data": {
      "text/plain": [
       "()"
      ]
     },
     "execution_count": 116,
     "metadata": {},
     "output_type": "execute_result"
    }
   ],
   "source": [
    "tuple(range(2,14,-2))"
   ]
  },
  {
   "cell_type": "code",
   "execution_count": 117,
   "id": "4fa57a29",
   "metadata": {},
   "outputs": [
    {
     "data": {
      "text/plain": [
       "(14, 12, 10, 8, 6, 4)"
      ]
     },
     "execution_count": 117,
     "metadata": {},
     "output_type": "execute_result"
    }
   ],
   "source": [
    "tuple(range(14,2,-2))"
   ]
  },
  {
   "cell_type": "code",
   "execution_count": 118,
   "id": "fbeb6692",
   "metadata": {},
   "outputs": [
    {
     "data": {
      "text/plain": [
       "(-5, -3, -1, 1, 3, 5, 7, 9)"
      ]
     },
     "execution_count": 118,
     "metadata": {},
     "output_type": "execute_result"
    }
   ],
   "source": [
    "tuple(range(-5,10,2))"
   ]
  },
  {
   "cell_type": "code",
   "execution_count": 119,
   "id": "19615a42",
   "metadata": {},
   "outputs": [
    {
     "ename": "SyntaxError",
     "evalue": "invalid syntax (3132407422.py, line 1)",
     "output_type": "error",
     "traceback": [
      "\u001b[1;36m  Cell \u001b[1;32mIn[119], line 1\u001b[1;36m\u001b[0m\n\u001b[1;33m    list(range(,4))\u001b[0m\n\u001b[1;37m               ^\u001b[0m\n\u001b[1;31mSyntaxError\u001b[0m\u001b[1;31m:\u001b[0m invalid syntax\n"
     ]
    }
   ],
   "source": [
    "list(range(,4))"
   ]
  },
  {
   "cell_type": "code",
   "execution_count": 120,
   "id": "b5594a25",
   "metadata": {},
   "outputs": [
    {
     "data": {
      "text/plain": [
       "[0, 1, 2, 3]"
      ]
     },
     "execution_count": 120,
     "metadata": {},
     "output_type": "execute_result"
    }
   ],
   "source": [
    "list(range(4,))"
   ]
  },
  {
   "cell_type": "code",
   "execution_count": 123,
   "id": "b619c20e",
   "metadata": {},
   "outputs": [
    {
     "name": "stdout",
     "output_type": "stream",
     "text": [
      "[0, 2, 4, 6, 8, 10, 12, 14, 16, 18, 20, 22, 24, 26, 28, 30, 32, 34, 36, 38, 40, 42, 44, 46, 48, 50]\n"
     ]
    }
   ],
   "source": [
    "print(list(range(0,52,2)))"
   ]
  },
  {
   "cell_type": "code",
   "execution_count": 132,
   "id": "0d5907d0",
   "metadata": {},
   "outputs": [
    {
     "name": "stdout",
     "output_type": "stream",
     "text": [
      "[1, 3, 5, 7, 9, 11, 13, 15, 17, 19, 21, 23, 25, 27, 29, 31, 33, 35, 37, 39, 41, 43, 45, 47, 49]\n"
     ]
    }
   ],
   "source": [
    "print(list(range(1,50,2)))"
   ]
  },
  {
   "cell_type": "code",
   "execution_count": 140,
   "id": "68d75e81",
   "metadata": {},
   "outputs": [
    {
     "name": "stdout",
     "output_type": "stream",
     "text": [
      "Girilen deger numeric degildir. \n"
     ]
    }
   ],
   "source": [
    "notes = input(\"Notunuzu girin : \")\n",
    "\n",
    "if notes.isdigit():\n",
    "    if 0 <= int(notes) <= 100 :\n",
    "\n",
    "        if int(notes) >= 80:\n",
    "            sonuc = \"A\"\n",
    "        elif int(notes) >= 65:\n",
    "            sonuc = \"B\"\n",
    "        elif int(notes) >= 55:\n",
    "            sonuc = \"C\"\n",
    "        elif int(notes) >= 50:\n",
    "            sonuc = \"D\"\n",
    "        else:\n",
    "            sonuc = \"F\"\n",
    "\n",
    "        print(f\"Sinav notunuz : {notes}. Denk gelen harf notunuz {sonuc}\")    \n",
    "    else:\n",
    "        print(\"Girilen deger 0 ile 100 arasinda degil\")\n",
    "\n",
    "else:\n",
    "    print(\"Girilen deger numeric degildir. \")         \n"
   ]
  },
  {
   "cell_type": "code",
   "execution_count": null,
   "id": "37c7e18b",
   "metadata": {},
   "outputs": [],
   "source": []
  }
 ],
 "metadata": {
  "kernelspec": {
   "display_name": "Python 3",
   "language": "python",
   "name": "python3"
  },
  "language_info": {
   "codemirror_mode": {
    "name": "ipython",
    "version": 3
   },
   "file_extension": ".py",
   "mimetype": "text/x-python",
   "name": "python",
   "nbconvert_exporter": "python",
   "pygments_lexer": "ipython3",
   "version": "3.12.4"
  }
 },
 "nbformat": 4,
 "nbformat_minor": 5
}
