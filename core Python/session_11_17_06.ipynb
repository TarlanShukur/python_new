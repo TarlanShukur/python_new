{
 "cells": [
  {
   "cell_type": "markdown",
   "id": "e5c7f291",
   "metadata": {},
   "source": [
    "## Dictionaries"
   ]
  },
  {
   "cell_type": "code",
   "execution_count": 1,
   "id": "c66ab317",
   "metadata": {},
   "outputs": [
    {
     "data": {
      "text/plain": [
       "{}"
      ]
     },
     "execution_count": 1,
     "metadata": {},
     "output_type": "execute_result"
    }
   ],
   "source": [
    "{}\n",
    "dict()"
   ]
  },
  {
   "cell_type": "code",
   "execution_count": 2,
   "id": "b3aa6599",
   "metadata": {},
   "outputs": [
    {
     "data": {
      "text/plain": [
       "{'key1': 'value1', 'key2': 'value2'}"
      ]
     },
     "execution_count": 2,
     "metadata": {},
     "output_type": "execute_result"
    }
   ],
   "source": [
    "dict_1 = {\"key1\":\"value1\", \"key2\": \"value2\"}\n",
    "dict_1"
   ]
  },
  {
   "cell_type": "code",
   "execution_count": 3,
   "id": "dc095c9b",
   "metadata": {},
   "outputs": [
    {
     "data": {
      "text/plain": [
       "2"
      ]
     },
     "execution_count": 3,
     "metadata": {},
     "output_type": "execute_result"
    }
   ],
   "source": [
    "len(dict_1)"
   ]
  },
  {
   "cell_type": "code",
   "execution_count": 4,
   "id": "2d25b2ea",
   "metadata": {},
   "outputs": [
    {
     "data": {
      "text/plain": [
       "dict"
      ]
     },
     "execution_count": 4,
     "metadata": {},
     "output_type": "execute_result"
    }
   ],
   "source": [
    "type(dict_1)"
   ]
  },
  {
   "cell_type": "code",
   "execution_count": 5,
   "id": "d67dae58",
   "metadata": {},
   "outputs": [
    {
     "data": {
      "text/plain": [
       "dict_items([('key1', 'value1'), ('key2', 'value2')])"
      ]
     },
     "execution_count": 5,
     "metadata": {},
     "output_type": "execute_result"
    }
   ],
   "source": [
    "dict_1.items()"
   ]
  },
  {
   "cell_type": "markdown",
   "id": "7d55dc12",
   "metadata": {},
   "source": []
  },
  {
   "cell_type": "code",
   "execution_count": 6,
   "id": "6962cd8a",
   "metadata": {},
   "outputs": [
    {
     "data": {
      "text/plain": [
       "dict_keys(['key1', 'key2'])"
      ]
     },
     "execution_count": 6,
     "metadata": {},
     "output_type": "execute_result"
    }
   ],
   "source": [
    "dict_1.keys()"
   ]
  },
  {
   "cell_type": "code",
   "execution_count": 7,
   "id": "b7fc1acb",
   "metadata": {},
   "outputs": [
    {
     "data": {
      "text/plain": [
       "dict_values(['value1', 'value2'])"
      ]
     },
     "execution_count": 7,
     "metadata": {},
     "output_type": "execute_result"
    }
   ],
   "source": [
    "dict_1.values()"
   ]
  },
  {
   "cell_type": "code",
   "execution_count": 10,
   "id": "d0868f11",
   "metadata": {},
   "outputs": [
    {
     "data": {
      "text/plain": [
       "{'name': 'Hakan', 'age': 32, 'job': 'Data Scientist'}"
      ]
     },
     "execution_count": 10,
     "metadata": {},
     "output_type": "execute_result"
    }
   ],
   "source": [
    "dict_2 ={\"name\": \"Hakan\", \"age\":32, \"job\":\"Data Scientist\"}\n",
    "dict_2"
   ]
  },
  {
   "cell_type": "code",
   "execution_count": 11,
   "id": "5352ed24",
   "metadata": {},
   "outputs": [
    {
     "data": {
      "text/plain": [
       "dict_items([('name', 'Hakan'), ('age', 32), ('job', 'Data Scientist')])"
      ]
     },
     "execution_count": 11,
     "metadata": {},
     "output_type": "execute_result"
    }
   ],
   "source": [
    "dict_2.items()"
   ]
  },
  {
   "cell_type": "code",
   "execution_count": 12,
   "id": "d7a59e3e",
   "metadata": {},
   "outputs": [
    {
     "data": {
      "text/plain": [
       "3"
      ]
     },
     "execution_count": 12,
     "metadata": {},
     "output_type": "execute_result"
    }
   ],
   "source": [
    "len(dict_2)"
   ]
  },
  {
   "cell_type": "code",
   "execution_count": 13,
   "id": "eb5d9419",
   "metadata": {},
   "outputs": [
    {
     "data": {
      "text/plain": [
       "dict_keys(['name', 'age', 'job'])"
      ]
     },
     "execution_count": 13,
     "metadata": {},
     "output_type": "execute_result"
    }
   ],
   "source": [
    "dict_2.keys()"
   ]
  },
  {
   "cell_type": "code",
   "execution_count": 14,
   "id": "77b2f7df",
   "metadata": {},
   "outputs": [
    {
     "data": {
      "text/plain": [
       "dict_values(['Hakan', 32, 'Data Scientist'])"
      ]
     },
     "execution_count": 14,
     "metadata": {},
     "output_type": "execute_result"
    }
   ],
   "source": [
    "dict_2.values()"
   ]
  },
  {
   "cell_type": "code",
   "execution_count": 15,
   "id": "c5f6807e",
   "metadata": {},
   "outputs": [
    {
     "ename": "KeyError",
     "evalue": "0",
     "output_type": "error",
     "traceback": [
      "\u001b[1;31m---------------------------------------------------------------------------\u001b[0m",
      "\u001b[1;31mKeyError\u001b[0m                                  Traceback (most recent call last)",
      "Cell \u001b[1;32mIn[15], line 1\u001b[0m\n\u001b[1;32m----> 1\u001b[0m \u001b[43mdict_2\u001b[49m\u001b[43m[\u001b[49m\u001b[38;5;241;43m0\u001b[39;49m\u001b[43m]\u001b[49m\n",
      "\u001b[1;31mKeyError\u001b[0m: 0"
     ]
    }
   ],
   "source": [
    "dict_2[0]"
   ]
  },
  {
   "cell_type": "code",
   "execution_count": 16,
   "id": "65718a32",
   "metadata": {},
   "outputs": [
    {
     "data": {
      "text/plain": [
       "32"
      ]
     },
     "execution_count": 16,
     "metadata": {},
     "output_type": "execute_result"
    }
   ],
   "source": [
    "dict_2[\"age\"]"
   ]
  },
  {
   "cell_type": "code",
   "execution_count": 17,
   "id": "53db87ab",
   "metadata": {},
   "outputs": [
    {
     "data": {
      "text/plain": [
       "'Data Scientist'"
      ]
     },
     "execution_count": 17,
     "metadata": {},
     "output_type": "execute_result"
    }
   ],
   "source": [
    "dict_2[\"job\"]"
   ]
  },
  {
   "cell_type": "code",
   "execution_count": 19,
   "id": "8ca6d925",
   "metadata": {},
   "outputs": [
    {
     "ename": "KeyError",
     "evalue": "'Hakan'",
     "output_type": "error",
     "traceback": [
      "\u001b[1;31m---------------------------------------------------------------------------\u001b[0m",
      "\u001b[1;31mKeyError\u001b[0m                                  Traceback (most recent call last)",
      "Cell \u001b[1;32mIn[19], line 1\u001b[0m\n\u001b[1;32m----> 1\u001b[0m \u001b[43mdict_2\u001b[49m\u001b[43m[\u001b[49m\u001b[38;5;124;43m\"\u001b[39;49m\u001b[38;5;124;43mHakan\u001b[39;49m\u001b[38;5;124;43m\"\u001b[39;49m\u001b[43m]\u001b[49m\n",
      "\u001b[1;31mKeyError\u001b[0m: 'Hakan'"
     ]
    }
   ],
   "source": [
    "dict_2[\"Hakan\"]"
   ]
  },
  {
   "cell_type": "code",
   "execution_count": 20,
   "id": "387db9ad",
   "metadata": {},
   "outputs": [
    {
     "data": {
      "text/plain": [
       "'Hakan'"
      ]
     },
     "execution_count": 20,
     "metadata": {},
     "output_type": "execute_result"
    }
   ],
   "source": [
    "dict_2[\"name\"]"
   ]
  },
  {
   "cell_type": "code",
   "execution_count": 21,
   "id": "e69839d7",
   "metadata": {},
   "outputs": [
    {
     "data": {
      "text/plain": [
       "{'name': 'Hakan', 'age': '32', 'job': 'data analyst'}"
      ]
     },
     "execution_count": 21,
     "metadata": {},
     "output_type": "execute_result"
    }
   ],
   "source": [
    "dict_3 = {\"name\":\"Hakan\",\"age\":\"32\",\"job\":\"data scientist\",\"job\":\"data analyst\"}\n",
    "dict_3"
   ]
  },
  {
   "cell_type": "code",
   "execution_count": 2,
   "id": "672093af",
   "metadata": {},
   "outputs": [
    {
     "data": {
      "text/plain": [
       "{'name': 'Sedat'}"
      ]
     },
     "execution_count": 2,
     "metadata": {},
     "output_type": "execute_result"
    }
   ],
   "source": [
    "dict_4 = {\"name\": input(\"lutfen isminiz girin\")}\n",
    "dict_4"
   ]
  },
  {
   "cell_type": "markdown",
   "id": "a9f9ada0",
   "metadata": {},
   "source": [
    "# key olusturma"
   ]
  },
  {
   "cell_type": "code",
   "execution_count": 4,
   "id": "b94f1ed6",
   "metadata": {},
   "outputs": [
    {
     "data": {
      "text/plain": [
       "{0: 'zero', 1: 'one', 2: 'two'}"
      ]
     },
     "execution_count": 4,
     "metadata": {},
     "output_type": "execute_result"
    }
   ],
   "source": [
    "dict_5 = {0 : \"zero\", 1 : \"one\", 2 : \"two\"}\n",
    "dict_5"
   ]
  },
  {
   "cell_type": "code",
   "execution_count": 5,
   "id": "47068d41",
   "metadata": {},
   "outputs": [
    {
     "data": {
      "text/plain": [
       "'zero'"
      ]
     },
     "execution_count": 5,
     "metadata": {},
     "output_type": "execute_result"
    }
   ],
   "source": [
    "dict_5[0]"
   ]
  },
  {
   "cell_type": "code",
   "execution_count": 6,
   "id": "6dcea370",
   "metadata": {},
   "outputs": [
    {
     "data": {
      "text/plain": [
       "'two'"
      ]
     },
     "execution_count": 6,
     "metadata": {},
     "output_type": "execute_result"
    }
   ],
   "source": [
    "dict_5[2]"
   ]
  },
  {
   "cell_type": "code",
   "execution_count": 7,
   "id": "72b9caf5",
   "metadata": {},
   "outputs": [
    {
     "data": {
      "text/plain": [
       "dict_keys([0, 1, 2])"
      ]
     },
     "execution_count": 7,
     "metadata": {},
     "output_type": "execute_result"
    }
   ],
   "source": [
    "dict_5.keys()"
   ]
  },
  {
   "cell_type": "code",
   "execution_count": 9,
   "id": "435ebe26",
   "metadata": {},
   "outputs": [
    {
     "data": {
      "text/plain": [
       "{False: 0, True: 1}"
      ]
     },
     "execution_count": 9,
     "metadata": {},
     "output_type": "execute_result"
    }
   ],
   "source": [
    "dict_6 = {False: 0 , True: 1}\n",
    "dict_6"
   ]
  },
  {
   "cell_type": "code",
   "execution_count": 10,
   "id": "d5ebd093",
   "metadata": {},
   "outputs": [
    {
     "data": {
      "text/plain": [
       "0"
      ]
     },
     "execution_count": 10,
     "metadata": {},
     "output_type": "execute_result"
    }
   ],
   "source": [
    "dict_6[False]"
   ]
  },
  {
   "cell_type": "code",
   "execution_count": 11,
   "id": "1ec89f9f",
   "metadata": {},
   "outputs": [
    {
     "data": {
      "text/plain": [
       "0"
      ]
     },
     "execution_count": 11,
     "metadata": {},
     "output_type": "execute_result"
    }
   ],
   "source": [
    "dict_6[0]"
   ]
  },
  {
   "cell_type": "code",
   "execution_count": 14,
   "id": "898bb0f7",
   "metadata": {},
   "outputs": [
    {
     "data": {
      "text/plain": [
       "{3.14: 'pi_number', 2.7: 'other_number'}"
      ]
     },
     "execution_count": 14,
     "metadata": {},
     "output_type": "execute_result"
    }
   ],
   "source": [
    "dict_7 = {3.14 : \"pi_number\",2.7: \"other_number\"}\n",
    "dict_7"
   ]
  },
  {
   "cell_type": "code",
   "execution_count": 15,
   "id": "c533cc4a",
   "metadata": {},
   "outputs": [
    {
     "data": {
      "text/plain": [
       "'pi_number'"
      ]
     },
     "execution_count": 15,
     "metadata": {},
     "output_type": "execute_result"
    }
   ],
   "source": [
    "dict_7[3.14]"
   ]
  },
  {
   "cell_type": "code",
   "execution_count": 18,
   "id": "42c93e73",
   "metadata": {},
   "outputs": [
    {
     "ename": "TypeError",
     "evalue": "unhashable type: 'list'",
     "output_type": "error",
     "traceback": [
      "\u001b[1;31m---------------------------------------------------------------------------\u001b[0m",
      "\u001b[1;31mTypeError\u001b[0m                                 Traceback (most recent call last)",
      "Cell \u001b[1;32mIn[18], line 1\u001b[0m\n\u001b[1;32m----> 1\u001b[0m dict_8 \u001b[38;5;241m=\u001b[39m {[]: \u001b[38;5;124m\"\u001b[39m\u001b[38;5;124msayilar_listesi\u001b[39m\u001b[38;5;124m\"\u001b[39m}\n\u001b[0;32m      2\u001b[0m dict_8\n",
      "\u001b[1;31mTypeError\u001b[0m: unhashable type: 'list'"
     ]
    }
   ],
   "source": [
    "dict_8 = {[]: \"sayilar_listesi\"}\n",
    "dict_8"
   ]
  },
  {
   "cell_type": "code",
   "execution_count": 19,
   "id": "3a5a6757",
   "metadata": {},
   "outputs": [
    {
     "data": {
      "text/plain": [
       "{'sayilar_listesi': [1, 2, 3]}"
      ]
     },
     "execution_count": 19,
     "metadata": {},
     "output_type": "execute_result"
    }
   ],
   "source": [
    "dict_9 = {\"sayilar_listesi\":[1,2,3] }\n",
    "dict_9"
   ]
  },
  {
   "cell_type": "code",
   "execution_count": 20,
   "id": "dcc2d744",
   "metadata": {},
   "outputs": [
    {
     "data": {
      "text/plain": [
       "{(1, 2, 3): 'sayilar demeti'}"
      ]
     },
     "execution_count": 20,
     "metadata": {},
     "output_type": "execute_result"
    }
   ],
   "source": [
    "dict_10 = {(1,2,3):\"sayilar demeti\"}\n",
    "dict_10"
   ]
  },
  {
   "cell_type": "code",
   "execution_count": 21,
   "id": "13151039",
   "metadata": {},
   "outputs": [
    {
     "data": {
      "text/plain": [
       "{'ogrenci_1': ['Bahar', 25, 'python developer'],\n",
       " 'ogrenci_2': ('Arzu', 25, 'data scientist')}"
      ]
     },
     "execution_count": 21,
     "metadata": {},
     "output_type": "execute_result"
    }
   ],
   "source": [
    "dict_11 = {\"ogrenci_1\" : [\"Bahar\", 25,\"python developer\"], \"ogrenci_2\": (\"Arzu\", 25, \"data scientist\")}\n",
    "dict_11"
   ]
  },
  {
   "cell_type": "code",
   "execution_count": 22,
   "id": "31eae8fa",
   "metadata": {},
   "outputs": [
    {
     "data": {
      "text/plain": [
       "dict_items([('ogrenci_1', ['Bahar', 25, 'python developer']), ('ogrenci_2', ('Arzu', 25, 'data scientist'))])"
      ]
     },
     "execution_count": 22,
     "metadata": {},
     "output_type": "execute_result"
    }
   ],
   "source": [
    "dict_11.items()"
   ]
  },
  {
   "cell_type": "code",
   "execution_count": 23,
   "id": "1fafeee2",
   "metadata": {},
   "outputs": [
    {
     "data": {
      "text/plain": [
       "dict_keys(['ogrenci_1', 'ogrenci_2'])"
      ]
     },
     "execution_count": 23,
     "metadata": {},
     "output_type": "execute_result"
    }
   ],
   "source": [
    "dict_11.keys()"
   ]
  },
  {
   "cell_type": "code",
   "execution_count": 24,
   "id": "fa35e60d",
   "metadata": {},
   "outputs": [
    {
     "data": {
      "text/plain": [
       "dict_values([['Bahar', 25, 'python developer'], ('Arzu', 25, 'data scientist')])"
      ]
     },
     "execution_count": 24,
     "metadata": {},
     "output_type": "execute_result"
    }
   ],
   "source": [
    "dict_11.values()"
   ]
  },
  {
   "cell_type": "code",
   "execution_count": 25,
   "id": "8fec3d1c",
   "metadata": {},
   "outputs": [
    {
     "data": {
      "text/plain": [
       "['Bahar', 25, 'python developer']"
      ]
     },
     "execution_count": 25,
     "metadata": {},
     "output_type": "execute_result"
    }
   ],
   "source": [
    "dict_11[\"ogrenci_1\"]"
   ]
  },
  {
   "cell_type": "code",
   "execution_count": 26,
   "id": "b93d9c6e",
   "metadata": {},
   "outputs": [
    {
     "data": {
      "text/plain": [
       "('Arzu', 25, 'data scientist')"
      ]
     },
     "execution_count": 26,
     "metadata": {},
     "output_type": "execute_result"
    }
   ],
   "source": [
    "dict_11[\"ogrenci_2\"]"
   ]
  },
  {
   "cell_type": "code",
   "execution_count": 27,
   "id": "ca0b35d3",
   "metadata": {},
   "outputs": [],
   "source": [
    "dict_11[\"ogrenci_1\"].append(\"BMI\")"
   ]
  },
  {
   "cell_type": "code",
   "execution_count": 28,
   "id": "31b7b7c8",
   "metadata": {},
   "outputs": [
    {
     "data": {
      "text/plain": [
       "{'ogrenci_1': ['Bahar', 25, 'python developer', 'BMI'],\n",
       " 'ogrenci_2': ('Arzu', 25, 'data scientist')}"
      ]
     },
     "execution_count": 28,
     "metadata": {},
     "output_type": "execute_result"
    }
   ],
   "source": [
    "dict_11"
   ]
  },
  {
   "cell_type": "code",
   "execution_count": 29,
   "id": "550b873a",
   "metadata": {},
   "outputs": [
    {
     "data": {
      "text/plain": [
       "('Arzu', 25, 'data scientist')"
      ]
     },
     "execution_count": 29,
     "metadata": {},
     "output_type": "execute_result"
    }
   ],
   "source": [
    "dict_11[\"ogrenci_2\"]"
   ]
  },
  {
   "cell_type": "code",
   "execution_count": 30,
   "id": "de03b601",
   "metadata": {},
   "outputs": [],
   "source": [
    "dict_11[\"ogrenci_1\"][1] = 26"
   ]
  },
  {
   "cell_type": "code",
   "execution_count": 31,
   "id": "6f934a83",
   "metadata": {},
   "outputs": [
    {
     "data": {
      "text/plain": [
       "{'ogrenci_1': ['Bahar', 26, 'python developer', 'BMI'],\n",
       " 'ogrenci_2': ('Arzu', 25, 'data scientist')}"
      ]
     },
     "execution_count": 31,
     "metadata": {},
     "output_type": "execute_result"
    }
   ],
   "source": [
    "dict_11"
   ]
  },
  {
   "cell_type": "code",
   "execution_count": 32,
   "id": "cbaea37c",
   "metadata": {},
   "outputs": [
    {
     "data": {
      "text/plain": [
       "{'araba': 'Renault', 3.14: 'pi_number', True: 1, 0: 'zero'}"
      ]
     },
     "execution_count": 32,
     "metadata": {},
     "output_type": "execute_result"
    }
   ],
   "source": [
    "dict_12 = {\"araba\": \"Renault\", 3.14 : \"pi_number\", True : 1 , 0:\"zero\" }\n",
    "dict_12"
   ]
  },
  {
   "cell_type": "code",
   "execution_count": 33,
   "id": "db795922",
   "metadata": {},
   "outputs": [
    {
     "data": {
      "text/plain": [
       "{'one': 1, 'two': 2, 'three': 3}"
      ]
     },
     "execution_count": 33,
     "metadata": {},
     "output_type": "execute_result"
    }
   ],
   "source": [
    "dict(one=1, two=2, three=3)"
   ]
  },
  {
   "cell_type": "code",
   "execution_count": 34,
   "id": "f08a7962",
   "metadata": {},
   "outputs": [
    {
     "ename": "SyntaxError",
     "evalue": "expression cannot contain assignment, perhaps you meant \"==\"? (4052731317.py, line 1)",
     "output_type": "error",
     "traceback": [
      "\u001b[1;36m  Cell \u001b[1;32mIn[34], line 1\u001b[1;36m\u001b[0m\n\u001b[1;33m    dict(0 = \"zero\", 1 =\"one\")\u001b[0m\n\u001b[1;37m         ^\u001b[0m\n\u001b[1;31mSyntaxError\u001b[0m\u001b[1;31m:\u001b[0m expression cannot contain assignment, perhaps you meant \"==\"?\n"
     ]
    }
   ],
   "source": [
    "dict(0 = \"zero\", 1 =\"one\")"
   ]
  },
  {
   "cell_type": "code",
   "execution_count": 35,
   "id": "2a563bb5",
   "metadata": {},
   "outputs": [],
   "source": [
    "liste_1 = [(\"name_1\", \"Cuneyt\"), (\"name_2\",\"Ferdi\"), (\"name_3\",\"Cenk\")]"
   ]
  },
  {
   "cell_type": "code",
   "execution_count": 36,
   "id": "823183c1",
   "metadata": {},
   "outputs": [
    {
     "data": {
      "text/plain": [
       "{'name_1': 'Cuneyt', 'name_2': 'Ferdi', 'name_3': 'Cenk'}"
      ]
     },
     "execution_count": 36,
     "metadata": {},
     "output_type": "execute_result"
    }
   ],
   "source": [
    "dict(liste_1)"
   ]
  },
  {
   "cell_type": "code",
   "execution_count": 39,
   "id": "2a3366ef",
   "metadata": {},
   "outputs": [
    {
     "data": {
      "text/plain": [
       "{'name_1': 'Cuneyt', 'name_2': 'Ferdi', 'name_3': 'Cenk'}"
      ]
     },
     "execution_count": 39,
     "metadata": {},
     "output_type": "execute_result"
    }
   ],
   "source": [
    "liste_2 = ([\"name_1\", \"Cuneyt\"], [\"name_2\",\"Ferdi\"], [\"name_3\",\"Cenk\"])\n",
    "dict(liste_2)"
   ]
  },
  {
   "cell_type": "code",
   "execution_count": 40,
   "id": "d77bdf37",
   "metadata": {},
   "outputs": [
    {
     "data": {
      "text/plain": [
       "{'friend1': 'Sedat', 'friend2': 'Ahmet', 'friend3': 'Ali'}"
      ]
     },
     "execution_count": 40,
     "metadata": {},
     "output_type": "execute_result"
    }
   ],
   "source": [
    "dict_13={\"friend1\": \"Sedat\",\"friend2\":\"Ahmet\",\"friend3\": \"Ali\" }\n",
    "dict_13"
   ]
  },
  {
   "cell_type": "code",
   "execution_count": 41,
   "id": "120c2e1f",
   "metadata": {},
   "outputs": [
    {
     "data": {
      "text/plain": [
       "3"
      ]
     },
     "execution_count": 41,
     "metadata": {},
     "output_type": "execute_result"
    }
   ],
   "source": [
    "len(dict_13)"
   ]
  },
  {
   "cell_type": "code",
   "execution_count": 43,
   "id": "6699c1d7",
   "metadata": {},
   "outputs": [
    {
     "data": {
      "text/plain": [
       "'Sedat'"
      ]
     },
     "execution_count": 43,
     "metadata": {},
     "output_type": "execute_result"
    }
   ],
   "source": [
    "dict_13[\"friend1\"]"
   ]
  },
  {
   "cell_type": "code",
   "execution_count": 44,
   "id": "a527dffc",
   "metadata": {},
   "outputs": [
    {
     "ename": "KeyError",
     "evalue": "'friend4'",
     "output_type": "error",
     "traceback": [
      "\u001b[1;31m---------------------------------------------------------------------------\u001b[0m",
      "\u001b[1;31mKeyError\u001b[0m                                  Traceback (most recent call last)",
      "Cell \u001b[1;32mIn[44], line 1\u001b[0m\n\u001b[1;32m----> 1\u001b[0m \u001b[43mdict_13\u001b[49m\u001b[43m[\u001b[49m\u001b[38;5;124;43m\"\u001b[39;49m\u001b[38;5;124;43mfriend4\u001b[39;49m\u001b[38;5;124;43m\"\u001b[39;49m\u001b[43m]\u001b[49m\n",
      "\u001b[1;31mKeyError\u001b[0m: 'friend4'"
     ]
    }
   ],
   "source": [
    "dict_13[\"friend4\"]"
   ]
  },
  {
   "cell_type": "code",
   "execution_count": 45,
   "id": "4dc2fe66",
   "metadata": {},
   "outputs": [],
   "source": [
    "dict_13[\"friend4\"] = \"Aksu\""
   ]
  },
  {
   "cell_type": "code",
   "execution_count": 46,
   "id": "5f72559a",
   "metadata": {},
   "outputs": [
    {
     "data": {
      "text/plain": [
       "{'friend1': 'Sedat', 'friend2': 'Ahmet', 'friend3': 'Ali', 'friend4': 'Aksu'}"
      ]
     },
     "execution_count": 46,
     "metadata": {},
     "output_type": "execute_result"
    }
   ],
   "source": [
    "dict_13"
   ]
  },
  {
   "cell_type": "code",
   "execution_count": 47,
   "id": "e55c1839",
   "metadata": {},
   "outputs": [],
   "source": [
    "dict_13[\"friend2\"]=\"Samet\""
   ]
  },
  {
   "cell_type": "code",
   "execution_count": 48,
   "id": "38fde0bb",
   "metadata": {},
   "outputs": [
    {
     "data": {
      "text/plain": [
       "{'friend1': 'Sedat', 'friend2': 'Samet', 'friend3': 'Ali', 'friend4': 'Aksu'}"
      ]
     },
     "execution_count": 48,
     "metadata": {},
     "output_type": "execute_result"
    }
   ],
   "source": [
    "dict_13"
   ]
  },
  {
   "cell_type": "code",
   "execution_count": 49,
   "id": "4f5aa15a",
   "metadata": {},
   "outputs": [],
   "source": [
    "dict_13[\"friend3\"]= [\"Veli\",\"Yusuf\"]"
   ]
  },
  {
   "cell_type": "code",
   "execution_count": 50,
   "id": "26d97f23",
   "metadata": {},
   "outputs": [
    {
     "data": {
      "text/plain": [
       "{'friend1': 'Sedat',\n",
       " 'friend2': 'Samet',\n",
       " 'friend3': ['Veli', 'Yusuf'],\n",
       " 'friend4': 'Aksu'}"
      ]
     },
     "execution_count": 50,
     "metadata": {},
     "output_type": "execute_result"
    }
   ],
   "source": [
    "dict_13"
   ]
  },
  {
   "cell_type": "code",
   "execution_count": 56,
   "id": "488988c4",
   "metadata": {},
   "outputs": [
    {
     "data": {
      "text/plain": [
       "{'tek_sayilar': [], 'cift_sayilar': []}"
      ]
     },
     "execution_count": 56,
     "metadata": {},
     "output_type": "execute_result"
    }
   ],
   "source": [
    "sayilar = {\"tek_sayilar\":[],\"cift_sayilar\":[]}\n",
    "sayilar"
   ]
  },
  {
   "cell_type": "code",
   "execution_count": 57,
   "id": "6115bfc2",
   "metadata": {},
   "outputs": [],
   "source": [
    "sayilar[\"tek_sayilar\"] = 1,3,5,7,9"
   ]
  },
  {
   "cell_type": "code",
   "execution_count": 58,
   "id": "913d2314",
   "metadata": {},
   "outputs": [
    {
     "data": {
      "text/plain": [
       "{'tek_sayilar': (1, 3, 5, 7, 9), 'cift_sayilar': []}"
      ]
     },
     "execution_count": 58,
     "metadata": {},
     "output_type": "execute_result"
    }
   ],
   "source": [
    "sayilar"
   ]
  },
  {
   "cell_type": "code",
   "execution_count": 61,
   "id": "2e064333",
   "metadata": {},
   "outputs": [],
   "source": [
    "sayilar[\"cift_sayilar\"] = list(range(1,50,2))\n",
    "sayilar[\"tek_sayilar\"] = list(range(0,50,2))"
   ]
  },
  {
   "cell_type": "code",
   "execution_count": 63,
   "id": "03280226",
   "metadata": {},
   "outputs": [
    {
     "name": "stdout",
     "output_type": "stream",
     "text": [
      "{'tek_sayilar': [0, 2, 4, 6, 8, 10, 12, 14, 16, 18, 20, 22, 24, 26, 28, 30, 32, 34, 36, 38, 40, 42, 44, 46, 48], 'cift_sayilar': [1, 3, 5, 7, 9, 11, 13, 15, 17, 19, 21, 23, 25, 27, 29, 31, 33, 35, 37, 39, 41, 43, 45, 47, 49]}\n"
     ]
    }
   ],
   "source": [
    "print(sayilar)"
   ]
  },
  {
   "cell_type": "markdown",
   "id": "412ab127",
   "metadata": {},
   "source": [
    "# basic operatings with Dictionaries"
   ]
  },
  {
   "cell_type": "markdown",
   "id": "a470c683",
   "metadata": {},
   "source": [
    "## update()"
   ]
  },
  {
   "cell_type": "code",
   "execution_count": 64,
   "id": "395ab0fd",
   "metadata": {},
   "outputs": [
    {
     "data": {
      "text/plain": [
       "{'friend1': 'Sedat',\n",
       " 'friend2': 'Samet',\n",
       " 'friend3': ['Veli', 'Yusuf'],\n",
       " 'friend4': 'Aksu'}"
      ]
     },
     "execution_count": 64,
     "metadata": {},
     "output_type": "execute_result"
    }
   ],
   "source": [
    "dict_13"
   ]
  },
  {
   "cell_type": "code",
   "execution_count": 68,
   "id": "e9da1fed",
   "metadata": {},
   "outputs": [
    {
     "data": {
      "text/plain": [
       "{'friend1': 'Sedat',\n",
       " 'friend2': 'Samet',\n",
       " 'friend3': ['Veli', 'Yusuf'],\n",
       " 'friend4': 'Aksu',\n",
       " 'friend5': 'Huseyin'}"
      ]
     },
     "execution_count": 68,
     "metadata": {},
     "output_type": "execute_result"
    }
   ],
   "source": [
    "dict_13.update({\"friend5\": \"Huseyin\"})\n",
    "dict_13"
   ]
  },
  {
   "cell_type": "code",
   "execution_count": 70,
   "id": "72a008c3",
   "metadata": {},
   "outputs": [],
   "source": [
    "yeni_arkadas = {\"friend6\":\"Sinan\"}"
   ]
  },
  {
   "cell_type": "code",
   "execution_count": 71,
   "id": "5e2cda05",
   "metadata": {},
   "outputs": [],
   "source": [
    "dict_13.update(yeni_arkadas)"
   ]
  },
  {
   "cell_type": "code",
   "execution_count": 72,
   "id": "0a6a7208",
   "metadata": {},
   "outputs": [
    {
     "data": {
      "text/plain": [
       "{'friend1': 'Sedat',\n",
       " 'friend2': 'Samet',\n",
       " 'friend3': ['Veli', 'Yusuf'],\n",
       " 'friend4': 'Aksu',\n",
       " 'friend5': 'Huseyin',\n",
       " 'friend6': 'Sinan'}"
      ]
     },
     "execution_count": 72,
     "metadata": {},
     "output_type": "execute_result"
    }
   ],
   "source": [
    "dict_13"
   ]
  },
  {
   "cell_type": "code",
   "execution_count": 73,
   "id": "b47ae289",
   "metadata": {},
   "outputs": [
    {
     "ename": "TypeError",
     "evalue": "unsupported operand type(s) for +: 'dict' and 'dict'",
     "output_type": "error",
     "traceback": [
      "\u001b[1;31m---------------------------------------------------------------------------\u001b[0m",
      "\u001b[1;31mTypeError\u001b[0m                                 Traceback (most recent call last)",
      "Cell \u001b[1;32mIn[73], line 1\u001b[0m\n\u001b[1;32m----> 1\u001b[0m \u001b[43m{\u001b[49m\u001b[38;5;124;43m\"\u001b[39;49m\u001b[38;5;124;43mname\u001b[39;49m\u001b[38;5;124;43m\"\u001b[39;49m\u001b[43m:\u001b[49m\u001b[38;5;124;43m\"\u001b[39;49m\u001b[38;5;124;43msedat\u001b[39;49m\u001b[38;5;124;43m\"\u001b[39;49m\u001b[43m}\u001b[49m\u001b[43m \u001b[49m\u001b[38;5;241;43m+\u001b[39;49m\u001b[43m \u001b[49m\u001b[43m{\u001b[49m\u001b[38;5;124;43m\"\u001b[39;49m\u001b[38;5;124;43mlast_name\u001b[39;49m\u001b[38;5;124;43m\"\u001b[39;49m\u001b[43m:\u001b[49m\u001b[38;5;124;43m\"\u001b[39;49m\u001b[38;5;124;43mAslan\u001b[39;49m\u001b[38;5;124;43m\"\u001b[39;49m\u001b[43m}\u001b[49m\n",
      "\u001b[1;31mTypeError\u001b[0m: unsupported operand type(s) for +: 'dict' and 'dict'"
     ]
    }
   ],
   "source": [
    "{\"name\":\"sedat\"} + {\"last_name\":\"Aslan\"}"
   ]
  },
  {
   "cell_type": "code",
   "execution_count": 74,
   "id": "74393522",
   "metadata": {},
   "outputs": [
    {
     "ename": "TypeError",
     "evalue": "unsupported operand type(s) for *: 'dict' and 'int'",
     "output_type": "error",
     "traceback": [
      "\u001b[1;31m---------------------------------------------------------------------------\u001b[0m",
      "\u001b[1;31mTypeError\u001b[0m                                 Traceback (most recent call last)",
      "Cell \u001b[1;32mIn[74], line 1\u001b[0m\n\u001b[1;32m----> 1\u001b[0m \u001b[43m{\u001b[49m\u001b[38;5;124;43m\"\u001b[39;49m\u001b[38;5;124;43mname\u001b[39;49m\u001b[38;5;124;43m\"\u001b[39;49m\u001b[43m:\u001b[49m\u001b[38;5;124;43m\"\u001b[39;49m\u001b[38;5;124;43msedat\u001b[39;49m\u001b[38;5;124;43m\"\u001b[39;49m\u001b[43m}\u001b[49m\u001b[43m \u001b[49m\u001b[38;5;241;43m*\u001b[39;49m\u001b[38;5;241;43m3\u001b[39;49m \n",
      "\u001b[1;31mTypeError\u001b[0m: unsupported operand type(s) for *: 'dict' and 'int'"
     ]
    }
   ],
   "source": [
    "{\"name\":\"sedat\"} *3 "
   ]
  },
  {
   "cell_type": "markdown",
   "id": "ebe9e5c9",
   "metadata": {},
   "source": [
    "## pop()"
   ]
  },
  {
   "cell_type": "code",
   "execution_count": 75,
   "id": "cc1ae82f",
   "metadata": {},
   "outputs": [
    {
     "data": {
      "text/plain": [
       "{'friend1': 'Sedat',\n",
       " 'friend2': 'Samet',\n",
       " 'friend3': ['Veli', 'Yusuf'],\n",
       " 'friend4': 'Aksu',\n",
       " 'friend5': 'Huseyin',\n",
       " 'friend6': 'Sinan'}"
      ]
     },
     "execution_count": 75,
     "metadata": {},
     "output_type": "execute_result"
    }
   ],
   "source": [
    "dict_13"
   ]
  },
  {
   "cell_type": "code",
   "execution_count": 76,
   "id": "c322bc37",
   "metadata": {},
   "outputs": [
    {
     "ename": "TypeError",
     "evalue": "pop expected at least 1 argument, got 0",
     "output_type": "error",
     "traceback": [
      "\u001b[1;31m---------------------------------------------------------------------------\u001b[0m",
      "\u001b[1;31mTypeError\u001b[0m                                 Traceback (most recent call last)",
      "Cell \u001b[1;32mIn[76], line 1\u001b[0m\n\u001b[1;32m----> 1\u001b[0m \u001b[43mdict_13\u001b[49m\u001b[38;5;241;43m.\u001b[39;49m\u001b[43mpop\u001b[49m\u001b[43m(\u001b[49m\u001b[43m)\u001b[49m\n",
      "\u001b[1;31mTypeError\u001b[0m: pop expected at least 1 argument, got 0"
     ]
    }
   ],
   "source": [
    "dict_13.pop()"
   ]
  },
  {
   "cell_type": "code",
   "execution_count": 77,
   "id": "553477b7",
   "metadata": {},
   "outputs": [
    {
     "data": {
      "text/plain": [
       "'Sedat'"
      ]
     },
     "execution_count": 77,
     "metadata": {},
     "output_type": "execute_result"
    }
   ],
   "source": [
    "dict_13.pop(\"friend1\")"
   ]
  },
  {
   "cell_type": "code",
   "execution_count": 78,
   "id": "a999460a",
   "metadata": {},
   "outputs": [
    {
     "data": {
      "text/plain": [
       "{'friend2': 'Samet',\n",
       " 'friend3': ['Veli', 'Yusuf'],\n",
       " 'friend4': 'Aksu',\n",
       " 'friend5': 'Huseyin',\n",
       " 'friend6': 'Sinan'}"
      ]
     },
     "execution_count": 78,
     "metadata": {},
     "output_type": "execute_result"
    }
   ],
   "source": [
    "dict_13"
   ]
  },
  {
   "cell_type": "markdown",
   "id": "ffcddb1f",
   "metadata": {},
   "source": [
    "## clear()"
   ]
  },
  {
   "cell_type": "code",
   "execution_count": 79,
   "id": "3d2988a6",
   "metadata": {},
   "outputs": [],
   "source": [
    "dict_10.clear()"
   ]
  },
  {
   "cell_type": "code",
   "execution_count": 80,
   "id": "1ff381b9",
   "metadata": {},
   "outputs": [
    {
     "data": {
      "text/plain": [
       "{}"
      ]
     },
     "execution_count": 80,
     "metadata": {},
     "output_type": "execute_result"
    }
   ],
   "source": [
    "dict_10"
   ]
  },
  {
   "cell_type": "code",
   "execution_count": 81,
   "id": "ddbb4315",
   "metadata": {},
   "outputs": [],
   "source": [
    "bos_dict ={}"
   ]
  },
  {
   "cell_type": "code",
   "execution_count": 82,
   "id": "f50c02e1",
   "metadata": {},
   "outputs": [],
   "source": [
    "bos_dict2= dict()"
   ]
  },
  {
   "cell_type": "code",
   "execution_count": 83,
   "id": "3ca499d6",
   "metadata": {},
   "outputs": [
    {
     "data": {
      "text/plain": [
       "{}"
      ]
     },
     "execution_count": 83,
     "metadata": {},
     "output_type": "execute_result"
    }
   ],
   "source": [
    "bos_dict2"
   ]
  },
  {
   "cell_type": "markdown",
   "id": "c89a30f7",
   "metadata": {},
   "source": [
    "## Nested Dictionaries"
   ]
  },
  {
   "cell_type": "code",
   "execution_count": 92,
   "id": "b3b4a8c4",
   "metadata": {},
   "outputs": [],
   "source": [
    "my_family = {\"wife\" : {\"name\":\"Emily\",\"birth_year\":1992},\n",
    "             \"child1\": {\"name\":(\"Tobias\",\"Harisson\"),\"birth_year\":2015},\n",
    "             \"child2\": {\"name\":\"Linus\",\"birth_year\":2016}\n",
    "             }"
   ]
  },
  {
   "cell_type": "code",
   "execution_count": 93,
   "id": "eb8a73a0",
   "metadata": {},
   "outputs": [
    {
     "data": {
      "text/plain": [
       "{'wife': {'name': 'Emily', 'birth_year': 1992},\n",
       " 'child1': {'name': ('Tobias', 'Harisson'), 'birth_year': 2015},\n",
       " 'child2': {'name': 'Linus', 'birth_year': 2016}}"
      ]
     },
     "execution_count": 93,
     "metadata": {},
     "output_type": "execute_result"
    }
   ],
   "source": [
    "my_family"
   ]
  },
  {
   "cell_type": "code",
   "execution_count": 94,
   "id": "11cd2ad8",
   "metadata": {},
   "outputs": [
    {
     "data": {
      "text/plain": [
       "dict_keys(['wife', 'child1', 'child2'])"
      ]
     },
     "execution_count": 94,
     "metadata": {},
     "output_type": "execute_result"
    }
   ],
   "source": [
    "my_family.keys()"
   ]
  },
  {
   "cell_type": "code",
   "execution_count": 87,
   "id": "c936db13",
   "metadata": {},
   "outputs": [
    {
     "data": {
      "text/plain": [
       "{'name': 'Emily', 'birth_year': 1992}"
      ]
     },
     "execution_count": 87,
     "metadata": {},
     "output_type": "execute_result"
    }
   ],
   "source": [
    "my_family[\"wife\"]"
   ]
  },
  {
   "cell_type": "code",
   "execution_count": 88,
   "id": "ab2844eb",
   "metadata": {},
   "outputs": [
    {
     "data": {
      "text/plain": [
       "dict_keys(['name', 'birth_year'])"
      ]
     },
     "execution_count": 88,
     "metadata": {},
     "output_type": "execute_result"
    }
   ],
   "source": [
    "my_family[\"wife\"].keys()"
   ]
  },
  {
   "cell_type": "code",
   "execution_count": 95,
   "id": "f3a7a79c",
   "metadata": {},
   "outputs": [
    {
     "data": {
      "text/plain": [
       "{'name': ('Tobias', 'Harisson'), 'birth_year': 2015}"
      ]
     },
     "execution_count": 95,
     "metadata": {},
     "output_type": "execute_result"
    }
   ],
   "source": [
    "my_family[\"child1\"]"
   ]
  },
  {
   "cell_type": "code",
   "execution_count": 96,
   "id": "77b2032f",
   "metadata": {},
   "outputs": [
    {
     "data": {
      "text/plain": [
       "2015"
      ]
     },
     "execution_count": 96,
     "metadata": {},
     "output_type": "execute_result"
    }
   ],
   "source": [
    "my_family[\"child1\"][\"birth_year\"]"
   ]
  },
  {
   "cell_type": "code",
   "execution_count": 97,
   "id": "6390d804",
   "metadata": {},
   "outputs": [
    {
     "data": {
      "text/plain": [
       "('Tobias', 'Harisson')"
      ]
     },
     "execution_count": 97,
     "metadata": {},
     "output_type": "execute_result"
    }
   ],
   "source": [
    "my_family[\"child1\"][\"name\"]"
   ]
  },
  {
   "cell_type": "code",
   "execution_count": 98,
   "id": "259c55b5",
   "metadata": {},
   "outputs": [
    {
     "data": {
      "text/plain": [
       "'Tobias'"
      ]
     },
     "execution_count": 98,
     "metadata": {},
     "output_type": "execute_result"
    }
   ],
   "source": [
    "my_family[\"child1\"][\"name\"][0]"
   ]
  },
  {
   "cell_type": "code",
   "execution_count": 99,
   "id": "90431882",
   "metadata": {},
   "outputs": [
    {
     "data": {
      "text/plain": [
       "'Harisson'"
      ]
     },
     "execution_count": 99,
     "metadata": {},
     "output_type": "execute_result"
    }
   ],
   "source": [
    "my_family[\"child1\"][\"name\"][1]"
   ]
  },
  {
   "cell_type": "code",
   "execution_count": null,
   "id": "bf339fb2",
   "metadata": {},
   "outputs": [],
   "source": []
  }
 ],
 "metadata": {
  "kernelspec": {
   "display_name": "Python 3",
   "language": "python",
   "name": "python3"
  },
  "language_info": {
   "codemirror_mode": {
    "name": "ipython",
    "version": 3
   },
   "file_extension": ".py",
   "mimetype": "text/x-python",
   "name": "python",
   "nbconvert_exporter": "python",
   "pygments_lexer": "ipython3",
   "version": "3.12.4"
  }
 },
 "nbformat": 4,
 "nbformat_minor": 5
}
