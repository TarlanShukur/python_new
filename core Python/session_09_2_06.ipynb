{
 "cells": [
  {
   "cell_type": "code",
   "execution_count": 7,
   "id": "aa95f992",
   "metadata": {},
   "outputs": [
    {
     "name": "stdout",
     "output_type": "stream",
     "text": [
      "vucut kitle endeksi: 24\n",
      "Normal kilo araligindasiniz\n"
     ]
    }
   ],
   "source": [
    "kilo = int(input(\"Lutfen kilonuzu kb cincinden girin: 75\"))\n",
    "boy = int(input(\"Lutfen boy bilginizi cm cinsinden giriniz: 175\")) /100\n",
    "vki = kilo / boy ** 2\n",
    "print(f\"vucut kitle endeksi: {round(vki)}\")\n",
    "\n",
    "if vki < 18.5:\n",
    "    print(\"Normal kilonun altindasiniz: {vki:2f}\")\n",
    "\n",
    "elif vki < 25:\n",
    "    print(\"Normal kilo araligindasiniz\")\n",
    "\n",
    "elif vki <30:\n",
    "    print(\"Normal kilonuzun uzerindesiniz. Dikkat edin\")\n",
    "\n",
    "else:\n",
    "    print(\"Normal kilonuz cok uzrerindesiniz.\")"
   ]
  },
  {
   "cell_type": "code",
   "execution_count": 14,
   "id": "a67701c6",
   "metadata": {},
   "outputs": [
    {
     "name": "stdout",
     "output_type": "stream",
     "text": [
      "Pro\n"
     ]
    }
   ],
   "source": [
    "sayi = int(input(\"Lutfen tam sayi girin: \"))\n",
    "\n",
    "if sayi % 3 == 0 and sayi % 5 == 0:\n",
    "    print(\"Techpro\")\n",
    "\n",
    "elif sayi % 3 == 0:\n",
    "    print(\"Tech\")\n",
    "\n",
    "elif sayi % 5 ==0:\n",
    "    print(\"Pro\")\n",
    "\n",
    "else:\n",
    "    print(sayi)    \n"
   ]
  },
  {
   "cell_type": "code",
   "execution_count": null,
   "id": "a967a546",
   "metadata": {},
   "outputs": [],
   "source": []
  }
 ],
 "metadata": {
  "kernelspec": {
   "display_name": "Python 3",
   "language": "python",
   "name": "python3"
  },
  "language_info": {
   "codemirror_mode": {
    "name": "ipython",
    "version": 3
   },
   "file_extension": ".py",
   "mimetype": "text/x-python",
   "name": "python",
   "nbconvert_exporter": "python",
   "pygments_lexer": "ipython3",
   "version": "3.12.4"
  }
 },
 "nbformat": 4,
 "nbformat_minor": 5
}
