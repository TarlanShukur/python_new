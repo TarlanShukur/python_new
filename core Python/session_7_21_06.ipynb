{
 "cells": [
  {
   "cell_type": "code",
   "execution_count": 1,
   "id": "ee1e5811",
   "metadata": {},
   "outputs": [
    {
     "data": {
      "text/plain": [
       "8"
      ]
     },
     "execution_count": 1,
     "metadata": {},
     "output_type": "execute_result"
    }
   ],
   "source": [
    "3 + 5"
   ]
  },
  {
   "cell_type": "markdown",
   "id": "0b1ed592",
   "metadata": {},
   "source": [
    "## capitalize()"
   ]
  },
  {
   "cell_type": "code",
   "execution_count": 2,
   "id": "daf8b368",
   "metadata": {},
   "outputs": [
    {
     "data": {
      "text/plain": [
       "'Techpro'"
      ]
     },
     "execution_count": 2,
     "metadata": {},
     "output_type": "execute_result"
    }
   ],
   "source": [
    "\"techpro\".capitalize()"
   ]
  },
  {
   "cell_type": "code",
   "execution_count": 3,
   "id": "b40fed2e",
   "metadata": {},
   "outputs": [
    {
     "data": {
      "text/plain": [
       "'Capitalie bir cumlenin ilk harfini buyuk yapar'"
      ]
     },
     "execution_count": 3,
     "metadata": {},
     "output_type": "execute_result"
    }
   ],
   "source": [
    "\"capitalie bir cumlenin ilk harfini buyuk yapar\".capitalize()"
   ]
  },
  {
   "cell_type": "code",
   "execution_count": 4,
   "id": "f205d65a",
   "metadata": {},
   "outputs": [
    {
     "data": {
      "text/plain": [
       "'Techpro education'"
      ]
     },
     "execution_count": 4,
     "metadata": {},
     "output_type": "execute_result"
    }
   ],
   "source": [
    "\"techpro EDUcation\".capitalize()"
   ]
  },
  {
   "cell_type": "markdown",
   "id": "88e845f3",
   "metadata": {},
   "source": [
    "## title()"
   ]
  },
  {
   "cell_type": "code",
   "execution_count": 5,
   "id": "f74f2a06",
   "metadata": {},
   "outputs": [
    {
     "data": {
      "text/plain": [
       "'Techpro'"
      ]
     },
     "execution_count": 5,
     "metadata": {},
     "output_type": "execute_result"
    }
   ],
   "source": [
    "\"techpro\".title()"
   ]
  },
  {
   "cell_type": "code",
   "execution_count": 6,
   "id": "bc434bdf",
   "metadata": {},
   "outputs": [
    {
     "data": {
      "text/plain": [
       "'Title Her Kelimenin Ilk Harfini Buyuk Hale Getiti'"
      ]
     },
     "execution_count": 6,
     "metadata": {},
     "output_type": "execute_result"
    }
   ],
   "source": [
    "\"title her kelimenin ilk harfini buyuk hale getiti\".title()"
   ]
  },
  {
   "cell_type": "code",
   "execution_count": 7,
   "id": "fba02b91",
   "metadata": {},
   "outputs": [
    {
     "data": {
      "text/plain": [
       "'Techpro Education'"
      ]
     },
     "execution_count": 7,
     "metadata": {},
     "output_type": "execute_result"
    }
   ],
   "source": [
    "\"techpro EDUcation\".title()"
   ]
  },
  {
   "cell_type": "markdown",
   "id": "32e58e63",
   "metadata": {},
   "source": [
    "## replace()"
   ]
  },
  {
   "cell_type": "code",
   "execution_count": 10,
   "id": "cda3d1cd",
   "metadata": {},
   "outputs": [
    {
     "ename": "TypeError",
     "evalue": "replace expected at least 2 arguments, got 1",
     "output_type": "error",
     "traceback": [
      "\u001b[1;31m---------------------------------------------------------------------------\u001b[0m",
      "\u001b[1;31mTypeError\u001b[0m                                 Traceback (most recent call last)",
      "Cell \u001b[1;32mIn[10], line 1\u001b[0m\n\u001b[1;32m----> 1\u001b[0m \u001b[38;5;124;43m\"\u001b[39;49m\u001b[38;5;124;43mtech?pro\u001b[39;49m\u001b[38;5;124;43m\"\u001b[39;49m\u001b[38;5;241;43m.\u001b[39;49m\u001b[43mreplace\u001b[49m\u001b[43m(\u001b[49m\u001b[38;5;124;43m\"\u001b[39;49m\u001b[38;5;124;43m?\u001b[39;49m\u001b[38;5;124;43m\"\u001b[39;49m\u001b[43m)\u001b[49m\n",
      "\u001b[1;31mTypeError\u001b[0m: replace expected at least 2 arguments, got 1"
     ]
    }
   ],
   "source": [
    "\"tech?pro\".replace(\"?\")"
   ]
  },
  {
   "cell_type": "code",
   "execution_count": 9,
   "id": "6a53a14e",
   "metadata": {},
   "outputs": [
    {
     "data": {
      "text/plain": [
       "'techpro'"
      ]
     },
     "execution_count": 9,
     "metadata": {},
     "output_type": "execute_result"
    }
   ],
   "source": [
    "\"tech?pro\".replace(\"?\",\"\")"
   ]
  },
  {
   "cell_type": "code",
   "execution_count": 11,
   "id": "410d4d1e",
   "metadata": {},
   "outputs": [
    {
     "data": {
      "text/plain": [
       "'tech!pro'"
      ]
     },
     "execution_count": 11,
     "metadata": {},
     "output_type": "execute_result"
    }
   ],
   "source": [
    "\"tech?pro\".replace(\"?\",\"!\")"
   ]
  },
  {
   "cell_type": "code",
   "execution_count": 12,
   "id": "51771aa6",
   "metadata": {},
   "outputs": [
    {
     "data": {
      "text/plain": [
       "'*ferdi*Cenk*Munise'"
      ]
     },
     "execution_count": 12,
     "metadata": {},
     "output_type": "execute_result"
    }
   ],
   "source": [
    "\"?ferdi?Cenk?Munise\".replace(\"?\",\"*\")"
   ]
  },
  {
   "cell_type": "code",
   "execution_count": 13,
   "id": "2a60ee7d",
   "metadata": {},
   "outputs": [
    {
     "data": {
      "text/plain": [
       "'*ferdi?Cenk?Munise'"
      ]
     },
     "execution_count": 13,
     "metadata": {},
     "output_type": "execute_result"
    }
   ],
   "source": [
    "\"?ferdi?Cenk?Munise\".replace(\"?\",\"*\",1)"
   ]
  },
  {
   "cell_type": "code",
   "execution_count": 14,
   "id": "8fdbcb50",
   "metadata": {},
   "outputs": [
    {
     "data": {
      "text/plain": [
       "'Kimseyi ark*a birakm*ik'"
      ]
     },
     "execution_count": 14,
     "metadata": {},
     "output_type": "execute_result"
    }
   ],
   "source": [
    "\"Kimseyi arkada birakmadik\".replace(\"ad\",\"*\")"
   ]
  },
  {
   "cell_type": "code",
   "execution_count": 15,
   "id": "be9adb87",
   "metadata": {},
   "outputs": [
    {
     "data": {
      "text/plain": [
       "'*ferdi*Cenk*Munise'"
      ]
     },
     "execution_count": 15,
     "metadata": {},
     "output_type": "execute_result"
    }
   ],
   "source": [
    "\"?ferdi?Cenk?Munise\".replace(\"?\",\"*\",10)"
   ]
  },
  {
   "cell_type": "code",
   "execution_count": 16,
   "id": "c344e273",
   "metadata": {},
   "outputs": [
    {
     "name": "stdout",
     "output_type": "stream",
     "text": [
      "Help on method_descriptor:\n",
      "\n",
      "replace(self, old, new, count=-1, /) unbound builtins.str method\n",
      "    Return a copy with all occurrences of substring old replaced by new.\n",
      "\n",
      "      count\n",
      "        Maximum number of occurrences to replace.\n",
      "        -1 (the default value) means replace all occurrences.\n",
      "\n",
      "    If the optional argument count is given, only the first count occurrences are\n",
      "    replaced.\n",
      "\n"
     ]
    }
   ],
   "source": [
    "help(str.replace)"
   ]
  },
  {
   "cell_type": "code",
   "execution_count": 17,
   "id": "795debde",
   "metadata": {},
   "outputs": [
    {
     "data": {
      "text/plain": [
       "'Hamdi!Hakan'"
      ]
     },
     "execution_count": 17,
     "metadata": {},
     "output_type": "execute_result"
    }
   ],
   "source": [
    "\"Hamdi*Hakan\".replace(\"*\",\"!\")"
   ]
  },
  {
   "cell_type": "code",
   "execution_count": 18,
   "id": "d852aea0",
   "metadata": {},
   "outputs": [
    {
     "data": {
      "text/plain": [
       "'hamdi!hakan'"
      ]
     },
     "execution_count": 18,
     "metadata": {},
     "output_type": "execute_result"
    }
   ],
   "source": [
    "\"Hamdi*Hakan\".replace(\"*\",\"!\").replace(\"H\",\"h\")"
   ]
  },
  {
   "cell_type": "code",
   "execution_count": 19,
   "id": "a0e2ab3b",
   "metadata": {},
   "outputs": [
    {
     "data": {
      "text/plain": [
       "'Hamdi!Hakan'"
      ]
     },
     "execution_count": 19,
     "metadata": {},
     "output_type": "execute_result"
    }
   ],
   "source": [
    "\"Hamdi*Hakan\".replace(\"*\",\"!\").replace(\"H\",\"h\").title()"
   ]
  },
  {
   "cell_type": "markdown",
   "id": "48c830e2",
   "metadata": {},
   "source": [
    "## is ile baslayanlar methodlar"
   ]
  },
  {
   "cell_type": "code",
   "execution_count": 21,
   "id": "b54c8e4d",
   "metadata": {},
   "outputs": [
    {
     "data": {
      "text/plain": [
       "True"
      ]
     },
     "execution_count": 21,
     "metadata": {},
     "output_type": "execute_result"
    }
   ],
   "source": [
    "\"techpro\".isalnum()"
   ]
  },
  {
   "cell_type": "code",
   "execution_count": 22,
   "id": "de90c61e",
   "metadata": {},
   "outputs": [
    {
     "data": {
      "text/plain": [
       "True"
      ]
     },
     "execution_count": 22,
     "metadata": {},
     "output_type": "execute_result"
    }
   ],
   "source": [
    "\"techpro\".isalnum()"
   ]
  },
  {
   "cell_type": "code",
   "execution_count": 23,
   "id": "3c56a4a7",
   "metadata": {},
   "outputs": [
    {
     "data": {
      "text/plain": [
       "False"
      ]
     },
     "execution_count": 23,
     "metadata": {},
     "output_type": "execute_result"
    }
   ],
   "source": [
    "\"techpro88?\".isalnum()"
   ]
  },
  {
   "cell_type": "code",
   "execution_count": 28,
   "id": "bcce1327",
   "metadata": {},
   "outputs": [],
   "source": [
    "name= input(\"lutfen isminizi kucuk harflerle girin\")"
   ]
  },
  {
   "cell_type": "code",
   "execution_count": 29,
   "id": "3c4ae000",
   "metadata": {},
   "outputs": [
    {
     "data": {
      "text/plain": [
       "False"
      ]
     },
     "execution_count": 29,
     "metadata": {},
     "output_type": "execute_result"
    }
   ],
   "source": [
    "name.islower()"
   ]
  },
  {
   "cell_type": "code",
   "execution_count": 30,
   "id": "2dba1fc2",
   "metadata": {},
   "outputs": [
    {
     "data": {
      "text/plain": [
       "True"
      ]
     },
     "execution_count": 30,
     "metadata": {},
     "output_type": "execute_result"
    }
   ],
   "source": [
    "name.istitle()"
   ]
  },
  {
   "cell_type": "code",
   "execution_count": 31,
   "id": "12359632",
   "metadata": {},
   "outputs": [
    {
     "data": {
      "text/plain": [
       "True"
      ]
     },
     "execution_count": 31,
     "metadata": {},
     "output_type": "execute_result"
    }
   ],
   "source": [
    "\"1234\".isnumeric()"
   ]
  },
  {
   "cell_type": "code",
   "execution_count": 33,
   "id": "53c33d4f",
   "metadata": {},
   "outputs": [
    {
     "data": {
      "text/plain": [
       "False"
      ]
     },
     "execution_count": 33,
     "metadata": {},
     "output_type": "execute_result"
    }
   ],
   "source": [
    "\"techpro\".isnumeric()"
   ]
  },
  {
   "cell_type": "code",
   "execution_count": 34,
   "id": "8baef1af",
   "metadata": {},
   "outputs": [
    {
     "data": {
      "text/plain": [
       "False"
      ]
     },
     "execution_count": 34,
     "metadata": {},
     "output_type": "execute_result"
    }
   ],
   "source": [
    "\"ilayda\".istitle()"
   ]
  },
  {
   "cell_type": "code",
   "execution_count": 35,
   "id": "7ebaadc3",
   "metadata": {},
   "outputs": [
    {
     "data": {
      "text/plain": [
       "True"
      ]
     },
     "execution_count": 35,
     "metadata": {},
     "output_type": "execute_result"
    }
   ],
   "source": [
    "\"Ismail\".isascii()"
   ]
  },
  {
   "cell_type": "markdown",
   "id": "a1eb2bbf",
   "metadata": {},
   "source": [
    "## count()"
   ]
  },
  {
   "cell_type": "code",
   "execution_count": 36,
   "id": "3ba182b4",
   "metadata": {},
   "outputs": [
    {
     "data": {
      "text/plain": [
       "1"
      ]
     },
     "execution_count": 36,
     "metadata": {},
     "output_type": "execute_result"
    }
   ],
   "source": [
    "\"techpro Education\".count(\"e\")"
   ]
  },
  {
   "cell_type": "code",
   "execution_count": 37,
   "id": "36b98e3f",
   "metadata": {},
   "outputs": [
    {
     "data": {
      "text/plain": [
       "1"
      ]
     },
     "execution_count": 37,
     "metadata": {},
     "output_type": "execute_result"
    }
   ],
   "source": [
    "\"techpro Education\".count(\"pr\")"
   ]
  },
  {
   "cell_type": "code",
   "execution_count": 38,
   "id": "00112128",
   "metadata": {},
   "outputs": [
    {
     "data": {
      "text/plain": [
       "1"
      ]
     },
     "execution_count": 38,
     "metadata": {},
     "output_type": "execute_result"
    }
   ],
   "source": [
    "\"techpro Education\".count(\"Ed\")"
   ]
  },
  {
   "cell_type": "code",
   "execution_count": 39,
   "id": "b89dd415",
   "metadata": {},
   "outputs": [
    {
     "ename": "TypeError",
     "evalue": "slice indices must be integers or None or have an __index__ method",
     "output_type": "error",
     "traceback": [
      "\u001b[1;31m---------------------------------------------------------------------------\u001b[0m",
      "\u001b[1;31mTypeError\u001b[0m                                 Traceback (most recent call last)",
      "Cell \u001b[1;32mIn[39], line 1\u001b[0m\n\u001b[1;32m----> 1\u001b[0m \u001b[38;5;124;43m\"\u001b[39;49m\u001b[38;5;124;43mtechpro Education\u001b[39;49m\u001b[38;5;124;43m\"\u001b[39;49m\u001b[38;5;241;43m.\u001b[39;49m\u001b[43mcount\u001b[49m\u001b[43m(\u001b[49m\u001b[38;5;124;43m\"\u001b[39;49m\u001b[38;5;124;43me\u001b[39;49m\u001b[38;5;124;43m\"\u001b[39;49m\u001b[43m,\u001b[49m\u001b[38;5;124;43m\"\u001b[39;49m\u001b[38;5;124;43mE\u001b[39;49m\u001b[38;5;124;43m\"\u001b[39;49m\u001b[43m)\u001b[49m\n",
      "\u001b[1;31mTypeError\u001b[0m: slice indices must be integers or None or have an __index__ method"
     ]
    }
   ],
   "source": [
    "\"techpro Education\".count(\"e\",\"E\")"
   ]
  },
  {
   "cell_type": "code",
   "execution_count": 40,
   "id": "7d8ce5a4",
   "metadata": {},
   "outputs": [
    {
     "data": {
      "text/plain": [
       "3"
      ]
     },
     "execution_count": 40,
     "metadata": {},
     "output_type": "execute_result"
    }
   ],
   "source": [
    "\"Ramazan\".count(\"a\")"
   ]
  },
  {
   "cell_type": "code",
   "execution_count": 41,
   "id": "d7708456",
   "metadata": {},
   "outputs": [
    {
     "data": {
      "text/plain": [
       "0"
      ]
     },
     "execution_count": 41,
     "metadata": {},
     "output_type": "execute_result"
    }
   ],
   "source": [
    "\"Ramazan\".count(\"A\")"
   ]
  },
  {
   "cell_type": "code",
   "execution_count": 43,
   "id": "148a44f2",
   "metadata": {},
   "outputs": [
    {
     "data": {
      "text/plain": [
       "'Rmzn'"
      ]
     },
     "execution_count": 43,
     "metadata": {},
     "output_type": "execute_result"
    }
   ],
   "source": [
    "\"Ramazan\".replace(\"a\",\"\")"
   ]
  },
  {
   "cell_type": "code",
   "execution_count": null,
   "id": "9456eabb",
   "metadata": {},
   "outputs": [
    {
     "data": {
      "text/plain": [
       "'RMZN'"
      ]
     },
     "execution_count": 44,
     "metadata": {},
     "output_type": "execute_result"
    }
   ],
   "source": [
    "\"Ramazan\".replace(\"a\",\"\").upper()"
   ]
  },
  {
   "cell_type": "code",
   "execution_count": 45,
   "id": "4ba41093",
   "metadata": {},
   "outputs": [
    {
     "data": {
      "text/plain": [
       "1"
      ]
     },
     "execution_count": 45,
     "metadata": {},
     "output_type": "execute_result"
    }
   ],
   "source": [
    "\"Ramazan\".replace(\"a\",\"\").upper().count(\"R\")"
   ]
  },
  {
   "cell_type": "code",
   "execution_count": 46,
   "id": "43b32c9d",
   "metadata": {},
   "outputs": [
    {
     "data": {
      "text/plain": [
       "5"
      ]
     },
     "execution_count": 46,
     "metadata": {},
     "output_type": "execute_result"
    }
   ],
   "source": [
    "\"Ramazan\".replace(\"a\",\"\").upper().count(\"R\")*5"
   ]
  },
  {
   "cell_type": "code",
   "execution_count": 47,
   "id": "d0ff9da6",
   "metadata": {},
   "outputs": [],
   "source": [
    "course_nme = \"techpro education\".title()"
   ]
  },
  {
   "cell_type": "code",
   "execution_count": 48,
   "id": "7313c248",
   "metadata": {},
   "outputs": [
    {
     "data": {
      "text/plain": [
       "'Techpro Education'"
      ]
     },
     "execution_count": 48,
     "metadata": {},
     "output_type": "execute_result"
    }
   ],
   "source": [
    "course_nme"
   ]
  },
  {
   "cell_type": "code",
   "execution_count": 49,
   "id": "9cb1452a",
   "metadata": {},
   "outputs": [
    {
     "data": {
      "text/plain": [
       "'Tachpro Education'"
      ]
     },
     "execution_count": 49,
     "metadata": {},
     "output_type": "execute_result"
    }
   ],
   "source": [
    "course_nme.replace(\"e\",\"a\")"
   ]
  },
  {
   "cell_type": "code",
   "execution_count": 50,
   "id": "0b1b8a58",
   "metadata": {},
   "outputs": [
    {
     "data": {
      "text/plain": [
       "'TechproEducation'"
      ]
     },
     "execution_count": 50,
     "metadata": {},
     "output_type": "execute_result"
    }
   ],
   "source": [
    "course_nme.replace(\" \",\"\")"
   ]
  },
  {
   "cell_type": "code",
   "execution_count": 51,
   "id": "cabe0866",
   "metadata": {},
   "outputs": [
    {
     "data": {
      "text/plain": [
       "'Techpro Education'"
      ]
     },
     "execution_count": 51,
     "metadata": {},
     "output_type": "execute_result"
    }
   ],
   "source": [
    "course_nme"
   ]
  },
  {
   "cell_type": "code",
   "execution_count": 53,
   "id": "fa45ecad",
   "metadata": {},
   "outputs": [
    {
     "data": {
      "text/plain": [
       "1"
      ]
     },
     "execution_count": 53,
     "metadata": {},
     "output_type": "execute_result"
    }
   ],
   "source": [
    "\"techpro\".count(\"e\")"
   ]
  },
  {
   "cell_type": "code",
   "execution_count": 54,
   "id": "f1d50d9e",
   "metadata": {},
   "outputs": [
    {
     "data": {
      "text/plain": [
       "0"
      ]
     },
     "execution_count": 54,
     "metadata": {},
     "output_type": "execute_result"
    }
   ],
   "source": [
    "\"techpro\".count(\"e\",3,5)"
   ]
  },
  {
   "cell_type": "markdown",
   "id": "03eba883",
   "metadata": {},
   "source": [
    "## split()"
   ]
  },
  {
   "cell_type": "code",
   "execution_count": 55,
   "id": "8e1b2051",
   "metadata": {},
   "outputs": [],
   "source": [
    "str_1 = \"Techpro is the best course in the world\""
   ]
  },
  {
   "cell_type": "code",
   "execution_count": 56,
   "id": "beed1acc",
   "metadata": {},
   "outputs": [
    {
     "data": {
      "text/plain": [
       "['Techpro', 'is', 'the', 'best', 'course', 'in', 'the', 'world']"
      ]
     },
     "execution_count": 56,
     "metadata": {},
     "output_type": "execute_result"
    }
   ],
   "source": [
    "str_1.split()"
   ]
  },
  {
   "cell_type": "code",
   "execution_count": 57,
   "id": "6bc6d0c8",
   "metadata": {},
   "outputs": [
    {
     "data": {
      "text/plain": [
       "['Techpr', ' is the best c', 'urse in the w', 'rld']"
      ]
     },
     "execution_count": 57,
     "metadata": {},
     "output_type": "execute_result"
    }
   ],
   "source": [
    "str_1.split(\"o\")"
   ]
  },
  {
   "cell_type": "code",
   "execution_count": 58,
   "id": "8162a440",
   "metadata": {},
   "outputs": [
    {
     "data": {
      "text/plain": [
       "['Techpro is the best course in the world']"
      ]
     },
     "execution_count": 58,
     "metadata": {},
     "output_type": "execute_result"
    }
   ],
   "source": [
    "str_1.split(\"g\")"
   ]
  },
  {
   "cell_type": "code",
   "execution_count": 59,
   "id": "22230d2b",
   "metadata": {},
   "outputs": [
    {
     "data": {
      "text/plain": [
       "list"
      ]
     },
     "execution_count": 59,
     "metadata": {},
     "output_type": "execute_result"
    }
   ],
   "source": [
    "type(str_1.split(\"g\"))"
   ]
  },
  {
   "cell_type": "code",
   "execution_count": 60,
   "id": "825873af",
   "metadata": {},
   "outputs": [
    {
     "data": {
      "text/plain": [
       "['Techpro', 'is', 'the', 'best', 'course', 'in', 'the', 'world']"
      ]
     },
     "execution_count": 60,
     "metadata": {},
     "output_type": "execute_result"
    }
   ],
   "source": [
    "str_1.split()"
   ]
  },
  {
   "cell_type": "code",
   "execution_count": 61,
   "id": "175ca61c",
   "metadata": {},
   "outputs": [
    {
     "data": {
      "text/plain": [
       "['Techpro', 'is', 'the', 'best course in the world']"
      ]
     },
     "execution_count": 61,
     "metadata": {},
     "output_type": "execute_result"
    }
   ],
   "source": [
    "str_1.split(maxsplit=3)"
   ]
  },
  {
   "cell_type": "code",
   "execution_count": 62,
   "id": "857d42c8",
   "metadata": {},
   "outputs": [],
   "source": [
    "## strip()"
   ]
  },
  {
   "cell_type": "markdown",
   "id": "97650d09",
   "metadata": {},
   "source": [
    "## ## strip()"
   ]
  },
  {
   "cell_type": "code",
   "execution_count": 63,
   "id": "98b0dafe",
   "metadata": {},
   "outputs": [
    {
     "data": {
      "text/plain": [
       "'Techpro'"
      ]
     },
     "execution_count": 63,
     "metadata": {},
     "output_type": "execute_result"
    }
   ],
   "source": [
    "\"   Techpro   \".strip()"
   ]
  },
  {
   "cell_type": "code",
   "execution_count": 64,
   "id": "6c7d89e1",
   "metadata": {},
   "outputs": [
    {
     "data": {
      "text/plain": [
       "'Tech    pro'"
      ]
     },
     "execution_count": 64,
     "metadata": {},
     "output_type": "execute_result"
    }
   ],
   "source": [
    "\"   Tech    pro   \".strip()"
   ]
  },
  {
   "cell_type": "code",
   "execution_count": 65,
   "id": "2479fe49",
   "metadata": {},
   "outputs": [
    {
     "data": {
      "text/plain": [
       "'Techpro'"
      ]
     },
     "execution_count": 65,
     "metadata": {},
     "output_type": "execute_result"
    }
   ],
   "source": [
    "\"   Techpro\".strip()"
   ]
  },
  {
   "cell_type": "code",
   "execution_count": 66,
   "id": "d4be4d9e",
   "metadata": {},
   "outputs": [
    {
     "data": {
      "text/plain": [
       "'Techpro'"
      ]
     },
     "execution_count": 66,
     "metadata": {},
     "output_type": "execute_result"
    }
   ],
   "source": [
    "\"Techpro   \".strip()"
   ]
  },
  {
   "cell_type": "code",
   "execution_count": 67,
   "id": "8ce294f9",
   "metadata": {},
   "outputs": [
    {
     "data": {
      "text/plain": [
       "'Techpro'"
      ]
     },
     "execution_count": 67,
     "metadata": {},
     "output_type": "execute_result"
    }
   ],
   "source": [
    "\"??Techpro??\".strip(\"?\")"
   ]
  },
  {
   "cell_type": "code",
   "execution_count": 68,
   "id": "05f4c96e",
   "metadata": {},
   "outputs": [
    {
     "data": {
      "text/plain": [
       "'Tech?pro'"
      ]
     },
     "execution_count": 68,
     "metadata": {},
     "output_type": "execute_result"
    }
   ],
   "source": [
    "\"??Tech?pro??\".strip(\"?\")"
   ]
  },
  {
   "cell_type": "code",
   "execution_count": 69,
   "id": "fee6050a",
   "metadata": {},
   "outputs": [
    {
     "data": {
      "text/plain": [
       "'Tech?pro??'"
      ]
     },
     "execution_count": 69,
     "metadata": {},
     "output_type": "execute_result"
    }
   ],
   "source": [
    "\"??Tech?pro??\".lstrip(\"?\")"
   ]
  },
  {
   "cell_type": "code",
   "execution_count": 70,
   "id": "ffe00f64",
   "metadata": {},
   "outputs": [
    {
     "data": {
      "text/plain": [
       "'??Tech?pro'"
      ]
     },
     "execution_count": 70,
     "metadata": {},
     "output_type": "execute_result"
    }
   ],
   "source": [
    "\"??Tech?pro??\".rstrip(\"?\")"
   ]
  },
  {
   "cell_type": "code",
   "execution_count": 71,
   "id": "68ed852d",
   "metadata": {},
   "outputs": [
    {
     "data": {
      "text/plain": [
       "'Techpro is the bessss'"
      ]
     },
     "execution_count": 71,
     "metadata": {},
     "output_type": "execute_result"
    }
   ],
   "source": [
    "\"Techpro is the besssstttt\".strip(\"t\")"
   ]
  },
  {
   "cell_type": "code",
   "execution_count": 72,
   "id": "208b05f4",
   "metadata": {},
   "outputs": [
    {
     "data": {
      "text/plain": [
       "'Techpro is the besssstttt'"
      ]
     },
     "execution_count": 72,
     "metadata": {},
     "output_type": "execute_result"
    }
   ],
   "source": [
    "\"Techpro is the besssstttt\".strip(\"s\")"
   ]
  },
  {
   "cell_type": "code",
   "execution_count": 73,
   "id": "d6d7b4cd",
   "metadata": {},
   "outputs": [
    {
     "data": {
      "text/plain": [
       "'echpro is the bessss'"
      ]
     },
     "execution_count": 73,
     "metadata": {},
     "output_type": "execute_result"
    }
   ],
   "source": [
    "\"techpro is the besssstttt\".strip(\"t\")"
   ]
  },
  {
   "cell_type": "code",
   "execution_count": 74,
   "id": "52b752df",
   "metadata": {},
   "outputs": [
    {
     "data": {
      "text/plain": [
       "'echpro is the be'"
      ]
     },
     "execution_count": 74,
     "metadata": {},
     "output_type": "execute_result"
    }
   ],
   "source": [
    "\"techpro is the besssstttt\".strip(\"ts\")"
   ]
  },
  {
   "cell_type": "code",
   "execution_count": 75,
   "id": "dac86ed9",
   "metadata": {},
   "outputs": [
    {
     "data": {
      "text/plain": [
       "'chpro is the b'"
      ]
     },
     "execution_count": 75,
     "metadata": {},
     "output_type": "execute_result"
    }
   ],
   "source": [
    "\"techpro is the besssstttt\".strip(\"tse\")"
   ]
  },
  {
   "cell_type": "code",
   "execution_count": 76,
   "id": "c02098b0",
   "metadata": {},
   "outputs": [
    {
     "data": {
      "text/plain": [
       "' techpro is the bestttt '"
      ]
     },
     "execution_count": 76,
     "metadata": {},
     "output_type": "execute_result"
    }
   ],
   "source": [
    "\" techpro is the bestttt \".strip(\"ts\")"
   ]
  },
  {
   "cell_type": "code",
   "execution_count": 77,
   "id": "d2647fb6",
   "metadata": {},
   "outputs": [
    {
     "data": {
      "text/plain": [
       "'echpro is the be'"
      ]
     },
     "execution_count": 77,
     "metadata": {},
     "output_type": "execute_result"
    }
   ],
   "source": [
    "\" techpro is the bestttt \".strip().strip(\"ts\")"
   ]
  },
  {
   "cell_type": "markdown",
   "id": "002f2b83",
   "metadata": {},
   "source": [
    "## len()"
   ]
  },
  {
   "cell_type": "code",
   "execution_count": 78,
   "id": "0053d819",
   "metadata": {},
   "outputs": [
    {
     "data": {
      "text/plain": [
       "7"
      ]
     },
     "execution_count": 78,
     "metadata": {},
     "output_type": "execute_result"
    }
   ],
   "source": [
    "len(\"techpro\")"
   ]
  },
  {
   "cell_type": "code",
   "execution_count": 79,
   "id": "e958d039",
   "metadata": {},
   "outputs": [
    {
     "data": {
      "text/plain": [
       "5"
      ]
     },
     "execution_count": 79,
     "metadata": {},
     "output_type": "execute_result"
    }
   ],
   "source": [
    "len(\"sedat\")"
   ]
  },
  {
   "cell_type": "code",
   "execution_count": 80,
   "id": "bbee005b",
   "metadata": {},
   "outputs": [
    {
     "data": {
      "text/plain": [
       "17"
      ]
     },
     "execution_count": 80,
     "metadata": {},
     "output_type": "execute_result"
    }
   ],
   "source": [
    "len(\"techpro education\")"
   ]
  },
  {
   "cell_type": "markdown",
   "id": "d142fd37",
   "metadata": {},
   "source": [
    "# If, elif, else statement"
   ]
  },
  {
   "cell_type": "markdown",
   "id": "7b23228c",
   "metadata": {},
   "source": [
    "## if"
   ]
  },
  {
   "cell_type": "code",
   "execution_count": 83,
   "id": "ea9c9840",
   "metadata": {},
   "outputs": [
    {
     "name": "stdout",
     "output_type": "stream",
     "text": [
      " 5, 1 den buyuktur\n"
     ]
    }
   ],
   "source": [
    "if 5 > 1 :\n",
    "    print(\" 5, 1 den buyuktur\")"
   ]
  },
  {
   "cell_type": "code",
   "execution_count": 84,
   "id": "8ce69b2c",
   "metadata": {},
   "outputs": [],
   "source": [
    "if 5 < 1 :\n",
    "    print(\" 5, 1 den buyuktur\")"
   ]
  },
  {
   "cell_type": "code",
   "execution_count": 85,
   "id": "f3cf377b",
   "metadata": {},
   "outputs": [
    {
     "name": "stdout",
     "output_type": "stream",
     "text": [
      "bu her kosulda calisir\n"
     ]
    }
   ],
   "source": [
    "if True:\n",
    "    print(\"bu her kosulda calisir\")"
   ]
  },
  {
   "cell_type": "code",
   "execution_count": 86,
   "id": "7311b4fc",
   "metadata": {},
   "outputs": [
    {
     "name": "stdout",
     "output_type": "stream",
     "text": [
      "40\n"
     ]
    }
   ],
   "source": [
    "if True:\n",
    "    print(8*5)"
   ]
  },
  {
   "cell_type": "code",
   "execution_count": 87,
   "id": "1f65a0be",
   "metadata": {},
   "outputs": [
    {
     "name": "stdout",
     "output_type": "stream",
     "text": [
      "cikti verir mi sizce\n"
     ]
    }
   ],
   "source": [
    "if \"techpro\":\n",
    "    print(\"cikti verir mi sizce\")"
   ]
  },
  {
   "cell_type": "code",
   "execution_count": 88,
   "id": "54360453",
   "metadata": {},
   "outputs": [
    {
     "data": {
      "text/plain": [
       "True"
      ]
     },
     "execution_count": 88,
     "metadata": {},
     "output_type": "execute_result"
    }
   ],
   "source": [
    "bool(\"techpro\")"
   ]
  },
  {
   "cell_type": "code",
   "execution_count": 89,
   "id": "81d09863",
   "metadata": {},
   "outputs": [
    {
     "name": "stdout",
     "output_type": "stream",
     "text": [
      "yine calisacak sanki\n"
     ]
    }
   ],
   "source": [
    "if 1:\n",
    "    print(\"yine calisacak sanki\")"
   ]
  },
  {
   "cell_type": "code",
   "execution_count": 90,
   "id": "a2eb65c4",
   "metadata": {},
   "outputs": [],
   "source": [
    "if \"\":\n",
    "    print(\"boolean karsiligi False ise calismaz\")"
   ]
  },
  {
   "cell_type": "code",
   "execution_count": 91,
   "id": "2307e4fc",
   "metadata": {},
   "outputs": [
    {
     "name": "stdout",
     "output_type": "stream",
     "text": [
      "buna ne dersiniz\n"
     ]
    }
   ],
   "source": [
    "if 5 and 8:\n",
    "    print(\"buna ne dersiniz\")"
   ]
  },
  {
   "cell_type": "code",
   "execution_count": 92,
   "id": "0cc2d85d",
   "metadata": {},
   "outputs": [
    {
     "name": "stdout",
     "output_type": "stream",
     "text": [
      "buna ne dersiniz\n"
     ]
    }
   ],
   "source": [
    "if 8:\n",
    "    print(\"buna ne dersiniz\")"
   ]
  },
  {
   "cell_type": "code",
   "execution_count": 93,
   "id": "07fe07bc",
   "metadata": {},
   "outputs": [
    {
     "ename": "SyntaxError",
     "evalue": "expected ':' (2378213578.py, line 1)",
     "output_type": "error",
     "traceback": [
      "\u001b[1;36m  Cell \u001b[1;32mIn[93], line 1\u001b[1;36m\u001b[0m\n\u001b[1;33m    if 8 == 8\u001b[0m\n\u001b[1;37m             ^\u001b[0m\n\u001b[1;31mSyntaxError\u001b[0m\u001b[1;31m:\u001b[0m expected ':'\n"
     ]
    }
   ],
   "source": [
    "if 8 == 8\n",
    "    print(\"bu calisirmi\")"
   ]
  },
  {
   "cell_type": "code",
   "execution_count": 94,
   "id": "5faa98fc",
   "metadata": {},
   "outputs": [
    {
     "name": "stdout",
     "output_type": "stream",
     "text": [
      "benim if le aakam yok her turlu calisirim\n"
     ]
    }
   ],
   "source": [
    "if 5 < 4 :\n",
    "    print(\"5, 4 ten kucuk\")\n",
    "\n",
    "print(\"benim if le aakam yok her turlu calisirim\")    "
   ]
  },
  {
   "cell_type": "code",
   "execution_count": 97,
   "id": "de6449cf",
   "metadata": {},
   "outputs": [
    {
     "name": "stdout",
     "output_type": "stream",
     "text": [
      "10 3 ten buyuktur\n",
      "7\n",
      "30\n",
      "35\n"
     ]
    }
   ],
   "source": [
    "if 10 > 3:\n",
    "\n",
    "    print(\"10 3 ten buyuktur\")\n",
    "    print(10 - 3)\n",
    "    print (10 *3)\n",
    "    age = 10 * 3 + 5\n",
    "    print(age)"
   ]
  },
  {
   "cell_type": "code",
   "execution_count": 98,
   "id": "cef2bd41",
   "metadata": {},
   "outputs": [
    {
     "data": {
      "text/plain": [
       "35"
      ]
     },
     "execution_count": 98,
     "metadata": {},
     "output_type": "execute_result"
    }
   ],
   "source": [
    "age"
   ]
  },
  {
   "cell_type": "markdown",
   "id": "6411a06e",
   "metadata": {},
   "source": [
    "## if, else"
   ]
  },
  {
   "cell_type": "code",
   "execution_count": 100,
   "id": "7f43b932",
   "metadata": {},
   "outputs": [
    {
     "name": "stdout",
     "output_type": "stream",
     "text": [
      "5, 4 ten buyuktur\n"
     ]
    }
   ],
   "source": [
    "if 5 > 4:\n",
    "    print(\"5, 4 ten buyuktur\")\n",
    "else:\n",
    "    print(\"else kismi calisir\")    "
   ]
  },
  {
   "cell_type": "code",
   "execution_count": 101,
   "id": "d8927935",
   "metadata": {},
   "outputs": [
    {
     "name": "stdout",
     "output_type": "stream",
     "text": [
      "else kismi calisir\n"
     ]
    }
   ],
   "source": [
    "if 5 < 4:\n",
    "    print(\"5, 4 ten buyuktur\")\n",
    "else:\n",
    "    print(\"else kismi calisir\")    "
   ]
  },
  {
   "cell_type": "code",
   "execution_count": 102,
   "id": "a80c6043",
   "metadata": {},
   "outputs": [
    {
     "name": "stdout",
     "output_type": "stream",
     "text": [
      "else kismi calisir\n"
     ]
    }
   ],
   "source": [
    "x = 7 \n",
    "\n",
    "if x < 5:\n",
    "    print(\"if kismi calisir\")\n",
    "else:\n",
    "    print(\"else kismi calisir\")    "
   ]
  },
  {
   "cell_type": "markdown",
   "id": "a086e140",
   "metadata": {},
   "source": [
    "## if, elif"
   ]
  },
  {
   "cell_type": "code",
   "execution_count": 103,
   "id": "de071f2b",
   "metadata": {},
   "outputs": [
    {
     "name": "stdout",
     "output_type": "stream",
     "text": [
      "3 ci elif kismi caalisir\n"
     ]
    }
   ],
   "source": [
    "x = 7\n",
    "\n",
    "if x < 5:\n",
    "    print(\"if kismi calisir\")\n",
    "elif x ==9:\n",
    "    print(\"1 ci elif kismi caalisir\") \n",
    "elif x >10:\n",
    "    print(\"2 ci elif kismi caalisir\")    \n",
    "elif x < 10:\n",
    "    print(\"3 ci elif kismi caalisir\")       "
   ]
  },
  {
   "cell_type": "code",
   "execution_count": 104,
   "id": "2b18fc42",
   "metadata": {},
   "outputs": [
    {
     "name": "stdout",
     "output_type": "stream",
     "text": [
      "2 ci elif kismi caalisir\n"
     ]
    }
   ],
   "source": [
    "x = 7\n",
    "\n",
    "if x < 5:\n",
    "    print(\"if kismi calisir\")\n",
    "elif x ==9:\n",
    "    print(\"1 ci elif kismi caalisir\") \n",
    "elif x <10:\n",
    "    print(\"2 ci elif kismi caalisir\")    \n",
    "elif x < 10:\n",
    "    print(\"3 ci elif kismi caalisir\")    "
   ]
  },
  {
   "cell_type": "markdown",
   "id": "6e23e30d",
   "metadata": {},
   "source": [
    "## if, elif, else"
   ]
  },
  {
   "cell_type": "code",
   "execution_count": 106,
   "id": "8aeb77ee",
   "metadata": {},
   "outputs": [
    {
     "name": "stdout",
     "output_type": "stream",
     "text": [
      "else kismi caalisir\n"
     ]
    }
   ],
   "source": [
    "x = 7\n",
    "\n",
    "if x < 5:\n",
    "    print(\"if kismi calisir\")\n",
    "elif x ==9:\n",
    "    print(\"1 ci elif kismi caalisir\") \n",
    "else:\n",
    "     print(\"else kismi caalisir\")    \n",
    " "
   ]
  },
  {
   "cell_type": "code",
   "execution_count": null,
   "id": "9571b4c2",
   "metadata": {},
   "outputs": [],
   "source": []
  }
 ],
 "metadata": {
  "kernelspec": {
   "display_name": "Python 3",
   "language": "python",
   "name": "python3"
  },
  "language_info": {
   "codemirror_mode": {
    "name": "ipython",
    "version": 3
   },
   "file_extension": ".py",
   "mimetype": "text/x-python",
   "name": "python",
   "nbconvert_exporter": "python",
   "pygments_lexer": "ipython3",
   "version": "3.12.4"
  }
 },
 "nbformat": 4,
 "nbformat_minor": 5
}
