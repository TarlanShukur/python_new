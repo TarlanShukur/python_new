{
 "cells": [
  {
   "cell_type": "code",
   "execution_count": 1,
   "id": "2b1d1334",
   "metadata": {},
   "outputs": [
    {
     "name": "stdout",
     "output_type": "stream",
     "text": [
      "Toplam ucret(Bahsis dahil): 105.0\n"
     ]
    }
   ],
   "source": [
    "yemek_maliyeti = float(input(\"Yemegin malieetini giriniz\"))\n",
    "bahsis_yuzdesi = float(input(\"Bahsis yuzdesini giriniz(%): \"))\n",
    "\n",
    "bahsis_miktari = yemek_maliyeti * (bahsis_yuzdesi / 100)\n",
    "\n",
    "toplam_ucret = yemek_maliyeti + bahsis_miktari\n",
    "\n",
    "print(f\"Toplam ucret(Bahsis dahil): {toplam_ucret}\")"
   ]
  },
  {
   "cell_type": "code",
   "execution_count": 3,
   "id": "6917ef83",
   "metadata": {},
   "outputs": [
    {
     "name": "stdout",
     "output_type": "stream",
     "text": [
      "Girilen saat : 15\n",
      "Donusturulen saat: 15 17:15\n"
     ]
    }
   ],
   "source": [
    "saat_dilimi = input(\"Saat dilimini giriniz: \")\n",
    "saat = input(\"Saat bilgisini girin (HH:MM): \")\n",
    "\n",
    "print(f\"Girilen saat : {saat}\")\n",
    "print(f\"Donusturulen saat: {saat} {saat_dilimi}\")"
   ]
  },
  {
   "cell_type": "code",
   "execution_count": 4,
   "id": "808ffeb5",
   "metadata": {},
   "outputs": [
    {
     "name": "stdout",
     "output_type": "stream",
     "text": [
      "\n",
      "      Seyahet butceniz:  \n",
      "      Hedef Bolge: 50000,\n",
      "      Otel Masrafi: 10000.0,\n",
      "      Ucak Bileti:600000.0,\n",
      "      Yeme Icme : 62150.0,\n",
      "      Toplam Masraf: 672150.0) TL dir\n"
     ]
    }
   ],
   "source": [
    "hedey = input(\"Gideceginiz bolgeyi secin: \")\n",
    "otel_masrafi = float(input(\"Otel masrafinizi giriniz: \"))\n",
    "ucak_bileti_masrafi = float(input(\"ucak bileti masrafini giriniz: \"))\n",
    "yeme_icme_masrafi = float(input(\"Yeme-icme masraflarini giriniz: \"))\n",
    "\n",
    "toplaam_masraf = otel_masrafi + ucak_bileti_masrafi + yeme_icme_masrafi \n",
    "\n",
    "print(f\"\"\"\n",
    "      Seyahet butceniz:  \n",
    "      Hedef Bolge: {hedey},\n",
    "      Otel Masrafi: {otel_masrafi},\n",
    "      Ucak Bileti:{ucak_bileti_masrafi},\n",
    "      Yeme Icme : {yeme_icme_masrafi},\n",
    "      Toplam Masraf: {toplaam_masraf}) TL dir\"\"\")"
   ]
  },
  {
   "cell_type": "code",
   "execution_count": 5,
   "id": "17fa21f1",
   "metadata": {},
   "outputs": [
    {
     "name": "stdout",
     "output_type": "stream",
     "text": [
      " Yatirimin getrisi: 32.00%\n"
     ]
    }
   ],
   "source": [
    "yatirim_baslangic_degeri = float(input(\"Yatirimin baslangic degerini girin: \"))\n",
    "yatirim_son_deger = float(input(\"Yatirimin son degerini girini: \"))\n",
    "getiri = ((yatirim_son_deger - yatirim_baslangic_degeri)/ yatirim_baslangic_degeri * 100)\n",
    "\n",
    "print(\" Yatirimin getrisi: {:.2f}%\".format(getiri))"
   ]
  },
  {
   "cell_type": "code",
   "execution_count": 8,
   "id": "ffa60846",
   "metadata": {},
   "outputs": [
    {
     "ename": "TypeError",
     "evalue": "'str' object is not callable",
     "output_type": "error",
     "traceback": [
      "\u001b[1;31m---------------------------------------------------------------------------\u001b[0m",
      "\u001b[1;31mTypeError\u001b[0m                                 Traceback (most recent call last)",
      "Cell \u001b[1;32mIn[8], line 4\u001b[0m\n\u001b[0;32m      1\u001b[0m metin_mesaji \u001b[38;5;241m=\u001b[39m \u001b[38;5;28minput\u001b[39m(\u001b[38;5;124m\"\u001b[39m\u001b[38;5;124mLutfen metin mesajini giriniz: \u001b[39m\u001b[38;5;124m\"\u001b[39m)\n\u001b[0;32m      3\u001b[0m kelime_sayisi \u001b[38;5;241m=\u001b[39m \u001b[38;5;28mlen\u001b[39m(metin_mesaji\u001b[38;5;241m.\u001b[39msplit())\n\u001b[1;32m----> 4\u001b[0m cumle_sayisi \u001b[38;5;241m=\u001b[39m metin_mesaji\u001b[38;5;241m.\u001b[39mcount(\u001b[38;5;124m\"\u001b[39m\u001b[38;5;124m.\u001b[39m\u001b[38;5;124m\"\u001b[39m) \u001b[38;5;241m+\u001b[39m \u001b[43mmetin_mesaji\u001b[49m\u001b[43m(\u001b[49m\u001b[38;5;124;43m\"\u001b[39;49m\u001b[38;5;124;43m!\u001b[39;49m\u001b[38;5;124;43m\"\u001b[39;49m\u001b[43m)\u001b[49m \u001b[38;5;241m+\u001b[39m metin_mesaji\u001b[38;5;241m.\u001b[39mcount(\u001b[38;5;124m\"\u001b[39m\u001b[38;5;124m?\u001b[39m\u001b[38;5;124m\"\u001b[39m)\n\u001b[0;32m      5\u001b[0m karakter_sayisi \u001b[38;5;241m=\u001b[39m \u001b[38;5;28mlen\u001b[39m(metin_mesaji)\n\u001b[0;32m      7\u001b[0m \u001b[38;5;28mprint\u001b[39m(metin_mesaji)\n",
      "\u001b[1;31mTypeError\u001b[0m: 'str' object is not callable"
     ]
    }
   ],
   "source": [
    "metin_mesaji = input(\"Lutfen metin mesajini giriniz: \")\n",
    "\n",
    "kelime_sayisi = len(metin_mesaji.split())\n",
    "cumle_sayisi = metin_mesaji.count(\".\") + metin_mesaji(\"!\") + metin_mesaji.count(\"?\")\n",
    "karakter_sayisi = len(metin_mesaji)\n",
    "\n",
    "print(metin_mesaji)\n",
    "print(f\"Toplam kelime sayisi: {kelime_sayisi}\")\n",
    "print(f\"Toplam kelime sayisi: {cumle_sayisi}\")\n",
    "print(f\"Toplam kelime sayisi: {karakter_sayisi}\")"
   ]
  },
  {
   "cell_type": "code",
   "execution_count": 10,
   "id": "67c93e7f",
   "metadata": {},
   "outputs": [
    {
     "name": "stdout",
     "output_type": "stream",
     "text": [
      "'ey edip adanada pide ye' ifade bir palindromdur\n"
     ]
    }
   ],
   "source": [
    "giris = input(\"Lutfen bir kelime veya cumle giriniz: \")\n",
    "temiz_giris = giris.lower().replace(\" \",\"\")\n",
    "\n",
    "giris_ters = temiz_giris[::-1]\n",
    "\n",
    "if temiz_giris == giris_ters:\n",
    "    print(f\"'{giris}' ifade bir palindromdur\")\n",
    "else:\n",
    "    print(f\"'{giris}' ifadesi bir palindrom degildir\")    "
   ]
  },
  {
   "cell_type": "code",
   "execution_count": 11,
   "id": "98742b41",
   "metadata": {},
   "outputs": [
    {
     "name": "stdout",
     "output_type": "stream",
     "text": [
      "Bu yazini donusturmeni istiyorum ifadesini, secmis oldugunuz fvfvdfvffdfdLfvfdvdfv donusum turune gore donusturulmus hali Gecersiz donusum turu!' dir\n"
     ]
    }
   ],
   "source": [
    "giris = input(\"Lutfen bir karakter dizisi giriniz: \")\n",
    "donusum_turu = input(\"Lutfen donusum turunu seciniz (b: buyuk harfe, k: kucuk harfe, t: terse cevirme): \")\n",
    "\n",
    "if donusum_turu == \"b\":\n",
    "    donusumlu_giris = giris.upper()\n",
    "elif donusum_turu == \"k\":\n",
    "    donusumlu_giris = giris.lower()\n",
    "elif donusum_turu == \"t\":\n",
    "    donusumlu_giris = giris[::-1]\n",
    "else:\n",
    "    donusumlu_giris = \"Gecersiz donusum turu!\"\n",
    "\n",
    "print(f\"{giris} ifadesini, secmis oldugunuz {donusum_turu} donusum turune gore donusturulmus hali {donusumlu_giris}' dir\")          "
   ]
  },
  {
   "cell_type": "code",
   "execution_count": 12,
   "id": "03fb5eeb",
   "metadata": {},
   "outputs": [
    {
     "name": "stdout",
     "output_type": "stream",
     "text": [
      "Girilen email adresi gecerli\n"
     ]
    }
   ],
   "source": [
    "e_mail = input(\"lutfen email giriniz\")\n",
    "\n",
    "if \"@\" in e_mail:\n",
    "    print(\"Girilen email adresi gecerli\")\n",
    "\n",
    "else:\n",
    "    print(\"Girilen eposta adresi gecerli degildir\")    "
   ]
  },
  {
   "cell_type": "code",
   "execution_count": 15,
   "id": "b7499157",
   "metadata": {},
   "outputs": [
    {
     "name": "stdout",
     "output_type": "stream",
     "text": [
      "Karisik bir sifre olusturma programina hos gediniz!\n",
      "Hicbir karakter turu secilmedi.Lutfen en az karakter turu seciniz\n"
     ]
    },
    {
     "ename": "IndexError",
     "evalue": "Cannot choose from an empty sequence",
     "output_type": "error",
     "traceback": [
      "\u001b[1;31m---------------------------------------------------------------------------\u001b[0m",
      "\u001b[1;31mIndexError\u001b[0m                                Traceback (most recent call last)",
      "Cell \u001b[1;32mIn[15], line 44\u001b[0m\n\u001b[0;32m     41\u001b[0m \u001b[38;5;28;01mif\u001b[39;00m non_numeric:\n\u001b[0;32m     42\u001b[0m     passsword \u001b[38;5;241m+\u001b[39m\u001b[38;5;241m=\u001b[39m random\u001b[38;5;241m.\u001b[39mchoice(\u001b[38;5;124m\"\u001b[39m\u001b[38;5;124m!@#$^&*-+\u001b[39m\u001b[38;5;124m\"\u001b[39m) \n\u001b[1;32m---> 44\u001b[0m passsword \u001b[38;5;241m+\u001b[39m\u001b[38;5;241m=\u001b[39m \u001b[43mrandom\u001b[49m\u001b[38;5;241;43m.\u001b[39;49m\u001b[43mchoice\u001b[49m\u001b[43m(\u001b[49m\u001b[43mpool\u001b[49m\u001b[43m)\u001b[49m\n\u001b[0;32m     46\u001b[0m \u001b[38;5;28;01mif\u001b[39;00m lenght \u001b[38;5;241m==\u001b[39m \u001b[38;5;124m\"\u001b[39m\u001b[38;5;124m8\u001b[39m\u001b[38;5;124m\"\u001b[39m:\n\u001b[0;32m     47\u001b[0m     a \u001b[38;5;241m=\u001b[39m \u001b[38;5;241m8\u001b[39m \u001b[38;5;241m-\u001b[39m \u001b[38;5;28mlen\u001b[39m(passsword)\n",
      "File \u001b[1;32mc:\\Users\\user\\AppData\\Local\\Programs\\Python\\Python312\\Lib\\random.py:347\u001b[0m, in \u001b[0;36mRandom.choice\u001b[1;34m(self, seq)\u001b[0m\n\u001b[0;32m    344\u001b[0m \u001b[38;5;66;03m# As an accommodation for NumPy, we don't use \"if not seq\"\u001b[39;00m\n\u001b[0;32m    345\u001b[0m \u001b[38;5;66;03m# because bool(numpy.array()) raises a ValueError.\u001b[39;00m\n\u001b[0;32m    346\u001b[0m \u001b[38;5;28;01mif\u001b[39;00m \u001b[38;5;129;01mnot\u001b[39;00m \u001b[38;5;28mlen\u001b[39m(seq):\n\u001b[1;32m--> 347\u001b[0m     \u001b[38;5;28;01mraise\u001b[39;00m \u001b[38;5;167;01mIndexError\u001b[39;00m(\u001b[38;5;124m'\u001b[39m\u001b[38;5;124mCannot choose from an empty sequence\u001b[39m\u001b[38;5;124m'\u001b[39m)\n\u001b[0;32m    348\u001b[0m \u001b[38;5;28;01mreturn\u001b[39;00m seq[\u001b[38;5;28mself\u001b[39m\u001b[38;5;241m.\u001b[39m_randbelow(\u001b[38;5;28mlen\u001b[39m(seq))]\n",
      "\u001b[1;31mIndexError\u001b[0m: Cannot choose from an empty sequence"
     ]
    }
   ],
   "source": [
    "import random\n",
    "\n",
    "print(\"Karisik bir sifre olusturma programina hos gediniz!\")\n",
    "\n",
    "vowels = input(\"Unlu harfler dahil edilsin mi? (e/h): \").strip().lower() == \"e\"\n",
    "consonants = input(\"Unsuz harfler dahil edilsin mi? (e/h): \").strip().lower() == \"e\"\n",
    "digits = input(\"Sayilar dahil edilsin mi? (e/h): \").strip().lower() == \"e\"\n",
    "punctuations = input(\"Noktalama isretleri dahil edilsinmi? (e/h): \").strip().lower() == \"e\"\n",
    "non_numeric = input(\"Sayisal olmayan dahil edilsin mi? (e/h): \").strip().lower() == \"e\"\n",
    "\n",
    "lenght = input(\"Sifrenin uzunlugunu seciniz (8,9,10,11,12): \")\n",
    "\n",
    "pool = \"\"\n",
    "\n",
    "if vowels:\n",
    "    pool += \"aeiouAEIOU\"\n",
    "if consonants:\n",
    "    pool += \"zxcvbnmlkjhgfdsqwrtypZXCVBNMLKJHGFDSQWRTYP\"\n",
    "\n",
    "if digits:\n",
    "    pool += \"0123456789\"\n",
    "\n",
    "if punctuations:\n",
    "    pool += \"-*/+?\"\n",
    "\n",
    "if non_numeric:\n",
    "    pool += \"!@#$^&*-+\"\n",
    "\n",
    "if not pool:\n",
    "    print(\"Hicbir karakter turu secilmedi.Lutfen en az karakter turu seciniz\")\n",
    "\n",
    "passsword = \"\"\n",
    "if vowels:\n",
    "    passsword += random.choice(\"aeiouAEIOU\")\n",
    "if consonants:\n",
    "    passsword += random.choice(\"zxcvbnmlkjhgfdsqwrtypZXCVBNMLKJHGFDSQWRTYP\")\n",
    "if digits:\n",
    "    passsword += random.choice(\"0123456789\")\n",
    "if punctuations:\n",
    "    passsword += random.choice(\"-*/+?\")\n",
    "if non_numeric:\n",
    "    passsword += random.choice(\"!@#$^&*-+\") \n",
    "\n",
    "passsword += random.choice(pool)\n",
    "\n",
    "if lenght == \"8\":\n",
    "    a = 8 - len(passsword)\n",
    "    passsword += passsword[:a]\n",
    "elif lenght == \"9\":\n",
    "    a = 9 - len(passsword)\n",
    "    passsword += passsword[:a]    \n",
    "elif lenght == \"10\":\n",
    "    a = 10 - len(passsword)\n",
    "    passsword += passsword[:a]\n",
    "elif lenght == \"11\":\n",
    "    a = 11 - len(passsword)\n",
    "    passsword += passsword[:a]\n",
    "elif lenght == \"12\":\n",
    "    a = 12 - len(passsword)\n",
    "    passsword += passsword[:a] \n",
    "\n",
    "print(f\"Olusturulan sifre: {passsword}\")           "
   ]
  },
  {
   "cell_type": "code",
   "execution_count": null,
   "id": "55e66292",
   "metadata": {},
   "outputs": [],
   "source": []
  }
 ],
 "metadata": {
  "kernelspec": {
   "display_name": "Python 3",
   "language": "python",
   "name": "python3"
  },
  "language_info": {
   "codemirror_mode": {
    "name": "ipython",
    "version": 3
   },
   "file_extension": ".py",
   "mimetype": "text/x-python",
   "name": "python",
   "nbconvert_exporter": "python",
   "pygments_lexer": "ipython3",
   "version": "3.12.4"
  }
 },
 "nbformat": 4,
 "nbformat_minor": 5
}
