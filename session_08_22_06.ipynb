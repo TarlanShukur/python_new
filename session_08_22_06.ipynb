{
 "cells": [
  {
   "cell_type": "markdown",
   "id": "66d1f257",
   "metadata": {},
   "source": [
    "# Lists"
   ]
  },
  {
   "cell_type": "code",
   "execution_count": 1,
   "id": "d0a45aa4",
   "metadata": {},
   "outputs": [
    {
     "data": {
      "text/plain": [
       "[]"
      ]
     },
     "execution_count": 1,
     "metadata": {},
     "output_type": "execute_result"
    }
   ],
   "source": [
    "[] \n",
    "list()"
   ]
  },
  {
   "cell_type": "code",
   "execution_count": 2,
   "id": "4fbb0754",
   "metadata": {},
   "outputs": [
    {
     "data": {
      "text/plain": [
       "[1, 3.14, 'Serdar', True]"
      ]
     },
     "execution_count": 2,
     "metadata": {},
     "output_type": "execute_result"
    }
   ],
   "source": [
    "liste_1 = [1,3.14, \"Serdar\",True]\n",
    "liste_1"
   ]
  },
  {
   "cell_type": "code",
   "execution_count": 3,
   "id": "040b8ea8",
   "metadata": {},
   "outputs": [
    {
     "data": {
      "text/plain": [
       "4"
      ]
     },
     "execution_count": 3,
     "metadata": {},
     "output_type": "execute_result"
    }
   ],
   "source": [
    "len(\"Arzu\")"
   ]
  },
  {
   "cell_type": "code",
   "execution_count": 4,
   "id": "5f5861b9",
   "metadata": {},
   "outputs": [
    {
     "data": {
      "text/plain": [
       "4"
      ]
     },
     "execution_count": 4,
     "metadata": {},
     "output_type": "execute_result"
    }
   ],
   "source": [
    "len(liste_1)"
   ]
  },
  {
   "cell_type": "code",
   "execution_count": 5,
   "id": "0ffe8da2",
   "metadata": {},
   "outputs": [
    {
     "ename": "TypeError",
     "evalue": "object of type 'int' has no len()",
     "output_type": "error",
     "traceback": [
      "\u001b[1;31m---------------------------------------------------------------------------\u001b[0m",
      "\u001b[1;31mTypeError\u001b[0m                                 Traceback (most recent call last)",
      "Cell \u001b[1;32mIn[5], line 1\u001b[0m\n\u001b[1;32m----> 1\u001b[0m \u001b[38;5;28;43mlen\u001b[39;49m\u001b[43m(\u001b[49m\u001b[38;5;241;43m1879\u001b[39;49m\u001b[43m)\u001b[49m\n",
      "\u001b[1;31mTypeError\u001b[0m: object of type 'int' has no len()"
     ]
    }
   ],
   "source": [
    "len(1879)"
   ]
  },
  {
   "cell_type": "code",
   "execution_count": 1,
   "id": "62dd4343",
   "metadata": {},
   "outputs": [
    {
     "name": "stderr",
     "output_type": "stream",
     "text": [
      "<>:1: SyntaxWarning: 'int' object is not subscriptable; perhaps you missed a comma?\n",
      "<>:1: SyntaxWarning: 'int' object is not subscriptable; perhaps you missed a comma?\n",
      "C:\\Users\\user\\AppData\\Local\\Temp\\ipykernel_8080\\3924471916.py:1: SyntaxWarning: 'int' object is not subscriptable; perhaps you missed a comma?\n",
      "  1879[0]\n"
     ]
    },
    {
     "ename": "TypeError",
     "evalue": "'int' object is not subscriptable",
     "output_type": "error",
     "traceback": [
      "\u001b[1;31m---------------------------------------------------------------------------\u001b[0m",
      "\u001b[1;31mTypeError\u001b[0m                                 Traceback (most recent call last)",
      "Cell \u001b[1;32mIn[1], line 1\u001b[0m\n\u001b[1;32m----> 1\u001b[0m \u001b[38;5;241;43m1879\u001b[39;49m\u001b[43m[\u001b[49m\u001b[38;5;241;43m0\u001b[39;49m\u001b[43m]\u001b[49m\n",
      "\u001b[1;31mTypeError\u001b[0m: 'int' object is not subscriptable"
     ]
    }
   ],
   "source": [
    "1879[0]"
   ]
  },
  {
   "cell_type": "code",
   "execution_count": 8,
   "id": "3547f051",
   "metadata": {},
   "outputs": [
    {
     "data": {
      "text/plain": [
       "'8'"
      ]
     },
     "execution_count": 8,
     "metadata": {},
     "output_type": "execute_result"
    }
   ],
   "source": [
    "\"1879\"[1]"
   ]
  },
  {
   "cell_type": "code",
   "execution_count": 16,
   "id": "106b4e3c",
   "metadata": {},
   "outputs": [
    {
     "name": "stdout",
     "output_type": "stream",
     "text": [
      "7\n"
     ]
    }
   ],
   "source": [
    "liste_2 = list(\"Techpro\")\n",
    "liste_2\n",
    "print(len(liste_2))"
   ]
  },
  {
   "cell_type": "code",
   "execution_count": 11,
   "id": "46f2bdf7",
   "metadata": {},
   "outputs": [
    {
     "data": {
      "text/plain": [
       "['ali', 'veli', 'konya']"
      ]
     },
     "execution_count": 11,
     "metadata": {},
     "output_type": "execute_result"
    }
   ],
   "source": [
    "liste_3 = [\"ali\",\"veli\",\"konya\"]\n",
    "liste_3"
   ]
  },
  {
   "cell_type": "code",
   "execution_count": 12,
   "id": "36609cb2",
   "metadata": {},
   "outputs": [
    {
     "ename": "TypeError",
     "evalue": "list expected at most 1 argument, got 3",
     "output_type": "error",
     "traceback": [
      "\u001b[1;31m---------------------------------------------------------------------------\u001b[0m",
      "\u001b[1;31mTypeError\u001b[0m                                 Traceback (most recent call last)",
      "Cell \u001b[1;32mIn[12], line 1\u001b[0m\n\u001b[1;32m----> 1\u001b[0m \u001b[38;5;28;43mlist\u001b[39;49m\u001b[43m(\u001b[49m\u001b[38;5;124;43m\"\u001b[39;49m\u001b[38;5;124;43mali\u001b[39;49m\u001b[38;5;124;43m\"\u001b[39;49m\u001b[43m,\u001b[49m\u001b[38;5;124;43m\"\u001b[39;49m\u001b[38;5;124;43mveli\u001b[39;49m\u001b[38;5;124;43m\"\u001b[39;49m\u001b[43m,\u001b[49m\u001b[38;5;124;43m\"\u001b[39;49m\u001b[38;5;124;43mkonya\u001b[39;49m\u001b[38;5;124;43m\"\u001b[39;49m\u001b[43m)\u001b[49m\n",
      "\u001b[1;31mTypeError\u001b[0m: list expected at most 1 argument, got 3"
     ]
    }
   ],
   "source": [
    "list(\"ali\",\"veli\",\"konya\")"
   ]
  },
  {
   "cell_type": "code",
   "execution_count": 13,
   "id": "e96c611d",
   "metadata": {},
   "outputs": [
    {
     "data": {
      "text/plain": [
       "['Techpro']"
      ]
     },
     "execution_count": 13,
     "metadata": {},
     "output_type": "execute_result"
    }
   ],
   "source": [
    "liste_4 =[\"Techpro\"]\n",
    "liste_4"
   ]
  },
  {
   "cell_type": "code",
   "execution_count": 17,
   "id": "11b3d46a",
   "metadata": {},
   "outputs": [
    {
     "data": {
      "text/plain": [
       "[2, 2.6, 'omer', False, [1, 2, 3]]"
      ]
     },
     "execution_count": 17,
     "metadata": {},
     "output_type": "execute_result"
    }
   ],
   "source": [
    "liste_5 = [2, 2.6,\"omer\",False,[1,2,3]]\n",
    "liste_5"
   ]
  },
  {
   "cell_type": "code",
   "execution_count": 18,
   "id": "00daece4",
   "metadata": {},
   "outputs": [
    {
     "data": {
      "text/plain": [
       "5"
      ]
     },
     "execution_count": 18,
     "metadata": {},
     "output_type": "execute_result"
    }
   ],
   "source": [
    "len(liste_5)"
   ]
  },
  {
   "cell_type": "code",
   "execution_count": 19,
   "id": "9ef5f53b",
   "metadata": {},
   "outputs": [],
   "source": [
    "bos_liste = []"
   ]
  },
  {
   "cell_type": "code",
   "execution_count": 20,
   "id": "288db698",
   "metadata": {},
   "outputs": [
    {
     "data": {
      "text/plain": [
       "[]"
      ]
     },
     "execution_count": 20,
     "metadata": {},
     "output_type": "execute_result"
    }
   ],
   "source": [
    "bos_liste"
   ]
  },
  {
   "cell_type": "code",
   "execution_count": 21,
   "id": "89ab9730",
   "metadata": {},
   "outputs": [
    {
     "data": {
      "text/plain": [
       "0"
      ]
     },
     "execution_count": 21,
     "metadata": {},
     "output_type": "execute_result"
    }
   ],
   "source": [
    "len(bos_liste)"
   ]
  },
  {
   "cell_type": "code",
   "execution_count": 23,
   "id": "009a3d4f",
   "metadata": {},
   "outputs": [],
   "source": [
    "bos_liste2=list()"
   ]
  },
  {
   "cell_type": "code",
   "execution_count": 24,
   "id": "b9e0478c",
   "metadata": {},
   "outputs": [
    {
     "data": {
      "text/plain": [
       "[]"
      ]
     },
     "execution_count": 24,
     "metadata": {},
     "output_type": "execute_result"
    }
   ],
   "source": [
    "bos_liste2"
   ]
  },
  {
   "cell_type": "code",
   "execution_count": 25,
   "id": "7fa0c1ad",
   "metadata": {},
   "outputs": [
    {
     "data": {
      "text/plain": [
       "1"
      ]
     },
     "execution_count": 25,
     "metadata": {},
     "output_type": "execute_result"
    }
   ],
   "source": [
    "liste_6= [\"Fatih,Bilgen,Ilknur,Oguzcan\"]\n",
    "len(liste_6)"
   ]
  },
  {
   "cell_type": "code",
   "execution_count": 26,
   "id": "197d5a00",
   "metadata": {},
   "outputs": [
    {
     "data": {
      "text/plain": [
       "4"
      ]
     },
     "execution_count": 26,
     "metadata": {},
     "output_type": "execute_result"
    }
   ],
   "source": [
    "liste_7= [\"Fatih\",\"Bilgen\",\"Ilknur\",\"Oguzcan\"]\n",
    "len(liste_7)"
   ]
  },
  {
   "cell_type": "code",
   "execution_count": 27,
   "id": "ec65a6e9",
   "metadata": {},
   "outputs": [
    {
     "data": {
      "text/plain": [
       "6"
      ]
     },
     "execution_count": 27,
     "metadata": {},
     "output_type": "execute_result"
    }
   ],
   "source": [
    "liste_8 = [\"yasin\",25,\"fatih\",25,\"Yasin\",24]\n",
    "len(liste_8)"
   ]
  },
  {
   "cell_type": "code",
   "execution_count": 28,
   "id": "763547e7",
   "metadata": {},
   "outputs": [
    {
     "ename": "TypeError",
     "evalue": "'int' object is not iterable",
     "output_type": "error",
     "traceback": [
      "\u001b[1;31m---------------------------------------------------------------------------\u001b[0m",
      "\u001b[1;31mTypeError\u001b[0m                                 Traceback (most recent call last)",
      "Cell \u001b[1;32mIn[28], line 1\u001b[0m\n\u001b[1;32m----> 1\u001b[0m liste_9 \u001b[38;5;241m=\u001b[39m \u001b[38;5;28;43mlist\u001b[39;49m\u001b[43m(\u001b[49m\u001b[38;5;241;43m1950\u001b[39;49m\u001b[43m)\u001b[49m\n\u001b[0;32m      2\u001b[0m \u001b[38;5;28mlen\u001b[39m(liste_9)\n",
      "\u001b[1;31mTypeError\u001b[0m: 'int' object is not iterable"
     ]
    }
   ],
   "source": [
    "liste_9 = list(1950)\n",
    "len(liste_9)"
   ]
  },
  {
   "cell_type": "code",
   "execution_count": 29,
   "id": "20bd8a14",
   "metadata": {},
   "outputs": [
    {
     "data": {
      "text/plain": [
       "4"
      ]
     },
     "execution_count": 29,
     "metadata": {},
     "output_type": "execute_result"
    }
   ],
   "source": [
    "liste_10 = list(\"1950\")\n",
    "len(liste_10)"
   ]
  },
  {
   "cell_type": "code",
   "execution_count": 30,
   "id": "b60c30ab",
   "metadata": {},
   "outputs": [
    {
     "data": {
      "text/plain": [
       "[1, 2, 3, 4, 5, 6, 7, 8, 9]"
      ]
     },
     "execution_count": 30,
     "metadata": {},
     "output_type": "execute_result"
    }
   ],
   "source": [
    "[1,2,3,4,5,6,7,8,9]"
   ]
  },
  {
   "cell_type": "code",
   "execution_count": 31,
   "id": "1bcfbe39",
   "metadata": {},
   "outputs": [
    {
     "data": {
      "text/plain": [
       "list"
      ]
     },
     "execution_count": 31,
     "metadata": {},
     "output_type": "execute_result"
    }
   ],
   "source": [
    "type(liste_10)"
   ]
  },
  {
   "cell_type": "code",
   "execution_count": 36,
   "id": "62feb5c3",
   "metadata": {},
   "outputs": [
    {
     "data": {
      "text/plain": [
       "[3, 2.6, 'Hamdi', [5, 'CUneyt', 6.5], False]"
      ]
     },
     "execution_count": 36,
     "metadata": {},
     "output_type": "execute_result"
    }
   ],
   "source": [
    "ortaya_karisik = [3, 2.6, \"Hamdi\",[5,\"CUneyt\",6.5],False]\n",
    "ortaya_karisik"
   ]
  },
  {
   "cell_type": "code",
   "execution_count": 37,
   "id": "1b52dfa0",
   "metadata": {},
   "outputs": [
    {
     "data": {
      "text/plain": [
       "5"
      ]
     },
     "execution_count": 37,
     "metadata": {},
     "output_type": "execute_result"
    }
   ],
   "source": [
    "len(ortaya_karisik)"
   ]
  },
  {
   "cell_type": "code",
   "execution_count": 38,
   "id": "94418454",
   "metadata": {},
   "outputs": [
    {
     "data": {
      "text/plain": [
       "'T'"
      ]
     },
     "execution_count": 38,
     "metadata": {},
     "output_type": "execute_result"
    }
   ],
   "source": [
    "\"Techpro\"[0]"
   ]
  },
  {
   "cell_type": "code",
   "execution_count": 39,
   "id": "e08138d3",
   "metadata": {},
   "outputs": [
    {
     "data": {
      "text/plain": [
       "3"
      ]
     },
     "execution_count": 39,
     "metadata": {},
     "output_type": "execute_result"
    }
   ],
   "source": [
    "ortaya_karisik[0]"
   ]
  },
  {
   "cell_type": "code",
   "execution_count": 40,
   "id": "c7582566",
   "metadata": {},
   "outputs": [
    {
     "data": {
      "text/plain": [
       "'Hamdi'"
      ]
     },
     "execution_count": 40,
     "metadata": {},
     "output_type": "execute_result"
    }
   ],
   "source": [
    "[3, 2.6, \"Hamdi\",[5,\"CUneyt\",6.5],False][2]"
   ]
  },
  {
   "cell_type": "code",
   "execution_count": 41,
   "id": "ed377250",
   "metadata": {},
   "outputs": [
    {
     "data": {
      "text/plain": [
       "['Hamdi', [5, 'CUneyt', 6.5]]"
      ]
     },
     "execution_count": 41,
     "metadata": {},
     "output_type": "execute_result"
    }
   ],
   "source": [
    "ortaya_karisik[2:4]"
   ]
  },
  {
   "cell_type": "code",
   "execution_count": 42,
   "id": "735ba09e",
   "metadata": {},
   "outputs": [
    {
     "data": {
      "text/plain": [
       "['Hamdi', [5, 'CUneyt', 6.5], False]"
      ]
     },
     "execution_count": 42,
     "metadata": {},
     "output_type": "execute_result"
    }
   ],
   "source": [
    "ortaya_karisik[2:]"
   ]
  },
  {
   "cell_type": "code",
   "execution_count": 43,
   "id": "266fcdbf",
   "metadata": {},
   "outputs": [
    {
     "data": {
      "text/plain": [
       "'Hamdi'"
      ]
     },
     "execution_count": 43,
     "metadata": {},
     "output_type": "execute_result"
    }
   ],
   "source": [
    "ortaya_karisik[2]"
   ]
  },
  {
   "cell_type": "code",
   "execution_count": 46,
   "id": "57f72bf4",
   "metadata": {},
   "outputs": [
    {
     "data": {
      "text/plain": [
       "'d'"
      ]
     },
     "execution_count": 46,
     "metadata": {},
     "output_type": "execute_result"
    }
   ],
   "source": [
    "ortaya_karisik[2][3]"
   ]
  },
  {
   "cell_type": "code",
   "execution_count": 47,
   "id": "e1f5ffee",
   "metadata": {},
   "outputs": [
    {
     "data": {
      "text/plain": [
       "[3, 2.6, 'Hamdi', [5, 'CUneyt', 6.5], False]"
      ]
     },
     "execution_count": 47,
     "metadata": {},
     "output_type": "execute_result"
    }
   ],
   "source": [
    "ortaya_karisik"
   ]
  },
  {
   "cell_type": "code",
   "execution_count": 49,
   "id": "6bc992e7",
   "metadata": {},
   "outputs": [
    {
     "data": {
      "text/plain": [
       "'C'"
      ]
     },
     "execution_count": 49,
     "metadata": {},
     "output_type": "execute_result"
    }
   ],
   "source": [
    "ortaya_karisik[3][1][0]"
   ]
  },
  {
   "cell_type": "code",
   "execution_count": 76,
   "id": "6a14621c",
   "metadata": {},
   "outputs": [
    {
     "data": {
      "text/plain": [
       "'c'"
      ]
     },
     "execution_count": 76,
     "metadata": {},
     "output_type": "execute_result"
    }
   ],
   "source": [
    "ortaya_karisik[3][1][0][0].lower()"
   ]
  },
  {
   "cell_type": "code",
   "execution_count": 77,
   "id": "4fd80f75",
   "metadata": {},
   "outputs": [
    {
     "data": {
      "text/plain": [
       "[3, 2.6, 'Hamdi', [5, 'CUneyt', 6.5], False]"
      ]
     },
     "execution_count": 77,
     "metadata": {},
     "output_type": "execute_result"
    }
   ],
   "source": [
    "ortaya_karisik"
   ]
  },
  {
   "cell_type": "code",
   "execution_count": 79,
   "id": "4c64b660",
   "metadata": {},
   "outputs": [
    {
     "data": {
      "text/plain": [
       "2.6"
      ]
     },
     "execution_count": 79,
     "metadata": {},
     "output_type": "execute_result"
    }
   ],
   "source": [
    "ortaya_karisik[1]"
   ]
  },
  {
   "cell_type": "code",
   "execution_count": 80,
   "id": "f3308939",
   "metadata": {},
   "outputs": [
    {
     "ename": "TypeError",
     "evalue": "'float' object is not callable",
     "output_type": "error",
     "traceback": [
      "\u001b[1;31m---------------------------------------------------------------------------\u001b[0m",
      "\u001b[1;31mTypeError\u001b[0m                                 Traceback (most recent call last)",
      "Cell \u001b[1;32mIn[80], line 1\u001b[0m\n\u001b[1;32m----> 1\u001b[0m \u001b[38;5;28;43mstr\u001b[39;49m\u001b[43m(\u001b[49m\u001b[43mortaya_karisik\u001b[49m\u001b[43m[\u001b[49m\u001b[38;5;241;43m1\u001b[39;49m\u001b[43m]\u001b[49m\u001b[43m)\u001b[49m\n",
      "\u001b[1;31mTypeError\u001b[0m: 'float' object is not callable"
     ]
    }
   ],
   "source": [
    "str(ortaya_karisik[1])"
   ]
  },
  {
   "cell_type": "code",
   "execution_count": 84,
   "id": "cedf8006",
   "metadata": {},
   "outputs": [
    {
     "data": {
      "text/plain": [
       "[3, 2.6, 'Hamdi', [5, 'CUneyt', 6.5], False]"
      ]
     },
     "execution_count": 84,
     "metadata": {},
     "output_type": "execute_result"
    }
   ],
   "source": [
    "ortaya_karisik"
   ]
  },
  {
   "cell_type": "code",
   "execution_count": 83,
   "id": "ba632e0b",
   "metadata": {},
   "outputs": [
    {
     "data": {
      "text/plain": [
       "3"
      ]
     },
     "execution_count": 83,
     "metadata": {},
     "output_type": "execute_result"
    }
   ],
   "source": [
    "len(ortaya_karisik[3])"
   ]
  },
  {
   "cell_type": "code",
   "execution_count": 86,
   "id": "0bdd7143",
   "metadata": {},
   "outputs": [
    {
     "data": {
      "text/plain": [
       "['Bugday', True, [1, 2, 3, 4, 5], 3.7]"
      ]
     },
     "execution_count": 86,
     "metadata": {},
     "output_type": "execute_result"
    }
   ],
   "source": [
    "potpori = [\"Bugday\",True,[1,2,3,4,5], 3.7]\n",
    "potpori"
   ]
  },
  {
   "cell_type": "code",
   "execution_count": 88,
   "id": "875003d2",
   "metadata": {},
   "outputs": [],
   "source": [
    "potpori[0] = \"Sude\""
   ]
  },
  {
   "cell_type": "code",
   "execution_count": 89,
   "id": "56e42435",
   "metadata": {},
   "outputs": [
    {
     "data": {
      "text/plain": [
       "['Sude', True, [1, 2, 3, 4, 5], 3.7]"
      ]
     },
     "execution_count": 89,
     "metadata": {},
     "output_type": "execute_result"
    }
   ],
   "source": [
    "potpori"
   ]
  },
  {
   "cell_type": "code",
   "execution_count": 90,
   "id": "b8065a34",
   "metadata": {},
   "outputs": [],
   "source": [
    "name = \"sedat\""
   ]
  },
  {
   "cell_type": "code",
   "execution_count": 91,
   "id": "ac1b1db8",
   "metadata": {},
   "outputs": [
    {
     "ename": "TypeError",
     "evalue": "'str' object does not support item assignment",
     "output_type": "error",
     "traceback": [
      "\u001b[1;31m---------------------------------------------------------------------------\u001b[0m",
      "\u001b[1;31mTypeError\u001b[0m                                 Traceback (most recent call last)",
      "Cell \u001b[1;32mIn[91], line 1\u001b[0m\n\u001b[1;32m----> 1\u001b[0m \u001b[43mname\u001b[49m\u001b[43m[\u001b[49m\u001b[38;5;241;43m0\u001b[39;49m\u001b[43m]\u001b[49m\u001b[38;5;241m=\u001b[39m \u001b[38;5;124m\"\u001b[39m\u001b[38;5;124mv\u001b[39m\u001b[38;5;124m\"\u001b[39m\n",
      "\u001b[1;31mTypeError\u001b[0m: 'str' object does not support item assignment"
     ]
    }
   ],
   "source": [
    "name[0]= \"v\""
   ]
  },
  {
   "cell_type": "markdown",
   "id": "9cb5b300",
   "metadata": {},
   "source": [
    "## Basic Operations with Lists"
   ]
  },
  {
   "cell_type": "code",
   "execution_count": 92,
   "id": "4a0d2a1a",
   "metadata": {},
   "outputs": [
    {
     "data": {
      "text/plain": [
       "[1, 2, 3, 4, 5]"
      ]
     },
     "execution_count": 92,
     "metadata": {},
     "output_type": "execute_result"
    }
   ],
   "source": [
    "sayilar = [1,2,3,4,5]\n",
    "sayilar"
   ]
  },
  {
   "cell_type": "markdown",
   "id": "e2373220",
   "metadata": {},
   "source": [
    "## append"
   ]
  },
  {
   "cell_type": "code",
   "execution_count": 94,
   "id": "7048b6c4",
   "metadata": {},
   "outputs": [],
   "source": [
    "sayilar.append(6)"
   ]
  },
  {
   "cell_type": "code",
   "execution_count": 95,
   "id": "0948933f",
   "metadata": {},
   "outputs": [
    {
     "data": {
      "text/plain": [
       "[1, 2, 3, 4, 5, 5, 6]"
      ]
     },
     "execution_count": 95,
     "metadata": {},
     "output_type": "execute_result"
    }
   ],
   "source": [
    "sayilar"
   ]
  },
  {
   "cell_type": "code",
   "execution_count": 99,
   "id": "9d1de1ba",
   "metadata": {},
   "outputs": [
    {
     "ename": "TypeError",
     "evalue": "'NoneType' object is not callable",
     "output_type": "error",
     "traceback": [
      "\u001b[1;31m---------------------------------------------------------------------------\u001b[0m",
      "\u001b[1;31mTypeError\u001b[0m                                 Traceback (most recent call last)",
      "Cell \u001b[1;32mIn[99], line 1\u001b[0m\n\u001b[1;32m----> 1\u001b[0m \u001b[43msayilar\u001b[49m\u001b[38;5;241;43m.\u001b[39;49m\u001b[43mappend\u001b[49m\u001b[43m(\u001b[49m\u001b[38;5;241;43m7\u001b[39;49m\u001b[43m)\u001b[49m\u001b[43m(\u001b[49m\u001b[38;5;241;43m8\u001b[39;49m\u001b[43m)\u001b[49m\n",
      "\u001b[1;31mTypeError\u001b[0m: 'NoneType' object is not callable"
     ]
    }
   ],
   "source": [
    "sayilar.append(7)(8)"
   ]
  },
  {
   "cell_type": "code",
   "execution_count": 97,
   "id": "c8c3fbed",
   "metadata": {},
   "outputs": [
    {
     "data": {
      "text/plain": [
       "[1, 2, 3, 4, 5, 5, 6, 7]"
      ]
     },
     "execution_count": 97,
     "metadata": {},
     "output_type": "execute_result"
    }
   ],
   "source": [
    "sayilar"
   ]
  },
  {
   "cell_type": "code",
   "execution_count": 100,
   "id": "b6adf827",
   "metadata": {},
   "outputs": [],
   "source": [
    "sayilar.append([8,9,10])"
   ]
  },
  {
   "cell_type": "code",
   "execution_count": 101,
   "id": "1e7ae46c",
   "metadata": {},
   "outputs": [
    {
     "data": {
      "text/plain": [
       "[1, 2, 3, 4, 5, 5, 6, 7, 7, [8, 9, 10]]"
      ]
     },
     "execution_count": 101,
     "metadata": {},
     "output_type": "execute_result"
    }
   ],
   "source": [
    "sayilar"
   ]
  },
  {
   "cell_type": "code",
   "execution_count": 103,
   "id": "fc9f6fe7",
   "metadata": {},
   "outputs": [],
   "source": [
    "sayilar.append(\"Didem\")"
   ]
  },
  {
   "cell_type": "code",
   "execution_count": 104,
   "id": "676f214f",
   "metadata": {},
   "outputs": [],
   "source": [
    "sayilar.append(8.5)"
   ]
  },
  {
   "cell_type": "code",
   "execution_count": 105,
   "id": "4ddcb725",
   "metadata": {},
   "outputs": [
    {
     "data": {
      "text/plain": [
       "[1, 2, 3, 4, 5, 5, 6, 7, 7, [8, 9, 10], 'Didem', 8.5]"
      ]
     },
     "execution_count": 105,
     "metadata": {},
     "output_type": "execute_result"
    }
   ],
   "source": [
    "sayilar"
   ]
  },
  {
   "cell_type": "markdown",
   "id": "0781d9d9",
   "metadata": {},
   "source": [
    "## insert"
   ]
  },
  {
   "cell_type": "code",
   "execution_count": 106,
   "id": "4aced1da",
   "metadata": {},
   "outputs": [],
   "source": [
    "sayilar_2 = [10,12,13,14,15]"
   ]
  },
  {
   "cell_type": "code",
   "execution_count": 107,
   "id": "e8d97a7c",
   "metadata": {},
   "outputs": [],
   "source": [
    "sayilar_2.insert(1,11)"
   ]
  },
  {
   "cell_type": "code",
   "execution_count": 108,
   "id": "60c2f5f3",
   "metadata": {},
   "outputs": [
    {
     "data": {
      "text/plain": [
       "[10, 11, 12, 13, 14, 15]"
      ]
     },
     "execution_count": 108,
     "metadata": {},
     "output_type": "execute_result"
    }
   ],
   "source": [
    "sayilar_2"
   ]
  },
  {
   "cell_type": "code",
   "execution_count": 109,
   "id": "6ba66c32",
   "metadata": {},
   "outputs": [],
   "source": [
    "sayilar_2.insert(2,20)"
   ]
  },
  {
   "cell_type": "code",
   "execution_count": 110,
   "id": "0807e663",
   "metadata": {},
   "outputs": [
    {
     "data": {
      "text/plain": [
       "[10, 11, 20, 12, 13, 14, 15]"
      ]
     },
     "execution_count": 110,
     "metadata": {},
     "output_type": "execute_result"
    }
   ],
   "source": [
    "sayilar_2"
   ]
  },
  {
   "cell_type": "code",
   "execution_count": 111,
   "id": "781313bf",
   "metadata": {},
   "outputs": [],
   "source": [
    "sayilar_2.insert(-1,25)"
   ]
  },
  {
   "cell_type": "code",
   "execution_count": 112,
   "id": "f457f57d",
   "metadata": {},
   "outputs": [
    {
     "data": {
      "text/plain": [
       "[10, 11, 20, 12, 13, 14, 25, 15]"
      ]
     },
     "execution_count": 112,
     "metadata": {},
     "output_type": "execute_result"
    }
   ],
   "source": [
    "sayilar_2"
   ]
  },
  {
   "cell_type": "code",
   "execution_count": 113,
   "id": "e25301eb",
   "metadata": {},
   "outputs": [],
   "source": [
    "sayilar_2.insert(10,50)"
   ]
  },
  {
   "cell_type": "code",
   "execution_count": 114,
   "id": "92ec1902",
   "metadata": {},
   "outputs": [
    {
     "data": {
      "text/plain": [
       "[10, 11, 20, 12, 13, 14, 25, 15, 50]"
      ]
     },
     "execution_count": 114,
     "metadata": {},
     "output_type": "execute_result"
    }
   ],
   "source": [
    "sayilar_2"
   ]
  },
  {
   "cell_type": "code",
   "execution_count": 137,
   "id": "0e0a8b04",
   "metadata": {},
   "outputs": [
    {
     "name": "stdout",
     "output_type": "stream",
     "text": [
      "ideal kilonu ustu 2768.1660899653975\n"
     ]
    }
   ],
   "source": [
    "kilo =int(input(\"lutfen kilonuzu giriniz\"))\n",
    "boy = int(input(\"lutfen boyunuzu giriniz\")) / 100\n",
    "vki = kilo /boy ** 2\n",
    "vki\n",
    "\n",
    "if vki < 18.49:\n",
    "    print(f\"İdeal Kilonun Altı {vki}\")\n",
    "elif vki < 24.99:\n",
    "    print(f\"ideal kilo {vki}\")\n",
    "elif vki > 25:\n",
    "    print(f\"ideal kilonu ustu {vki}\")  \n"
   ]
  },
  {
   "cell_type": "code",
   "execution_count": 147,
   "id": "9f7136d3",
   "metadata": {},
   "outputs": [
    {
     "name": "stdout",
     "output_type": "stream",
     "text": [
      "Tech\n"
     ]
    }
   ],
   "source": [
    "sayi = int(input(\"Lutfen bir sayi giriniz\"))\n",
    "\n",
    "if sayi % 3 ==0 :\n",
    "    print(\"Tech\")\n",
    "elif sayi % 5 ==0 :\n",
    "    print(\"Pro\")\n",
    "elif (sayi % 3 ==0)  and (sayi % 5 ==0) :\n",
    "    print(\"Techpro\")\n",
    "else:\n",
    "    print(sayi) \n",
    "\n"
   ]
  },
  {
   "cell_type": "code",
   "execution_count": 151,
   "id": "86a1d80d",
   "metadata": {},
   "outputs": [
    {
     "name": "stdout",
     "output_type": "stream",
     "text": [
      "Tech\n"
     ]
    }
   ],
   "source": [
    "sayi = int(input(\"Lutfen bir sayi giriniz\"))\n",
    "\n",
    "if (sayi % 3 ==0)  and (sayi % 5 ==0) :\n",
    "    print(\"Techpro\")\n",
    "\n",
    "elif sayi % 3 ==0 :\n",
    "    print(\"Tech\")\n",
    "elif sayi % 5 ==0 :\n",
    "    print(\"Pro\")\n",
    "else:\n",
    "    print(sayi) "
   ]
  },
  {
   "cell_type": "markdown",
   "id": "83240b51",
   "metadata": {},
   "source": [
    "## remove() - liste icindeki elemani siler. eleman yoksa hata verir. indexle isimiz yok  "
   ]
  },
  {
   "cell_type": "code",
   "execution_count": 161,
   "id": "a8d07ac7",
   "metadata": {},
   "outputs": [],
   "source": [
    "sayilar_1 = [1,2,3,3,4,5,5,3,6,7,8,9]"
   ]
  },
  {
   "cell_type": "code",
   "execution_count": 162,
   "id": "3cf69a44",
   "metadata": {},
   "outputs": [],
   "source": [
    "sayilar_1.remove(7)"
   ]
  },
  {
   "cell_type": "code",
   "execution_count": 163,
   "id": "43940b5d",
   "metadata": {},
   "outputs": [
    {
     "data": {
      "text/plain": [
       "[1, 2, 3, 3, 4, 5, 5, 3, 6, 8, 9]"
      ]
     },
     "execution_count": 163,
     "metadata": {},
     "output_type": "execute_result"
    }
   ],
   "source": [
    "sayilar_1"
   ]
  },
  {
   "cell_type": "code",
   "execution_count": 164,
   "id": "257c7b4d",
   "metadata": {},
   "outputs": [],
   "source": [
    "sayilar_1.remove(5)"
   ]
  },
  {
   "cell_type": "code",
   "execution_count": 165,
   "id": "5f03ed52",
   "metadata": {},
   "outputs": [
    {
     "data": {
      "text/plain": [
       "[1, 2, 3, 3, 4, 5, 3, 6, 8, 9]"
      ]
     },
     "execution_count": 165,
     "metadata": {},
     "output_type": "execute_result"
    }
   ],
   "source": [
    "sayilar_1"
   ]
  },
  {
   "cell_type": "code",
   "execution_count": 166,
   "id": "3f9634a1",
   "metadata": {},
   "outputs": [
    {
     "ename": "ValueError",
     "evalue": "list.remove(x): x not in list",
     "output_type": "error",
     "traceback": [
      "\u001b[1;31m---------------------------------------------------------------------------\u001b[0m",
      "\u001b[1;31mValueError\u001b[0m                                Traceback (most recent call last)",
      "Cell \u001b[1;32mIn[166], line 1\u001b[0m\n\u001b[1;32m----> 1\u001b[0m \u001b[43msayilar_1\u001b[49m\u001b[38;5;241;43m.\u001b[39;49m\u001b[43mremove\u001b[49m\u001b[43m(\u001b[49m\u001b[38;5;241;43m7\u001b[39;49m\u001b[43m)\u001b[49m\n",
      "\u001b[1;31mValueError\u001b[0m: list.remove(x): x not in list"
     ]
    }
   ],
   "source": [
    "sayilar_1.remove(7)"
   ]
  },
  {
   "cell_type": "code",
   "execution_count": 167,
   "id": "382d2ad9",
   "metadata": {},
   "outputs": [
    {
     "data": {
      "text/plain": [
       "['Yunus', 'Ozenc', 'Rabia']"
      ]
     },
     "execution_count": 167,
     "metadata": {},
     "output_type": "execute_result"
    }
   ],
   "source": [
    "isimler_1 = [\"Yunus\",\"Ozenc\",\"Rabia\"]\n",
    "isimler_1"
   ]
  },
  {
   "cell_type": "code",
   "execution_count": 168,
   "id": "841eefaa",
   "metadata": {},
   "outputs": [
    {
     "ename": "ValueError",
     "evalue": "list.remove(x): x not in list",
     "output_type": "error",
     "traceback": [
      "\u001b[1;31m---------------------------------------------------------------------------\u001b[0m",
      "\u001b[1;31mValueError\u001b[0m                                Traceback (most recent call last)",
      "Cell \u001b[1;32mIn[168], line 1\u001b[0m\n\u001b[1;32m----> 1\u001b[0m \u001b[43misimler_1\u001b[49m\u001b[38;5;241;43m.\u001b[39;49m\u001b[43mremove\u001b[49m\u001b[43m(\u001b[49m\u001b[38;5;241;43m2\u001b[39;49m\u001b[43m)\u001b[49m\n",
      "\u001b[1;31mValueError\u001b[0m: list.remove(x): x not in list"
     ]
    }
   ],
   "source": [
    "isimler_1.remove(2)"
   ]
  },
  {
   "cell_type": "code",
   "execution_count": 169,
   "id": "5c004ca2",
   "metadata": {},
   "outputs": [],
   "source": [
    "isimler_1.remove(\"Rabia\")"
   ]
  },
  {
   "cell_type": "code",
   "execution_count": 170,
   "id": "b1492f12",
   "metadata": {},
   "outputs": [
    {
     "data": {
      "text/plain": [
       "['Yunus', 'Ozenc']"
      ]
     },
     "execution_count": 170,
     "metadata": {},
     "output_type": "execute_result"
    }
   ],
   "source": [
    "isimler_1"
   ]
  },
  {
   "cell_type": "markdown",
   "id": "971961fd",
   "metadata": {},
   "source": [
    "## pop() listenin yazdigimiz indexindeki elemani siler. eger index yazmazsaniz son elemani siler"
   ]
  },
  {
   "cell_type": "code",
   "execution_count": 171,
   "id": "060b0035",
   "metadata": {},
   "outputs": [
    {
     "data": {
      "text/plain": [
       "[1, 2, 3, 3, 4, 5, 3, 6, 8, 9]"
      ]
     },
     "execution_count": 171,
     "metadata": {},
     "output_type": "execute_result"
    }
   ],
   "source": [
    "sayilar_1"
   ]
  },
  {
   "cell_type": "code",
   "execution_count": 172,
   "id": "34f8203e",
   "metadata": {},
   "outputs": [
    {
     "data": {
      "text/plain": [
       "9"
      ]
     },
     "execution_count": 172,
     "metadata": {},
     "output_type": "execute_result"
    }
   ],
   "source": [
    "sayilar_1.pop()"
   ]
  },
  {
   "cell_type": "code",
   "execution_count": 173,
   "id": "3c774a92",
   "metadata": {},
   "outputs": [
    {
     "data": {
      "text/plain": [
       "[1, 2, 3, 3, 4, 5, 3, 6, 8]"
      ]
     },
     "execution_count": 173,
     "metadata": {},
     "output_type": "execute_result"
    }
   ],
   "source": [
    "sayilar_1"
   ]
  },
  {
   "cell_type": "code",
   "execution_count": 174,
   "id": "30fdcff6",
   "metadata": {},
   "outputs": [
    {
     "data": {
      "text/plain": [
       "2"
      ]
     },
     "execution_count": 174,
     "metadata": {},
     "output_type": "execute_result"
    }
   ],
   "source": [
    "sayilar_1.pop(1)"
   ]
  },
  {
   "cell_type": "code",
   "execution_count": 175,
   "id": "f22e901f",
   "metadata": {},
   "outputs": [
    {
     "data": {
      "text/plain": [
       "['Yunus', 'Ozenc']"
      ]
     },
     "execution_count": 175,
     "metadata": {},
     "output_type": "execute_result"
    }
   ],
   "source": [
    "isimler_1"
   ]
  },
  {
   "cell_type": "code",
   "execution_count": 176,
   "id": "2f8b8da6",
   "metadata": {},
   "outputs": [
    {
     "ename": "IndexError",
     "evalue": "pop index out of range",
     "output_type": "error",
     "traceback": [
      "\u001b[1;31m---------------------------------------------------------------------------\u001b[0m",
      "\u001b[1;31mIndexError\u001b[0m                                Traceback (most recent call last)",
      "Cell \u001b[1;32mIn[176], line 1\u001b[0m\n\u001b[1;32m----> 1\u001b[0m \u001b[43misimler_1\u001b[49m\u001b[38;5;241;43m.\u001b[39;49m\u001b[43mpop\u001b[49m\u001b[43m(\u001b[49m\u001b[38;5;241;43m5\u001b[39;49m\u001b[43m)\u001b[49m\n",
      "\u001b[1;31mIndexError\u001b[0m: pop index out of range"
     ]
    }
   ],
   "source": [
    "isimler_1.pop(5)"
   ]
  },
  {
   "cell_type": "code",
   "execution_count": 177,
   "id": "021d464b",
   "metadata": {},
   "outputs": [
    {
     "data": {
      "text/plain": [
       "'Ozenc'"
      ]
     },
     "execution_count": 177,
     "metadata": {},
     "output_type": "execute_result"
    }
   ],
   "source": [
    "isimler_1.pop()"
   ]
  },
  {
   "cell_type": "code",
   "execution_count": 178,
   "id": "ca122df8",
   "metadata": {},
   "outputs": [
    {
     "data": {
      "text/plain": [
       "['Yunus']"
      ]
     },
     "execution_count": 178,
     "metadata": {},
     "output_type": "execute_result"
    }
   ],
   "source": [
    "isimler_1"
   ]
  },
  {
   "cell_type": "code",
   "execution_count": 179,
   "id": "c37d215c",
   "metadata": {},
   "outputs": [
    {
     "data": {
      "text/plain": [
       "'Yunus'"
      ]
     },
     "execution_count": 179,
     "metadata": {},
     "output_type": "execute_result"
    }
   ],
   "source": [
    "isimler_1.pop(0)"
   ]
  },
  {
   "cell_type": "code",
   "execution_count": 180,
   "id": "4231fe88",
   "metadata": {},
   "outputs": [
    {
     "ename": "IndexError",
     "evalue": "pop from empty list",
     "output_type": "error",
     "traceback": [
      "\u001b[1;31m---------------------------------------------------------------------------\u001b[0m",
      "\u001b[1;31mIndexError\u001b[0m                                Traceback (most recent call last)",
      "Cell \u001b[1;32mIn[180], line 1\u001b[0m\n\u001b[1;32m----> 1\u001b[0m \u001b[43misimler_1\u001b[49m\u001b[38;5;241;43m.\u001b[39;49m\u001b[43mpop\u001b[49m\u001b[43m(\u001b[49m\u001b[43m)\u001b[49m\n",
      "\u001b[1;31mIndexError\u001b[0m: pop from empty list"
     ]
    }
   ],
   "source": [
    "isimler_1.pop()"
   ]
  },
  {
   "cell_type": "markdown",
   "id": "c06b285f",
   "metadata": {},
   "source": [
    "### count()"
   ]
  },
  {
   "cell_type": "code",
   "execution_count": 183,
   "id": "fed9e0f5",
   "metadata": {},
   "outputs": [],
   "source": [
    "sayiar_3 = [1,2,3,4,5,6,7,8,9,3,4,2,1]"
   ]
  },
  {
   "cell_type": "code",
   "execution_count": 186,
   "id": "b4d33477",
   "metadata": {},
   "outputs": [
    {
     "data": {
      "text/plain": [
       "2"
      ]
     },
     "execution_count": 186,
     "metadata": {},
     "output_type": "execute_result"
    }
   ],
   "source": [
    "sayiar_3.count(2)"
   ]
  },
  {
   "cell_type": "code",
   "execution_count": 187,
   "id": "16bc0739",
   "metadata": {},
   "outputs": [
    {
     "data": {
      "text/plain": [
       "0"
      ]
     },
     "execution_count": 187,
     "metadata": {},
     "output_type": "execute_result"
    }
   ],
   "source": [
    "sayiar_3.count(11)"
   ]
  },
  {
   "cell_type": "code",
   "execution_count": 188,
   "id": "a12a1e47",
   "metadata": {},
   "outputs": [],
   "source": [
    "karisik =[1,2,3,\"Ilayda\",\"1\",3.4]"
   ]
  },
  {
   "cell_type": "code",
   "execution_count": 189,
   "id": "3ba5b7ec",
   "metadata": {},
   "outputs": [
    {
     "data": {
      "text/plain": [
       "1"
      ]
     },
     "execution_count": 189,
     "metadata": {},
     "output_type": "execute_result"
    }
   ],
   "source": [
    "karisik.count(\"1\")"
   ]
  },
  {
   "cell_type": "code",
   "execution_count": 191,
   "id": "34f13f4c",
   "metadata": {},
   "outputs": [
    {
     "data": {
      "text/plain": [
       "1"
      ]
     },
     "execution_count": 191,
     "metadata": {},
     "output_type": "execute_result"
    }
   ],
   "source": [
    "karisik.count(\"Ilayda\") #case sensitive"
   ]
  },
  {
   "cell_type": "code",
   "execution_count": 192,
   "id": "2e1ae071",
   "metadata": {},
   "outputs": [],
   "source": [
    "karisik_2 = [1,0.0,False,2,True,1,1.0,0]"
   ]
  },
  {
   "cell_type": "code",
   "execution_count": 193,
   "id": "5641d2ac",
   "metadata": {},
   "outputs": [
    {
     "data": {
      "text/plain": [
       "3"
      ]
     },
     "execution_count": 193,
     "metadata": {},
     "output_type": "execute_result"
    }
   ],
   "source": [
    "karisik_2.count(0)"
   ]
  },
  {
   "cell_type": "code",
   "execution_count": 194,
   "id": "9d129184",
   "metadata": {},
   "outputs": [
    {
     "data": {
      "text/plain": [
       "4"
      ]
     },
     "execution_count": 194,
     "metadata": {},
     "output_type": "execute_result"
    }
   ],
   "source": [
    "karisik_2.count(1)"
   ]
  },
  {
   "cell_type": "code",
   "execution_count": 195,
   "id": "e2da20db",
   "metadata": {},
   "outputs": [
    {
     "data": {
      "text/plain": [
       "3"
      ]
     },
     "execution_count": 195,
     "metadata": {},
     "output_type": "execute_result"
    }
   ],
   "source": [
    "karisik_2.count(False)"
   ]
  },
  {
   "cell_type": "markdown",
   "id": "7950a0af",
   "metadata": {},
   "source": [
    "## clear()"
   ]
  },
  {
   "cell_type": "code",
   "execution_count": 196,
   "id": "1b792ab9",
   "metadata": {},
   "outputs": [
    {
     "data": {
      "text/plain": [
       "[1, 3, 3, 4, 5, 3, 6, 8]"
      ]
     },
     "execution_count": 196,
     "metadata": {},
     "output_type": "execute_result"
    }
   ],
   "source": [
    "sayilar_1"
   ]
  },
  {
   "cell_type": "code",
   "execution_count": 197,
   "id": "a000c9f9",
   "metadata": {},
   "outputs": [],
   "source": [
    "sayilar_1.clear()"
   ]
  },
  {
   "cell_type": "code",
   "execution_count": 198,
   "id": "3af6c0f1",
   "metadata": {},
   "outputs": [
    {
     "data": {
      "text/plain": [
       "[]"
      ]
     },
     "execution_count": 198,
     "metadata": {},
     "output_type": "execute_result"
    }
   ],
   "source": [
    "sayilar_1"
   ]
  },
  {
   "cell_type": "markdown",
   "id": "d6bea556",
   "metadata": {},
   "source": [
    "## del"
   ]
  },
  {
   "cell_type": "code",
   "execution_count": 199,
   "id": "5ff677bf",
   "metadata": {},
   "outputs": [
    {
     "data": {
      "text/plain": [
       "[10, 11, 20, 12, 13, 14, 25, 15, 50]"
      ]
     },
     "execution_count": 199,
     "metadata": {},
     "output_type": "execute_result"
    }
   ],
   "source": [
    "sayilar_2"
   ]
  },
  {
   "cell_type": "code",
   "execution_count": 202,
   "id": "ccd53f9d",
   "metadata": {},
   "outputs": [],
   "source": [
    "del sayilar_2[1]"
   ]
  },
  {
   "cell_type": "code",
   "execution_count": 203,
   "id": "cd2978b0",
   "metadata": {},
   "outputs": [
    {
     "data": {
      "text/plain": [
       "[10, 12, 13, 14, 25, 15, 50]"
      ]
     },
     "execution_count": 203,
     "metadata": {},
     "output_type": "execute_result"
    }
   ],
   "source": [
    "sayilar_2"
   ]
  },
  {
   "cell_type": "code",
   "execution_count": 204,
   "id": "efee2356",
   "metadata": {},
   "outputs": [],
   "source": [
    "del sayilar_2"
   ]
  },
  {
   "cell_type": "code",
   "execution_count": 205,
   "id": "4d3aedbd",
   "metadata": {},
   "outputs": [
    {
     "ename": "NameError",
     "evalue": "name 'sayilar_2' is not defined",
     "output_type": "error",
     "traceback": [
      "\u001b[1;31m---------------------------------------------------------------------------\u001b[0m",
      "\u001b[1;31mNameError\u001b[0m                                 Traceback (most recent call last)",
      "Cell \u001b[1;32mIn[205], line 1\u001b[0m\n\u001b[1;32m----> 1\u001b[0m \u001b[43msayilar_2\u001b[49m\n",
      "\u001b[1;31mNameError\u001b[0m: name 'sayilar_2' is not defined"
     ]
    }
   ],
   "source": [
    "sayilar_2"
   ]
  },
  {
   "cell_type": "code",
   "execution_count": 207,
   "id": "e9afc0df",
   "metadata": {},
   "outputs": [
    {
     "data": {
      "text/plain": [
       "[1, 2, 3, [4, 5, 6], 7]"
      ]
     },
     "execution_count": 207,
     "metadata": {},
     "output_type": "execute_result"
    }
   ],
   "source": [
    "sayilar_3 = [1,2,3, [4,5,6],7]\n",
    "sayilar_3"
   ]
  },
  {
   "cell_type": "code",
   "execution_count": 208,
   "id": "ac8860c6",
   "metadata": {},
   "outputs": [],
   "source": [
    "sayilar_3[3].clear()"
   ]
  },
  {
   "cell_type": "code",
   "execution_count": 209,
   "id": "564e08cb",
   "metadata": {},
   "outputs": [
    {
     "data": {
      "text/plain": [
       "[1, 2, 3, [], 7]"
      ]
     },
     "execution_count": 209,
     "metadata": {},
     "output_type": "execute_result"
    }
   ],
   "source": [
    "sayilar_3"
   ]
  },
  {
   "cell_type": "markdown",
   "id": "0ead3ec6",
   "metadata": {},
   "source": [
    "## sort()"
   ]
  },
  {
   "cell_type": "code",
   "execution_count": 210,
   "id": "02338076",
   "metadata": {},
   "outputs": [
    {
     "data": {
      "text/plain": [
       "[1, 2, 3, [], 7]"
      ]
     },
     "execution_count": 210,
     "metadata": {},
     "output_type": "execute_result"
    }
   ],
   "source": [
    "sayilar_3"
   ]
  },
  {
   "cell_type": "code",
   "execution_count": 212,
   "id": "d951a7e9",
   "metadata": {},
   "outputs": [
    {
     "data": {
      "text/plain": [
       "[4, 6, 1, 7, 9, 12, 51, 43, 3]"
      ]
     },
     "execution_count": 212,
     "metadata": {},
     "output_type": "execute_result"
    }
   ],
   "source": [
    "liste_4 = [4,6,1,7,9,12,51,43,3]\n",
    "liste_4"
   ]
  },
  {
   "cell_type": "code",
   "execution_count": 213,
   "id": "c52ea565",
   "metadata": {},
   "outputs": [],
   "source": [
    "liste_4.sort()"
   ]
  },
  {
   "cell_type": "code",
   "execution_count": 214,
   "id": "7f5edecd",
   "metadata": {},
   "outputs": [
    {
     "data": {
      "text/plain": [
       "[1, 3, 4, 6, 7, 9, 12, 43, 51]"
      ]
     },
     "execution_count": 214,
     "metadata": {},
     "output_type": "execute_result"
    }
   ],
   "source": [
    "liste_4"
   ]
  },
  {
   "cell_type": "code",
   "execution_count": 215,
   "id": "84aaafb5",
   "metadata": {},
   "outputs": [],
   "source": [
    "liste_4.sort(reverse=True)"
   ]
  },
  {
   "cell_type": "code",
   "execution_count": 216,
   "id": "93fe5214",
   "metadata": {},
   "outputs": [
    {
     "data": {
      "text/plain": [
       "[51, 43, 12, 9, 7, 6, 4, 3, 1]"
      ]
     },
     "execution_count": 216,
     "metadata": {},
     "output_type": "execute_result"
    }
   ],
   "source": [
    "liste_4"
   ]
  },
  {
   "cell_type": "code",
   "execution_count": 217,
   "id": "bf471cbb",
   "metadata": {},
   "outputs": [
    {
     "data": {
      "text/plain": [
       "[4, 6, 1, 7, 9, 12, 51, 43, 3, True, False]"
      ]
     },
     "execution_count": 217,
     "metadata": {},
     "output_type": "execute_result"
    }
   ],
   "source": [
    "liste_5 = [4,6,1,7,9,12,51,43,3,True,False]\n",
    "liste_5"
   ]
  },
  {
   "cell_type": "code",
   "execution_count": 218,
   "id": "eb28fe2b",
   "metadata": {},
   "outputs": [],
   "source": [
    "liste_5.sort()"
   ]
  },
  {
   "cell_type": "code",
   "execution_count": 219,
   "id": "38308e80",
   "metadata": {},
   "outputs": [
    {
     "data": {
      "text/plain": [
       "[False, 1, True, 3, 4, 6, 7, 9, 12, 43, 51]"
      ]
     },
     "execution_count": 219,
     "metadata": {},
     "output_type": "execute_result"
    }
   ],
   "source": [
    "liste_5"
   ]
  },
  {
   "cell_type": "code",
   "execution_count": 220,
   "id": "a9e9c1e6",
   "metadata": {},
   "outputs": [
    {
     "data": {
      "text/plain": [
       "[4, 6, 1, 7, 9, 12, 51, 43, 3, True, False, 'Cenk']"
      ]
     },
     "execution_count": 220,
     "metadata": {},
     "output_type": "execute_result"
    }
   ],
   "source": [
    "karisik_3 = [4,6,1,7,9,12,51,43,3,True,False,\"Cenk\"]\n",
    "karisik_3"
   ]
  },
  {
   "cell_type": "code",
   "execution_count": 221,
   "id": "531ca698",
   "metadata": {},
   "outputs": [
    {
     "ename": "TypeError",
     "evalue": "'<' not supported between instances of 'str' and 'int'",
     "output_type": "error",
     "traceback": [
      "\u001b[1;31m---------------------------------------------------------------------------\u001b[0m",
      "\u001b[1;31mTypeError\u001b[0m                                 Traceback (most recent call last)",
      "Cell \u001b[1;32mIn[221], line 1\u001b[0m\n\u001b[1;32m----> 1\u001b[0m \u001b[43mkarisik_3\u001b[49m\u001b[38;5;241;43m.\u001b[39;49m\u001b[43msort\u001b[49m\u001b[43m(\u001b[49m\u001b[43m)\u001b[49m\n",
      "\u001b[1;31mTypeError\u001b[0m: '<' not supported between instances of 'str' and 'int'"
     ]
    }
   ],
   "source": [
    "karisik_3.sort()"
   ]
  },
  {
   "cell_type": "code",
   "execution_count": 222,
   "id": "e05bf412",
   "metadata": {},
   "outputs": [
    {
     "data": {
      "text/plain": [
       "['Yusuf', 'Arzu', 'bahar', 'Burak']"
      ]
     },
     "execution_count": 222,
     "metadata": {},
     "output_type": "execute_result"
    }
   ],
   "source": [
    "isimler_2 = [\"Yusuf\",\"Arzu\",\"bahar\",\"Burak\"]\n",
    "isimler_2"
   ]
  },
  {
   "cell_type": "code",
   "execution_count": 223,
   "id": "f34e432c",
   "metadata": {},
   "outputs": [],
   "source": [
    "isimler_2.sort()"
   ]
  },
  {
   "cell_type": "code",
   "execution_count": 224,
   "id": "d551fdb3",
   "metadata": {},
   "outputs": [
    {
     "data": {
      "text/plain": [
       "['Arzu', 'Burak', 'Yusuf', 'bahar']"
      ]
     },
     "execution_count": 224,
     "metadata": {},
     "output_type": "execute_result"
    }
   ],
   "source": [
    "isimler_2"
   ]
  },
  {
   "cell_type": "markdown",
   "id": "d7ffc308",
   "metadata": {},
   "source": [
    "## swap"
   ]
  },
  {
   "cell_type": "code",
   "execution_count": null,
   "id": "48c805b1",
   "metadata": {},
   "outputs": [],
   "source": []
  }
 ],
 "metadata": {
  "kernelspec": {
   "display_name": "Python 3",
   "language": "python",
   "name": "python3"
  },
  "language_info": {
   "codemirror_mode": {
    "name": "ipython",
    "version": 3
   },
   "file_extension": ".py",
   "mimetype": "text/x-python",
   "name": "python",
   "nbconvert_exporter": "python",
   "pygments_lexer": "ipython3",
   "version": "3.12.4"
  }
 },
 "nbformat": 4,
 "nbformat_minor": 5
}
