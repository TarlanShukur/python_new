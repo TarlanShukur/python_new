{
 "cells": [
  {
   "cell_type": "code",
   "execution_count": 12,
   "id": "a2087b93",
   "metadata": {},
   "outputs": [
    {
     "ename": "SyntaxError",
     "evalue": "closing parenthesis ')' does not match opening parenthesis '[' (1246346675.py, line 6)",
     "output_type": "error",
     "traceback": [
      "\u001b[1;36m  Cell \u001b[1;32mIn[12], line 6\u001b[1;36m\u001b[0m\n\u001b[1;33m    list_new.append([list1[len(list1)//2],[list1[len(list1)//2]])\u001b[0m\n\u001b[1;37m                                                                ^\u001b[0m\n\u001b[1;31mSyntaxError\u001b[0m\u001b[1;31m:\u001b[0m closing parenthesis ')' does not match opening parenthesis '['\n"
     ]
    }
   ],
   "source": [
    "def pairs(list1):\n",
    "    list_new =[]\n",
    "    for i in range(len(list1) // 2):\n",
    "        list_new.append([list1[i],list1[-1-i]])\n",
    "    if len(list1) % 2 ==1:\n",
    "        list_new.append([list1[len(list1)//2],[list1[len(list1)//2]])    \n",
    "    return list_new    \n",
    "pairs([1,2,3,4,5,6,7])\n"
   ]
  },
  {
   "cell_type": "code",
   "execution_count": 13,
   "id": "d1bea54f",
   "metadata": {},
   "outputs": [
    {
     "ename": "SyntaxError",
     "evalue": "closing parenthesis ')' does not match opening parenthesis '[' (195993408.py, line 6)",
     "output_type": "error",
     "traceback": [
      "\u001b[1;36m  Cell \u001b[1;32mIn[13], line 6\u001b[1;36m\u001b[0m\n\u001b[1;33m    list_new.append([list1[len(list1)//2],[list1[len(list1)//2]])\u001b[0m\n\u001b[1;37m                                                                ^\u001b[0m\n\u001b[1;31mSyntaxError\u001b[0m\u001b[1;31m:\u001b[0m closing parenthesis ')' does not match opening parenthesis '['\n"
     ]
    }
   ],
   "source": [
    "def pairs(list1):\n",
    "    list_new =[]\n",
    "    for i in range(len(list1) // 2):\n",
    "        list_new.append([list1[i],list1[-1-i]])\n",
    "    if len(list1) % 2 ==1:\n",
    "        list_new.append([list1[len(list1)//2],[list1[len(list1)//2]])    \n",
    "    return list_new    \n",
    "pairs([1,2,3,4,5,6,7])"
   ]
  },
  {
   "cell_type": "code",
   "execution_count": 3,
   "id": "aa1009de",
   "metadata": {},
   "outputs": [],
   "source": [
    "x=[1,2,3,4,5,6,7]"
   ]
  },
  {
   "cell_type": "code",
   "execution_count": 5,
   "id": "40771351",
   "metadata": {},
   "outputs": [
    {
     "data": {
      "text/plain": [
       "3.5"
      ]
     },
     "execution_count": 5,
     "metadata": {},
     "output_type": "execute_result"
    }
   ],
   "source": [
    "len(x) / 2"
   ]
  },
  {
   "cell_type": "code",
   "execution_count": 6,
   "id": "a29ffb4b",
   "metadata": {},
   "outputs": [
    {
     "data": {
      "text/plain": [
       "3"
      ]
     },
     "execution_count": 6,
     "metadata": {},
     "output_type": "execute_result"
    }
   ],
   "source": [
    "len(x) // 2"
   ]
  },
  {
   "cell_type": "code",
   "execution_count": 14,
   "id": "1d6fb401",
   "metadata": {},
   "outputs": [
    {
     "data": {
      "text/plain": [
       "True"
      ]
     },
     "execution_count": 14,
     "metadata": {},
     "output_type": "execute_result"
    }
   ],
   "source": [
    "def scramble(str1,str2):\n",
    "    a = set(str1)\n",
    "    count=0\n",
    "    for i in str2:\n",
    "        if i in a:\n",
    "            count +=1\n",
    "    if count == len(str2):\n",
    "        return True\n",
    "    else:\n",
    "        return False\n",
    "scramble(\"data scientist\",\"sedat\")            "
   ]
  },
  {
   "cell_type": "code",
   "execution_count": null,
   "id": "24f377c4",
   "metadata": {},
   "outputs": [],
   "source": []
  },
  {
   "cell_type": "code",
   "execution_count": 15,
   "id": "24e40f56",
   "metadata": {},
   "outputs": [
    {
     "data": {
      "text/plain": [
       "True"
      ]
     },
     "execution_count": 15,
     "metadata": {},
     "output_type": "execute_result"
    }
   ],
   "source": [
    "x = set(\"sedat\")\n",
    "\n",
    "x.issubset(\"datascientist\")"
   ]
  },
  {
   "cell_type": "code",
   "execution_count": 16,
   "id": "3f816843",
   "metadata": {},
   "outputs": [
    {
     "data": {
      "text/plain": [
       "False"
      ]
     },
     "execution_count": 16,
     "metadata": {},
     "output_type": "execute_result"
    }
   ],
   "source": [
    "x = set(\"sedat\")\n",
    "\n",
    "x.issubset(\"data\")"
   ]
  },
  {
   "cell_type": "code",
   "execution_count": null,
   "id": "944ff2ba",
   "metadata": {},
   "outputs": [],
   "source": []
  }
 ],
 "metadata": {
  "kernelspec": {
   "display_name": "Python 3",
   "language": "python",
   "name": "python3"
  },
  "language_info": {
   "codemirror_mode": {
    "name": "ipython",
    "version": 3
   },
   "file_extension": ".py",
   "mimetype": "text/x-python",
   "name": "python",
   "nbconvert_exporter": "python",
   "pygments_lexer": "ipython3",
   "version": "3.12.4"
  }
 },
 "nbformat": 4,
 "nbformat_minor": 5
}
