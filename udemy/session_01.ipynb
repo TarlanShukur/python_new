{
 "cells": [
  {
   "cell_type": "code",
   "execution_count": 1,
   "id": "c90402f2",
   "metadata": {},
   "outputs": [],
   "source": [
    "s1 = \"sari\"\n",
    "s2 = \"mehmet\"\n"
   ]
  },
  {
   "cell_type": "code",
   "execution_count": 2,
   "id": "3a0faf7b",
   "metadata": {},
   "outputs": [
    {
     "data": {
      "text/plain": [
       "'sarimehmet'"
      ]
     },
     "execution_count": 2,
     "metadata": {},
     "output_type": "execute_result"
    }
   ],
   "source": [
    "s1 + s2"
   ]
  },
  {
   "cell_type": "code",
   "execution_count": 5,
   "id": "9c811d60",
   "metadata": {},
   "outputs": [
    {
     "data": {
      "text/plain": [
       "'ari'"
      ]
     },
     "execution_count": 5,
     "metadata": {},
     "output_type": "execute_result"
    }
   ],
   "source": [
    "s1[1::]"
   ]
  },
  {
   "cell_type": "code",
   "execution_count": 6,
   "id": "e3e5f706",
   "metadata": {},
   "outputs": [
    {
     "data": {
      "text/plain": [
       "'sa'"
      ]
     },
     "execution_count": 6,
     "metadata": {},
     "output_type": "execute_result"
    }
   ],
   "source": [
    "s1[:2]"
   ]
  },
  {
   "cell_type": "code",
   "execution_count": 7,
   "id": "07e5ac51",
   "metadata": {},
   "outputs": [
    {
     "data": {
      "text/plain": [
       "'ri'"
      ]
     },
     "execution_count": 7,
     "metadata": {},
     "output_type": "execute_result"
    }
   ],
   "source": [
    "s1[2:]"
   ]
  },
  {
   "cell_type": "code",
   "execution_count": 8,
   "id": "10d3901d",
   "metadata": {},
   "outputs": [
    {
     "data": {
      "text/plain": [
       "'sa'"
      ]
     },
     "execution_count": 8,
     "metadata": {},
     "output_type": "execute_result"
    }
   ],
   "source": [
    "s1[:len(s1) // 2]"
   ]
  },
  {
   "cell_type": "code",
   "execution_count": 9,
   "id": "62d3989a",
   "metadata": {},
   "outputs": [
    {
     "data": {
      "text/plain": [
       "'ri'"
      ]
     },
     "execution_count": 9,
     "metadata": {},
     "output_type": "execute_result"
    }
   ],
   "source": [
    "s1[len(s1) // 2:]"
   ]
  },
  {
   "cell_type": "code",
   "execution_count": 10,
   "id": "f4612846",
   "metadata": {},
   "outputs": [
    {
     "data": {
      "text/plain": [
       "2"
      ]
     },
     "execution_count": 10,
     "metadata": {},
     "output_type": "execute_result"
    }
   ],
   "source": [
    "len(s1) // 2"
   ]
  },
  {
   "cell_type": "code",
   "execution_count": 11,
   "id": "b15a94d0",
   "metadata": {},
   "outputs": [
    {
     "data": {
      "text/plain": [
       "2.0"
      ]
     },
     "execution_count": 11,
     "metadata": {},
     "output_type": "execute_result"
    }
   ],
   "source": [
    "len(s1) / 2"
   ]
  },
  {
   "cell_type": "code",
   "execution_count": 15,
   "id": "a6191317",
   "metadata": {},
   "outputs": [
    {
     "data": {
      "text/plain": [
       "'samehmetri'"
      ]
     },
     "execution_count": 15,
     "metadata": {},
     "output_type": "execute_result"
    }
   ],
   "source": [
    "s3 = s1[:len(s1)//2] + s2 +s1[len(s1)//2:]\n",
    "s3"
   ]
  },
  {
   "cell_type": "code",
   "execution_count": 20,
   "id": "b43a1926",
   "metadata": {},
   "outputs": [],
   "source": [
    "s4 = \"yesil\""
   ]
  },
  {
   "cell_type": "code",
   "execution_count": 21,
   "id": "22d4aa44",
   "metadata": {},
   "outputs": [
    {
     "data": {
      "text/plain": [
       "'yemehmetsil'"
      ]
     },
     "execution_count": 21,
     "metadata": {},
     "output_type": "execute_result"
    }
   ],
   "source": [
    "s5 = s4[:len(s4)//2] + s2 +s4[len(s4)//2:]\n",
    "s5"
   ]
  },
  {
   "cell_type": "code",
   "execution_count": 23,
   "id": "87f013b3",
   "metadata": {},
   "outputs": [
    {
     "data": {
      "text/plain": [
       "'yesmehmetil'"
      ]
     },
     "execution_count": 23,
     "metadata": {},
     "output_type": "execute_result"
    }
   ],
   "source": [
    "s5 = s4[:len(s4)//2 +1] + s2 +s4[len(s4)//2+1:]\n",
    "s5"
   ]
  },
  {
   "cell_type": "code",
   "execution_count": 24,
   "id": "5bc05f1e",
   "metadata": {},
   "outputs": [],
   "source": [
    "a = \"BESacademy\""
   ]
  },
  {
   "cell_type": "code",
   "execution_count": 25,
   "id": "c99f0eeb",
   "metadata": {},
   "outputs": [
    {
     "data": {
      "text/plain": [
       "'BES'"
      ]
     },
     "execution_count": 25,
     "metadata": {},
     "output_type": "execute_result"
    }
   ],
   "source": [
    "a[:3]"
   ]
  },
  {
   "cell_type": "code",
   "execution_count": 26,
   "id": "184f51b9",
   "metadata": {},
   "outputs": [
    {
     "data": {
      "text/plain": [
       "'emy'"
      ]
     },
     "execution_count": 26,
     "metadata": {},
     "output_type": "execute_result"
    }
   ],
   "source": [
    "a[-3:]"
   ]
  },
  {
   "cell_type": "code",
   "execution_count": 29,
   "id": "ee7d6d18",
   "metadata": {},
   "outputs": [
    {
     "name": "stdout",
     "output_type": "stream",
     "text": [
      "empty str\n"
     ]
    }
   ],
   "source": [
    "company = input(\"enter the your company\")\n",
    "\n",
    "if len(company) >= 3:\n",
    "    print(company[:3] + company[-3:] )\n",
    "else:\n",
    "    print(\"empty str\")    "
   ]
  },
  {
   "cell_type": "code",
   "execution_count": 31,
   "id": "918bb418",
   "metadata": {},
   "outputs": [],
   "source": [
    "str_x = \"Mr.Bean is good actor and Mr.Bean is very funny.\"\n",
    "\n",
    "a =str_x.count(\"Mr.Bean\")\n"
   ]
  },
  {
   "cell_type": "code",
   "execution_count": 32,
   "id": "a83fe191",
   "metadata": {},
   "outputs": [
    {
     "name": "stdout",
     "output_type": "stream",
     "text": [
      "Mr.Bean appeared 2 times.\n"
     ]
    }
   ],
   "source": [
    "print(f\"Mr.Bean appeared {a} times.\")"
   ]
  },
  {
   "cell_type": "code",
   "execution_count": 34,
   "id": "839ba03c",
   "metadata": {},
   "outputs": [
    {
     "name": "stdout",
     "output_type": "stream",
     "text": [
      "Mr.Bean appeared 2 times.\n"
     ]
    }
   ],
   "source": [
    "print(\"Mr.Bean appeared {} times.\".format(a))"
   ]
  },
  {
   "cell_type": "code",
   "execution_count": 41,
   "id": "f65142f1",
   "metadata": {},
   "outputs": [
    {
     "name": "stdout",
     "output_type": "stream",
     "text": [
      "name sedat\n",
      "age 30\n",
      "job data\n"
     ]
    }
   ],
   "source": [
    "per = input(\"Please enter your name,age and job separating them with comma\").split(\",\")\n",
    "\n",
    "print(\"name\",per[0])\n",
    "print(\"age\",per[1])\n",
    "print(\"job\",per[2])"
   ]
  },
  {
   "cell_type": "code",
   "execution_count": 36,
   "id": "c4f8596f",
   "metadata": {},
   "outputs": [
    {
     "data": {
      "text/plain": [
       "['90', '99', '100', '85', '92']"
      ]
     },
     "execution_count": 36,
     "metadata": {},
     "output_type": "execute_result"
    }
   ],
   "source": [
    "score = \"90,99,100,85,92\"\n",
    "score.split(\",\")"
   ]
  },
  {
   "cell_type": "code",
   "execution_count": 42,
   "id": "38220356",
   "metadata": {},
   "outputs": [
    {
     "name": "stdout",
     "output_type": "stream",
     "text": [
      "my name is sedat\n"
     ]
    }
   ],
   "source": [
    "print(\"my name is sedat\")"
   ]
  },
  {
   "cell_type": "code",
   "execution_count": 43,
   "id": "fb2edc3c",
   "metadata": {},
   "outputs": [
    {
     "ename": "IndexError",
     "evalue": "list index out of range",
     "output_type": "error",
     "traceback": [
      "\u001b[1;31m---------------------------------------------------------------------------\u001b[0m",
      "\u001b[1;31mIndexError\u001b[0m                                Traceback (most recent call last)",
      "Cell \u001b[1;32mIn[43], line 3\u001b[0m\n\u001b[0;32m      1\u001b[0m per \u001b[38;5;241m=\u001b[39m \u001b[38;5;28minput\u001b[39m(\u001b[38;5;124m\"\u001b[39m\u001b[38;5;124mPlease enter your name,age and job separating them with comma\u001b[39m\u001b[38;5;124m\"\u001b[39m)\u001b[38;5;241m.\u001b[39msplit(\u001b[38;5;124m\"\u001b[39m\u001b[38;5;124m,\u001b[39m\u001b[38;5;124m\"\u001b[39m)\n\u001b[1;32m----> 3\u001b[0m \u001b[38;5;28mprint\u001b[39m(\u001b[38;5;124mf\u001b[39m\u001b[38;5;124m\"\u001b[39m\u001b[38;5;124mname: \u001b[39m\u001b[38;5;132;01m{\u001b[39;00mper[\u001b[38;5;241m0\u001b[39m]\u001b[38;5;132;01m}\u001b[39;00m\u001b[38;5;124m age \u001b[39m\u001b[38;5;132;01m{\u001b[39;00m\u001b[43mper\u001b[49m\u001b[43m[\u001b[49m\u001b[38;5;241;43m1\u001b[39;49m\u001b[43m]\u001b[49m\u001b[38;5;132;01m}\u001b[39;00m\u001b[38;5;124m job \u001b[39m\u001b[38;5;132;01m{\u001b[39;00mper[\u001b[38;5;241m2\u001b[39m]\u001b[38;5;132;01m}\u001b[39;00m\u001b[38;5;124m\"\u001b[39m)\n",
      "\u001b[1;31mIndexError\u001b[0m: list index out of range"
     ]
    }
   ],
   "source": [
    "per = input(\"Please enter your name,age and job separating them with comma\").split(\",\")\n",
    "\n",
    "print(f\"name: {per[0]} age {per[1]} job {per[2]}\")"
   ]
  },
  {
   "cell_type": "code",
   "execution_count": 45,
   "id": "d73f9e99",
   "metadata": {},
   "outputs": [
    {
     "name": "stdout",
     "output_type": "stream",
     "text": [
      "Your weekly wage is 1200\n"
     ]
    }
   ],
   "source": [
    "work_hours = int(input(\"enter weekly working hour\"))\n",
    "hourly_wage = int(input(\"enter your hourly age\"))\n",
    "\n",
    "if work_hours > 40 :\n",
    "    weekly_wage = (work_hours - 40) * (1.5 * hourly_wage) + 40 * hourly_wage\n",
    "else:\n",
    "    weekly_wage = work_hours * hourly_wage\n",
    "\n",
    "print(f\"Your weekly wage is {weekly_wage}\")        \n"
   ]
  },
  {
   "cell_type": "code",
   "execution_count": 51,
   "id": "12413ea8",
   "metadata": {},
   "outputs": [
    {
     "name": "stdout",
     "output_type": "stream",
     "text": [
      "False\n"
     ]
    }
   ],
   "source": [
    "x = int(input(\"enter a number\"))\n",
    "y = int(input(\"enter a number\"))\n",
    "\n",
    "if x == y or abs(x-y) % 5== 0:\n",
    "    print(\"True\")\n",
    "else:\n",
    "    print(\"False\")    "
   ]
  },
  {
   "cell_type": "code",
   "execution_count": 12,
   "id": "976d7978",
   "metadata": {},
   "outputs": [
    {
     "ename": "ValueError",
     "evalue": "invalid literal for int() with base 10: 'g'",
     "output_type": "error",
     "traceback": [
      "\u001b[1;31m---------------------------------------------------------------------------\u001b[0m",
      "\u001b[1;31mValueError\u001b[0m                                Traceback (most recent call last)",
      "Cell \u001b[1;32mIn[12], line 5\u001b[0m\n\u001b[0;32m      2\u001b[0m y \u001b[38;5;241m=\u001b[39m \u001b[38;5;28minput\u001b[39m(\u001b[38;5;124m\"\u001b[39m\u001b[38;5;124msayi girin\u001b[39m\u001b[38;5;124m\"\u001b[39m)\n\u001b[0;32m      4\u001b[0m \u001b[38;5;28;01mif\u001b[39;00m x\u001b[38;5;241m.\u001b[39misnumeric() \u001b[38;5;129;01mand\u001b[39;00m y\u001b[38;5;241m.\u001b[39misnumeric:\n\u001b[1;32m----> 5\u001b[0m     \u001b[38;5;28mprint\u001b[39m( \u001b[38;5;28mint\u001b[39m(x) \u001b[38;5;241m+\u001b[39m \u001b[38;5;28;43mint\u001b[39;49m\u001b[43m(\u001b[49m\u001b[43my\u001b[49m\u001b[43m)\u001b[49m)\n\u001b[0;32m      6\u001b[0m \u001b[38;5;28;01melse\u001b[39;00m:\n\u001b[0;32m      7\u001b[0m     \u001b[38;5;28mprint\u001b[39m (\u001b[38;5;124m\"\u001b[39m\u001b[38;5;124myou have not entered number\u001b[39m\u001b[38;5;124m\"\u001b[39m)    \n",
      "\u001b[1;31mValueError\u001b[0m: invalid literal for int() with base 10: 'g'"
     ]
    }
   ],
   "source": [
    "x = input(\"sayi girin\")\n",
    "y = input(\"sayi girin\")\n",
    "\n",
    "if x.isnumeric() and y.isnumeric:\n",
    "    print( int(x) + int(y))\n",
    "else:\n",
    "    print (\"you have not entered number\")    \n",
    "\n",
    "\n",
    "\n",
    "\n",
    "\n"
   ]
  },
  {
   "cell_type": "code",
   "execution_count": null,
   "id": "fdfa412b",
   "metadata": {},
   "outputs": [
    {
     "name": "stdout",
     "output_type": "stream",
     "text": [
      "turkiye is 0.5274305089297704  of the world landmass\n"
     ]
    }
   ],
   "source": [
    "country = input(\"enter country\")\n",
    "area = input(\"enter the area of the country\")\n",
    "earth = 148940000\n",
    "\n",
    "percentile = round((int(area) / earth) * 100 ,2)\n",
    "\n",
    "print(f\"{country} is {percentile}  of the world landmass\")"
   ]
  },
  {
   "cell_type": "code",
   "execution_count": 20,
   "id": "a1ad6a02",
   "metadata": {},
   "outputs": [
    {
     "name": "stdout",
     "output_type": "stream",
     "text": [
      "extreme obese\n"
     ]
    }
   ],
   "source": [
    "weight = input(\"kilo girin\")\n",
    "height = input(\"boy girin\")\n",
    "\n",
    "bmi = int(weight) / (int(height)/100 **2)\n",
    "\n",
    "if bmi < 18.5 :\n",
    "    print(\"underweight\")\n",
    "elif bmi < 24.9:\n",
    "    print(\"normal\")\n",
    "elif bmi < 29.9:\n",
    "    print(\"overweight\")\n",
    "elif bmi < 34.9:\n",
    "    print(\"obese\")\n",
    "else:\n",
    "    print(\"extreme obese\")                 "
   ]
  },
  {
   "cell_type": "code",
   "execution_count": 26,
   "id": "0b729410",
   "metadata": {},
   "outputs": [
    {
     "name": "stdout",
     "output_type": "stream",
     "text": [
      "1112223344\n"
     ]
    }
   ],
   "source": [
    "given_str = \"My phone number is (111) 222-33-44\"\n",
    "\n",
    "output = \"\"\n",
    "\n",
    "for i in given_str:\n",
    "\n",
    "    if i in \"0123456789\":\n",
    "        output += i\n",
    "\n",
    "print(output)    "
   ]
  },
  {
   "cell_type": "code",
   "execution_count": 29,
   "id": "7c1f00ff",
   "metadata": {},
   "outputs": [
    {
     "name": "stdout",
     "output_type": "stream",
     "text": [
      "B\n"
     ]
    }
   ],
   "source": [
    "note = int(input(\"notunuzu girin\"))\n",
    "\n",
    "if note < 49:\n",
    "    print(\"F\")\n",
    "elif note < 54:\n",
    "    print(\"D\")\n",
    "elif note < 64:\n",
    "    print(\"C\")\n",
    "elif note < 79:\n",
    "    print(\"B\")\n",
    "else:\n",
    "    print(\"A\")        \n"
   ]
  },
  {
   "cell_type": "code",
   "execution_count": null,
   "id": "7b079903",
   "metadata": {},
   "outputs": [
    {
     "name": "stdout",
     "output_type": "stream",
     "text": [
      "['Ankara', 'aNkara', 'anKara', 'ankAra', 'ankaRa', 'ankarA']\n"
     ]
    }
   ],
   "source": [
    "word = input(\"Enter a word\").lower()\n",
    "result = []\n",
    "\n",
    "for i in range(len(word)):\n",
    "    result.append(word[:i] + word[i].upper() + word[i+1:])\n",
    "\n",
    "print(result)"
   ]
  },
  {
   "cell_type": "code",
   "execution_count": 32,
   "id": "94f38eb6",
   "metadata": {},
   "outputs": [
    {
     "name": "stdout",
     "output_type": "stream",
     "text": [
      "{0: 'B', 1: 'E', 2: 'S', 3: 'a', 4: 'c', 5: 'a', 6: 'd', 7: 'e', 8: 'm', 9: 'y'}\n"
     ]
    }
   ],
   "source": [
    "x = input(\"enter a word\")\n",
    "\n",
    "dict_1 = {}\n",
    "\n",
    "for i in range(len(x)):\n",
    "    dict_1[i] =x[i]\n",
    "\n",
    "print(dict_1)\n"
   ]
  },
  {
   "cell_type": "code",
   "execution_count": 33,
   "id": "f45a1b55",
   "metadata": {},
   "outputs": [
    {
     "data": {
      "text/plain": [
       "[(0, 'B'),\n",
       " (1, 'E'),\n",
       " (2, 'S'),\n",
       " (3, 'a'),\n",
       " (4, 'c'),\n",
       " (5, 'a'),\n",
       " (6, 'd'),\n",
       " (7, 'e'),\n",
       " (8, 'm'),\n",
       " (9, 'y')]"
      ]
     },
     "execution_count": 33,
     "metadata": {},
     "output_type": "execute_result"
    }
   ],
   "source": [
    "list(enumerate(\"BESacademy\"))"
   ]
  },
  {
   "cell_type": "code",
   "execution_count": 34,
   "id": "5bc20cfe",
   "metadata": {},
   "outputs": [
    {
     "data": {
      "text/plain": [
       "{0: 'B',\n",
       " 1: 'E',\n",
       " 2: 'S',\n",
       " 3: 'a',\n",
       " 4: 'c',\n",
       " 5: 'a',\n",
       " 6: 'd',\n",
       " 7: 'e',\n",
       " 8: 'm',\n",
       " 9: 'y'}"
      ]
     },
     "execution_count": 34,
     "metadata": {},
     "output_type": "execute_result"
    }
   ],
   "source": [
    "dict(enumerate(\"BESacademy\"))"
   ]
  },
  {
   "cell_type": "code",
   "execution_count": 1,
   "id": "340b7096",
   "metadata": {},
   "outputs": [],
   "source": [
    "def sum(a, b):\n",
    "    return a+b"
   ]
  },
  {
   "cell_type": "code",
   "execution_count": 4,
   "id": "abe19690",
   "metadata": {},
   "outputs": [
    {
     "name": "stdout",
     "output_type": "stream",
     "text": [
      "0\n",
      "5\n",
      "10\n",
      "15\n",
      "20\n",
      "25\n",
      "30\n",
      "35\n",
      "40\n",
      "45\n",
      "50\n"
     ]
    }
   ],
   "source": [
    "sayi = int(input(\"Bir sayi girin\"))\n",
    "\n",
    "for i in range(11):\n",
    "    print(i * sayi )\n",
    "\n",
    "\n",
    "\n",
    "\n",
    "\n"
   ]
  },
  {
   "cell_type": "code",
   "execution_count": 5,
   "id": "548ac5d0",
   "metadata": {},
   "outputs": [
    {
     "ename": "TypeError",
     "evalue": "unsupported operand type(s) for +: 'int' and 'str'",
     "output_type": "error",
     "traceback": [
      "\u001b[1;31m---------------------------------------------------------------------------\u001b[0m",
      "\u001b[1;31mTypeError\u001b[0m                                 Traceback (most recent call last)",
      "Cell \u001b[1;32mIn[5], line 5\u001b[0m\n\u001b[0;32m      3\u001b[0m \u001b[38;5;28;01mif\u001b[39;00m a\u001b[38;5;241m.\u001b[39misdigit():\n\u001b[0;32m      4\u001b[0m     \u001b[38;5;28;01mif\u001b[39;00m \u001b[38;5;28mint\u001b[39m(a) \u001b[38;5;129;01min\u001b[39;00m [\u001b[38;5;241m0\u001b[39m,\u001b[38;5;241m1\u001b[39m,\u001b[38;5;241m2\u001b[39m,\u001b[38;5;241m3\u001b[39m,\u001b[38;5;241m4\u001b[39m,\u001b[38;5;241m5\u001b[39m,\u001b[38;5;241m6\u001b[39m,\u001b[38;5;241m7\u001b[39m,\u001b[38;5;241m8\u001b[39m,\u001b[38;5;241m9\u001b[39m]:\n\u001b[1;32m----> 5\u001b[0m         result \u001b[38;5;241m=\u001b[39m \u001b[38;5;28;43mint\u001b[39;49m\u001b[43m(\u001b[49m\u001b[43ma\u001b[49m\u001b[43m)\u001b[49m\u001b[43m \u001b[49m\u001b[38;5;241;43m+\u001b[39;49m\u001b[43m \u001b[49m\u001b[38;5;28;43mint\u001b[39;49m\u001b[43m(\u001b[49m\u001b[43ma\u001b[49m\u001b[38;5;241;43m*\u001b[39;49m\u001b[38;5;241;43m2\u001b[39;49m\u001b[43m)\u001b[49m\u001b[43m \u001b[49m\u001b[38;5;241;43m+\u001b[39;49m\u001b[43m \u001b[49m\u001b[43m(\u001b[49m\u001b[43ma\u001b[49m\u001b[38;5;241;43m*\u001b[39;49m\u001b[38;5;241;43m3\u001b[39;49m\u001b[43m)\u001b[49m\n\u001b[0;32m      6\u001b[0m     \u001b[38;5;28;01melse\u001b[39;00m:\n\u001b[0;32m      7\u001b[0m         result\u001b[38;5;241m=\u001b[39m\u001b[38;5;124m\"\u001b[39m\u001b[38;5;124mmake sure you enter figure\u001b[39m\u001b[38;5;124m\"\u001b[39m\n",
      "\u001b[1;31mTypeError\u001b[0m: unsupported operand type(s) for +: 'int' and 'str'"
     ]
    }
   ],
   "source": [
    "a = input(\"sayi girin\")\n",
    "\n",
    "if a.isdigit():\n",
    "    if int(a) in [0,1,2,3,4,5,6,7,8,9]:\n",
    "        result = int(a) + int(a*2) + (a*3)\n",
    "    else:\n",
    "        result=\"make sure you enter figure\"\n",
    "else:\n",
    "    result=\"make sure you enter figure\"\n",
    "\n",
    "print(result)\n"
   ]
  },
  {
   "cell_type": "code",
   "execution_count": 6,
   "id": "9f3c383c",
   "metadata": {},
   "outputs": [
    {
     "name": "stdout",
     "output_type": "stream",
     "text": [
      "resta?t\n"
     ]
    }
   ],
   "source": [
    "text = \"restart\"\n",
    "new_text = text[0]\n",
    "\n",
    "for i in range(1,len(text)):\n",
    "    if text[i] == text[0]:\n",
    "        new_text += \"?\"\n",
    "    else:\n",
    "        new_text += text[i]\n",
    "\n",
    "print(new_text)\n"
   ]
  },
  {
   "cell_type": "code",
   "execution_count": 8,
   "id": "c3c79e4b",
   "metadata": {},
   "outputs": [
    {
     "name": "stdout",
     "output_type": "stream",
     "text": [
      "esta?t\n",
      "resta?t\n"
     ]
    }
   ],
   "source": [
    "x = input(\"enter a word\")\n",
    "\n",
    "x_new = x.replace(x[0],\"?\")[1:]\n",
    "print(x_new)\n",
    "print(x[0]+x_new)"
   ]
  },
  {
   "cell_type": "code",
   "execution_count": 14,
   "id": "fd45c746",
   "metadata": {},
   "outputs": [
    {
     "name": "stdout",
     "output_type": "stream",
     "text": [
      "[1, 3, 5, 7, 9, 11, 13, 15, 17, 19, 21, 23, 25, 27, 29, 31, 33, 35, 37, 39, 41, 43, 45, 47, 49]\n",
      "[2, 4, 6, 8, 10, 12, 14, 16, 18, 20, 22, 24, 26, 28, 30, 32, 34, 36, 38, 40, 42, 44, 46, 48, 50]\n"
     ]
    }
   ],
   "source": [
    "ciftler = []\n",
    "tekler = []\n",
    "\n",
    "for i in range(1,51):\n",
    "    \n",
    "\n",
    "    if i % 2 == 0:\n",
    "        ciftler.append(i)\n",
    "    else:\n",
    "        tekler.append(i) \n",
    "\n",
    "print(tekler)\n",
    "print(ciftler)\n"
   ]
  },
  {
   "cell_type": "code",
   "execution_count": 17,
   "id": "82fee4a3",
   "metadata": {},
   "outputs": [
    {
     "name": "stdout",
     "output_type": "stream",
     "text": [
      "[1, 3, 5, 7, 9, 11, 13, 15, 17, 19, 21, 23, 25, 27, 29, 31, 33, 35, 37, 39, 41, 43, 45, 47, 49]\n",
      "[2, 4, 6, 8, 10, 12, 14, 16, 18, 20, 22, 24, 26, 28, 30, 32, 34, 36, 38, 40, 42, 44, 46, 48, 50]\n"
     ]
    }
   ],
   "source": [
    "tekler=[ i for i in range(1,51) if i % 2== 1]\n",
    "ciftler=[ i for i in range(1,51) if i % 2== 0]\n",
    "print(tekler)\n",
    "print(ciftler)"
   ]
  },
  {
   "cell_type": "code",
   "execution_count": 29,
   "id": "e17ae9cb",
   "metadata": {},
   "outputs": [
    {
     "name": "stdout",
     "output_type": "stream",
     "text": [
      "[]\n"
     ]
    }
   ],
   "source": [
    "sayi_1 = int(input(\"sayi girin\"))\n",
    "sayi_2 = int(input(\"sayi girin\"))\n",
    "aralik=[]\n",
    "\n",
    "if sayi_1 < sayi_2:\n",
    "    for i in range(sayi_1,sayi_2+1):\n",
    "        aralik.append(i)\n",
    "elif sayi_2 < sayi_1:\n",
    "    for i in range(sayi_2,sayi_1 + 1):\n",
    "        aralik.append(i)\n",
    "        \n",
    "\n",
    "\n",
    "print(aralik)    \n",
    "\n"
   ]
  },
  {
   "cell_type": "code",
   "execution_count": 48,
   "id": "9dac50f2",
   "metadata": {},
   "outputs": [
    {
     "name": "stdout",
     "output_type": "stream",
     "text": [
      "old years 29 I'm and Emirhan is name My "
     ]
    }
   ],
   "source": [
    "name = \"My name is Emirhan and I'm 29 years old\"\n",
    "\n",
    "word_list = name.split(\" \")\n",
    "#print(word_list)\n",
    "\n",
    "n = len(word_list) -1\n",
    "\n",
    "while n >= 0:\n",
    "    print(word_list[n],end= \" \")\n",
    "    n -= 1\n",
    "\n",
    "\n",
    "    \n",
    "\n",
    "  "
   ]
  },
  {
   "cell_type": "code",
   "execution_count": 43,
   "id": "a78c23e2",
   "metadata": {},
   "outputs": [],
   "source": [
    "name_2=\"My name is Emirhan and I'm 29 years old\"[::-1]"
   ]
  },
  {
   "cell_type": "code",
   "execution_count": 50,
   "id": "2631fecf",
   "metadata": {},
   "outputs": [
    {
     "name": "stdout",
     "output_type": "stream",
     "text": [
      "old years 29 I'm and Emirhan is name My\n"
     ]
    }
   ],
   "source": [
    "name = \"My name is Emirhan and I'm 29 years old\"\n",
    "\n",
    "word_list = name.split(\" \")\n",
    "\n",
    "print(*word_list[::-1])"
   ]
  },
  {
   "cell_type": "code",
   "execution_count": 56,
   "id": "e489a464",
   "metadata": {},
   "outputs": [
    {
     "name": "stdout",
     "output_type": "stream",
     "text": [
      "['yM', 'eman', 'si', 'nahrimE', 'dna', \"m'I\", '92', 'sraey', 'dlo']\n"
     ]
    }
   ],
   "source": [
    "name = \"My name is Emirhan and I'm 29 years old\"\n",
    "\n",
    "word_list = name.split(\" \")\n",
    "\n",
    "New_name = []\n",
    "\n",
    "for i in word_list:\n",
    "    New_name.append(i[::-1])\n",
    "print(New_name) "
   ]
  },
  {
   "cell_type": "code",
   "execution_count": null,
   "id": "74f4d9aa",
   "metadata": {},
   "outputs": [],
   "source": [
    "out_square = (2*r) **2\n"
   ]
  },
  {
   "cell_type": "code",
   "execution_count": null,
   "id": "09c40fee",
   "metadata": {},
   "outputs": [],
   "source": [
    "inn_square = (r ** 2) * 2"
   ]
  },
  {
   "cell_type": "code",
   "execution_count": 58,
   "id": "e93971a1",
   "metadata": {},
   "outputs": [
    {
     "name": "stdout",
     "output_type": "stream",
     "text": [
      "the difference is 72\n"
     ]
    }
   ],
   "source": [
    "r = int(input(\"please enter r value\"))\n",
    "\n",
    "diff_square = ((2*r) **2) - ((r ** 2) * 2)\n",
    "\n",
    "print(f\"the difference is {diff_square}\")"
   ]
  },
  {
   "cell_type": "code",
   "execution_count": 59,
   "id": "edf6f628",
   "metadata": {},
   "outputs": [
    {
     "name": "stdout",
     "output_type": "stream",
     "text": [
      "1\n",
      "2\n",
      "Big\n",
      "4\n",
      "5\n",
      "Big\n",
      "Bang\n",
      "8\n",
      "Big\n",
      "10\n",
      "11\n",
      "Big\n",
      "13\n",
      "Bang\n",
      "Big\n",
      "16\n",
      "17\n",
      "Big\n",
      "19\n",
      "20\n",
      "BIgBang\n",
      "22\n",
      "23\n",
      "Big\n",
      "25\n",
      "26\n",
      "Big\n",
      "Bang\n",
      "29\n",
      "Big\n",
      "31\n",
      "32\n",
      "Big\n",
      "34\n",
      "Bang\n",
      "Big\n",
      "37\n",
      "38\n",
      "Big\n",
      "40\n",
      "41\n",
      "BIgBang\n",
      "43\n",
      "44\n",
      "Big\n",
      "46\n",
      "47\n",
      "Big\n",
      "Bang\n",
      "50\n"
     ]
    }
   ],
   "source": [
    "for i in range(1,51):\n",
    "    if i % 3 == 0 and i % 7 == 0:\n",
    "        print(\"BIgBang\")\n",
    "    elif i % 3 == 0:\n",
    "        print(\"Big\") \n",
    "    elif i % 7 == 0:\n",
    "        print(\"Bang\") \n",
    "    else:\n",
    "        print(i)          \n"
   ]
  },
  {
   "cell_type": "code",
   "execution_count": 71,
   "id": "0366f927",
   "metadata": {},
   "outputs": [
    {
     "name": "stdout",
     "output_type": "stream",
     "text": [
      "kalin unlu sayisi:1\n",
      "ince unlu sayisi:1\n",
      "Buyuk unlu uyumuna uymaz\n"
     ]
    }
   ],
   "source": [
    "isim = input(\"Lutfen isminizi girin\").lower()\n",
    "kalin_unlu = 0\n",
    "ince_unlu = 0\n",
    "\n",
    "for i in isim:\n",
    "    if i in \"aou\":\n",
    "        kalin_unlu +=1\n",
    "    elif i in \"ei\":\n",
    "        ince_unlu +=1\n",
    "\n",
    "print(f\"kalin unlu sayisi:{kalin_unlu}\")\n",
    "print(f\"ince unlu sayisi:{ince_unlu}\")   \n",
    "\n",
    "if kalin_unlu >0 or ince_unlu>0:\n",
    "\n",
    "    if kalin_unlu + ince_unlu == 1:\n",
    "        sonuc = \"Buyuk unlu uyumu aranmaz\"\n",
    "    elif kalin_unlu * ince_unlu == 0:\n",
    "        sonuc = \"Buyuk unlu uyumuna uyar\"\n",
    "    else:\n",
    "        sonuc=\"Buyuk unlu uyumuna uymaz\"        \n",
    "else:\n",
    "    print(\"sesli harf yok\")\n",
    "print(sonuc)\n",
    "\n"
   ]
  },
  {
   "cell_type": "code",
   "execution_count": 73,
   "id": "ba70f758",
   "metadata": {},
   "outputs": [
    {
     "name": "stdout",
     "output_type": "stream",
     "text": [
      "14153\n"
     ]
    }
   ],
   "source": [
    "x = input(\"Enter anumber\")\n",
    "\n",
    "result = \"\"\n",
    "\n",
    "if x.isdigit():\n",
    "    for i in x:\n",
    "        if int(i) < 3:\n",
    "            result += str(int(i) ** 2)\n",
    "        elif int(i) % 2 == 1:\n",
    "            result += str(int(i) -2) \n",
    "        else:\n",
    "            result += str(int(i) +1)       \n",
    "else:\n",
    "    print(\"Invalid input\")\n",
    "\n",
    "print(result)"
   ]
  },
  {
   "cell_type": "code",
   "execution_count": null,
   "id": "d7c78b36",
   "metadata": {},
   "outputs": [],
   "source": []
  }
 ],
 "metadata": {
  "kernelspec": {
   "display_name": "Python 3",
   "language": "python",
   "name": "python3"
  },
  "language_info": {
   "codemirror_mode": {
    "name": "ipython",
    "version": 3
   },
   "file_extension": ".py",
   "mimetype": "text/x-python",
   "name": "python",
   "nbconvert_exporter": "python",
   "pygments_lexer": "ipython3",
   "version": "3.12.4"
  }
 },
 "nbformat": 4,
 "nbformat_minor": 5
}
