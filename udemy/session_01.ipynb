{
 "cells": [
  {
   "cell_type": "code",
   "execution_count": 1,
   "id": "c90402f2",
   "metadata": {},
   "outputs": [],
   "source": [
    "s1 = \"sari\"\n",
    "s2 = \"mehmet\"\n"
   ]
  },
  {
   "cell_type": "code",
   "execution_count": 2,
   "id": "3a0faf7b",
   "metadata": {},
   "outputs": [
    {
     "data": {
      "text/plain": [
       "'sarimehmet'"
      ]
     },
     "execution_count": 2,
     "metadata": {},
     "output_type": "execute_result"
    }
   ],
   "source": [
    "s1 + s2"
   ]
  },
  {
   "cell_type": "code",
   "execution_count": 5,
   "id": "9c811d60",
   "metadata": {},
   "outputs": [
    {
     "data": {
      "text/plain": [
       "'ari'"
      ]
     },
     "execution_count": 5,
     "metadata": {},
     "output_type": "execute_result"
    }
   ],
   "source": [
    "s1[1::]"
   ]
  },
  {
   "cell_type": "code",
   "execution_count": 6,
   "id": "e3e5f706",
   "metadata": {},
   "outputs": [
    {
     "data": {
      "text/plain": [
       "'sa'"
      ]
     },
     "execution_count": 6,
     "metadata": {},
     "output_type": "execute_result"
    }
   ],
   "source": [
    "s1[:2]"
   ]
  },
  {
   "cell_type": "code",
   "execution_count": 7,
   "id": "07e5ac51",
   "metadata": {},
   "outputs": [
    {
     "data": {
      "text/plain": [
       "'ri'"
      ]
     },
     "execution_count": 7,
     "metadata": {},
     "output_type": "execute_result"
    }
   ],
   "source": [
    "s1[2:]"
   ]
  },
  {
   "cell_type": "code",
   "execution_count": 8,
   "id": "10d3901d",
   "metadata": {},
   "outputs": [
    {
     "data": {
      "text/plain": [
       "'sa'"
      ]
     },
     "execution_count": 8,
     "metadata": {},
     "output_type": "execute_result"
    }
   ],
   "source": [
    "s1[:len(s1) // 2]"
   ]
  },
  {
   "cell_type": "code",
   "execution_count": 9,
   "id": "62d3989a",
   "metadata": {},
   "outputs": [
    {
     "data": {
      "text/plain": [
       "'ri'"
      ]
     },
     "execution_count": 9,
     "metadata": {},
     "output_type": "execute_result"
    }
   ],
   "source": [
    "s1[len(s1) // 2:]"
   ]
  },
  {
   "cell_type": "code",
   "execution_count": 10,
   "id": "f4612846",
   "metadata": {},
   "outputs": [
    {
     "data": {
      "text/plain": [
       "2"
      ]
     },
     "execution_count": 10,
     "metadata": {},
     "output_type": "execute_result"
    }
   ],
   "source": [
    "len(s1) // 2"
   ]
  },
  {
   "cell_type": "code",
   "execution_count": 11,
   "id": "b15a94d0",
   "metadata": {},
   "outputs": [
    {
     "data": {
      "text/plain": [
       "2.0"
      ]
     },
     "execution_count": 11,
     "metadata": {},
     "output_type": "execute_result"
    }
   ],
   "source": [
    "len(s1) / 2"
   ]
  },
  {
   "cell_type": "code",
   "execution_count": 15,
   "id": "a6191317",
   "metadata": {},
   "outputs": [
    {
     "data": {
      "text/plain": [
       "'samehmetri'"
      ]
     },
     "execution_count": 15,
     "metadata": {},
     "output_type": "execute_result"
    }
   ],
   "source": [
    "s3 = s1[:len(s1)//2] + s2 +s1[len(s1)//2:]\n",
    "s3"
   ]
  },
  {
   "cell_type": "code",
   "execution_count": 20,
   "id": "b43a1926",
   "metadata": {},
   "outputs": [],
   "source": [
    "s4 = \"yesil\""
   ]
  },
  {
   "cell_type": "code",
   "execution_count": 21,
   "id": "22d4aa44",
   "metadata": {},
   "outputs": [
    {
     "data": {
      "text/plain": [
       "'yemehmetsil'"
      ]
     },
     "execution_count": 21,
     "metadata": {},
     "output_type": "execute_result"
    }
   ],
   "source": [
    "s5 = s4[:len(s4)//2] + s2 +s4[len(s4)//2:]\n",
    "s5"
   ]
  },
  {
   "cell_type": "code",
   "execution_count": 23,
   "id": "87f013b3",
   "metadata": {},
   "outputs": [
    {
     "data": {
      "text/plain": [
       "'yesmehmetil'"
      ]
     },
     "execution_count": 23,
     "metadata": {},
     "output_type": "execute_result"
    }
   ],
   "source": [
    "s5 = s4[:len(s4)//2 +1] + s2 +s4[len(s4)//2+1:]\n",
    "s5"
   ]
  },
  {
   "cell_type": "code",
   "execution_count": 24,
   "id": "5bc05f1e",
   "metadata": {},
   "outputs": [],
   "source": [
    "a = \"BESacademy\""
   ]
  },
  {
   "cell_type": "code",
   "execution_count": 25,
   "id": "c99f0eeb",
   "metadata": {},
   "outputs": [
    {
     "data": {
      "text/plain": [
       "'BES'"
      ]
     },
     "execution_count": 25,
     "metadata": {},
     "output_type": "execute_result"
    }
   ],
   "source": [
    "a[:3]"
   ]
  },
  {
   "cell_type": "code",
   "execution_count": 26,
   "id": "184f51b9",
   "metadata": {},
   "outputs": [
    {
     "data": {
      "text/plain": [
       "'emy'"
      ]
     },
     "execution_count": 26,
     "metadata": {},
     "output_type": "execute_result"
    }
   ],
   "source": [
    "a[-3:]"
   ]
  },
  {
   "cell_type": "code",
   "execution_count": 29,
   "id": "ee7d6d18",
   "metadata": {},
   "outputs": [
    {
     "name": "stdout",
     "output_type": "stream",
     "text": [
      "empty str\n"
     ]
    }
   ],
   "source": [
    "company = input(\"enter the your company\")\n",
    "\n",
    "if len(company) >= 3:\n",
    "    print(company[:3] + company[-3:] )\n",
    "else:\n",
    "    print(\"empty str\")    "
   ]
  },
  {
   "cell_type": "code",
   "execution_count": 31,
   "id": "918bb418",
   "metadata": {},
   "outputs": [],
   "source": [
    "str_x = \"Mr.Bean is good actor and Mr.Bean is very funny.\"\n",
    "\n",
    "a =str_x.count(\"Mr.Bean\")\n"
   ]
  },
  {
   "cell_type": "code",
   "execution_count": 32,
   "id": "a83fe191",
   "metadata": {},
   "outputs": [
    {
     "name": "stdout",
     "output_type": "stream",
     "text": [
      "Mr.Bean appeared 2 times.\n"
     ]
    }
   ],
   "source": [
    "print(f\"Mr.Bean appeared {a} times.\")"
   ]
  },
  {
   "cell_type": "code",
   "execution_count": 34,
   "id": "839ba03c",
   "metadata": {},
   "outputs": [
    {
     "name": "stdout",
     "output_type": "stream",
     "text": [
      "Mr.Bean appeared 2 times.\n"
     ]
    }
   ],
   "source": [
    "print(\"Mr.Bean appeared {} times.\".format(a))"
   ]
  },
  {
   "cell_type": "code",
   "execution_count": 41,
   "id": "f65142f1",
   "metadata": {},
   "outputs": [
    {
     "name": "stdout",
     "output_type": "stream",
     "text": [
      "name sedat\n",
      "age 30\n",
      "job data\n"
     ]
    }
   ],
   "source": [
    "per = input(\"Please enter your name,age and job separating them with comma\").split(\",\")\n",
    "\n",
    "print(\"name\",per[0])\n",
    "print(\"age\",per[1])\n",
    "print(\"job\",per[2])"
   ]
  },
  {
   "cell_type": "code",
   "execution_count": 36,
   "id": "c4f8596f",
   "metadata": {},
   "outputs": [
    {
     "data": {
      "text/plain": [
       "['90', '99', '100', '85', '92']"
      ]
     },
     "execution_count": 36,
     "metadata": {},
     "output_type": "execute_result"
    }
   ],
   "source": [
    "score = \"90,99,100,85,92\"\n",
    "score.split(\",\")"
   ]
  },
  {
   "cell_type": "code",
   "execution_count": 42,
   "id": "38220356",
   "metadata": {},
   "outputs": [
    {
     "name": "stdout",
     "output_type": "stream",
     "text": [
      "my name is sedat\n"
     ]
    }
   ],
   "source": [
    "print(\"my name is sedat\")"
   ]
  },
  {
   "cell_type": "code",
   "execution_count": 43,
   "id": "fb2edc3c",
   "metadata": {},
   "outputs": [
    {
     "ename": "IndexError",
     "evalue": "list index out of range",
     "output_type": "error",
     "traceback": [
      "\u001b[1;31m---------------------------------------------------------------------------\u001b[0m",
      "\u001b[1;31mIndexError\u001b[0m                                Traceback (most recent call last)",
      "Cell \u001b[1;32mIn[43], line 3\u001b[0m\n\u001b[0;32m      1\u001b[0m per \u001b[38;5;241m=\u001b[39m \u001b[38;5;28minput\u001b[39m(\u001b[38;5;124m\"\u001b[39m\u001b[38;5;124mPlease enter your name,age and job separating them with comma\u001b[39m\u001b[38;5;124m\"\u001b[39m)\u001b[38;5;241m.\u001b[39msplit(\u001b[38;5;124m\"\u001b[39m\u001b[38;5;124m,\u001b[39m\u001b[38;5;124m\"\u001b[39m)\n\u001b[1;32m----> 3\u001b[0m \u001b[38;5;28mprint\u001b[39m(\u001b[38;5;124mf\u001b[39m\u001b[38;5;124m\"\u001b[39m\u001b[38;5;124mname: \u001b[39m\u001b[38;5;132;01m{\u001b[39;00mper[\u001b[38;5;241m0\u001b[39m]\u001b[38;5;132;01m}\u001b[39;00m\u001b[38;5;124m age \u001b[39m\u001b[38;5;132;01m{\u001b[39;00m\u001b[43mper\u001b[49m\u001b[43m[\u001b[49m\u001b[38;5;241;43m1\u001b[39;49m\u001b[43m]\u001b[49m\u001b[38;5;132;01m}\u001b[39;00m\u001b[38;5;124m job \u001b[39m\u001b[38;5;132;01m{\u001b[39;00mper[\u001b[38;5;241m2\u001b[39m]\u001b[38;5;132;01m}\u001b[39;00m\u001b[38;5;124m\"\u001b[39m)\n",
      "\u001b[1;31mIndexError\u001b[0m: list index out of range"
     ]
    }
   ],
   "source": [
    "per = input(\"Please enter your name,age and job separating them with comma\").split(\",\")\n",
    "\n",
    "print(f\"name: {per[0]} age {per[1]} job {per[2]}\")"
   ]
  },
  {
   "cell_type": "code",
   "execution_count": 45,
   "id": "d73f9e99",
   "metadata": {},
   "outputs": [
    {
     "name": "stdout",
     "output_type": "stream",
     "text": [
      "Your weekly wage is 1200\n"
     ]
    }
   ],
   "source": [
    "work_hours = int(input(\"enter weekly working hour\"))\n",
    "hourly_wage = int(input(\"enter your hourly age\"))\n",
    "\n",
    "if work_hours > 40 :\n",
    "    weekly_wage = (work_hours - 40) * (1.5 * hourly_wage) + 40 * hourly_wage\n",
    "else:\n",
    "    weekly_wage = work_hours * hourly_wage\n",
    "\n",
    "print(f\"Your weekly wage is {weekly_wage}\")        \n"
   ]
  },
  {
   "cell_type": "code",
   "execution_count": 51,
   "id": "12413ea8",
   "metadata": {},
   "outputs": [
    {
     "name": "stdout",
     "output_type": "stream",
     "text": [
      "False\n"
     ]
    }
   ],
   "source": [
    "x = int(input(\"enter a number\"))\n",
    "y = int(input(\"enter a number\"))\n",
    "\n",
    "if x == y or abs(x-y) % 5== 0:\n",
    "    print(\"True\")\n",
    "else:\n",
    "    print(\"False\")    "
   ]
  },
  {
   "cell_type": "code",
   "execution_count": null,
   "id": "976d7978",
   "metadata": {},
   "outputs": [],
   "source": []
  },
  {
   "cell_type": "code",
   "execution_count": 1,
   "id": "160e4f20",
   "metadata": {},
   "outputs": [],
   "source": [
    "def sum(a , b):\n",
    "    return a+b"
   ]
  },
  {
   "cell_type": "code",
   "execution_count": null,
   "id": "ff3291c3",
   "metadata": {},
   "outputs": [],
   "source": []
  }
 ],
 "metadata": {
  "kernelspec": {
   "display_name": "Python 3",
   "language": "python",
   "name": "python3"
  },
  "language_info": {
   "codemirror_mode": {
    "name": "ipython",
    "version": 3
   },
   "file_extension": ".py",
   "mimetype": "text/x-python",
   "name": "python",
   "nbconvert_exporter": "python",
   "pygments_lexer": "ipython3",
   "version": "3.12.4"
  }
 },
 "nbformat": 4,
 "nbformat_minor": 5
}
