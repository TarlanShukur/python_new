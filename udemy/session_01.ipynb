{
 "cells": [
  {
   "cell_type": "code",
   "execution_count": 1,
   "id": "c90402f2",
   "metadata": {},
   "outputs": [],
   "source": [
    "s1 = \"sari\"\n",
    "s2 = \"mehmet\"\n"
   ]
  },
  {
   "cell_type": "code",
   "execution_count": 2,
   "id": "3a0faf7b",
   "metadata": {},
   "outputs": [
    {
     "data": {
      "text/plain": [
       "'sarimehmet'"
      ]
     },
     "execution_count": 2,
     "metadata": {},
     "output_type": "execute_result"
    }
   ],
   "source": [
    "s1 + s2"
   ]
  },
  {
   "cell_type": "code",
   "execution_count": 5,
   "id": "9c811d60",
   "metadata": {},
   "outputs": [
    {
     "data": {
      "text/plain": [
       "'ari'"
      ]
     },
     "execution_count": 5,
     "metadata": {},
     "output_type": "execute_result"
    }
   ],
   "source": [
    "s1[1::]"
   ]
  },
  {
   "cell_type": "code",
   "execution_count": 6,
   "id": "e3e5f706",
   "metadata": {},
   "outputs": [
    {
     "data": {
      "text/plain": [
       "'sa'"
      ]
     },
     "execution_count": 6,
     "metadata": {},
     "output_type": "execute_result"
    }
   ],
   "source": [
    "s1[:2]"
   ]
  },
  {
   "cell_type": "code",
   "execution_count": 7,
   "id": "07e5ac51",
   "metadata": {},
   "outputs": [
    {
     "data": {
      "text/plain": [
       "'ri'"
      ]
     },
     "execution_count": 7,
     "metadata": {},
     "output_type": "execute_result"
    }
   ],
   "source": [
    "s1[2:]"
   ]
  },
  {
   "cell_type": "code",
   "execution_count": 8,
   "id": "10d3901d",
   "metadata": {},
   "outputs": [
    {
     "data": {
      "text/plain": [
       "'sa'"
      ]
     },
     "execution_count": 8,
     "metadata": {},
     "output_type": "execute_result"
    }
   ],
   "source": [
    "s1[:len(s1) // 2]"
   ]
  },
  {
   "cell_type": "code",
   "execution_count": 9,
   "id": "62d3989a",
   "metadata": {},
   "outputs": [
    {
     "data": {
      "text/plain": [
       "'ri'"
      ]
     },
     "execution_count": 9,
     "metadata": {},
     "output_type": "execute_result"
    }
   ],
   "source": [
    "s1[len(s1) // 2:]"
   ]
  },
  {
   "cell_type": "code",
   "execution_count": 10,
   "id": "f4612846",
   "metadata": {},
   "outputs": [
    {
     "data": {
      "text/plain": [
       "2"
      ]
     },
     "execution_count": 10,
     "metadata": {},
     "output_type": "execute_result"
    }
   ],
   "source": [
    "len(s1) // 2"
   ]
  },
  {
   "cell_type": "code",
   "execution_count": 11,
   "id": "b15a94d0",
   "metadata": {},
   "outputs": [
    {
     "data": {
      "text/plain": [
       "2.0"
      ]
     },
     "execution_count": 11,
     "metadata": {},
     "output_type": "execute_result"
    }
   ],
   "source": [
    "len(s1) / 2"
   ]
  },
  {
   "cell_type": "code",
   "execution_count": 15,
   "id": "a6191317",
   "metadata": {},
   "outputs": [
    {
     "data": {
      "text/plain": [
       "'samehmetri'"
      ]
     },
     "execution_count": 15,
     "metadata": {},
     "output_type": "execute_result"
    }
   ],
   "source": [
    "s3 = s1[:len(s1)//2] + s2 +s1[len(s1)//2:]\n",
    "s3"
   ]
  },
  {
   "cell_type": "code",
   "execution_count": 20,
   "id": "b43a1926",
   "metadata": {},
   "outputs": [],
   "source": [
    "s4 = \"yesil\""
   ]
  },
  {
   "cell_type": "code",
   "execution_count": 21,
   "id": "22d4aa44",
   "metadata": {},
   "outputs": [
    {
     "data": {
      "text/plain": [
       "'yemehmetsil'"
      ]
     },
     "execution_count": 21,
     "metadata": {},
     "output_type": "execute_result"
    }
   ],
   "source": [
    "s5 = s4[:len(s4)//2] + s2 +s4[len(s4)//2:]\n",
    "s5"
   ]
  },
  {
   "cell_type": "code",
   "execution_count": 23,
   "id": "87f013b3",
   "metadata": {},
   "outputs": [
    {
     "data": {
      "text/plain": [
       "'yesmehmetil'"
      ]
     },
     "execution_count": 23,
     "metadata": {},
     "output_type": "execute_result"
    }
   ],
   "source": [
    "s5 = s4[:len(s4)//2 +1] + s2 +s4[len(s4)//2+1:]\n",
    "s5"
   ]
  },
  {
   "cell_type": "code",
   "execution_count": 24,
   "id": "5bc05f1e",
   "metadata": {},
   "outputs": [],
   "source": [
    "a = \"BESacademy\""
   ]
  },
  {
   "cell_type": "code",
   "execution_count": 25,
   "id": "c99f0eeb",
   "metadata": {},
   "outputs": [
    {
     "data": {
      "text/plain": [
       "'BES'"
      ]
     },
     "execution_count": 25,
     "metadata": {},
     "output_type": "execute_result"
    }
   ],
   "source": [
    "a[:3]"
   ]
  },
  {
   "cell_type": "code",
   "execution_count": 26,
   "id": "184f51b9",
   "metadata": {},
   "outputs": [
    {
     "data": {
      "text/plain": [
       "'emy'"
      ]
     },
     "execution_count": 26,
     "metadata": {},
     "output_type": "execute_result"
    }
   ],
   "source": [
    "a[-3:]"
   ]
  },
  {
   "cell_type": "code",
   "execution_count": 29,
   "id": "ee7d6d18",
   "metadata": {},
   "outputs": [
    {
     "name": "stdout",
     "output_type": "stream",
     "text": [
      "empty str\n"
     ]
    }
   ],
   "source": [
    "company = input(\"enter the your company\")\n",
    "\n",
    "if len(company) >= 3:\n",
    "    print(company[:3] + company[-3:] )\n",
    "else:\n",
    "    print(\"empty str\")    "
   ]
  },
  {
   "cell_type": "code",
   "execution_count": 31,
   "id": "918bb418",
   "metadata": {},
   "outputs": [],
   "source": [
    "str_x = \"Mr.Bean is good actor and Mr.Bean is very funny.\"\n",
    "\n",
    "a =str_x.count(\"Mr.Bean\")\n"
   ]
  },
  {
   "cell_type": "code",
   "execution_count": 32,
   "id": "a83fe191",
   "metadata": {},
   "outputs": [
    {
     "name": "stdout",
     "output_type": "stream",
     "text": [
      "Mr.Bean appeared 2 times.\n"
     ]
    }
   ],
   "source": [
    "print(f\"Mr.Bean appeared {a} times.\")"
   ]
  },
  {
   "cell_type": "code",
   "execution_count": 34,
   "id": "839ba03c",
   "metadata": {},
   "outputs": [
    {
     "name": "stdout",
     "output_type": "stream",
     "text": [
      "Mr.Bean appeared 2 times.\n"
     ]
    }
   ],
   "source": [
    "print(\"Mr.Bean appeared {} times.\".format(a))"
   ]
  },
  {
   "cell_type": "code",
   "execution_count": 41,
   "id": "f65142f1",
   "metadata": {},
   "outputs": [
    {
     "name": "stdout",
     "output_type": "stream",
     "text": [
      "name sedat\n",
      "age 30\n",
      "job data\n"
     ]
    }
   ],
   "source": [
    "per = input(\"Please enter your name,age and job separating them with comma\").split(\",\")\n",
    "\n",
    "print(\"name\",per[0])\n",
    "print(\"age\",per[1])\n",
    "print(\"job\",per[2])"
   ]
  },
  {
   "cell_type": "code",
   "execution_count": 36,
   "id": "c4f8596f",
   "metadata": {},
   "outputs": [
    {
     "data": {
      "text/plain": [
       "['90', '99', '100', '85', '92']"
      ]
     },
     "execution_count": 36,
     "metadata": {},
     "output_type": "execute_result"
    }
   ],
   "source": [
    "score = \"90,99,100,85,92\"\n",
    "score.split(\",\")"
   ]
  },
  {
   "cell_type": "code",
   "execution_count": 42,
   "id": "38220356",
   "metadata": {},
   "outputs": [
    {
     "name": "stdout",
     "output_type": "stream",
     "text": [
      "my name is sedat\n"
     ]
    }
   ],
   "source": [
    "print(\"my name is sedat\")"
   ]
  },
  {
   "cell_type": "code",
   "execution_count": 43,
   "id": "fb2edc3c",
   "metadata": {},
   "outputs": [
    {
     "ename": "IndexError",
     "evalue": "list index out of range",
     "output_type": "error",
     "traceback": [
      "\u001b[1;31m---------------------------------------------------------------------------\u001b[0m",
      "\u001b[1;31mIndexError\u001b[0m                                Traceback (most recent call last)",
      "Cell \u001b[1;32mIn[43], line 3\u001b[0m\n\u001b[0;32m      1\u001b[0m per \u001b[38;5;241m=\u001b[39m \u001b[38;5;28minput\u001b[39m(\u001b[38;5;124m\"\u001b[39m\u001b[38;5;124mPlease enter your name,age and job separating them with comma\u001b[39m\u001b[38;5;124m\"\u001b[39m)\u001b[38;5;241m.\u001b[39msplit(\u001b[38;5;124m\"\u001b[39m\u001b[38;5;124m,\u001b[39m\u001b[38;5;124m\"\u001b[39m)\n\u001b[1;32m----> 3\u001b[0m \u001b[38;5;28mprint\u001b[39m(\u001b[38;5;124mf\u001b[39m\u001b[38;5;124m\"\u001b[39m\u001b[38;5;124mname: \u001b[39m\u001b[38;5;132;01m{\u001b[39;00mper[\u001b[38;5;241m0\u001b[39m]\u001b[38;5;132;01m}\u001b[39;00m\u001b[38;5;124m age \u001b[39m\u001b[38;5;132;01m{\u001b[39;00m\u001b[43mper\u001b[49m\u001b[43m[\u001b[49m\u001b[38;5;241;43m1\u001b[39;49m\u001b[43m]\u001b[49m\u001b[38;5;132;01m}\u001b[39;00m\u001b[38;5;124m job \u001b[39m\u001b[38;5;132;01m{\u001b[39;00mper[\u001b[38;5;241m2\u001b[39m]\u001b[38;5;132;01m}\u001b[39;00m\u001b[38;5;124m\"\u001b[39m)\n",
      "\u001b[1;31mIndexError\u001b[0m: list index out of range"
     ]
    }
   ],
   "source": [
    "per = input(\"Please enter your name,age and job separating them with comma\").split(\",\")\n",
    "\n",
    "print(f\"name: {per[0]} age {per[1]} job {per[2]}\")"
   ]
  },
  {
   "cell_type": "code",
   "execution_count": 45,
   "id": "d73f9e99",
   "metadata": {},
   "outputs": [
    {
     "name": "stdout",
     "output_type": "stream",
     "text": [
      "Your weekly wage is 1200\n"
     ]
    }
   ],
   "source": [
    "work_hours = int(input(\"enter weekly working hour\"))\n",
    "hourly_wage = int(input(\"enter your hourly age\"))\n",
    "\n",
    "if work_hours > 40 :\n",
    "    weekly_wage = (work_hours - 40) * (1.5 * hourly_wage) + 40 * hourly_wage\n",
    "else:\n",
    "    weekly_wage = work_hours * hourly_wage\n",
    "\n",
    "print(f\"Your weekly wage is {weekly_wage}\")        \n"
   ]
  },
  {
   "cell_type": "code",
   "execution_count": 51,
   "id": "12413ea8",
   "metadata": {},
   "outputs": [
    {
     "name": "stdout",
     "output_type": "stream",
     "text": [
      "False\n"
     ]
    }
   ],
   "source": [
    "x = int(input(\"enter a number\"))\n",
    "y = int(input(\"enter a number\"))\n",
    "\n",
    "if x == y or abs(x-y) % 5== 0:\n",
    "    print(\"True\")\n",
    "else:\n",
    "    print(\"False\")    "
   ]
  },
  {
   "cell_type": "code",
   "execution_count": null,
   "id": "976d7978",
   "metadata": {},
   "outputs": [],
   "source": []
  },
  {
   "cell_type": "code",
   "execution_count": 1,
   "id": "160e4f20",
   "metadata": {},
   "outputs": [],
   "source": [
    "def sum(a , b):\n",
    "    return a+b"
   ]
  },
  {
   "cell_type": "code",
   "execution_count": 6,
   "id": "ff3291c3",
   "metadata": {},
   "outputs": [
    {
     "name": "stdout",
     "output_type": "stream",
     "text": [
      "1184 and 1184 are amicable numbers\n"
     ]
    }
   ],
   "source": [
    "x = int(input(\"Please enter a number\"))\n",
    "\n",
    "sum_i = 0\n",
    "\n",
    "for i in range(1,x):\n",
    "    if x % i == 0:\n",
    "        sum_i += i\n",
    "\n",
    "sum_j = 0\n",
    "for j in range(1,sum_i):\n",
    "    if sum_i  % j ==0:\n",
    "        sum_j += j\n",
    "\n",
    "if x == sum_j:\n",
    "    print(f\"{x} and {sum_j} are amicable numbers\")\n",
    "else:\n",
    "    print(\"{x} is lonely number\")            \n",
    "\n"
   ]
  },
  {
   "cell_type": "code",
   "execution_count": 10,
   "id": "b208a945",
   "metadata": {},
   "outputs": [
    {
     "data": {
      "text/plain": [
       "[-100, -50, -3]"
      ]
     },
     "execution_count": 10,
     "metadata": {},
     "output_type": "execute_result"
    }
   ],
   "source": [
    "def num_split(num):\n",
    "    \n",
    "    count= 0\n",
    "    result= []\n",
    "    for i in str(abs(num))[::-1]:\n",
    "        result.append(int(i)*10**count)\n",
    "        count += 1\n",
    "\n",
    "    result_2 =[]\n",
    "    if num < 0:\n",
    "        for i in result[::-1]:\n",
    "            result_2.append(-i)\n",
    "        else:\n",
    "            result_2 = result_2[::-1]    \n",
    "\n",
    "    return result_2[::-1]\n",
    "\n",
    "num_split(-153)    \n",
    "\n"
   ]
  },
  {
   "cell_type": "code",
   "execution_count": 15,
   "id": "74a45924",
   "metadata": {},
   "outputs": [
    {
     "name": "stdout",
     "output_type": "stream",
     "text": [
      "153\n"
     ]
    }
   ],
   "source": [
    "num = input(\"sayi girin\")\n",
    "armstrong_sayi = 0\n",
    "\n",
    "for i in num:\n",
    "    armstrong_sayi += int(i) ** len(num)\n",
    "\n",
    "print(armstrong_sayi)"
   ]
  },
  {
   "cell_type": "code",
   "execution_count": 18,
   "id": "13e02f80",
   "metadata": {},
   "outputs": [
    {
     "name": "stdout",
     "output_type": "stream",
     "text": [
      "Enter a lowest number\n",
      "1\n",
      "Enter a lowest number\n",
      "2\n",
      "Enter a lowest number\n",
      "3\n",
      "Enter a lowest number\n",
      "4\n",
      "Enter a higher number\n",
      "5\n",
      "Enter a higher number\n",
      "6\n",
      "Enter a higher number\n",
      "7\n",
      "Enter a higher number\n",
      "8\n",
      "Enter a higher number\n",
      "9\n",
      "Enter a higher number\n",
      "10\n",
      "Enter a higher number\n",
      "11\n"
     ]
    },
    {
     "ename": "ValueError",
     "evalue": "invalid literal for int() with base 10: ''",
     "output_type": "error",
     "traceback": [
      "\u001b[1;31m---------------------------------------------------------------------------\u001b[0m",
      "\u001b[1;31mValueError\u001b[0m                                Traceback (most recent call last)",
      "Cell \u001b[1;32mIn[18], line 10\u001b[0m\n\u001b[0;32m      6\u001b[0m guess_count \u001b[38;5;241m=\u001b[39m \u001b[38;5;241m0\u001b[39m\n\u001b[0;32m      7\u001b[0m \u001b[38;5;28;01mwhile\u001b[39;00m \u001b[38;5;28;01mTrue\u001b[39;00m:\n\u001b[1;32m---> 10\u001b[0m     guess \u001b[38;5;241m=\u001b[39m \u001b[38;5;28;43mint\u001b[39;49m\u001b[43m(\u001b[49m\u001b[38;5;28;43minput\u001b[39;49m\u001b[43m(\u001b[49m\u001b[38;5;124;43m\"\u001b[39;49m\u001b[38;5;124;43mEnter a number between 0-99\u001b[39;49m\u001b[38;5;124;43m\"\u001b[39;49m\u001b[43m)\u001b[49m\u001b[43m)\u001b[49m\n\u001b[0;32m     12\u001b[0m     \u001b[38;5;28;01mif\u001b[39;00m guess \u001b[38;5;241m<\u001b[39m random_num:\n\u001b[0;32m     13\u001b[0m         \u001b[38;5;28mprint\u001b[39m(\u001b[38;5;124m\"\u001b[39m\u001b[38;5;124mEnter a higher number\u001b[39m\u001b[38;5;124m\"\u001b[39m)\n",
      "\u001b[1;31mValueError\u001b[0m: invalid literal for int() with base 10: ''"
     ]
    }
   ],
   "source": [
    "#random_num = 55\n",
    "import random\n",
    "\n",
    "random_num = random.randint(0,99)\n",
    "\n",
    "guess_count = 0\n",
    "while True:\n",
    "\n",
    "\n",
    "    guess = int(input(\"Enter a number between 0-99\"))\n",
    "\n",
    "    if guess < random_num:\n",
    "        print(\"Enter a higher number\")\n",
    "        guess_count += 1\n",
    "\n",
    "    elif guess > random_num:\n",
    "        print(\"Enter a lowest number\")\n",
    "        guess_count += 1\n",
    "\n",
    "    else:\n",
    "        print(\"Congrats\")\n",
    "        guess_count += 1\n",
    "        break\n",
    "\n",
    "    print(guess_count)       "
   ]
  },
  {
   "cell_type": "code",
   "execution_count": 25,
   "id": "c73f6b9a",
   "metadata": {},
   "outputs": [
    {
     "name": "stdout",
     "output_type": "stream",
     "text": [
      "not perfect\n",
      "not perfect\n",
      "Perfect number 6\n"
     ]
    }
   ],
   "source": [
    "num = int(input(\"Sayi girin\"))\n",
    "total = 0\n",
    "for i in range(1,num):\n",
    "    if num % i == 0:\n",
    "        total += i\n",
    "        if num == total:\n",
    "            print(f\"Perfect number {num}\")\n",
    "        else:\n",
    "            print(\"not perfect\")    \n",
    "\n"
   ]
  },
  {
   "cell_type": "code",
   "execution_count": 42,
   "id": "432423fd",
   "metadata": {},
   "outputs": [
    {
     "name": "stdout",
     "output_type": "stream",
     "text": [
      "cumle girin\n"
     ]
    }
   ],
   "source": [
    "cumle = (input(\"Cumle girin\")).lower()\n",
    "\n",
    "if cumle.isalpha():\n",
    "\n",
    "    if cumle == cumle[::-1]:\n",
    "        print(f\"palindromdur {cumle}\")\n",
    "    else:\n",
    "        print(\"Polindrom degildir\")\n",
    "else:\n",
    "    print(\"cumle girin\")            \n",
    "\n"
   ]
  },
  {
   "cell_type": "code",
   "execution_count": 48,
   "id": "653f42fa",
   "metadata": {},
   "outputs": [
    {
     "name": "stdout",
     "output_type": "stream",
     "text": [
      "popoo is not polindrom\n"
     ]
    }
   ],
   "source": [
    "sentence = input(\"enter a sentence\")\n",
    "edit_sentence =\"\".join(i.lower() for i in sentence if i.isalpha())\n",
    "if edit_sentence == edit_sentence[::-1]:\n",
    "    print(f\"{sentence} is palindrom\")\n",
    "else:\n",
    "    print(f\"{sentence} is not polindrom\")    "
   ]
  },
  {
   "cell_type": "code",
   "execution_count": 46,
   "id": "ae43b372",
   "metadata": {},
   "outputs": [
    {
     "data": {
      "text/plain": [
       "'abc'"
      ]
     },
     "execution_count": 46,
     "metadata": {},
     "output_type": "execute_result"
    }
   ],
   "source": [
    "\"\".join(i.lower() for i in \"abc12\" if i.isalpha())"
   ]
  },
  {
   "cell_type": "code",
   "execution_count": null,
   "id": "0b7d1c4e",
   "metadata": {},
   "outputs": [
    {
     "name": "stdout",
     "output_type": "stream",
     "text": [
      "5 asal sayi degil\n"
     ]
    }
   ],
   "source": [
    "y = input(\"enter a number\")\n",
    "\n",
    "asal_sayi = []\n",
    "\n",
    "for i in y:\n",
    "\n",
    "    if int(i) > 1:\n",
    "        if int(i) % 2 == 1 and int(i) % 3 == 1:\n",
    "            asal_sayi.append((i))\n",
    "            print(f\"{i} asal sayidir\")\n",
    "        else:\n",
    "            print(f\"{i} asal sayi degil\")  \n",
    "    else:\n",
    "        print(\"asal sayi degil\")          \n",
    "           "
   ]
  },
  {
   "cell_type": "code",
   "execution_count": 79,
   "id": "93c4510f",
   "metadata": {},
   "outputs": [
    {
     "name": "stdout",
     "output_type": "stream",
     "text": [
      "asal sayi degil\n"
     ]
    }
   ],
   "source": [
    "y = input(\"enter a number\")\n",
    "\n",
    "asal_sayi = []\n",
    "\n",
    "if int(y) > 1:\n",
    "    if int(y) % 2 == 1 and int(y) % 3 == 1:\n",
    "        asal_sayi.append((y))\n",
    "        print(f\"{y} asal sayidir\")\n",
    "    else:\n",
    "        print(f\"{y} asal sayi degil\")  \n",
    "else:\n",
    "    print(\"asal sayi degil\") "
   ]
  },
  {
   "cell_type": "code",
   "execution_count": 82,
   "id": "0d3b8497",
   "metadata": {},
   "outputs": [
    {
     "name": "stdout",
     "output_type": "stream",
     "text": [
      "GCD is 4\n"
     ]
    }
   ],
   "source": [
    "num_1 = int(input(\"enter first number\"))\n",
    "num_2 = int(input(\"enter second number\"))\n",
    "\n",
    "i = 1\n",
    "\n",
    "while (i <= num_1 and i < num_2):\n",
    "    if (num_1 % i == 0 and num_2 % i == 0):\n",
    "        gcd = i\n",
    "    i += 1  \n",
    "\n",
    "print(f\"GCD is {gcd}\")      \n"
   ]
  },
  {
   "cell_type": "code",
   "execution_count": 88,
   "id": "b2895260",
   "metadata": {},
   "outputs": [
    {
     "ename": "TypeError",
     "evalue": "list.append() takes exactly one argument (2 given)",
     "output_type": "error",
     "traceback": [
      "\u001b[1;31m---------------------------------------------------------------------------\u001b[0m",
      "\u001b[1;31mTypeError\u001b[0m                                 Traceback (most recent call last)",
      "Cell \u001b[1;32mIn[88], line 10\u001b[0m\n\u001b[0;32m      8\u001b[0m \u001b[38;5;28;01mfor\u001b[39;00m i \u001b[38;5;129;01min\u001b[39;00m \u001b[38;5;28mrange\u001b[39m(\u001b[38;5;28mlen\u001b[39m(my_list)):\n\u001b[0;32m      9\u001b[0m     \u001b[38;5;28;01mif\u001b[39;00m (my_list[i],my_list\u001b[38;5;241m.\u001b[39mcount(my_list[i])) \u001b[38;5;129;01mnot\u001b[39;00m \u001b[38;5;129;01min\u001b[39;00m result:\n\u001b[1;32m---> 10\u001b[0m         \u001b[43mresult\u001b[49m\u001b[38;5;241;43m.\u001b[39;49m\u001b[43mappend\u001b[49m\u001b[43m(\u001b[49m\u001b[43mmy_list\u001b[49m\u001b[43m[\u001b[49m\u001b[43mi\u001b[49m\u001b[43m]\u001b[49m\u001b[43m,\u001b[49m\u001b[43mmy_list\u001b[49m\u001b[38;5;241;43m.\u001b[39;49m\u001b[43mcount\u001b[49m\u001b[43m(\u001b[49m\u001b[43mmy_list\u001b[49m\u001b[43m[\u001b[49m\u001b[43mi\u001b[49m\u001b[43m]\u001b[49m\u001b[43m)\u001b[49m\u001b[43m)\u001b[49m\n\u001b[0;32m     12\u001b[0m \u001b[38;5;28mprint\u001b[39m(result)\n\u001b[0;32m     16\u001b[0m     \u001b[38;5;66;03m#print(my_list[i],my_list.count(my_list(i))\u001b[39;00m\n",
      "\u001b[1;31mTypeError\u001b[0m: list.append() takes exactly one argument (2 given)"
     ]
    }
   ],
   "source": [
    "sentence = input(\"enter a sentence\")\n",
    "\n",
    "my_list=[]\n",
    "for i in sentence:\n",
    "    if i.isalpha():\n",
    "        my_list.append(i)\n",
    "result = []\n",
    "for i in range(len(my_list)):\n",
    "    if (my_list[i],my_list.count(my_list[i])) not in result:\n",
    "        result.append(my_list[i],my_list.count(my_list[i]))\n",
    "\n",
    "print(result)\n",
    "    \n",
    "\n",
    "\n",
    "    #print(my_list[i],my_list.count(my_list(i))\n",
    "\n"
   ]
  },
  {
   "cell_type": "code",
   "execution_count": 91,
   "id": "f4904ba8",
   "metadata": {},
   "outputs": [
    {
     "name": "stdout",
     "output_type": "stream",
     "text": [
      "{'h': 1, 'e': 1, 'l': 2, 'o': 1}\n"
     ]
    }
   ],
   "source": [
    "sentence = input(\"Enter a sentence\")\n",
    "\n",
    "my_dict = dict()\n",
    "\n",
    "for i in sentence:\n",
    "    if i.isalpha():\n",
    "        if i in my_dict:\n",
    "            my_dict[i] +=1\n",
    "        else:\n",
    "            my_dict[i] = 1   \n",
    "print(my_dict)             \n"
   ]
  },
  {
   "cell_type": "code",
   "execution_count": 96,
   "id": "ab4fa28a",
   "metadata": {},
   "outputs": [
    {
     "data": {
      "text/plain": [
       "['and', 'old', 'int']"
      ]
     },
     "execution_count": 96,
     "metadata": {},
     "output_type": "execute_result"
    }
   ],
   "source": [
    "def intertwined(list1,list2):\n",
    "\n",
    "    new_list = []\n",
    "    for i in list2:\n",
    "        for j in list1:\n",
    "            if j in i and j not in new_list:\n",
    "                new_list.append(j)\n",
    "    return new_list\n",
    "\n",
    "intertwined([\"old\",\"int\",\"age\",\"and\"],[\"random\",\"soldier\",\"list\",\"print\"])            "
   ]
  },
  {
   "cell_type": "code",
   "execution_count": 101,
   "id": "798f1f90",
   "metadata": {},
   "outputs": [
    {
     "data": {
      "text/plain": [
       "[3, 8, 6, 5, 4]"
      ]
     },
     "execution_count": 101,
     "metadata": {},
     "output_type": "execute_result"
    }
   ],
   "source": [
    "def asc(list1):\n",
    "\n",
    "    odd=[]\n",
    "    for i in list1:\n",
    "        if i % 2 == 1:\n",
    "            odd.append(i)\n",
    "            odd = sorted(odd)\n",
    "\n",
    "    k = 0\n",
    "    result =[]\n",
    "    for i in list1:\n",
    "        if i % 2 ==1:\n",
    "            result.append(odd[k])\n",
    "            k += 1\n",
    "        else:\n",
    "            result.append(i)\n",
    "    return result                    \n",
    "\n",
    "    #return odd   \n",
    "\n",
    "asc([5,8,6,3,4])     \n"
   ]
  },
  {
   "cell_type": "code",
   "execution_count": 103,
   "id": "35ef64f5",
   "metadata": {},
   "outputs": [
    {
     "data": {
      "text/plain": [
       "'John'"
      ]
     },
     "execution_count": 103,
     "metadata": {},
     "output_type": "execute_result"
    }
   ],
   "source": [
    "list1 = [(\"John\",1),(\"Jade\",2),(\"lisa\",3),(\"Rose\",4),(\"Loise\",0)]\n",
    "\n",
    "list1[0][0]"
   ]
  },
  {
   "cell_type": "code",
   "execution_count": 104,
   "id": "24572522",
   "metadata": {},
   "outputs": [
    {
     "name": "stdout",
     "output_type": "stream",
     "text": [
      "[('Loise', 0), ('John', 1), ('Jade', 2), ('lisa', 3), ('Rose', 4)]\n"
     ]
    }
   ],
   "source": [
    "result =[]\n",
    "\n",
    "for i in range(len(list1)):\n",
    "    for j in list1:\n",
    "        if j[1]== i:\n",
    "            result.append(j)\n",
    "print(result)            \n"
   ]
  },
  {
   "cell_type": "code",
   "execution_count": 106,
   "id": "ddafe47b",
   "metadata": {},
   "outputs": [
    {
     "name": "stdout",
     "output_type": "stream",
     "text": [
      "10\n"
     ]
    }
   ],
   "source": [
    "x = lambda a, b=2 : a * b\n",
    "\n",
    "print((x(5)))"
   ]
  },
  {
   "cell_type": "code",
   "execution_count": 107,
   "id": "a9314c50",
   "metadata": {},
   "outputs": [
    {
     "data": {
      "text/plain": [
       "[('Jade', 2), ('John', 1), ('Loise', 0), ('Rose', 4), ('lisa', 3)]"
      ]
     },
     "execution_count": 107,
     "metadata": {},
     "output_type": "execute_result"
    }
   ],
   "source": [
    "sorted(list1)"
   ]
  },
  {
   "cell_type": "code",
   "execution_count": 108,
   "id": "d22bb984",
   "metadata": {},
   "outputs": [
    {
     "data": {
      "text/plain": [
       "[('Loise', 0), ('John', 1), ('Jade', 2), ('lisa', 3), ('Rose', 4)]"
      ]
     },
     "execution_count": 108,
     "metadata": {},
     "output_type": "execute_result"
    }
   ],
   "source": [
    "sorted(list1,key = lambda x : x[1])"
   ]
  },
  {
   "cell_type": "code",
   "execution_count": null,
   "id": "21204fcd",
   "metadata": {},
   "outputs": [],
   "source": []
  }
 ],
 "metadata": {
  "kernelspec": {
   "display_name": "Python 3",
   "language": "python",
   "name": "python3"
  },
  "language_info": {
   "codemirror_mode": {
    "name": "ipython",
    "version": 3
   },
   "file_extension": ".py",
   "mimetype": "text/x-python",
   "name": "python",
   "nbconvert_exporter": "python",
   "pygments_lexer": "ipython3",
   "version": "3.12.4"
  }
 },
 "nbformat": 4,
 "nbformat_minor": 5
}
