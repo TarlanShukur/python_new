{
 "cells": [
  {
   "cell_type": "code",
   "execution_count": 4,
   "id": "40147ebc",
   "metadata": {},
   "outputs": [
    {
     "name": "stdout",
     "output_type": "stream",
     "text": [
      "[3, 2, 1]\n",
      "[13, 11, 9, 5]\n"
     ]
    }
   ],
   "source": [
    "list1 = [3,13,11,2,1,9,5]\n",
    "list2=[]\n",
    "for i in range(0,len(list1)):\n",
    "    if list1[i] < max(list1[i:]):\n",
    "        list2.append(list1[i])\n",
    "\n",
    "print(list2)  \n",
    "\n",
    "other = []\n",
    "for i in list1:\n",
    "    if i not in list2:\n",
    "        other.append(i)\n",
    "print(other)        \n",
    "\n"
   ]
  },
  {
   "cell_type": "code",
   "execution_count": null,
   "id": "98614d8b",
   "metadata": {},
   "outputs": [],
   "source": []
  }
 ],
 "metadata": {
  "kernelspec": {
   "display_name": "Python 3",
   "language": "python",
   "name": "python3"
  },
  "language_info": {
   "codemirror_mode": {
    "name": "ipython",
    "version": 3
   },
   "file_extension": ".py",
   "mimetype": "text/x-python",
   "name": "python",
   "nbconvert_exporter": "python",
   "pygments_lexer": "ipython3",
   "version": "3.12.4"
  }
 },
 "nbformat": 4,
 "nbformat_minor": 5
}
