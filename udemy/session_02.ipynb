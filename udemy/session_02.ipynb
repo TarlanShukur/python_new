{
 "cells": [
  {
   "cell_type": "code",
   "execution_count": 3,
   "id": "40147ebc",
   "metadata": {},
   "outputs": [
    {
     "name": "stdout",
     "output_type": "stream",
     "text": [
      "[3, 2, 1]\n",
      "[13, 11, 9, 5]\n"
     ]
    }
   ],
   "source": [
    "list1 = [3,13,11,2,1,9,5]\n",
    "list2=[]\n",
    "for i in range(0,len(list1)):\n",
    "    if list1[i] < max(list1[i:]):\n",
    "        list2.append(list1[i])\n",
    "\n",
    "print(list2)  \n",
    "\n",
    "other = []\n",
    "for i in list1:\n",
    "    if i not in list2:\n",
    "        other.append(i)\n",
    "print(sorted(list(other),reverse=True))        \n",
    "\n"
   ]
  },
  {
   "cell_type": "code",
   "execution_count": 5,
   "id": "98614d8b",
   "metadata": {},
   "outputs": [
    {
     "ename": "TypeError",
     "evalue": "'int' object is not iterable",
     "output_type": "error",
     "traceback": [
      "\u001b[1;31m---------------------------------------------------------------------------\u001b[0m",
      "\u001b[1;31mTypeError\u001b[0m                                 Traceback (most recent call last)",
      "Cell \u001b[1;32mIn[5], line 3\u001b[0m\n\u001b[0;32m      1\u001b[0m x \u001b[38;5;241m=\u001b[39m \u001b[38;5;28mint\u001b[39m(\u001b[38;5;28minput\u001b[39m(\u001b[38;5;124m\"\u001b[39m\u001b[38;5;124menter a number\u001b[39m\u001b[38;5;124m\"\u001b[39m))\n\u001b[1;32m----> 3\u001b[0m \u001b[38;5;28;43;01mfor\u001b[39;49;00m\u001b[43m \u001b[49m\u001b[43mi\u001b[49m\u001b[43m \u001b[49m\u001b[38;5;129;43;01min\u001b[39;49;00m\u001b[43m \u001b[49m\u001b[43mx\u001b[49m\u001b[43m:\u001b[49m\n\u001b[0;32m      4\u001b[0m \u001b[43m    \u001b[49m\u001b[38;5;28;43;01mif\u001b[39;49;00m\u001b[43m \u001b[49m\u001b[43mi\u001b[49m\u001b[43m \u001b[49m\u001b[38;5;241;43m%\u001b[39;49m\u001b[43m \u001b[49m\u001b[38;5;241;43m2\u001b[39;49m\u001b[43m \u001b[49m\u001b[38;5;241;43m==\u001b[39;49m\u001b[43m \u001b[49m\u001b[38;5;241;43m0\u001b[39;49m\u001b[43m:\u001b[49m\n\u001b[0;32m      5\u001b[0m \u001b[43m        \u001b[49m\u001b[43mcift\u001b[49m\u001b[38;5;241;43m=\u001b[39;49m\u001b[43m \u001b[49m\u001b[43mi\u001b[49m\u001b[43m \u001b[49m\u001b[38;5;241;43m/\u001b[39;49m\u001b[43m \u001b[49m\u001b[38;5;241;43m2\u001b[39;49m\u001b[43m \u001b[49m\u001b[38;5;241;43m-\u001b[39;49m\u001b[38;5;241;43m1\u001b[39;49m\n",
      "\u001b[1;31mTypeError\u001b[0m: 'int' object is not iterable"
     ]
    }
   ],
   "source": [
    "x = int(input(\"enter a number\"))\n",
    "\n",
    "for i in x:\n",
    "    if i % 2 == 0:\n",
    "        cift= i / 2 -1\n",
    "    elif i % 2 == 1:\n",
    "        tek = i * 3 +1\n",
    "\n",
    "print(tek)\n",
    "print(cift)"
   ]
  },
  {
   "cell_type": "code",
   "execution_count": 10,
   "id": "a377478c",
   "metadata": {},
   "outputs": [
    {
     "name": "stdout",
     "output_type": "stream",
     "text": [
      "2.0\n",
      "1.0\n"
     ]
    },
    {
     "ename": "TypeError",
     "evalue": "'float' object is not callable",
     "output_type": "error",
     "traceback": [
      "\u001b[1;31m---------------------------------------------------------------------------\u001b[0m",
      "\u001b[1;31mTypeError\u001b[0m                                 Traceback (most recent call last)",
      "Cell \u001b[1;32mIn[10], line 11\u001b[0m\n\u001b[0;32m      9\u001b[0m     num_list\u001b[38;5;241m.\u001b[39mappend(num)     \n\u001b[0;32m     10\u001b[0m     \u001b[38;5;28mprint\u001b[39m(num)\n\u001b[1;32m---> 11\u001b[0m \u001b[38;5;28mprint\u001b[39m(\u001b[38;5;28mmax\u001b[39m(\u001b[43mnum\u001b[49m\u001b[43m(\u001b[49m\u001b[43mnum_list\u001b[49m\u001b[43m)\u001b[49m))         \n",
      "\u001b[1;31mTypeError\u001b[0m: 'float' object is not callable"
     ]
    }
   ],
   "source": [
    "num = int(input(\"enter a number\"))\n",
    "\n",
    "num_list = []\n",
    "while num != 1:\n",
    "    if num % 2 == 0:\n",
    "         num=num / 2 \n",
    "    elif num % 2 == 1:\n",
    "         num=num * 3 + 1\n",
    "    num_list.append(num)     \n",
    "    print(num)\n",
    "print(max(num(num_list)))         \n"
   ]
  },
  {
   "cell_type": "code",
   "execution_count": 19,
   "id": "c7c4ffbd",
   "metadata": {},
   "outputs": [
    {
     "data": {
      "text/plain": [
       "0"
      ]
     },
     "execution_count": 19,
     "metadata": {},
     "output_type": "execute_result"
    }
   ],
   "source": [
    "def locker(x):\n",
    "    locker = [0 for i in range(x)]\n",
    "    for i in range(x):\n",
    "        for j in range(i,x,i+1):\n",
    "            if locker[j] ==0:\n",
    "                locker[j] == 1\n",
    "            elif locker[j] == 1:\n",
    "                locker[j] == 0\n",
    "    return locker.count(1)\n",
    "\n",
    "locker(5)                \n",
    "\n",
    "\n",
    "\n"
   ]
  },
  {
   "cell_type": "code",
   "execution_count": 12,
   "id": "a1195405",
   "metadata": {},
   "outputs": [
    {
     "name": "stdout",
     "output_type": "stream",
     "text": [
      "0\n",
      "0\n",
      "0\n",
      "0\n",
      "0\n"
     ]
    }
   ],
   "source": [
    "for i in range(5):\n",
    "    print(0)\n"
   ]
  },
  {
   "cell_type": "code",
   "execution_count": null,
   "id": "228a86e7",
   "metadata": {},
   "outputs": [],
   "source": []
  }
 ],
 "metadata": {
  "kernelspec": {
   "display_name": "Python 3",
   "language": "python",
   "name": "python3"
  },
  "language_info": {
   "codemirror_mode": {
    "name": "ipython",
    "version": 3
   },
   "file_extension": ".py",
   "mimetype": "text/x-python",
   "name": "python",
   "nbconvert_exporter": "python",
   "pygments_lexer": "ipython3",
   "version": "3.12.4"
  }
 },
 "nbformat": 4,
 "nbformat_minor": 5
}
